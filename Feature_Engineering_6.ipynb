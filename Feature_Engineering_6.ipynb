{
  "nbformat": 4,
  "nbformat_minor": 0,
  "metadata": {
    "colab": {
      "provenance": []
    },
    "kernelspec": {
      "name": "python3",
      "display_name": "Python 3"
    },
    "language_info": {
      "name": "python"
    }
  },
  "cells": [
    {
      "cell_type": "markdown",
      "source": [
        "**Q1. Pearson correlation coefficient is a measure of the linear relationship between two variables. Suppose you have collected data on the amount of time students spend studying for an exam and their final exam scores. Calculate the Pearson correlation coefficient between these two variables and interpret the result.**"
      ],
      "metadata": {
        "id": "ipsW0iT_IMTp"
      }
    },
    {
      "cell_type": "markdown",
      "source": [
        "To calculate the Pearson correlation coefficient between the amount of time students spend studying for an exam and their final exam scores, follow these steps:\n",
        "\n",
        "Step 1: Organize the data\n",
        "Create a data set with the amount of time students spend studying (variable X) and their corresponding final exam scores (variable Y).\n",
        "\n",
        "Step 2: Calculate the means\n",
        "Calculate the mean (average) of both X and Y.\n",
        "\n",
        "Step 3: Calculate the standard deviations\n",
        "Calculate the standard deviation of both X and Y.\n",
        "\n",
        "Step 4: Calculate the covariance\n",
        "Calculate the covariance between X and Y.\n",
        "\n",
        "Step 5: Calculate the Pearson correlation coefficient (r)\n",
        "Use the formula for the Pearson correlation coefficient:\n",
        "\n",
        "\\[ r = \\frac{\\text{cov}(X, Y)}{\\text{std}(X) \\cdot \\text{std}(Y)} \\]\n",
        "\n",
        "Interpretation of the result:\n",
        "The Pearson correlation coefficient (r) will be a value between -1 and 1:\n",
        "\n",
        "- If \\( r = 1 \\): There is a perfect positive linear correlation between the two variables. It means that as the amount of time spent studying increases, the final exam scores also increase in a perfectly linear fashion.\n",
        "\n",
        "- If \\( 0 < r < 1 \\): There is a positive linear correlation between the two variables. It indicates that as the amount of time spent studying increases, the final exam scores tend to increase, but not necessarily in a perfectly linear manner.\n",
        "\n",
        "- If \\( r = 0 \\): There is no linear correlation between the two variables. It means that the amount of time spent studying does not have any linear relationship with the final exam scores.\n",
        "\n",
        "- If \\( -1 < r < 0 \\): There is a negative linear correlation between the two variables. It suggests that as the amount of time spent studying increases, the final exam scores tend to decrease, but not necessarily in a perfectly linear manner.\n",
        "\n",
        "- If \\( r = -1 \\): There is a perfect negative linear correlation between the two variables. It means that as the amount of time spent studying increases, the final exam scores decrease in a perfectly linear fashion.\n",
        "\n",
        "Keep in mind that the Pearson correlation coefficient only measures the strength and direction of a linear relationship between the two variables. It does not provide information about the causality or other types of relationships that might exist between the variables."
      ],
      "metadata": {
        "id": "W4IH4O9ZKGuR"
      }
    },
    {
      "cell_type": "markdown",
      "source": [
        "**Q2. Spearman's rank correlation is a measure of the monotonic relationship between two variables. Suppose you have collected data on the amount of sleep individuals get each night and their overall job satisfaction level on a scale of 1 to 10. Calculate the Spearman's rank correlation between these two variables and interpret the result.**"
      ],
      "metadata": {
        "id": "fr4ym3itIONP"
      }
    },
    {
      "cell_type": "markdown",
      "source": [
        "To calculate Spearman's rank correlation between the amount of sleep individuals get each night and their overall job satisfaction level on a scale of 1 to 10, follow these steps:\n",
        "\n",
        "Step 1: Organize the data\n",
        "Create a data set with the amount of sleep (variable X) and their corresponding job satisfaction levels (variable Y).\n",
        "\n",
        "Step 2: Rank the data\n",
        "For each variable, rank the data from lowest to highest. If there are ties (i.e., multiple individuals with the same value), assign the average rank to those tied values.\n",
        "\n",
        "Step 3: Calculate the differences in ranks\n",
        "Calculate the difference in ranks for each individual between the two variables (X and Y).\n",
        "\n",
        "Step 4: Calculate Spearman's rank correlation coefficient (ρ)\n",
        "Use the formula for Spearman's rank correlation coefficient:\n",
        "\n",
        "\\[ \\rho = 1 - \\frac{6 \\sum d_i^2}{n(n^2 - 1)} \\]\n",
        "\n",
        "Where:\n",
        "- \\( \\rho \\) (rho) is the Spearman's rank correlation coefficient.\n",
        "- \\( d_i \\) is the difference in ranks for each individual (the value obtained in Step 3).\n",
        "- \\( n \\) is the number of individuals in the data set.\n",
        "\n",
        "Interpretation of the result:\n",
        "The Spearman's rank correlation coefficient (\\( \\rho \\)) will be a value between -1 and 1:\n",
        "\n",
        "- If \\( \\rho = 1 \\): There is a perfect monotonic positive relationship between the two variables. It means that as the amount of sleep individuals get each night increases, their overall job satisfaction levels also increase in a perfectly monotonic fashion (the ranks of both variables move in the same direction).\n",
        "\n",
        "- If \\( 0 < \\rho < 1 \\): There is a positive monotonic relationship between the two variables. It indicates that as the amount of sleep individuals get each night increases, their overall job satisfaction levels tend to increase, but not necessarily in a perfectly monotonic manner.\n",
        "\n",
        "- If \\( \\rho = 0 \\): There is no monotonic relationship between the two variables. It means that the amount of sleep individuals get each night does not have any monotonic relationship with their overall job satisfaction levels.\n",
        "\n",
        "- If \\( -1 < \\rho < 0 \\): There is a negative monotonic relationship between the two variables. It suggests that as the amount of sleep individuals get each night increases, their overall job satisfaction levels tend to decrease, but not necessarily in a perfectly monotonic manner.\n",
        "\n",
        "- If \\( \\rho = -1 \\): There is a perfect monotonic negative relationship between the two variables. It means that as the amount of sleep individuals get each night increases, their overall job satisfaction levels decrease in a perfectly monotonic fashion (the ranks of both variables move in opposite directions).\n",
        "\n",
        "Spearman's rank correlation assesses the monotonicity of the relationship between the two variables, which means it captures whether there is a consistent increase or decrease in one variable as the other increases, without assuming any particular shape of the relationship (like a linear relationship)."
      ],
      "metadata": {
        "id": "MEk6oBeGKKKy"
      }
    },
    {
      "cell_type": "markdown",
      "source": [
        "**Q3. Suppose you are conducting a study to examine the relationship between the number of hours of exercise per week and body mass index (BMI) in a sample of adults. You collected data on both variables for 50 participants. Calculate the Pearson correlation coefficient and the Spearman's rank correlation between these two variables and compare the results.**"
      ],
      "metadata": {
        "id": "cROvtu3kIMW_"
      }
    },
    {
      "cell_type": "markdown",
      "source": [
        "To calculate the Pearson correlation coefficient and the Spearman's rank correlation between the number of hours of exercise per week and body mass index (BMI) in a sample of 50 participants, follow these steps:\n",
        "\n",
        "Step 1: Organize the data\n",
        "Create a data set with the number of hours of exercise per week (variable X) and their corresponding body mass index (BMI) values (variable Y) for the 50 participants.\n",
        "\n",
        "Step 2: Calculate the means\n",
        "Calculate the mean (average) of both X (number of hours of exercise per week) and Y (BMI).\n",
        "\n",
        "Step 3: Calculate the standard deviations\n",
        "Calculate the standard deviation of both X and Y.\n",
        "\n",
        "Step 4: Calculate the covariance\n",
        "Calculate the covariance between X and Y.\n",
        "\n",
        "Step 5: Calculate the Pearson correlation coefficient (r)\n",
        "Use the formula for the Pearson correlation coefficient:\n",
        "\n",
        "\\[ r = \\frac{\\text{cov}(X, Y)}{\\text{std}(X) \\cdot \\text{std}(Y)} \\]\n",
        "\n",
        "Step 6: Calculate the differences in ranks\n",
        "Rank the data for both X and Y. Calculate the difference in ranks for each individual between the two variables (X and Y).\n",
        "\n",
        "Step 7: Calculate Spearman's rank correlation coefficient (ρ)\n",
        "Use the formula for Spearman's rank correlation coefficient:\n",
        "\n",
        "\\[ \\rho = 1 - \\frac{6 \\sum d_i^2}{n(n^2 - 1)} \\]\n",
        "\n",
        "Where:\n",
        "- \\( \\rho \\) (rho) is the Spearman's rank correlation coefficient.\n",
        "- \\( d_i \\) is the difference in ranks for each individual (the value obtained in Step 6).\n",
        "- \\( n \\) is the number of individuals in the data set (in this case, 50).\n",
        "\n",
        "Compare the results:\n",
        "Now that you have calculated both the Pearson correlation coefficient (r) and the Spearman's rank correlation coefficient (ρ), compare the two results.\n",
        "\n",
        "- If the Pearson correlation coefficient (r) and the Spearman's rank correlation coefficient (ρ) are close to 1 or -1 (either positive or negative), it suggests a strong linear or monotonic relationship between the two variables, respectively.\n",
        "\n",
        "- If both coefficients are close to 0, it indicates a weak or no linear or monotonic relationship between the variables.\n",
        "\n",
        "- If the Pearson correlation coefficient (r) is close to 1 or -1, but the Spearman's rank correlation coefficient (ρ) is closer to 0, it may suggest that the relationship between the variables is linear but not strictly monotonic.\n",
        "\n",
        "- If the Spearman's rank correlation coefficient (ρ) is close to 1 or -1, but the Pearson correlation coefficient (r) is closer to 0, it may suggest that the relationship between the variables is monotonic but not strictly linear.\n",
        "\n",
        "By comparing both coefficients, you can gain insights into the nature of the relationship between the number of hours of exercise per week and body mass index (BMI) in your sample of adults. Keep in mind that both coefficients assess different aspects of the relationship, with Pearson focusing on linear relationships and Spearman on monotonic relationships."
      ],
      "metadata": {
        "id": "6Ylf2m32KNNO"
      }
    },
    {
      "cell_type": "markdown",
      "source": [
        "**Q4. A researcher is interested in examining the relationship between the number of hours individuals spend watching television per day and their level of physical activity. The researcher collected data on both variables from a sample of 50 participants. Calculate the Pearson correlation coefficient between\n",
        "these two variables.**"
      ],
      "metadata": {
        "id": "z12mBaCpIMZ3"
      }
    },
    {
      "cell_type": "markdown",
      "source": [
        "To calculate the Pearson correlation coefficient between the number of hours individuals spend watching television per day and their level of physical activity in a sample of 50 participants, follow these steps:\n",
        "\n",
        "Step 1: Organize the data\n",
        "Create a data set with the number of hours spent watching television per day (variable X) and their corresponding level of physical activity (variable Y) for the 50 participants.\n",
        "\n",
        "Step 2: Calculate the means\n",
        "Calculate the mean (average) of both X (number of hours watching TV per day) and Y (level of physical activity).\n",
        "\n",
        "Step 3: Calculate the standard deviations\n",
        "Calculate the standard deviation of both X and Y.\n",
        "\n",
        "Step 4: Calculate the covariance\n",
        "Calculate the covariance between X and Y.\n",
        "\n",
        "Step 5: Calculate the Pearson correlation coefficient (r)\n",
        "Use the formula for the Pearson correlation coefficient:\n",
        "\n",
        "\\[ r = \\frac{\\text{cov}(X, Y)}{\\text{std}(X) \\cdot \\text{std}(Y)} \\]\n",
        "\n",
        "where:\n",
        "- \\( \\text{cov}(X, Y) \\) is the covariance between X and Y.\n",
        "- \\( \\text{std}(X) \\) is the standard deviation of X.\n",
        "- \\( \\text{std}(Y) \\) is the standard deviation of Y.\n",
        "\n",
        "Interpretation of the Pearson correlation coefficient (r):\n",
        "The Pearson correlation coefficient (r) will be a value between -1 and 1:\n",
        "\n",
        "- If \\( r = 1 \\): There is a perfect positive linear correlation between the number of hours individuals spend watching television per day and their level of physical activity. It means that as the number of hours spent watching TV increases, the level of physical activity also increases in a perfectly linear fashion.\n",
        "\n",
        "- If \\( 0 < r < 1 \\): There is a positive linear correlation between the number of hours individuals spend watching television per day and their level of physical activity. It indicates that as the number of hours spent watching TV increases, the level of physical activity tends to increase, but not necessarily in a perfectly linear manner.\n",
        "\n",
        "- If \\( r = 0 \\): There is no linear correlation between the number of hours individuals spend watching television per day and their level of physical activity. It means that the two variables do not have a linear relationship with each other.\n",
        "\n",
        "- If \\( -1 < r < 0 \\): There is a negative linear correlation between the number of hours individuals spend watching television per day and their level of physical activity. It suggests that as the number of hours spent watching TV increases, the level of physical activity tends to decrease, but not necessarily in a perfectly linear manner.\n",
        "\n",
        "- If \\( r = -1 \\): There is a perfect negative linear correlation between the number of hours individuals spend watching television per day and their level of physical activity. It means that as the number of hours spent watching TV increases, the level of physical activity decreases in a perfectly linear fashion.\n",
        "\n",
        "By calculating the Pearson correlation coefficient, you can assess the strength and direction of the linear relationship between the number of hours spent watching television per day and the level of physical activity in your sample of 50 participants."
      ],
      "metadata": {
        "id": "bLXFkO91KQJc"
      }
    },
    {
      "cell_type": "markdown",
      "source": [
        "**Q5. A survey was conducted to examine the relationship between age and preference for a particular brand of soft drink. The survey results are shown below:**"
      ],
      "metadata": {
        "id": "v_kyLP9rIMc4"
      }
    },
    {
      "cell_type": "markdown",
      "source": [
        "To examine the relationship between age and preference for a particular brand of soft drink, we need to analyze the survey results provided. The data includes participants' ages and their corresponding soft drink preferences. It appears that there might be some missing values for age, and there are three different soft drink preferences mentioned: Coke, Pepsi, and Mountain Dew.\n",
        "\n",
        "To calculate the correlation between age and soft drink preference, we'll first need to assign numerical values to the soft drink brands. Then, we can proceed to calculate the correlation coefficient.\n",
        "\n",
        "Step 1: Assign numerical values to soft drink preferences\n",
        "Let's assign numerical values to the soft drink brands as follows:\n",
        "- Coke: 1\n",
        "- Pepsi: 2\n",
        "- Mountain Dew: 3\n",
        "\n",
        "Step 2: Organize the data\n",
        "Based on the given survey results, we have the following data:\n",
        "\n",
        "Age (Years) | Soft Drink Preference\n",
        "-------------------------------\n",
        "25         | Coke\n",
        "42         | Pepsi\n",
        "37         | Missing (We'll handle missing values later)\n",
        "19         | Missing\n",
        "31         | Missing\n",
        "28         | Mountain Dew\n",
        "Missing    | Coke\n",
        "Pepsi      | Missing\n",
        "Coke       | Missing\n",
        "\n",
        "Step 3: Calculate the Pearson correlation coefficient\n",
        "To calculate the Pearson correlation coefficient, we need to have corresponding pairs of age and soft drink preference data. Since some ages are missing, we'll need to handle these missing values. One common approach is to exclude the missing values from the calculation.\n",
        "\n",
        "For the data provided, we can use the following pairs:\n",
        "\n",
        "Age (Years) | Soft Drink Preference\n",
        "-------------------------------\n",
        "25         | Coke\n",
        "42         | Pepsi\n",
        "28         | Mountain Dew\n",
        "\n",
        "Step 4: Calculate the Pearson correlation coefficient (r)\n",
        "Using the formula for the Pearson correlation coefficient:\n",
        "\n",
        "\\[ r = \\frac{\\sum{(X_i - \\bar{X})(Y_i - \\bar{Y})}}{\\sqrt{\\sum{(X_i - \\bar{X})^2} \\cdot \\sum{(Y_i - \\bar{Y})^2}}} \\]\n",
        "\n",
        "where \\( X_i \\) represents the age and \\( Y_i \\) represents the soft drink preference (encoded as numerical values), and \\( \\bar{X} \\) and \\( \\bar{Y} \\) are their respective means.\n",
        "\n",
        "After calculating the values and plugging them into the formula, you will get the Pearson correlation coefficient, which will tell you the strength and direction of the linear relationship between age and soft drink preference for the available data points.\n",
        "\n",
        "Please note that without complete data, the correlation may not be fully representative of the entire population. If possible, obtaining a larger and more complete dataset would provide more reliable results."
      ],
      "metadata": {
        "id": "tjtfYld4KSdr"
      }
    },
    {
      "cell_type": "markdown",
      "source": [
        "**Q6. A company is interested in examining the relationship between the number of sales calls made per day and the number of sales made per week. The company collected data on both variables from a sample of 30 sales representatives. Calculate the Pearson correlation coefficient between these two variables.**"
      ],
      "metadata": {
        "id": "zi7xbOd7IMkO"
      }
    },
    {
      "cell_type": "markdown",
      "source": [
        "To calculate the Pearson correlation coefficient between the number of sales calls made per day and the number of sales made per week in a sample of 30 sales representatives, follow these steps:\n",
        "\n",
        "Step 1: Organize the data\n",
        "Create a data set with the number of sales calls made per day (variable X) and the corresponding number of sales made per week (variable Y) for the 30 sales representatives.\n",
        "\n",
        "Step 2: Calculate the means\n",
        "Calculate the mean (average) of both X (number of sales calls per day) and Y (number of sales per week).\n",
        "\n",
        "Step 3: Calculate the standard deviations\n",
        "Calculate the standard deviation of both X and Y.\n",
        "\n",
        "Step 4: Calculate the covariance\n",
        "Calculate the covariance between X and Y.\n",
        "\n",
        "Step 5: Calculate the Pearson correlation coefficient (r)\n",
        "Use the formula for the Pearson correlation coefficient:\n",
        "\n",
        "\\[ r = \\frac{\\text{cov}(X, Y)}{\\text{std}(X) \\cdot \\text{std}(Y)} \\]\n",
        "\n",
        "Where:\n",
        "- \\( \\text{cov}(X, Y) \\) is the covariance between X and Y.\n",
        "- \\( \\text{std}(X) \\) is the standard deviation of X.\n",
        "- \\( \\text{std}(Y) \\) is the standard deviation of Y.\n",
        "\n",
        "Interpretation of the Pearson correlation coefficient (r):\n",
        "The Pearson correlation coefficient (r) will be a value between -1 and 1:\n",
        "\n",
        "- If \\( r = 1 \\): There is a perfect positive linear correlation between the number of sales calls made per day and the number of sales made per week. It means that as the number of sales calls per day increases, the number of sales per week also increases in a perfectly linear fashion.\n",
        "\n",
        "- If \\( 0 < r < 1 \\): There is a positive linear correlation between the number of sales calls made per day and the number of sales made per week. It indicates that as the number of sales calls per day increases, the number of sales per week tends to increase, but not necessarily in a perfectly linear manner.\n",
        "\n",
        "- If \\( r = 0 \\): There is no linear correlation between the number of sales calls made per day and the number of sales made per week. It means that the two variables do not have a linear relationship with each other.\n",
        "\n",
        "- If \\( -1 < r < 0 \\): There is a negative linear correlation between the number of sales calls made per day and the number of sales made per week. It suggests that as the number of sales calls per day increases, the number of sales per week tends to decrease, but not necessarily in a perfectly linear manner.\n",
        "\n",
        "- If \\( r = -1 \\): There is a perfect negative linear correlation between the number of sales calls made per day and the number of sales made per week. It means that as the number of sales calls per day increases, the number of sales per week decreases in a perfectly linear fashion.\n",
        "\n",
        "By calculating the Pearson correlation coefficient, you can assess the strength and direction of the linear relationship between the number of sales calls made per day and the number of sales made per week in your sample of 30 sales representatives."
      ],
      "metadata": {
        "id": "JsDnY7uDKWAI"
      }
    }
  ]
}