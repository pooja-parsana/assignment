{
  "nbformat": 4,
  "nbformat_minor": 0,
  "metadata": {
    "colab": {
      "provenance": []
    },
    "kernelspec": {
      "name": "python3",
      "display_name": "Python 3"
    },
    "language_info": {
      "name": "python"
    }
  },
  "cells": [
    {
      "cell_type": "markdown",
      "source": [
        "**Q1. Create a vehicle class with an init method having instance variables as name_of_vehicle, max_speed\n",
        "and average_of_vehicle.**"
      ],
      "metadata": {
        "id": "HtfNmb-s9QH1"
      }
    },
    {
      "cell_type": "code",
      "execution_count": 12,
      "metadata": {
        "id": "esfxgl3g9Kwg"
      },
      "outputs": [],
      "source": [
        "class vehicle:\n",
        "  def __init__(self, name_of_vehicle, max_speed, average_of_vehicle):\n",
        "    self.name_of_vehicle = name_of_vehicle\n",
        "    self.max_speed = max_speed\n",
        "    self.average_of_vehicle = average_of_vehicle\n",
        "car = vehicle(\"Tesla\", 200, 30)"
      ]
    },
    {
      "cell_type": "markdown",
      "source": [
        "**Q2. Create a child class car from the vehicle class created in Que 1, which will inherit the vehicle class.\n",
        "Create a method named seating_capacity which takes capacity as an argument and returns the name of\n",
        "the vehicle and its seating capacity.**"
      ],
      "metadata": {
        "id": "YLhJtp5k-Qnc"
      }
    },
    {
      "cell_type": "code",
      "source": [
        "class Car(vehicle):\n",
        "    def seating_capacity(self, capacity):\n",
        "        return f\"{self.name_of_vehicle} has a seating capacity of {capacity} passengers.\"\n"
      ],
      "metadata": {
        "id": "mhm2Juui90sd"
      },
      "execution_count": 13,
      "outputs": []
    },
    {
      "cell_type": "code",
      "source": [
        "car = Car(\"Tesla\", 200, 30)\n",
        "print(car.seating_capacity(5))\n"
      ],
      "metadata": {
        "colab": {
          "base_uri": "https://localhost:8080/"
        },
        "id": "PMSEJbRf-XAU",
        "outputId": "9560b211-95b9-4527-9da7-bde6aa680516"
      },
      "execution_count": 14,
      "outputs": [
        {
          "output_type": "stream",
          "name": "stdout",
          "text": [
            "Tesla has a seating capacity of 5 passengers.\n"
          ]
        }
      ]
    },
    {
      "cell_type": "markdown",
      "source": [
        "**Q3. What is multiple inheritance? Write a python code to demonstrate multiple inheritance.**"
      ],
      "metadata": {
        "id": "QPZC5pLs-2eG"
      }
    },
    {
      "cell_type": "markdown",
      "source": [
        "Multiple inheritance is a feature of object-oriented programming languages where a class can inherit from multiple parent classes. This allows a child class to inherit attributes and methods from multiple classes, which can be useful for creating complex hierarchies of classes.\n",
        "\n",
        "Here's an example Python code that demonstrates multiple inheritance:"
      ],
      "metadata": {
        "id": "AiEUGjaW-6zB"
      }
    },
    {
      "cell_type": "code",
      "source": [
        "class Vehicle:\n",
        "    def __init__(self, name_of_vehicle, max_speed):\n",
        "        self.name_of_vehicle = name_of_vehicle\n",
        "        self.max_speed = max_speed\n",
        "    \n",
        "    def drive(self):\n",
        "        print(f\"{self.name_of_vehicle} is driving with max speed of {self.max_speed} km/h\")\n",
        "        \n",
        "\n",
        "class Electric:\n",
        "    def __init__(self, battery_capacity):\n",
        "        self.battery_capacity = battery_capacity\n",
        "        \n",
        "    def charge(self):\n",
        "        print(f\"{self.name_of_vehicle} is charging with battery capacity of {self.battery_capacity} kWh\")\n",
        "        \n",
        "\n",
        "class ElectricCar(Vehicle, Electric):\n",
        "    def __init__(self, name_of_vehicle, max_speed, battery_capacity):\n",
        "        Vehicle.__init__(self, name_of_vehicle, max_speed)\n",
        "        Electric.__init__(self, battery_capacity)\n",
        "        \n",
        "    def display_info(self):\n",
        "        print(f\"{self.name_of_vehicle} has a max speed of {self.max_speed} km/h and a battery capacity of {self.battery_capacity} kWh\")\n",
        "        \n",
        "\n",
        "car = ElectricCar(\"Tesla Model S\", 250, 100)\n",
        "car.display_info()\n",
        "car.drive()\n",
        "car.charge()\n"
      ],
      "metadata": {
        "colab": {
          "base_uri": "https://localhost:8080/"
        },
        "id": "6DGuJcpI-Z8T",
        "outputId": "b38b43c2-e4cd-4c0e-c727-f8d4ed5e6263"
      },
      "execution_count": 15,
      "outputs": [
        {
          "output_type": "stream",
          "name": "stdout",
          "text": [
            "Tesla Model S has a max speed of 250 km/h and a battery capacity of 100 kWh\n",
            "Tesla Model S is driving with max speed of 250 km/h\n",
            "Tesla Model S is charging with battery capacity of 100 kWh\n"
          ]
        }
      ]
    },
    {
      "cell_type": "markdown",
      "source": [
        "**Q4. What are getter and setter in python? Create a class and create a getter and a setter method in this\n",
        "class.**"
      ],
      "metadata": {
        "id": "Tu4xJf4F_CsI"
      }
    },
    {
      "cell_type": "markdown",
      "source": [
        "Getter and setter methods are used in object-oriented programming to provide access to private instance variables. A getter method is used to retrieve the value of a private variable, while a setter method is used to set the value of a private variable.\n",
        "\n",
        "Here's an example of a class with getter and setter methods in Python:"
      ],
      "metadata": {
        "id": "MD_P5iQB_Jb6"
      }
    },
    {
      "cell_type": "code",
      "source": [
        "class Person:\n",
        "    def __init__(self, name, age):\n",
        "        self._name = name\n",
        "        self._age = age\n",
        "    \n",
        "    # Getter method for name\n",
        "    def get_name(self):\n",
        "        return self._name\n",
        "    \n",
        "    # Setter method for name\n",
        "    def set_name(self, name):\n",
        "        self._name = name\n",
        "    \n",
        "    # Getter method for age\n",
        "    def get_age(self):\n",
        "        return self._age\n",
        "    \n",
        "    # Setter method for age\n",
        "    def set_age(self, age):\n",
        "        if age < 0:\n",
        "            print(\"Age cannot be negative\")\n",
        "        else:\n",
        "            self._age = age\n"
      ],
      "metadata": {
        "id": "3M1FRElt--5y"
      },
      "execution_count": 16,
      "outputs": []
    },
    {
      "cell_type": "code",
      "source": [
        "person = Person(\"Alice\", 25)\n",
        "print(person.get_name())  \n",
        "person.set_name(\"Bob\")\n",
        "print(person.get_name()) \n",
        "print(person.get_age())   \n",
        "person.set_age(-10)       \n",
        "person.set_age(30)\n",
        "print(person.get_age())   \n"
      ],
      "metadata": {
        "colab": {
          "base_uri": "https://localhost:8080/"
        },
        "id": "lkrnILSP_Lib",
        "outputId": "7ba21218-cc04-4b27-858d-c335147cb35a"
      },
      "execution_count": 17,
      "outputs": [
        {
          "output_type": "stream",
          "name": "stdout",
          "text": [
            "Alice\n",
            "Bob\n",
            "25\n",
            "Age cannot be negative\n",
            "30\n"
          ]
        }
      ]
    },
    {
      "cell_type": "markdown",
      "source": [
        "**Q5.What is method overriding in python? Write a python code to demonstrate method overriding.**"
      ],
      "metadata": {
        "id": "F2-z90nw_YJR"
      }
    },
    {
      "cell_type": "markdown",
      "source": [
        "Method overriding is a feature of object-oriented programming where a subclass provides a different implementation for a method that is already defined in its parent class. When a method is called on an instance of the subclass, the implementation in the subclass is used instead of the implementation in the parent class.\n",
        "\n",
        "Here's an example Python code that demonstrates method overriding:\n",
        "\n"
      ],
      "metadata": {
        "id": "el2M3d5w_eNN"
      }
    },
    {
      "cell_type": "code",
      "source": [
        "class Animal:\n",
        "    def sound(self):\n",
        "        print(\"The animal makes a sound\")\n",
        "        \n",
        "\n",
        "class Dog(Animal):\n",
        "    def sound(self):\n",
        "        print(\"The dog barks\")\n",
        "        \n",
        "\n",
        "animal = Animal()\n",
        "animal.sound() \n",
        "\n",
        "dog = Dog()\n",
        "dog.sound()    \n"
      ],
      "metadata": {
        "colab": {
          "base_uri": "https://localhost:8080/"
        },
        "id": "t8XRsfop_UFb",
        "outputId": "ec0eca34-aa66-452e-e0d4-1ceeb9cd6bfc"
      },
      "execution_count": 18,
      "outputs": [
        {
          "output_type": "stream",
          "name": "stdout",
          "text": [
            "The animal makes a sound\n",
            "The dog barks\n"
          ]
        }
      ]
    },
    {
      "cell_type": "code",
      "source": [],
      "metadata": {
        "id": "0TSoeOyp_gf5"
      },
      "execution_count": null,
      "outputs": []
    }
  ]
}