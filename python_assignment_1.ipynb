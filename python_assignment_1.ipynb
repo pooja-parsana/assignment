{
  "nbformat": 4,
  "nbformat_minor": 0,
  "metadata": {
    "colab": {
      "provenance": []
    },
    "kernelspec": {
      "name": "python3",
      "display_name": "Python 3"
    },
    "language_info": {
      "name": "python"
    }
  },
  "cells": [
    {
      "cell_type": "markdown",
      "source": [
        "**1.Explain with an example each when to use a for loop and a while loop.**"
      ],
      "metadata": {
        "id": "PbKJw-6IJObo"
      }
    },
    {
      "cell_type": "markdown",
      "source": [
        "**For Loop** : A for loop is typically used when you know the excate number of time youo want to iterate over a block of code. the loop will automatically increment the counter varibale nand excute until the counter reaches the specified value"
      ],
      "metadata": {
        "id": "44gEzv-uJzmZ"
      }
    },
    {
      "cell_type": "markdown",
      "source": [
        "Example:"
      ],
      "metadata": {
        "id": "hWhK5E-BKQgq"
      }
    },
    {
      "cell_type": "code",
      "source": [
        "for i in range(5):\n",
        "  print(i)"
      ],
      "metadata": {
        "colab": {
          "base_uri": "https://localhost:8080/"
        },
        "id": "4KiEfspPKPrZ",
        "outputId": "5ac0aa4d-572e-4da6-b0e9-053e4698d86e"
      },
      "execution_count": 2,
      "outputs": [
        {
          "output_type": "stream",
          "name": "stdout",
          "text": [
            "0\n",
            "1\n",
            "2\n",
            "3\n",
            "4\n"
          ]
        }
      ]
    },
    {
      "cell_type": "markdown",
      "source": [
        "**While Loop** : while loop is used when you need to iterate until certine condition is met.  In this case, the loop will continue to execute as long as the specified condition evaluates to True."
      ],
      "metadata": {
        "id": "RzrWCnArKops"
      }
    },
    {
      "cell_type": "markdown",
      "source": [
        "Example:"
      ],
      "metadata": {
        "id": "RKZU_bvBK-2X"
      }
    },
    {
      "cell_type": "code",
      "source": [
        "i=5\n",
        "while i<=10:\n",
        "  print(i)\n",
        "  i=i+1"
      ],
      "metadata": {
        "colab": {
          "base_uri": "https://localhost:8080/"
        },
        "id": "hlNQaPaJKh5v",
        "outputId": "733bdd9b-1edf-40d5-c504-ee12a2368aa8"
      },
      "execution_count": 4,
      "outputs": [
        {
          "output_type": "stream",
          "name": "stdout",
          "text": [
            "5\n",
            "6\n",
            "7\n",
            "8\n",
            "9\n",
            "10\n"
          ]
        }
      ]
    },
    {
      "cell_type": "markdown",
      "source": [
        "**2. Write a python program to print the sum and product of the first 10 natural numbers using for\n",
        "and while loop.**"
      ],
      "metadata": {
        "id": "kIMlbZ9BLWht"
      }
    },
    {
      "cell_type": "markdown",
      "source": [
        "Using for loop:"
      ],
      "metadata": {
        "id": "cGDJzBhkLvrR"
      }
    },
    {
      "cell_type": "code",
      "source": [
        "sum=0\n",
        "product=1\n",
        "for i in range(1,11):\n",
        "  sum=sum+i\n",
        "  product=product*i\n",
        "print(\"Sum of the first 10 natural numbers using a for loop: \",sum)\n",
        "print(\"Product of the first 10 natural numbers using a for loop : \",product)"
      ],
      "metadata": {
        "colab": {
          "base_uri": "https://localhost:8080/"
        },
        "id": "tb7fKOSlLIxQ",
        "outputId": "2de7008b-0d1a-45b9-faf6-d2079d712ed7"
      },
      "execution_count": 9,
      "outputs": [
        {
          "output_type": "stream",
          "name": "stdout",
          "text": [
            "Sum of the first 10 natural numbers using a for loop:  55\n",
            "Product of the first 10 natural numbers using a for loop :  3628800\n"
          ]
        }
      ]
    },
    {
      "cell_type": "markdown",
      "source": [
        "Using while loop :"
      ],
      "metadata": {
        "id": "yVjFMu4jMQMO"
      }
    },
    {
      "cell_type": "code",
      "source": [
        "i=1\n",
        "sum=0\n",
        "product=1\n",
        "while i <=10:\n",
        "  sum=sum+1\n",
        "  product=product*i\n",
        "  i=i+1\n",
        "\n",
        "print(\"Sum of the first 10 natural numbers using a while loop: \",sum)\n",
        "print(\"Product of the first 10 natural numbers using a while loop : \",product)"
      ],
      "metadata": {
        "colab": {
          "base_uri": "https://localhost:8080/"
        },
        "id": "VyhPArikL7Nt",
        "outputId": "1411918c-53d4-43aa-973c-e6ff9ad6da23"
      },
      "execution_count": 10,
      "outputs": [
        {
          "output_type": "stream",
          "name": "stdout",
          "text": [
            "Sum of the first 10 natural numbers using a while loop:  10\n",
            "Product of the first 10 natural numbers using a while loop :  3628800\n"
          ]
        }
      ]
    },
    {
      "cell_type": "markdown",
      "source": [
        "**3.Create a python program to compute the electricity bill for a household.**\n",
        "\n",
        "**The per-unit charges in rupees are as follows: For the first 100 units, the user will be charged Rs. 4.5 per\n",
        "unit, for the next 100 units, the user will be charged Rs. 6 per unit, and for the next 100 units, the user will\n",
        "be charged Rs. 10 per unit, After 300 units and above the user will be charged Rs. 20 per unit.\n",
        "You are required to take the units of electricity consumed in a month from the user as input.\n",
        "Your program must pass this test case: when the unit of electricity consumed by the user in a month is\n",
        "310, the total electricity bill should be 2250.**"
      ],
      "metadata": {
        "id": "gNZdI8jUNFbc"
      }
    },
    {
      "cell_type": "code",
      "source": [
        "units=int(input(\"Enter the units of electricity consumed in a month: \"))\n",
        "if units<=100:\n",
        "  charges=units*4.5\n",
        "elif units<=200:\n",
        "  charges=100 * 4.5 + (units - 100) * 6\n",
        "elif units<=300:\n",
        "  charges=100*4.5 + 100*6 +(units-200)*10\n",
        "else:\n",
        "  charges=100*4.5 + 100*6 +100*10+ (units-300)*20\n",
        "print(\"The total electricity bill is:\", charges)"
      ],
      "metadata": {
        "colab": {
          "base_uri": "https://localhost:8080/"
        },
        "id": "R0zW0_sgM5TD",
        "outputId": "f620ff93-fd8e-4328-e486-8f518f346cd6"
      },
      "execution_count": 12,
      "outputs": [
        {
          "output_type": "stream",
          "name": "stdout",
          "text": [
            "Enter the units of electricity consumed in a month: 310\n",
            "The total electricity bill is: 2250.0\n"
          ]
        }
      ]
    },
    {
      "cell_type": "markdown",
      "source": [
        "**4.Create a list of numbers from 1 to 100. Use for loop and while loop to calculate the cube of each\n",
        "number and if the cube of that number is divisible by 4 or 5 then append that number in a list and print\n",
        "that list.**"
      ],
      "metadata": {
        "id": "4qKuM_ReP94z"
      }
    },
    {
      "cell_type": "markdown",
      "source": [
        "Using for loop"
      ],
      "metadata": {
        "id": "H2iWZsHTQU21"
      }
    },
    {
      "cell_type": "code",
      "source": [
        "numbers=list(range(1,101))\n",
        "results=[]\n",
        "\n",
        "for i in numbers:\n",
        "  cube=i**3\n",
        "  if cube %4 == 0 or cube % 5 == 0:\n",
        "    results.append(i)\n",
        "\n",
        "print(results)\n"
      ],
      "metadata": {
        "colab": {
          "base_uri": "https://localhost:8080/"
        },
        "id": "En4KIiguPj8l",
        "outputId": "d9951bf2-1b7a-419c-d79d-a3080895af6f"
      },
      "execution_count": 25,
      "outputs": [
        {
          "output_type": "stream",
          "name": "stdout",
          "text": [
            "[2, 4, 5, 6, 8, 10, 12, 14, 15, 16, 18, 20, 22, 24, 25, 26, 28, 30, 32, 34, 35, 36, 38, 40, 42, 44, 45, 46, 48, 50, 52, 54, 55, 56, 58, 60, 62, 64, 65, 66, 68, 70, 72, 74, 75, 76, 78, 80, 82, 84, 85, 86, 88, 90, 92, 94, 95, 96, 98, 100]\n"
          ]
        }
      ]
    },
    {
      "cell_type": "markdown",
      "source": [
        "Using while loop :"
      ],
      "metadata": {
        "id": "vLwAKe3pRCDZ"
      }
    },
    {
      "cell_type": "code",
      "source": [
        "numbers=list(range(1,101))\n",
        "results=[]\n",
        "\n",
        "i=0\n",
        "while i <len(numbers):\n",
        "  cube=numbers[i]**3\n",
        "  if cube % 4==0 or cube %5 == 0:\n",
        "    results.append(numbers[i])\n",
        "  i += 1\n",
        "\n",
        "print(results)"
      ],
      "metadata": {
        "colab": {
          "base_uri": "https://localhost:8080/"
        },
        "id": "FQx70vVzQMUY",
        "outputId": "54670b82-02f3-4c15-fc8a-1674a14d17ae"
      },
      "execution_count": 21,
      "outputs": [
        {
          "output_type": "stream",
          "name": "stdout",
          "text": [
            "[2, 4, 5, 6, 8, 10, 12, 14, 15, 16, 18, 20, 22, 24, 25, 26, 28, 30, 32, 34, 35, 36, 38, 40, 42, 44, 45, 46, 48, 50, 52, 54, 55, 56, 58, 60, 62, 64, 65, 66, 68, 70, 72, 74, 75, 76, 78, 80, 82, 84, 85, 86, 88, 90, 92, 94, 95, 96, 98, 100]\n"
          ]
        }
      ]
    },
    {
      "cell_type": "markdown",
      "source": [
        "**5. Write a program to filter count vowels in the below-given string.\n",
        "string = \"I want to become a data scientist\"**"
      ],
      "metadata": {
        "id": "Onm_vv98Sysv"
      }
    },
    {
      "cell_type": "code",
      "source": [
        "string=\"I want to become a data scientist\"\n",
        "vovels=[\"a\",\"e\",\"i\",\"o\",\"u\"]\n",
        "count=0\n",
        "for i in string:\n",
        "  if i in vovels:\n",
        "    count=count+1\n",
        "print(count)"
      ],
      "metadata": {
        "colab": {
          "base_uri": "https://localhost:8080/"
        },
        "id": "4mTH310KSjKz",
        "outputId": "04793b98-0e7f-4755-eefb-1d7987a3c531"
      },
      "execution_count": 26,
      "outputs": [
        {
          "output_type": "stream",
          "name": "stdout",
          "text": [
            "11\n"
          ]
        }
      ]
    },
    {
      "cell_type": "code",
      "source": [],
      "metadata": {
        "id": "NmC2G7heTUot"
      },
      "execution_count": null,
      "outputs": []
    }
  ]
}