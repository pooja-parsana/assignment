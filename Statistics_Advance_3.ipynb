{
  "nbformat": 4,
  "nbformat_minor": 0,
  "metadata": {
    "colab": {
      "provenance": []
    },
    "kernelspec": {
      "name": "python3",
      "display_name": "Python 3"
    },
    "language_info": {
      "name": "python"
    }
  },
  "cells": [
    {
      "cell_type": "markdown",
      "source": [
        "**Q1: What is Estimation Statistics? Explain point estimate and interval estimate.**"
      ],
      "metadata": {
        "id": "2L_KUy2bc5yO"
      }
    },
    {
      "cell_type": "markdown",
      "source": [
        "Estimation statistics involves using sample data to estimate or infer unknown population parameters. It allows us to make educated guesses or estimates about population characteristics based on information gathered from a sample.\n",
        "\n",
        "Point Estimate: A point estimate is a single value that is used to estimate an unknown population parameter. It is typically calculated from sample data and serves as the best guess for the value of the population parameter. For example, using the sample mean as an estimate of the population mean is a point estimate.\n",
        "\n",
        "Interval Estimate: An interval estimate provides a range of values within which the population parameter is likely to lie. It takes into account the variability in the data and provides a level of uncertainty around the estimate. The interval estimate is expressed as a lower limit and an upper limit, creating a confidence interval. For example, a 95% confidence interval for the population mean is a range of values within which we are 95% confident that the true population mean resides."
      ],
      "metadata": {
        "id": "WaoAyRI5e2ja"
      }
    },
    {
      "cell_type": "markdown",
      "source": [
        "**Q2. Write a Python function to estimate the population mean using a sample mean and standard deviation.**"
      ],
      "metadata": {
        "id": "cC0IgcFQdMn_"
      }
    },
    {
      "cell_type": "code",
      "source": [
        "import math\n",
        "\n",
        "def estimate_population_mean(sample_mean, sample_std_dev, sample_size):\n",
        "    standard_error = sample_std_dev / math.sqrt(sample_size)\n",
        "    z_value = 1.96  # for a 95% confidence level (can be adjusted for different confidence levels)\n",
        "    margin_of_error = z_value * standard_error\n",
        "    lower_limit = sample_mean - margin_of_error\n",
        "    upper_limit = sample_mean + margin_of_error\n",
        "    return lower_limit, upper_limit\n",
        "\n",
        "# Example usage\n",
        "sample_mean = 50\n",
        "sample_std_dev = 10\n",
        "sample_size = 100\n",
        "\n",
        "lower_limit, upper_limit = estimate_population_mean(sample_mean, sample_std_dev, sample_size)\n",
        "print(f\"Estimated population mean: {sample_mean} (95% confidence interval: [{lower_limit}, {upper_limit}])\")\n"
      ],
      "metadata": {
        "colab": {
          "base_uri": "https://localhost:8080/"
        },
        "id": "J8kr9rIxe7Mx",
        "outputId": "56cb831d-4cca-47ca-88cf-a2df525167ac"
      },
      "execution_count": 1,
      "outputs": [
        {
          "output_type": "stream",
          "name": "stdout",
          "text": [
            "Estimated population mean: 50 (95% confidence interval: [48.04, 51.96])\n"
          ]
        }
      ]
    },
    {
      "cell_type": "markdown",
      "source": [
        "**Q3: What is Hypothesis testing? Why is it used? State the importance of Hypothesis testing.**"
      ],
      "metadata": {
        "id": "GIxI5InPdMlJ"
      }
    },
    {
      "cell_type": "markdown",
      "source": [
        "Hypothesis testing is a statistical method used to make inferences and draw conclusions about population parameters based on sample data. It involves formulating a hypothesis about the population parameter, collecting sample data, and assessing whether the data provide enough evidence to either accept or reject the hypothesis.\n",
        "\n",
        "The main purpose of hypothesis testing is to make informed decisions or draw conclusions about a population based on sample data. It allows researchers and analysts to:\n",
        "\n",
        "1. Test Research Hypotheses: Hypothesis testing allows researchers to evaluate their theories or research hypotheses by collecting data and analyzing it statistically. It helps determine if there is enough evidence to support or reject the proposed hypotheses.\n",
        "\n",
        "2. Make Data-Driven Decisions: Hypothesis testing provides a framework for making data-driven decisions. It allows decision-makers to evaluate the effectiveness of interventions, compare groups or treatments, assess the impact of changes, and guide policy decisions based on statistical evidence.\n",
        "\n",
        "3. Assess Statistical Significance: Hypothesis testing helps assess whether observed differences or relationships between variables are statistically significant or occurred by chance. It helps distinguish between random variation and true effects in the data.\n",
        "\n",
        "4. Evaluate Claims or Statements: Hypothesis testing provides a structured approach to assess the validity of claims or statements made about a population or a process. It allows us to objectively evaluate and verify or refute claims based on empirical evidence.\n",
        "\n",
        "The importance of hypothesis testing can be summarized as follows:\n",
        "\n",
        "1. Objective Decision-Making: Hypothesis testing provides a systematic and objective framework for making statistical decisions. It helps overcome biases and subjective judgments by relying on statistical evidence.\n",
        "\n",
        "2. Scientific Rigor: Hypothesis testing is a fundamental aspect of the scientific method. It ensures that research findings and conclusions are based on solid evidence rather than mere speculation or anecdotal observations.\n",
        "\n",
        "3. Statistical Inference: Hypothesis testing allows us to make inferences about population parameters based on sample data. It enables us to draw conclusions about a population using a representative subset of that population.\n",
        "\n",
        "4. Quality Control and Process Improvement: Hypothesis testing plays a crucial role in quality control and process improvement. It helps identify problems or variations in a process, assess the effectiveness of process changes, and make data-driven decisions to improve overall quality.\n",
        "\n",
        "Overall, hypothesis testing is a cornerstone of statistical analysis. It provides a structured framework for drawing conclusions and making informed decisions based on sample data. By applying hypothesis testing, researchers, analysts, and decision-makers can ensure that their conclusions are supported by empirical evidence and contribute to scientific knowledge or informed decision-making."
      ],
      "metadata": {
        "id": "Onn9nqkNfV_b"
      }
    },
    {
      "cell_type": "markdown",
      "source": [
        "**Q4. Create a hypothesis that states whether the average weight of male college students is greater than the average weight of female college students.**"
      ],
      "metadata": {
        "id": "_hAGWEkNdMg3"
      }
    },
    {
      "cell_type": "markdown",
      "source": [
        "Hypothesis:\n",
        "Null Hypothesis (H0): The average weight of male college students is equal to or less than the average weight of female college students.\n",
        "Alternative Hypothesis (Ha): The average weight of male college students is greater than the average weight of female college students.\n",
        "\n",
        "In symbols:\n",
        "H0: μ_male ≤ μ_female\n",
        "Ha: μ_male > μ_female\n",
        "\n",
        "Here, μ_male represents the population mean weight of male college students, and μ_female represents the population mean weight of female college students. The null hypothesis assumes that the average weight of male college students is equal to or less than the average weight of female college students. The alternative hypothesis suggests that the average weight of male college students is greater than the average weight of female college students.\n",
        "\n",
        "This hypothesis can be tested using appropriate statistical methods and sample data to determine if there is enough evidence to support the alternative hypothesis over the null hypothesis."
      ],
      "metadata": {
        "id": "rPfeu-hchBdp"
      }
    },
    {
      "cell_type": "markdown",
      "source": [
        "**Q5. Write a Python script to conduct a hypothesis test on the difference between two population means, given a sample from each population.**"
      ],
      "metadata": {
        "id": "rHcZV0H5dMcb"
      }
    },
    {
      "cell_type": "code",
      "source": [
        "import numpy as np\n",
        "from scipy.stats import t\n",
        "\n",
        "def hypothesis_test(sample1, sample2, alpha):\n",
        "    n1 = len(sample1)\n",
        "    n2 = len(sample2)\n",
        "\n",
        "    mean1 = np.mean(sample1)\n",
        "    mean2 = np.mean(sample2)\n",
        "\n",
        "    var1 = np.var(sample1, ddof=1)\n",
        "    var2 = np.var(sample2, ddof=1)\n",
        "\n",
        "    pooled_var = ((n1 - 1) * var1 + (n2 - 1) * var2) / (n1 + n2 - 2)\n",
        "\n",
        "    t_stat = (mean1 - mean2) / np.sqrt(pooled_var * ((1/n1) + (1/n2)))\n",
        "\n",
        "    dof = n1 + n2 - 2\n",
        "\n",
        "    p_value = 2 * (1 - t.cdf(abs(t_stat), df=dof))\n",
        "\n",
        "    return t_stat, p_value\n",
        "\n",
        "# Example usage\n",
        "sample1 = [10, 12, 14, 16, 18]\n",
        "sample2 = [8, 10, 12, 14, 16]\n",
        "alpha = 0.05\n",
        "\n",
        "t_stat, p_value = hypothesis_test(sample1, sample2, alpha)\n",
        "print(f\"T-statistic: {t_stat}\")\n",
        "print(f\"P-value: {p_value}\")\n"
      ],
      "metadata": {
        "colab": {
          "base_uri": "https://localhost:8080/"
        },
        "id": "qCzicG_4hI_p",
        "outputId": "b17518f8-775f-4982-d06d-d60aab0d47af"
      },
      "execution_count": 2,
      "outputs": [
        {
          "output_type": "stream",
          "name": "stdout",
          "text": [
            "T-statistic: 1.0\n",
            "P-value: 0.3465935070873343\n"
          ]
        }
      ]
    },
    {
      "cell_type": "markdown",
      "source": [
        "**Q6: What is a null and alternative hypothesis? Give some examples.**"
      ],
      "metadata": {
        "id": "NEB_NZI-dMYR"
      }
    },
    {
      "cell_type": "markdown",
      "source": [
        "In hypothesis testing, the null hypothesis (H0) and the alternative hypothesis (Ha) are two competing statements or claims about a population parameter. They help frame the hypothesis test and guide the statistical analysis. Here's an explanation of the null and alternative hypotheses along with examples:\n",
        "\n",
        "Null Hypothesis (H0):\n",
        "The null hypothesis represents the default or existing belief about a population parameter. It assumes that there is no significant effect, difference, or relationship in the population. It suggests that any observed differences or relationships in the sample data are due to random chance or sampling variability.\n",
        "\n",
        "Examples of null hypotheses:\n",
        "1. The mean test scores of two groups are equal.\n",
        "2. The proportion of voters supporting Candidate A is equal to or less than the proportion supporting Candidate B.\n",
        "3. The average commute time using Route A is equal to or greater than the average commute time using Route B.\n",
        "\n",
        "Alternative Hypothesis (Ha):\n",
        "The alternative hypothesis contradicts or opposes the null hypothesis. It represents the claim or hypothesis that there is a significant effect, difference, or relationship in the population. It suggests that any observed differences or relationships in the sample data are not due to random chance and reflect a genuine effect.\n",
        "\n",
        "Examples of alternative hypotheses:\n",
        "1. The mean test scores of two groups are not equal.\n",
        "2. The proportion of voters supporting Candidate A is greater than the proportion supporting Candidate B.\n",
        "3. The average commute time using Route A is less than the average commute time using Route B.\n",
        "\n",
        "The alternative hypothesis can be one-sided or two-sided:\n",
        "- One-sided alternative hypothesis: It specifies a direction for the effect, difference, or relationship. For example, stating that one group has a higher mean than the other.\n",
        "- Two-sided alternative hypothesis: It does not specify a direction and allows for any significant difference, effect, or relationship.\n",
        "\n",
        "The choice of null and alternative hypotheses depends on the research question, the nature of the data, and the specific claim or hypothesis being investigated. These hypotheses are tested using appropriate statistical tests, and the results of the hypothesis test help determine whether to reject or fail to reject the null hypothesis in favor of the alternative hypothesis."
      ],
      "metadata": {
        "id": "kJsxPIeMhMlx"
      }
    },
    {
      "cell_type": "markdown",
      "source": [
        "**Q7: Write down the steps involved in hypothesis testing.**"
      ],
      "metadata": {
        "id": "8yIFyW8WdMR8"
      }
    },
    {
      "cell_type": "markdown",
      "source": [
        "Hypothesis testing involves several key steps to evaluate hypotheses and draw conclusions based on sample data. The following are the general steps involved in hypothesis testing:\n",
        "\n",
        "1. State the Hypotheses:\n",
        "   - Formulate the null hypothesis (H0) and the alternative hypothesis (Ha) based on the research question or claim being investigated.\n",
        "   - The null hypothesis assumes no significant effect, difference, or relationship in the population, while the alternative hypothesis represents the claim or hypothesis that contradicts the null hypothesis.\n",
        "\n",
        "2. Set the Significance Level:\n",
        "   - Determine the significance level (alpha), typically denoted as α.\n",
        "   - The significance level represents the maximum acceptable probability of making a Type I error (rejecting the null hypothesis when it is true).\n",
        "   - Commonly used significance levels include 0.05 (5%) and 0.01 (1%).\n",
        "\n",
        "3. Collect and Analyze Data:\n",
        "   - Collect sample data relevant to the research question or claim.\n",
        "   - Perform appropriate statistical analyses based on the type of data and research design.\n",
        "   - Calculate relevant summary statistics (e.g., sample mean, sample proportion) and measure variability (e.g., sample standard deviation).\n",
        "\n",
        "4. Determine the Test Statistic:\n",
        "   - Select the appropriate test statistic that aligns with the hypothesis being tested and the nature of the data.\n",
        "   - The test statistic quantifies the difference, effect, or relationship between the sample data and the population parameter specified in the null hypothesis.\n",
        "\n",
        "5. Calculate the P-value:\n",
        "   - Using the test statistic, calculate the p-value.\n",
        "   - The p-value represents the probability of observing the sample data or more extreme results under the assumption that the null hypothesis is true.\n",
        "   - It measures the strength of evidence against the null hypothesis.\n",
        "\n",
        "6. Compare P-value with Significance Level:\n",
        "   - Compare the calculated p-value with the predetermined significance level (alpha).\n",
        "   - If the p-value is less than or equal to the significance level (p ≤ α), it suggests that the observed data is unlikely to occur by chance alone under the null hypothesis. In this case, the null hypothesis is rejected.\n",
        "   - If the p-value is greater than the significance level (p > α), it indicates that the observed data is likely to occur by chance even if the null hypothesis is true. In this case, the null hypothesis is not rejected.\n",
        "\n",
        "7. Draw Conclusions:\n",
        "   - Based on the comparison between the p-value and significance level, make a conclusion about the null hypothesis.\n",
        "   - If the null hypothesis is rejected, conclude that there is sufficient evidence to support the alternative hypothesis.\n",
        "   - If the null hypothesis is not rejected, conclude that there is insufficient evidence to support the alternative hypothesis.\n",
        "\n",
        "8. Interpret the Results:\n",
        "   - Interpret the findings in the context of the research question or claim.\n",
        "   - Consider the practical significance of the effect or difference observed, along with the statistical significance.\n",
        "   - Provide an explanation of the statistical inference and its implications.\n",
        "\n",
        "It's essential to follow these steps systematically to ensure proper hypothesis testing and draw reliable conclusions based on the evidence provided by the sample data."
      ],
      "metadata": {
        "id": "XQNOogYPhP3w"
      }
    },
    {
      "cell_type": "markdown",
      "source": [
        "**Q8. Define p-value and explain its significance in hypothesis testing.**"
      ],
      "metadata": {
        "id": "UCWzFOnxdMPE"
      }
    },
    {
      "cell_type": "markdown",
      "source": [
        "The p-value is a probability value that measures the strength of evidence against the null hypothesis (H0) in hypothesis testing. It quantifies the probability of observing the sample data or data more extreme than the observed data, assuming the null hypothesis is true. In other words, it measures the likelihood of obtaining the observed results if the null hypothesis is correct.\n",
        "\n",
        "The significance of the p-value in hypothesis testing can be understood as follows:\n",
        "\n",
        "1. Significance Level Comparison:\n",
        "   - The p-value is compared to a pre-determined significance level (alpha) to make a decision about the null hypothesis.\n",
        "   - The significance level represents the threshold for making a decision in hypothesis testing. Commonly used values for alpha include 0.05 (5%) and 0.01 (1%).\n",
        "   - If the p-value is less than or equal to the significance level (p ≤ alpha), it suggests that the observed data is unlikely to occur by chance alone under the null hypothesis.\n",
        "   - If the p-value is greater than the significance level (p > alpha), it indicates that the observed data is likely to occur by chance even if the null hypothesis is true.\n",
        "\n",
        "2. Strength of Evidence against the Null Hypothesis:\n",
        "   - The p-value provides a measure of the strength of evidence against the null hypothesis.\n",
        "   - A small p-value (typically below the significance level) suggests strong evidence against the null hypothesis, indicating that the observed data is unlikely to have occurred by chance.\n",
        "   - A small p-value supports the alternative hypothesis (Ha) and suggests that there may be a true effect, difference, or relationship in the population.\n",
        "\n",
        "3. Statistical Significance:\n",
        "   - The p-value is used to determine statistical significance, which is a measure of the likelihood that an observed result is not due to random chance.\n",
        "   - A statistically significant result suggests that the observed data provides strong evidence against the null hypothesis, supporting the alternative hypothesis.\n",
        "   - Statistical significance does not imply practical or meaningful significance; it only indicates the strength of evidence against the null hypothesis based on the sample data.\n",
        "\n",
        "4. Decision-Making:\n",
        "   - The p-value helps in making decisions regarding the null hypothesis.\n",
        "   - If the p-value is less than the significance level (p ≤ alpha), the null hypothesis is rejected in favor of the alternative hypothesis.\n",
        "   - If the p-value is greater than the significance level (p > alpha), there is insufficient evidence to reject the null hypothesis.\n",
        "\n",
        "It's important to note that the p-value is not a measure of the effect size or the practical significance of an effect or difference. It only quantifies the strength of evidence against the null hypothesis based on the sample data. Researchers and decision-makers should consider both statistical significance (p-value) and practical significance when interpreting the results of a hypothesis test."
      ],
      "metadata": {
        "id": "HlUuCOW3hSjd"
      }
    },
    {
      "cell_type": "markdown",
      "source": [
        "**Q9. Generate a Student's t-distribution plot using Python's matplotlib library, with the degrees of freedom parameter set to 10.**"
      ],
      "metadata": {
        "id": "AnNbvHnYdMHw"
      }
    },
    {
      "cell_type": "code",
      "source": [
        "import numpy as np\n",
        "import matplotlib.pyplot as plt\n",
        "from scipy.stats import t\n",
        "\n",
        "df = 10  # Degrees of freedom\n",
        "\n",
        "x = np.linspace(t.ppf(0.001, df), t.ppf(0.999, df), 100)\n",
        "y = t.pdf(x, df)\n",
        "\n",
        "plt.plot(x, y, 'b-', lw=2)\n",
        "plt.xlabel('x')\n",
        "plt.ylabel('Probability Density')\n",
        "plt.title(f\"Student's t-Distribution (df={df})\")\n",
        "plt.grid(True)\n",
        "plt.show()\n"
      ],
      "metadata": {
        "colab": {
          "base_uri": "https://localhost:8080/",
          "height": 472
        },
        "id": "XVDIK0hyhVZC",
        "outputId": "845a2188-85dd-4a80-ab77-195b24be341b"
      },
      "execution_count": 3,
      "outputs": [
        {
          "output_type": "display_data",
          "data": {
            "text/plain": [
              "<Figure size 640x480 with 1 Axes>"
            ],
            "image/png": "[encoded data removed]"
          },
          "metadata": {}
        }
      ]
    },
    {
      "cell_type": "markdown",
      "source": [
        "**Q10. Write a Python program to calculate the two-sample t-test for independent samples, given two random samples of equal size and a null hypothesis that the population means are equal.**"
      ],
      "metadata": {
        "id": "SF45hJaSdMCp"
      }
    },
    {
      "cell_type": "code",
      "source": [
        "import numpy as np\n",
        "from scipy.stats import t\n",
        "\n",
        "def two_sample_t_test(sample1, sample2):\n",
        "    n1 = len(sample1)\n",
        "    n2 = len(sample2)\n",
        "\n",
        "    mean1 = np.mean(sample1)\n",
        "    mean2 = np.mean(sample2)\n",
        "\n",
        "    var1 = np.var(sample1, ddof=1)\n",
        "    var2 = np.var(sample2, ddof=1)\n",
        "\n",
        "    pooled_var = ((n1 - 1) * var1 + (n2 - 1) * var2) / (n1 + n2 - 2)\n",
        "\n",
        "    t_stat = (mean1 - mean2) / np.sqrt(pooled_var * ((1/n1) + (1/n2)))\n",
        "\n",
        "    dof = n1 + n2 - 2\n",
        "\n",
        "    p_value = 2 * (1 - t.cdf(abs(t_stat), df=dof))\n",
        "\n",
        "    return t_stat, p_value\n",
        "\n",
        "# Example usage\n",
        "sample1 = [4, 6, 8, 10, 12]\n",
        "sample2 = [5, 7, 9, 11, 13]\n",
        "\n",
        "t_stat, p_value = two_sample_t_test(sample1, sample2)\n",
        "print(f\"T-statistic: {t_stat}\")\n",
        "print(f\"P-value: {p_value}\")\n"
      ],
      "metadata": {
        "colab": {
          "base_uri": "https://localhost:8080/"
        },
        "id": "FqV1zZOQhX5h",
        "outputId": "6d89541d-4018-43ff-98a7-f897317feecc"
      },
      "execution_count": 4,
      "outputs": [
        {
          "output_type": "stream",
          "name": "stdout",
          "text": [
            "T-statistic: -0.5\n",
            "P-value: 0.6305360755569764\n"
          ]
        }
      ]
    },
    {
      "cell_type": "markdown",
      "source": [
        "**Q11: What is Student’s t distribution? When to use the t-Distribution.**"
      ],
      "metadata": {
        "id": "6QBeBimPdL8p"
      }
    },
    {
      "cell_type": "markdown",
      "source": [
        "Student's t-distribution, often referred to as the t-distribution, is a probability distribution that is used in statistical inference for small sample sizes or when the population standard deviation is unknown. It is similar to the standard normal distribution (Z-distribution) but has thicker tails, allowing for greater variability.\n",
        "\n",
        "The t-distribution is characterized by its degrees of freedom (df), which determine its shape. The degrees of freedom are based on the sample size and play a crucial role in determining the variability of the t-distribution.\n",
        "\n",
        "The t-distribution is used in situations where:\n",
        "\n",
        "1. Small Sample Sizes: When dealing with small sample sizes (typically less than 30), the t-distribution is used instead of the normal distribution. The t-distribution provides more accurate probability calculations for small samples, accounting for the added uncertainty due to limited data.\n",
        "\n",
        "2. Unknown Population Standard Deviation: When the population standard deviation is unknown, the t-distribution is used to estimate the population mean based on the sample mean. In such cases, the sample standard deviation is used as an estimate of the population standard deviation.\n",
        "\n",
        "3. Confidence Intervals: The t-distribution is used to construct confidence intervals for population parameters, such as the mean, when the population standard deviation is unknown or the sample size is small. Confidence intervals provide a range of plausible values for the population parameter.\n",
        "\n",
        "4. Hypothesis Testing: The t-distribution is commonly used in hypothesis testing when dealing with small sample sizes or unknown population standard deviations. It allows for the calculation of test statistics and p-values, which help assess the statistical significance of observed differences or relationships.\n",
        "\n",
        "5. Comparing Means: The t-distribution is often used when comparing the means of two independent samples or when conducting paired t-tests for dependent samples. It enables the assessment of differences between groups while considering the sample sizes and variability.\n",
        "\n",
        "Overall, the t-distribution is used in situations where the sample size is small, the population standard deviation is unknown, or when performing statistical inference for means and confidence intervals. It provides a more accurate representation of uncertainty when dealing with limited data, allowing for reliable statistical analysis and inference."
      ],
      "metadata": {
        "id": "FM-ep-xohcGN"
      }
    },
    {
      "cell_type": "markdown",
      "source": [
        "**Q12: What is t-statistic? State the formula for t-statistic.**"
      ],
      "metadata": {
        "id": "dOiLfroCdL3N"
      }
    },
    {
      "cell_type": "markdown",
      "source": [
        "The t-statistic, also known as the t-value, is a statistical measure used in hypothesis testing and estimating population parameters when the population standard deviation is unknown and has to be estimated from the sample data. The t-statistic quantifies the difference between the sample mean and the hypothesized population mean, relative to the standard error of the sample mean.\n",
        "\n",
        "The formula for calculating the t-statistic is as follows:\n",
        "\n",
        "t = (x - μ) / (s / √n)\n",
        "\n",
        "Where:\n",
        "- t: t-statistic\n",
        "- x: Sample mean\n",
        "- μ: Hypothesized population mean\n",
        "- s: Sample standard deviation\n",
        "- n: Sample size\n",
        "\n",
        "In this formula, (x - μ) represents the difference between the sample mean and the hypothesized population mean. The term (s / √n) is the standard error of the sample mean, where s is the sample standard deviation and √n is the square root of the sample size.\n",
        "\n",
        "The t-statistic measures the number of standard errors the sample mean is away from the hypothesized population mean. It indicates how large the difference between the observed sample mean and the hypothesized mean is relative to the variability in the sample data.\n",
        "\n",
        "The t-statistic follows a t-distribution with degrees of freedom (df) equal to (n - 1), where n is the sample size. By comparing the calculated t-statistic to the t-distribution, hypothesis tests can be conducted to assess the statistical significance of the observed difference or relationship.\n",
        "\n",
        "In hypothesis testing, the t-statistic is used to calculate the p-value, which indicates the probability of observing the sample data or more extreme results under the assumption that the null hypothesis is true. The t-statistic and the corresponding p-value help determine whether the observed difference or relationship is statistically significant and whether the null hypothesis should be rejected or not."
      ],
      "metadata": {
        "id": "1q_bglGcheZM"
      }
    },
    {
      "cell_type": "markdown",
      "source": [
        "**Q13. A coffee shop owner wants to estimate the average daily revenue for their shop. They take a random sample of 50 days and find the sample mean revenue to be $500 with a standard deviation of $50.Estimate the population mean revenue with a 95% confidence interval.**"
      ],
      "metadata": {
        "id": "0bLQFN_VdL0X"
      }
    },
    {
      "cell_type": "markdown",
      "source": [
        "To estimate the population mean revenue with a 95% confidence interval, we can use the sample mean, sample standard deviation, and the appropriate critical value from the t-distribution. Here's how to calculate it:\n",
        "\n",
        "Given:\n",
        "Sample mean (x̄) = 500\n",
        "Sample standard deviation (s) = 50\n",
        "Sample size (n) = 50\n",
        "Confidence level = 95%\n",
        "\n",
        "Step 1: Determine the critical value\n",
        "Since the sample size is relatively small (n < 30) and the population standard deviation is unknown, we use the t-distribution. With a 95% confidence level and 50 degrees of freedom (n - 1), the critical value can be found using a t-table or a statistical calculator. For a two-tailed test, the critical value is approximately 2.009.\n",
        "\n",
        "Step 2: Calculate the standard error\n",
        "The standard error (SE) represents the standard deviation of the sampling distribution of the sample mean. It is calculated using the formula:\n",
        "\n",
        "SE = s / √n\n",
        "\n",
        "Substituting the values:\n",
        "SE = 50 / √50 = 7.071\n",
        "\n",
        "Step 3: Calculate the margin of error\n",
        "The margin of error (ME) determines the range of values within which the population mean is likely to fall. It is calculated by multiplying the critical value by the standard error:\n",
        "\n",
        "ME = Critical value * SE\n",
        "\n",
        "Substituting the values:\n",
        "ME = 2.009 * 7.071 = 14.213\n",
        "\n",
        "Step 4: Calculate the confidence interval\n",
        "The confidence interval is calculated by subtracting and adding the margin of error to the sample mean:\n",
        "\n",
        "Confidence interval = Sample mean ± Margin of error\n",
        "\n",
        "Substituting the values:\n",
        "Confidence interval = 500 ± 14.213\n",
        "\n",
        "So, the 95% confidence interval for the population mean revenue is (485.787, 514.213). This means that we can be 95% confident that the true average daily revenue for the coffee shop falls within this interval based on the given sample data."
      ],
      "metadata": {
        "id": "xRi0KhvLhhe6"
      }
    },
    {
      "cell_type": "markdown",
      "source": [
        "**Q14. A researcher hypothesizes that a new drug will decrease blood pressure by 10 mmHg. They conduct a clinical trial with 100 patients and find that the sample mean decrease in blood pressure is 8 mmHg with a standard deviation of 3 mmHg. Test the hypothesis with a significance level of 0.05.**"
      ],
      "metadata": {
        "id": "p8muuDWqdLtW"
      }
    },
    {
      "cell_type": "markdown",
      "source": [
        "To test the hypothesis that the new drug decreases blood pressure by 10 mmHg, we can conduct a one-sample t-test. Here's how to perform the hypothesis test:\n",
        "\n",
        "Given:\n",
        "Hypothesized mean decrease in blood pressure (μ): 10 mmHg\n",
        "Sample mean decrease in blood pressure (x̄): 8 mmHg\n",
        "Sample standard deviation (s): 3 mmHg\n",
        "Sample size (n): 100\n",
        "Significance level (α): 0.05\n",
        "\n",
        "Step 1: Formulate the null and alternative hypotheses:\n",
        "Null Hypothesis (H0): The mean decrease in blood pressure is equal to or greater than 10 mmHg. (μ ≥ 10)\n",
        "Alternative Hypothesis (Ha): The mean decrease in blood pressure is less than 10 mmHg. (μ < 10)\n",
        "\n",
        "Step 2: Set the significance level:\n",
        "The significance level (α) is given as 0.05, which represents the maximum acceptable probability of Type I error (rejecting the null hypothesis when it is true).\n",
        "\n",
        "Step 3: Calculate the test statistic:\n",
        "The test statistic for a one-sample t-test is calculated using the formula:\n",
        "\n",
        "t = (x̄ - μ) / (s / √n)\n",
        "\n",
        "Substituting the given values:\n",
        "t = (8 - 10) / (3 / √100) = -2 / 0.3 ≈ -6.667\n",
        "\n",
        "Step 4: Determine the critical value:\n",
        "Since the alternative hypothesis is one-sided (μ < 10), we need to find the critical value from the t-distribution that corresponds to the desired significance level and the degrees of freedom (n - 1 = 100 - 1 = 99). For a one-sided test with a significance level of 0.05, the critical value is approximately -1.660.\n",
        "\n",
        "Step 5: Compare the test statistic with the critical value:\n",
        "Since the test statistic (-6.667) is less than the critical value (-1.660), we have enough evidence to reject the null hypothesis.\n",
        "\n",
        "Step 6: Calculate the p-value:\n",
        "The p-value is the probability of observing a test statistic as extreme as the one calculated, assuming the null hypothesis is true. For a one-sided test, the p-value can be calculated as the area under the t-distribution curve to the left of the test statistic.\n",
        "\n",
        "Using statistical software or a t-distribution table, we find that the p-value is very small, typically less than 0.001.\n",
        "\n",
        "Step 7: Make a conclusion:\n",
        "Based on the obtained p-value being less than the significance level (0.001 < 0.05), we reject the null hypothesis. There is sufficient evidence to conclude that the new drug decreases blood pressure by less than 10 mmHg.\n",
        "\n",
        "Therefore, the clinical trial suggests that the new drug may have a smaller effect on blood pressure than initially hypothesized."
      ],
      "metadata": {
        "id": "I3GCrV3thj9I"
      }
    },
    {
      "cell_type": "markdown",
      "source": [
        "**Q15. An electronics company produces a certain type of product with a mean weight of 5 pounds and a standard deviation of 0.5 pounds. A random sample of 25 products is taken, and the sample mean weight is found to be 4.8 pounds. Test the hypothesis that the true mean weight of the products is less than 5\n",
        "pounds with a significance level of 0.01.**"
      ],
      "metadata": {
        "id": "8Tob9Kj2dLoC"
      }
    },
    {
      "cell_type": "markdown",
      "source": [
        "To test the hypothesis that the true mean weight of the products is less than 5 pounds, we can conduct a one-sample t-test. Here's how to perform the hypothesis test:\n",
        "\n",
        "Given:\n",
        "Population mean weight (μ): 5 pounds\n",
        "Population standard deviation (σ): 0.5 pounds\n",
        "Sample size (n): 25\n",
        "Sample mean weight (x̄): 4.8 pounds\n",
        "Significance level (α): 0.01\n",
        "\n",
        "Step 1: Formulate the null and alternative hypotheses:\n",
        "Null Hypothesis (H0): The true mean weight is equal to or greater than 5 pounds. (μ ≥ 5)\n",
        "Alternative Hypothesis (Ha): The true mean weight is less than 5 pounds. (μ < 5)\n",
        "\n",
        "Step 2: Set the significance level:\n",
        "The significance level (α) is given as 0.01, which represents the maximum acceptable probability of Type I error (rejecting the null hypothesis when it is true).\n",
        "\n",
        "Step 3: Calculate the test statistic:\n",
        "The test statistic for a one-sample t-test is calculated using the formula:\n",
        "\n",
        "t = (x̄ - μ) / (σ / √n)\n",
        "\n",
        "Substituting the given values:\n",
        "t = (4.8 - 5) / (0.5 / √25) = -0.2 / 0.1 = -2\n",
        "\n",
        "Step 4: Determine the critical value:\n",
        "Since the alternative hypothesis is one-sided (μ < 5), we need to find the critical value from the t-distribution that corresponds to the desired significance level and the degrees of freedom (n - 1 = 25 - 1 = 24). For a one-sided test with a significance level of 0.01, the critical value is approximately -2.492.\n",
        "\n",
        "Step 5: Compare the test statistic with the critical value:\n",
        "Since the test statistic (-2) is less than the critical value (-2.492), we have enough evidence to reject the null hypothesis.\n",
        "\n",
        "Step 6: Calculate the p-value:\n",
        "The p-value is the probability of observing a test statistic as extreme as the one calculated, assuming the null hypothesis is true. For a one-sided test, the p-value can be calculated as the area under the t-distribution curve to the left of the test statistic.\n",
        "\n",
        "Using statistical software or a t-distribution table, we find that the p-value is very small, typically less than 0.01.\n",
        "\n",
        "Step 7: Make a conclusion:\n",
        "Based on the obtained p-value being less than the significance level (p < 0.01), we reject the null hypothesis. There is sufficient evidence to conclude that the true mean weight of the products is less than 5 pounds.\n",
        "\n",
        "Therefore, the statistical analysis suggests that the sample provides evidence that the mean weight of the products is less than the claimed value of 5 pounds."
      ],
      "metadata": {
        "id": "4rNHtwF2hnJ_"
      }
    },
    {
      "cell_type": "markdown",
      "source": [
        "**Q16. Two groups of students are given different study materials to prepare for a test. The first group (n1 = 30) has a mean score of 80 with a standard eviation of 10, and the second group (n2 = 40) has a mean score of 75 with a standard deviation of 8. Test the hypothesis that the population means for the two groups are equal with a significance level of 0.01.**"
      ],
      "metadata": {
        "id": "IbydeYl1dLii"
      }
    },
    {
      "cell_type": "markdown",
      "source": [
        "To test the hypothesis that the population means for the two groups are equal, we can conduct a two-sample t-test for independent samples. Here's how to perform the hypothesis test:\n",
        "\n",
        "Given:\n",
        "Group 1: n1 = 30, x̄1 = 80, s1 = 10 (sample mean and standard deviation)\n",
        "Group 2: n2 = 40, x̄2 = 75, s2 = 8 (sample mean and standard deviation)\n",
        "Significance level (α): 0.01\n",
        "\n",
        "Step 1: Formulate the null and alternative hypotheses:\n",
        "Null Hypothesis (H0): The population means of the two groups are equal. (μ1 = μ2)\n",
        "Alternative Hypothesis (Ha): The population means of the two groups are not equal. (μ1 ≠ μ2)\n",
        "\n",
        "Step 2: Set the significance level:\n",
        "The significance level (α) is given as 0.01, which represents the maximum acceptable probability of Type I error (rejecting the null hypothesis when it is true).\n",
        "\n",
        "Step 3: Calculate the test statistic:\n",
        "The two-sample t-test statistic is calculated using the formula:\n",
        "\n",
        "t = (x̄1 - x̄2) / √((s1^2 / n1) + (s2^2 / n2))\n",
        "\n",
        "Substituting the given values:\n",
        "t = (80 - 75) / √((10^2 / 30) + (8^2 / 40)) = 5 / √(3.333 + 1.6) ≈ 5 / √4.933 ≈ 5 / 2.221 ≈ 2.252\n",
        "\n",
        "Step 4: Determine the critical value:\n",
        "Since the alternative hypothesis is two-sided (μ1 ≠ μ2), we need to find the critical value from the t-distribution that corresponds to the desired significance level and degrees of freedom. The degrees of freedom (df) are calculated using the formula:\n",
        "\n",
        "df = ((s1^2 / n1 + s2^2 / n2)^2) / (((s1^2 / n1)^2 / (n1 - 1)) + ((s2^2 / n2)^2 / (n2 - 1)))\n",
        "\n",
        "Substituting the given values:\n",
        "df = ((10^2 / 30 + 8^2 / 40)^2) / (((10^2 / 30)^2 / (30 - 1)) + ((8^2 / 40)^2 / (40 - 1))) ≈ 68.264\n",
        "\n",
        "For a two-sided test with a significance level of 0.01 and degrees of freedom of 68.264, the critical value is approximately ±2.623.\n",
        "\n",
        "Step 5: Compare the test statistic with the critical value:\n",
        "Since the test statistic (2.252) is less than the critical value (±2.623), we fail to reject the null hypothesis.\n",
        "\n",
        "Step 6: Calculate the p-value:\n",
        "The p-value is the probability of observing a test statistic as extreme as the one calculated, assuming the null hypothesis is true. For a two-sided test, the p-value can be calculated as twice the area under the t-distribution curve beyond the absolute value of the test statistic.\n",
        "\n",
        "Using statistical software or a t-distribution table, we find that the p-value is typically larger than 0.01.\n",
        "\n",
        "Step 7: Make a conclusion:\n",
        "Based on the obtained p-value being greater than the significance level (p > 0.01), we fail to reject the null hypothesis. There is insufficient evidence to conclude that the population means of the two groups are different.\n",
        "\n",
        "Therefore, based on the given sample data, we do not have enough evidence to support the hypothesis that the population means for the two groups are different."
      ],
      "metadata": {
        "id": "v1DJsFr9h_9Z"
      }
    },
    {
      "cell_type": "markdown",
      "source": [
        "**Q17. A marketing company wants to estimate the average number of ads watched by viewers during a TV program. They take a random sample of 50 viewers and find that the sample mean is 4 with a standard deviation of 1.5. Estimate the population mean with a 99% confidence interval.**"
      ],
      "metadata": {
        "id": "8qkaiplydLc3"
      }
    },
    {
      "cell_type": "markdown",
      "source": [
        "To estimate the population mean with a 99% confidence interval, we can use the sample mean, sample standard deviation, and the appropriate critical value from the t-distribution. Here's how to calculate it:\n",
        "\n",
        "Given:\n",
        "Sample mean (x̄): 4\n",
        "Sample standard deviation (s): 1.5\n",
        "Sample size (n): 50\n",
        "Confidence level: 99%\n",
        "\n",
        "Step 1: Determine the critical value\n",
        "Since the sample size is relatively small (n < 30) and the population standard deviation is unknown, we use the t-distribution. With a 99% confidence level and 49 degrees of freedom (n - 1), the critical value can be found using a t-table or a statistical calculator. For a two-tailed test, the critical value is approximately ±2.678.\n",
        "\n",
        "Step 2: Calculate the standard error\n",
        "The standard error (SE) represents the standard deviation of the sampling distribution of the sample mean. It is calculated using the formula:\n",
        "\n",
        "SE = s / √n\n",
        "\n",
        "Substituting the given values:\n",
        "SE = 1.5 / √50 ≈ 0.2121\n",
        "\n",
        "Step 3: Calculate the margin of error\n",
        "The margin of error (ME) determines the range of values within which the population mean is likely to fall. It is calculated by multiplying the critical value by the standard error:\n",
        "\n",
        "ME = Critical value * SE\n",
        "\n",
        "Substituting the values:\n",
        "ME = 2.678 * 0.2121 ≈ 0.5673\n",
        "\n",
        "Step 4: Calculate the confidence interval\n",
        "The confidence interval is calculated by subtracting and adding the margin of error to the sample mean:\n",
        "\n",
        "Confidence interval = Sample mean ± Margin of error\n",
        "\n",
        "Substituting the values:\n",
        "Confidence interval = 4 ± 0.5673\n",
        "\n",
        "So, the 99% confidence interval for the population mean number of ads watched by viewers during the TV program is approximately (3.4327, 4.5673). This means that we can be 99% confident that the true average number of ads watched falls within this interval based on the given sample data."
      ],
      "metadata": {
        "id": "acTjALjpiD04"
      }
    }
  ]
}