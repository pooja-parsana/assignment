{
  "nbformat": 4,
  "nbformat_minor": 0,
  "metadata": {
    "colab": {
      "provenance": []
    },
    "kernelspec": {
      "name": "python3",
      "display_name": "Python 3"
    },
    "language_info": {
      "name": "python"
    }
  },
  "cells": [
    {
      "cell_type": "markdown",
      "source": [
        "**Q1. Calculate the 95% confidence interval for a sample of data with a mean of 50 and a standard deviation of 5 using Python. Interpret the results.**"
      ],
      "metadata": {
        "id": "-8lpRicggUh5"
      }
    },
    {
      "cell_type": "code",
      "source": [
        "import scipy.stats as stats\n",
        "\n",
        "mean = 50\n",
        "std_dev = 5\n",
        "sample_size = 100  # assuming a sample size of 100\n",
        "\n",
        "confidence_level = 0.95\n",
        "alpha = 1 - confidence_level\n",
        "\n",
        "z_score = stats.norm.ppf(1 - alpha / 2)  # Calculate the Z-score\n",
        "\n",
        "margin_of_error = z_score * (std_dev / (sample_size ** 0.5))  # Calculate the margin of error\n",
        "\n",
        "lower_bound = mean - margin_of_error\n",
        "upper_bound = mean + margin_of_error\n",
        "\n",
        "confidence_interval = (lower_bound, upper_bound)\n",
        "\n",
        "print(\"95% Confidence Interval:\", confidence_interval)\n"
      ],
      "metadata": {
        "colab": {
          "base_uri": "https://localhost:8080/"
        },
        "id": "cp7EkWdijaJI",
        "outputId": "9cfefa56-86c2-4335-80e9-5322a1371896"
      },
      "execution_count": 1,
      "outputs": [
        {
          "output_type": "stream",
          "name": "stdout",
          "text": [
            "95% Confidence Interval: (49.02001800772997, 50.97998199227003)\n"
          ]
        }
      ]
    },
    {
      "cell_type": "markdown",
      "source": [
        "**Q2. Conduct a chi-square goodness of fit test to determine if the distribution of colors of M&Ms in a bag matches the expected distribution of 20% blue, 20% orange, 20% green, 10% yellow, 10% red, and 20% brown. Use Python to perform the test with a significance level of 0.05.**"
      ],
      "metadata": {
        "id": "PVZWNYktgUcZ"
      }
    },
    {
      "cell_type": "code",
      "source": [
        "import numpy as np\n",
        "from scipy.stats import chisquare\n",
        "\n",
        "observed_freq = np.array([35, 30, 25, 15, 15, 30])  # observed frequencies of each color\n",
        "expected_freq = np.array([0.2, 0.2, 0.2, 0.1, 0.1, 0.2]) * np.sum(observed_freq)  # expected frequencies\n",
        "\n",
        "# Perform the chi-square goodness of fit test\n",
        "chi2, p_value = chisquare(f_obs=observed_freq, f_exp=expected_freq)\n",
        "\n",
        "# Compare p-value with significance level\n",
        "significance_level = 0.05\n",
        "if p_value < significance_level:\n",
        "    print(\"Reject the null hypothesis\")\n",
        "else:\n",
        "    print(\"Fail to reject the null hypothesis\")\n",
        "\n",
        "print(\"Chi-square statistic:\", chi2)\n",
        "print(\"p-value:\", p_value)\n"
      ],
      "metadata": {
        "colab": {
          "base_uri": "https://localhost:8080/"
        },
        "id": "-8bsXrysjeVF",
        "outputId": "66a54a96-88fb-408a-8d80-ef7cc8983a6f"
      },
      "execution_count": 2,
      "outputs": [
        {
          "output_type": "stream",
          "name": "stdout",
          "text": [
            "Fail to reject the null hypothesis\n",
            "Chi-square statistic: 1.6666666666666667\n",
            "p-value: 0.8930721407359578\n"
          ]
        }
      ]
    },
    {
      "cell_type": "markdown",
      "source": [
        "**Q3. Use Python to calculate the chi-square statistic and p-value for a contingency table with the following data:**"
      ],
      "metadata": {
        "id": "YhxR28RUgUWp"
      }
    },
    {
      "cell_type": "code",
      "source": [
        "import numpy as np\n",
        "from scipy.stats import chi2_contingency\n",
        "\n",
        "observed_data = np.array([[20, 15], [10, 25], [15, 20]])\n",
        "\n",
        "# Perform the chi-square test for independence\n",
        "chi2, p_value, dof, expected_data = chi2_contingency(observed_data)\n",
        "\n",
        "# Compare p-value with significance level\n",
        "significance_level = 0.05\n",
        "if p_value < significance_level:\n",
        "    print(\"Reject the null hypothesis\")\n",
        "else:\n",
        "    print(\"Fail to reject the null hypothesis\")\n",
        "\n",
        "print(\"Chi-square statistic:\", chi2)\n",
        "print(\"p-value:\", p_value)\n",
        "print(\"Degrees of freedom:\", dof)\n",
        "print(\"Expected frequencies:\")\n",
        "print(expected_data)\n"
      ],
      "metadata": {
        "colab": {
          "base_uri": "https://localhost:8080/"
        },
        "id": "AJciaqikjg7m",
        "outputId": "3705fa43-7fe6-4631-c1a9-b7a87ab36ebf"
      },
      "execution_count": 3,
      "outputs": [
        {
          "output_type": "stream",
          "name": "stdout",
          "text": [
            "Fail to reject the null hypothesis\n",
            "Chi-square statistic: 5.833333333333334\n",
            "p-value: 0.05411376622282158\n",
            "Degrees of freedom: 2\n",
            "Expected frequencies:\n",
            "[[15. 20.]\n",
            " [15. 20.]\n",
            " [15. 20.]]\n"
          ]
        }
      ]
    },
    {
      "cell_type": "markdown",
      "source": [
        "Interpreting the results:\n",
        "The chi-square test for independence assesses whether there is a significant association between two categorical variables.\n",
        "\n",
        "In this case, the null hypothesis is that there is no association between the outcomes and the groups. The alternative hypothesis is that there is an association.\n",
        "\n",
        "If the p-value is less than the significance level (0.05 in this case), we reject the null hypothesis, indicating that there is evidence of a significant association between the outcomes and the groups.\n",
        "\n",
        "The chi-square statistic measures the overall discrepancy between the observed and expected frequencies. The higher the chi-square value, the greater the difference between the observed and expected frequencies.\n",
        "\n",
        "The degrees of freedom (dof) represent the number of categories minus one in each variable. In this example, dof would be (3-1) * (2-1) = 2.\n",
        "\n",
        "The expected frequencies are the frequencies that would be expected under the assumption of independence between the outcomes and the groups. If the observed frequencies are close to the expected frequencies, it suggests that the two variables are independent."
      ],
      "metadata": {
        "id": "g8Aq8enkjlyk"
      }
    },
    {
      "cell_type": "markdown",
      "source": [
        "**Q4. A study of the prevalence of smoking in a population of 500 individuals found that 60 individuals smoked. Use Python to calculate the 95% confidence interval for the true proportion of individuals in the population who smoke.**"
      ],
      "metadata": {
        "id": "f3a8hIICgUR5"
      }
    },
    {
      "cell_type": "code",
      "source": [
        "import statsmodels.stats.proportion as proportion\n",
        "\n",
        "sample_size = 500\n",
        "smokers = 60\n",
        "\n",
        "# Calculate the confidence interval\n",
        "confidence_interval = proportion.proportion_confint(smokers, sample_size, alpha=0.05, method='normal')\n",
        "\n",
        "print(\"95% Confidence Interval:\", confidence_interval)\n"
      ],
      "metadata": {
        "colab": {
          "base_uri": "https://localhost:8080/"
        },
        "id": "WgK4Ady_jsOl",
        "outputId": "077b41c2-957a-48de-8d04-49146f53f7f4"
      },
      "execution_count": 4,
      "outputs": [
        {
          "output_type": "stream",
          "name": "stdout",
          "text": [
            "95% Confidence Interval: (0.09151638887130706, 0.14848361112869293)\n"
          ]
        }
      ]
    },
    {
      "cell_type": "markdown",
      "source": [
        "**Q5. Calculate the 90% confidence int erval for a sample of data with a mean of 75 and a standard deviation of 12 using Python. Interpret the results.**"
      ],
      "metadata": {
        "id": "QXxnfA66gUNo"
      }
    },
    {
      "cell_type": "code",
      "source": [
        "import scipy.stats as stats\n",
        "\n",
        "mean = 75\n",
        "std_dev = 12\n",
        "sample_size = 100  # assuming a sample size of 100\n",
        "\n",
        "confidence_level = 0.90\n",
        "alpha = 1 - confidence_level\n",
        "\n",
        "z_score = stats.norm.ppf(1 - alpha / 2)  # Calculate the Z-score\n",
        "\n",
        "margin_of_error = z_score * (std_dev / (sample_size ** 0.5))  # Calculate the margin of error\n",
        "\n",
        "lower_bound = mean - margin_of_error\n",
        "upper_bound = mean + margin_of_error\n",
        "\n",
        "confidence_interval = (lower_bound, upper_bound)\n",
        "\n",
        "print(\"90% Confidence Interval:\", confidence_interval)\n"
      ],
      "metadata": {
        "colab": {
          "base_uri": "https://localhost:8080/"
        },
        "id": "SZqsOQ9uju28",
        "outputId": "35ddde1e-791f-4a6c-b0f3-356f0cc568c8"
      },
      "execution_count": 5,
      "outputs": [
        {
          "output_type": "stream",
          "name": "stdout",
          "text": [
            "90% Confidence Interval: (73.02617564765823, 76.97382435234177)\n"
          ]
        }
      ]
    },
    {
      "cell_type": "markdown",
      "source": [
        "**Q6. Use Python to plot the chi-square distribution with 10 degrees of freedom. Label the axes and shade the area corresponding to a chi-square statistic of 15.**"
      ],
      "metadata": {
        "id": "uCAbAaFRgUJX"
      }
    },
    {
      "cell_type": "code",
      "source": [
        "import numpy as np\n",
        "import matplotlib.pyplot as plt\n",
        "import scipy.stats as stats\n",
        "\n",
        "degrees_of_freedom = 10\n",
        "\n",
        "# Generate x values from 0 to 30 (or any appropriate range)\n",
        "x = np.linspace(0, 30, 500)\n",
        "\n",
        "# Calculate the chi-square probability density function (pdf) values\n",
        "y = stats.chi2.pdf(x, degrees_of_freedom)\n",
        "\n",
        "# Create the plot\n",
        "fig, ax = plt.subplots()\n",
        "\n",
        "# Plot the chi-square distribution\n",
        "ax.plot(x, y, label=\"Chi-square Distribution\")\n",
        "\n",
        "# Shade the area corresponding to chi-square statistic of 15\n",
        "x_shade = np.linspace(15, 30, 500)\n",
        "y_shade = stats.chi2.pdf(x_shade, degrees_of_freedom)\n",
        "ax.fill_between(x_shade, y_shade, color='gray', alpha=0.5)\n",
        "\n",
        "# Label the axes\n",
        "ax.set_xlabel(\"Chi-square Statistic\")\n",
        "ax.set_ylabel(\"Probability Density\")\n",
        "\n",
        "# Set plot title\n",
        "ax.set_title(\"Chi-square Distribution with 10 Degrees of Freedom\")\n",
        "\n",
        "# Add a legend\n",
        "ax.legend()\n",
        "\n",
        "# Show the plot\n",
        "plt.show()\n"
      ],
      "metadata": {
        "colab": {
          "base_uri": "https://localhost:8080/",
          "height": 472
        },
        "id": "TZ83hRXNjxTk",
        "outputId": "c011b01c-e48a-4c05-ece2-a96d5a40d469"
      },
      "execution_count": 6,
      "outputs": [
        {
          "output_type": "display_data",
          "data": {
            "text/plain": [
              "<Figure size 640x480 with 1 Axes>"
            ],
            "image/png": "[encoded data removed]"
          },
          "metadata": {}
        }
      ]
    },
    {
      "cell_type": "markdown",
      "source": [
        "**Q7. A random sample of 1000 people was asked if they preferred Coke or Pepsi. Of the sample, 520 preferred Coke. Calculate a 99% confidence interval for the true proportion of people in the population who prefer Coke.**"
      ],
      "metadata": {
        "id": "PZztWezegUFQ"
      }
    },
    {
      "cell_type": "code",
      "source": [
        "import statsmodels.stats.proportion as proportion\n",
        "\n",
        "sample_size = 1000\n",
        "coke_preferred = 520\n",
        "\n",
        "# Calculate the confidence interval\n",
        "confidence_interval = proportion.proportion_confint(coke_preferred, sample_size, alpha=0.01, method='normal')\n",
        "\n",
        "print(\"99% Confidence Interval:\", confidence_interval)\n"
      ],
      "metadata": {
        "colab": {
          "base_uri": "https://localhost:8080/"
        },
        "id": "HEZg9Nv-jzys",
        "outputId": "433138c5-bca3-4b05-cd7a-8cbb2f3584a5"
      },
      "execution_count": 7,
      "outputs": [
        {
          "output_type": "stream",
          "name": "stdout",
          "text": [
            "99% Confidence Interval: (0.4793051576779699, 0.5606948423220302)\n"
          ]
        }
      ]
    },
    {
      "cell_type": "markdown",
      "source": [
        "**Q8. A researcher hypothesizes that a coin is biased towards tails. They flip the coin 100 times and observe 45 tails. Conduct a chi-square goodness of fit test to determine if the observed frequencies match the expected frequencies of a fair coin. Use a significance level of 0.05.**"
      ],
      "metadata": {
        "id": "BEle8SX1gUAq"
      }
    },
    {
      "cell_type": "code",
      "source": [
        "import numpy as np\n",
        "from scipy.stats import chisquare\n",
        "\n",
        "observed_freq = np.array([45, 55])  # observed frequencies of tails and heads\n",
        "expected_freq = np.array([0.5, 0.5]) * np.sum(observed_freq)  # expected frequencies assuming a fair coin\n",
        "\n",
        "# Perform the chi-square goodness of fit test\n",
        "chi2, p_value = chisquare(f_obs=observed_freq, f_exp=expected_freq)\n",
        "\n",
        "# Compare p-value with significance level\n",
        "significance_level = 0.05\n",
        "if p_value < significance_level:\n",
        "    print(\"Reject the null hypothesis\")\n",
        "else:\n",
        "    print(\"Fail to reject the null hypothesis\")\n",
        "\n",
        "print(\"Chi-square statistic:\", chi2)\n",
        "print(\"p-value:\", p_value)\n"
      ],
      "metadata": {
        "colab": {
          "base_uri": "https://localhost:8080/"
        },
        "id": "eDh3clJ3j2AT",
        "outputId": "783aa7f4-c89e-4533-e773-f641c0d60025"
      },
      "execution_count": 8,
      "outputs": [
        {
          "output_type": "stream",
          "name": "stdout",
          "text": [
            "Fail to reject the null hypothesis\n",
            "Chi-square statistic: 1.0\n",
            "p-value: 0.31731050786291115\n"
          ]
        }
      ]
    },
    {
      "cell_type": "markdown",
      "source": [
        "Interpreting the results:\n",
        "The chi-square goodness of fit test assesses whether the observed frequencies of tails and heads significantly deviate from the expected frequencies of a fair coin.\n",
        "\n",
        "In this case, the null hypothesis is that the observed frequencies match the expected frequencies of a fair coin. The alternative hypothesis is that the observed frequencies differ significantly from the expected frequencies.\n",
        "\n",
        "If the p-value is less than the significance level (0.05 in this case), we reject the null hypothesis, indicating that there is evidence of a significant difference between the observed and expected frequencies.\n",
        "\n",
        "The chi-square statistic measures the overall discrepancy between the observed and expected frequencies. The higher the chi-square value, the greater the difference between the observed and expected frequencies.\n",
        "\n",
        "Note: Adjust the observed frequencies and expected frequencies arrays accordingly if your data has different values or order (e.g., heads first, then tails)."
      ],
      "metadata": {
        "id": "ZGCUYJghj8nD"
      }
    },
    {
      "cell_type": "markdown",
      "source": [
        "**Q9. A study was conducted to determine if there is an association between smoking status (smoker or non-smoker) and lung cancer diagnosis (yes or no). The results are shown in the contingency table below. Conduct a chi-square test for independence to determine if there is a significant association between\n",
        "smoking status and lung cancer diagnosis.Use a significance level of 0.05.**"
      ],
      "metadata": {
        "id": "KrYMfXSsgT85"
      }
    },
    {
      "cell_type": "code",
      "source": [
        "import numpy as np\n",
        "from scipy.stats import chi2_contingency\n",
        "\n",
        "observed_data = np.array([[60, 140], [30, 170]])\n",
        "\n",
        "# Perform the chi-square test for independence\n",
        "chi2, p_value, dof, expected_data = chi2_contingency(observed_data)\n",
        "\n",
        "# Compare p-value with significance level\n",
        "significance_level = 0.05\n",
        "if p_value < significance_level:\n",
        "    print(\"Reject the null hypothesis\")\n",
        "else:\n",
        "    print(\"Fail to reject the null hypothesis\")\n",
        "\n",
        "print(\"Chi-square statistic:\", chi2)\n",
        "print(\"p-value:\", p_value)\n",
        "print(\"Degrees of freedom:\", dof)\n",
        "print(\"Expected frequencies:\")\n",
        "print(expected_data)\n"
      ],
      "metadata": {
        "colab": {
          "base_uri": "https://localhost:8080/"
        },
        "id": "PeJEPJ71j_nj",
        "outputId": "95e48e90-55e4-432c-e9e5-7f48ab579487"
      },
      "execution_count": 9,
      "outputs": [
        {
          "output_type": "stream",
          "name": "stdout",
          "text": [
            "Reject the null hypothesis\n",
            "Chi-square statistic: 12.057347670250895\n",
            "p-value: 0.0005158863863703744\n",
            "Degrees of freedom: 1\n",
            "Expected frequencies:\n",
            "[[ 45. 155.]\n",
            " [ 45. 155.]]\n"
          ]
        }
      ]
    },
    {
      "cell_type": "markdown",
      "source": [
        "Interpreting the results:\n",
        "The chi-square test for independence assesses whether there is a significant association between two categorical variables, smoking status (smoker or non-smoker) and lung cancer diagnosis (yes or no).\n",
        "\n",
        "In this case, the null hypothesis is that there is no association between smoking status and lung cancer diagnosis. The alternative hypothesis is that there is an association.\n",
        "\n",
        "If the p-value is less than the significance level (0.05 in this case), we reject the null hypothesis, indicating that there is evidence of a significant association between smoking status and lung cancer diagnosis.\n",
        "\n",
        "The chi-square statistic measures the overall discrepancy between the observed and expected frequencies. The higher the chi-square value, the greater the difference between the observed and expected frequencies.\n",
        "\n",
        "The degrees of freedom (dof) represent the number of categories minus one in each variable. In this example, dof would be (2-1) * (2-1) = 1.\n",
        "\n",
        "The expected frequencies are the frequencies that would be expected under the assumption of independence between smoking status and lung cancer diagnosis. If the observed frequencies are close to the expected frequencies, it suggests that the two variables are independent."
      ],
      "metadata": {
        "id": "EGSnfnU1kDH7"
      }
    },
    {
      "cell_type": "markdown",
      "source": [
        "**Q10. A study was conducted to determine if the proportion of people who prefer milk chocolate, dark chocolate, or white chocolate is different in the U.S. versus the U.K. A random sample of 500 people from the U.S. and a random sample of 500 people from the U.K. were surveyed. The results are shown in thecontingency table below. Conduct a chi-square test for independence to\n",
        "determine if there is a significant association between chocolate preference and country of origin.t**"
      ],
      "metadata": {
        "id": "3XLPJRimgT46"
      }
    },
    {
      "cell_type": "code",
      "source": [
        "import numpy as np\n",
        "from scipy.stats import chi2_contingency\n",
        "\n",
        "observed_data = np.array([[200, 150, 150], [225, 175, 100]])\n",
        "\n",
        "# Perform the chi-square test for independence\n",
        "chi2, p_value, dof, expected_data = chi2_contingency(observed_data)\n",
        "\n",
        "# Compare p-value with significance level\n",
        "significance_level = 0.01\n",
        "if p_value < significance_level:\n",
        "    print(\"Reject the null hypothesis\")\n",
        "else:\n",
        "    print(\"Fail to reject the null hypothesis\")\n",
        "\n",
        "print(\"Chi-square statistic:\", chi2)\n",
        "print(\"p-value:\", p_value)\n",
        "print(\"Degrees of freedom:\", dof)\n",
        "print(\"Expected frequencies:\")\n",
        "print(expected_data)\n"
      ],
      "metadata": {
        "colab": {
          "base_uri": "https://localhost:8080/"
        },
        "id": "iOANSxdWkPP6",
        "outputId": "72bfe241-9bb4-4c21-e7d2-c3e816254bb3"
      },
      "execution_count": 10,
      "outputs": [
        {
          "output_type": "stream",
          "name": "stdout",
          "text": [
            "Reject the null hypothesis\n",
            "Chi-square statistic: 13.393665158371041\n",
            "p-value: 0.0012348168997745918\n",
            "Degrees of freedom: 2\n",
            "Expected frequencies:\n",
            "[[212.5 162.5 125. ]\n",
            " [212.5 162.5 125. ]]\n"
          ]
        }
      ]
    },
    {
      "cell_type": "markdown",
      "source": [
        "The chi-square test for independence assesses whether there is a significant association between two categorical variables, chocolate preference and country of origin (U.S. and U.K.).\n",
        "\n",
        "In this case, the null hypothesis is that there is no association between chocolate preference and country of origin. The alternative hypothesis is that there is an association.\n",
        "\n",
        "If the p-value is less than the significance level (0.01 in this case), we reject the null hypothesis, indicating that there is evidence of a significant association between chocolate preference and country of origin.\n",
        "\n",
        "The chi-square statistic measures the overall discrepancy between the observed and expected frequencies. The higher the chi-square value, the greater the difference between the observed and expected frequencies.\n",
        "\n",
        "The degrees of freedom (dof) represent the number of categories minus one in each variable. In this example, dof would be (2-1) * (3-1) = 2.\n",
        "\n",
        "The expected frequencies are the frequencies that would be expected under the assumption of independence between chocolate preference and country of origin. If the observed frequencies are close to the expected frequencies, it suggests that the two variables are independent."
      ],
      "metadata": {
        "id": "0Tuxf7XykSnk"
      }
    },
    {
      "cell_type": "markdown",
      "source": [
        "**Q11. A random sample of 30 people was selected from a population with an unknown mean and standard deviation. The sample mean was found to be 72 and the sample standard deviation was found to be 10. Conduct a hypothesis test to determine if the population mean is significantly different from 70. Use a\n",
        "significance level of 0.05.**"
      ],
      "metadata": {
        "id": "5LZtbNNAgT0q"
      }
    },
    {
      "cell_type": "code",
      "source": [
        "import numpy as np\n",
        "from scipy.stats import t\n",
        "\n",
        "sample_mean = 72\n",
        "sample_std_dev = 10\n",
        "sample_size = 30\n",
        "population_mean = 70\n",
        "\n",
        "# Calculate the t-statistic\n",
        "t_statistic = (sample_mean - population_mean) / (sample_std_dev / np.sqrt(sample_size))\n",
        "\n",
        "# Calculate the degrees of freedom\n",
        "degrees_of_freedom = sample_size - 1\n",
        "\n",
        "# Calculate the critical t-value for the given significance level and degrees of freedom\n",
        "significance_level = 0.05\n",
        "critical_t_value = t.ppf(1 - significance_level / 2, degrees_of_freedom)\n",
        "\n",
        "# Compare the t-statistic with the critical t-value\n",
        "if abs(t_statistic) > critical_t_value:\n",
        "    print(\"Reject the null hypothesis\")\n",
        "else:\n",
        "    print(\"Fail to reject the null hypothesis\")\n",
        "\n",
        "print(\"t-statistic:\", t_statistic)\n",
        "print(\"Critical t-value:\", critical_t_value)\n"
      ],
      "metadata": {
        "id": "IChUIihLkXVK",
        "outputId": "90f57320-5870-4302-a6a9-b58213131525",
        "colab": {
          "base_uri": "https://localhost:8080/"
        }
      },
      "execution_count": 11,
      "outputs": [
        {
          "output_type": "stream",
          "name": "stdout",
          "text": [
            "Fail to reject the null hypothesis\n",
            "t-statistic: 1.0954451150103321\n",
            "Critical t-value: 2.045229642132703\n"
          ]
        }
      ]
    },
    {
      "cell_type": "markdown",
      "source": [
        "Interpreting the results:\n",
        "The one-sample t-test assesses whether the population mean is significantly different from a given value (in this case, 70).\n",
        "\n",
        "In this case, the null hypothesis is that the population mean is equal to 70. The alternative hypothesis is that the population mean is significantly different from 70.\n",
        "\n",
        "If the absolute value of the t-statistic is greater than the critical t-value, we reject the null hypothesis, indicating that there is evidence of a significant difference between the population mean and 70.\n",
        "\n",
        "The t-statistic measures the difference between the sample mean and the hypothesized population mean, relative to the variability in the sample.\n",
        "\n",
        "The critical t-value is the threshold value that separates the region of rejection (rejecting the null hypothesis) from the region of non-rejection (failing to reject the null hypothesis) based on the chosen significance level.\n",
        "\n",
        "Note: Make sure to adjust the sample mean, sample standard deviation, sample size, and population mean accordingly if your data has different values."
      ],
      "metadata": {
        "id": "DNXccE19kbMD"
      }
    }
  ]
}