{
  "nbformat": 4,
  "nbformat_minor": 0,
  "metadata": {
    "colab": {
      "provenance": []
    },
    "kernelspec": {
      "name": "python3",
      "display_name": "Python 3"
    },
    "language_info": {
      "name": "python"
    }
  },
  "cells": [
    {
      "cell_type": "markdown",
      "source": [
        "**Q1. What is MongoDB? Explain non-relational databases in short. In which scenarios it is preferred to use MongoDB over SQL databases?**"
      ],
      "metadata": {
        "id": "NB1cUn2C8DDG"
      }
    },
    {
      "cell_type": "markdown",
      "source": [
        "\n",
        "\n",
        "MongoDB is a document-oriented NoSQL database that uses a flexible schema model, allowing for the storage and retrieval of semi-structured and unstructured data. It is designed to handle high volumes of data, scale horizontally across multiple servers, and provide high availability and automatic failover.\n",
        "\n",
        "Non-relational databases, also known as NoSQL databases, are databases that do not follow the traditional relational model of SQL databases. Unlike SQL databases, NoSQL databases do not require a fixed schema, which makes them more flexible and easier to scale. They are designed to handle large volumes of unstructured or semi-structured data, making them ideal for use cases such as big data analytics, real-time streaming, and content management.\n",
        "\n",
        "MongoDB is preferred over SQL databases in scenarios where the data is unstructured or semi-structured, as it allows for more flexibility in the data model. It is also preferred in scenarios where there is a need for high scalability and availability, as it supports horizontal scaling and automatic failover. MongoDB is commonly used for web and mobile applications, real-time analytics, and content management systems. SQL databases are still preferred in scenarios where data is structured, and where transactional integrity is critical, such as banking and financial applications."
      ],
      "metadata": {
        "id": "lxd9fMsm9OeK"
      }
    },
    {
      "cell_type": "markdown",
      "source": [
        "**Q2. State and Explain the features of MongoDB.**"
      ],
      "metadata": {
        "id": "nf61Thi68DAS"
      }
    },
    {
      "cell_type": "markdown",
      "source": [
        "MongoDB is a popular NoSQL database that offers a variety of features designed to make it more scalable, flexible, and easy to use. Here are some of the key features of MongoDB:\n",
        "\n",
        "1. Document-oriented: MongoDB is a document-oriented database, which means it stores data in JSON-like documents. This makes it more flexible than traditional SQL databases, which rely on rigid table structures.\n",
        "\n",
        "2. Dynamic Schema: MongoDB has a dynamic schema, which means that it can accommodate changes in the data structure without requiring a rigid schema. This makes it easier to work with evolving data structures.\n",
        "\n",
        "3. High Availability: MongoDB offers built-in high availability through replica sets, which provide automatic failover and data redundancy. This ensures that the database remains available even if one or more servers go down.\n",
        "\n",
        "4. Horizontal Scalability: MongoDB can scale horizontally across multiple servers, making it easy to accommodate growing data volumes and high traffic.\n",
        "\n",
        "5. Indexing: MongoDB supports indexing on any field, making it easier to search for data and improve query performance.\n",
        "\n",
        "6. Aggregation: MongoDB offers a powerful aggregation framework that allows for complex data analysis and manipulation.\n",
        "\n",
        "7. GridFS: MongoDB offers GridFS, a system for storing large files and binary data, making it easy to handle unstructured data such as images, videos, and audio files.\n",
        "\n",
        "8. Map-Reduce: MongoDB supports Map-Reduce, a data processing model that allows for distributed processing of large data sets.\n",
        "\n",
        "Overall, MongoDB offers a variety of features that make it a popular choice for modern applications that require flexibility, scalability, and high availability. Its dynamic schema, high availability, horizontal scalability, and powerful querying and aggregation features make it well-suited for a variety of use cases."
      ],
      "metadata": {
        "id": "tUzkx1vQ9Qt8"
      }
    },
    {
      "cell_type": "markdown",
      "source": [
        "**Q3. Write a code to connect MongoDB to Python. Also, create a database and a collection in MongoDB.**"
      ],
      "metadata": {
        "id": "6FhVDcUg8C9S"
      }
    },
    {
      "cell_type": "markdown",
      "source": [
        "To connect to MongoDB from Python, you will need to use the PyMongo library, which provides a Python interface to MongoDB. Here's an example code snippet to connect to MongoDB, create a database, and a collection:\n",
        "\n",
        "```python\n",
        "# Import the necessary libraries\n",
        "import pymongo\n",
        "\n",
        "# Connect to MongoDB\n",
        "client = pymongo.MongoClient(\"mongodb://localhost:27017/\")\n",
        "\n",
        "# Create a database\n",
        "mydb = client[\"mydatabase\"]\n",
        "\n",
        "# Create a collection\n",
        "mycol = mydb[\"customers\"]\n",
        "\n",
        "# Insert a document into the collection\n",
        "mydict = { \"name\": \"John\", \"address\": \"Highway 37\" }\n",
        "x = mycol.insert_one(mydict)\n",
        "\n",
        "# Print the ID of the inserted document\n",
        "print(x.inserted_id)\n",
        "```\n",
        "\n",
        "In this example, we first import the PyMongo library and then connect to the MongoDB server running on the local machine on the default port of 27017. We then create a database called \"mydatabase\" using the `client` object. Next, we create a collection called \"customers\" within the \"mydatabase\" database using the `mydb` object. We then insert a document into the \"customers\" collection using the `insert_one()` method and print the ID of the inserted document."
      ],
      "metadata": {
        "id": "yka8v_Yk9TcY"
      }
    },
    {
      "cell_type": "markdown",
      "source": [
        "**Q4. Using the database and the collection created in question number 3, write a code to insert one record,and insert many records. Use the find() and find_one() methods to print the inserted record.**"
      ],
      "metadata": {
        "id": "r1FFO0nI8C6b"
      }
    },
    {
      "cell_type": "markdown",
      "source": [
        "Sure, here's an example code snippet to insert one record and many records into the \"customers\" collection created in question number 3, and then use the `find()` and `find_one()` methods to print the inserted record:\n",
        "\n",
        "```python\n",
        "# Import the necessary libraries\n",
        "import pymongo\n",
        "\n",
        "# Connect to MongoDB\n",
        "client = pymongo.MongoClient(\"mongodb://localhost:27017/\")\n",
        "\n",
        "# Select the database and collection\n",
        "mydb = client[\"mydatabase\"]\n",
        "mycol = mydb[\"customers\"]\n",
        "\n",
        "# Insert one record\n",
        "mydict = { \"name\": \"Alice\", \"address\": \"123 Main St\" }\n",
        "x = mycol.insert_one(mydict)\n",
        "\n",
        "# Insert many records\n",
        "mylist = [\n",
        "  { \"name\": \"Bob\", \"address\": \"456 Pine St\" },\n",
        "  { \"name\": \"Charlie\", \"address\": \"789 Oak St\" },\n",
        "  { \"name\": \"David\", \"address\": \"321 Maple St\" }\n",
        "]\n",
        "x = mycol.insert_many(mylist)\n",
        "\n",
        "# Print the inserted record\n",
        "print(mycol.find_one())\n",
        "\n",
        "# Print all the inserted records\n",
        "for x in mycol.find():\n",
        "  print(x)\n",
        "```\n",
        "\n",
        "In this code, we first connect to the \"mydatabase\" database and the \"customers\" collection using the `pymongo.MongoClient()` method. We then insert one record and many records into the \"customers\" collection using the `insert_one()` and `insert_many()` methods respectively. Finally, we use the `find_one()` method to print the first inserted record and the `find()` method to print all the inserted records. \n"
      ],
      "metadata": {
        "id": "CV0nhOYx9X_n"
      }
    },
    {
      "cell_type": "markdown",
      "source": [
        "**Q5. Explain how you can use the find() method to query the MongoDB database. Write a simple code to demonstrate this.**"
      ],
      "metadata": {
        "id": "4wJ77R228C3J"
      }
    },
    {
      "cell_type": "markdown",
      "source": [
        "The `find()` method in MongoDB is used to query a collection for documents that match a certain set of criteria. The `find()` method returns a cursor object that we can iterate over to retrieve the matching documents.\n",
        "\n",
        "Here's an example code snippet to demonstrate how to use the `find()` method in MongoDB:\n",
        "\n",
        "```python\n",
        "# Import the necessary libraries\n",
        "import pymongo\n",
        "\n",
        "# Connect to MongoDB\n",
        "client = pymongo.MongoClient(\"mongodb://localhost:27017/\")\n",
        "\n",
        "# Select the database and collection\n",
        "mydb = client[\"mydatabase\"]\n",
        "mycol = mydb[\"customers\"]\n",
        "\n",
        "# Insert some data into the collection\n",
        "mylist = [\n",
        "  { \"name\": \"Alice\", \"address\": \"123 Main St\", \"age\": 25 },\n",
        "  { \"name\": \"Bob\", \"address\": \"456 Pine St\", \"age\": 35 },\n",
        "  { \"name\": \"Charlie\", \"address\": \"789 Oak St\", \"age\": 45 },\n",
        "  { \"name\": \"David\", \"address\": \"321 Maple St\", \"age\": 55 }\n",
        "]\n",
        "x = mycol.insert_many(mylist)\n",
        "\n",
        "# Query the collection for documents where the \"age\" field is greater than 30\n",
        "myquery = { \"age\": { \"$gt\": 30 } }\n",
        "mydocs = mycol.find(myquery)\n",
        "\n",
        "# Print the matching documents\n",
        "for x in mydocs:\n",
        "  print(x)\n",
        "```\n",
        "\n",
        "In this code, we first connect to the \"mydatabase\" database and the \"customers\" collection using the `pymongo.MongoClient()` method. We then insert some data into the \"customers\" collection using the `insert_many()` method. Finally, we use the `find()` method to query the collection for documents where the \"age\" field is greater than 30. The query is specified using a dictionary object, where the key is the field name and the value is a dictionary that specifies the query criteria (in this case, the `$gt` operator specifies that the \"age\" field must be greater than 30). The `find()` method returns a cursor object that we can iterate over to print the matching documents."
      ],
      "metadata": {
        "id": "OupBNYBX9bUo"
      }
    },
    {
      "cell_type": "markdown",
      "source": [
        "**Q6. Explain the sort() method. Give an example to demonstrate sorting in MongoDB.**"
      ],
      "metadata": {
        "id": "Xx5yaF5h8C0e"
      }
    },
    {
      "cell_type": "markdown",
      "source": [
        "The `sort()` method in MongoDB is used to sort the results of a query in ascending or descending order based on one or more fields in the documents. \n",
        "\n",
        "The `sort()` method takes a dictionary as its argument that specifies the field or fields to sort by and the sort order. The dictionary keys are the field names, and the values are either 1 or -1, where 1 represents ascending order and -1 represents descending order.\n",
        "\n",
        "Here's an example to demonstrate sorting in MongoDB:\n",
        "\n",
        "```python\n",
        "# Import the necessary libraries\n",
        "import pymongo\n",
        "\n",
        "# Connect to MongoDB\n",
        "client = pymongo.MongoClient(\"mongodb://localhost:27017/\")\n",
        "\n",
        "# Select the database and collection\n",
        "mydb = client[\"mydatabase\"]\n",
        "mycol = mydb[\"customers\"]\n",
        "\n",
        "# Insert some data into the collection\n",
        "mylist = [\n",
        "  { \"name\": \"Alice\", \"age\": 25 },\n",
        "  { \"name\": \"Bob\", \"age\": 35 },\n",
        "  { \"name\": \"Charlie\", \"age\": 45 },\n",
        "  { \"name\": \"David\", \"age\": 55 }\n",
        "]\n",
        "x = mycol.insert_many(mylist)\n",
        "\n",
        "# Query the collection and sort the results by the \"age\" field in descending order\n",
        "myquery = { }\n",
        "mydocs = mycol.find(myquery).sort(\"age\", -1)\n",
        "\n",
        "# Print the sorted documents\n",
        "for x in mydocs:\n",
        "  print(x)\n",
        "```\n",
        "\n",
        "In this code, we first connect to the \"mydatabase\" database and the \"customers\" collection using the `pymongo.MongoClient()` method. We then insert some data into the \"customers\" collection using the `insert_many()` method.\n",
        "\n",
        "Next, we use the `find()` method to query the collection for all documents. We then chain the `sort()` method to sort the results by the \"age\" field in descending order. The `sort()` method takes two arguments - the field to sort by (\"age\") and the sort order (-1 for descending order).\n",
        "\n",
        "Finally, we iterate over the sorted results using a for loop and print each document.\n",
        "\n",
        "The output of this code will be:\n",
        "\n",
        "```\n",
        "{'_id': ObjectId('...'), 'name': 'David', 'age': 55}\n",
        "{'_id': ObjectId('...'), 'name': 'Charlie', 'age': 45}\n",
        "{'_id': ObjectId('...'), 'name': 'Bob', 'age': 35}\n",
        "{'_id': ObjectId('...'), 'name': 'Alice', 'age': 25}\n",
        "```\n",
        "\n",
        "As you can see, the documents are sorted in descending order based on the \"age\" field."
      ],
      "metadata": {
        "id": "MmrGQtKv9vGV"
      }
    },
    {
      "cell_type": "markdown",
      "source": [
        "**Q7. Explain why delete_one(), delete_many(), and drop() is used.**"
      ],
      "metadata": {
        "id": "Rmc5cymQ87tj"
      }
    },
    {
      "cell_type": "markdown",
      "source": [
        "In MongoDB, the `delete_one()` and `delete_many()` methods are used to remove one or multiple documents from a collection that match a specified criteria, while the `drop()` method is used to remove an entire collection from the database.\n",
        "\n",
        "Here's a brief explanation of each method:\n",
        "\n",
        "- `delete_one()`: This method is used to remove the first document that matches the specified criteria. If multiple documents match the criteria, only the first one is deleted. The method returns a `DeleteResult` object that contains information about the operation, such as the number of documents deleted.\n",
        "\n",
        "- `delete_many()`: This method is used to remove all documents that match the specified criteria. The method returns a `DeleteResult` object that contains information about the operation, such as the number of documents deleted.\n",
        "\n",
        "- `drop()`: This method is used to remove an entire collection from the database. This operation cannot be undone, so it should be used with caution. The method returns `None` if the collection was successfully dropped.\n",
        "\n",
        "These methods are important for managing the data in a MongoDB database. For example, if you want to delete a specific document or set of documents from a collection, you can use `delete_one()` or `delete_many()` methods with the appropriate query criteria. On the other hand, if you want to completely remove a collection from the database, you can use the `drop()` method.\n",
        "\n",
        "It is important to use these methods with care, as they can permanently delete data from your database. Therefore, it is always recommended to make a backup of your data before performing any deletion operations."
      ],
      "metadata": {
        "id": "gXxJ71b-9fPo"
      }
    },
    {
      "cell_type": "code",
      "execution_count": null,
      "metadata": {
        "id": "McITDVWw8BQO"
      },
      "outputs": [],
      "source": []
    }
  ]
}