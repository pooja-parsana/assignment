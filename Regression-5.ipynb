{
 "cells": [
  {
   "cell_type": "markdown",
   "id": "8369a5a7-c33c-474c-990f-1b5e754baee4",
   "metadata": {},
   "source": [
    "Q1. What is Elastic Net RegreElastic Net Regression is a linear regression technique used for predictive modeling and variable selection in statistical analysis. It's a combination of two popular regression methods: Ridge Regression and Lasso Regression. The primary goal of Elastic Net is to address some of the limitations of these individual methods while leveraging their strengths.\n",
    "\n",
    "Here's a breakdown of the three regression techniques and how Elastic Net differs:\n",
    "\n",
    "1. **Linear Regression:** In linear regression, the goal is to find the best-fitting linear relationship between the dependent variable (target) and one or more independent variables (features). It minimizes the sum of squared differences between the observed and predicted values.\n",
    "\n",
    "2. **Ridge Regression (L2 regularization):** Ridge Regression adds a penalty term to the linear regression's cost function, which is proportional to the square of the magnitude of the coefficients. This penalty helps prevent overfitting by shrinking the coefficients toward zero. It's particularly useful when dealing with multicollinearity (high correlation between features), as it can help distribute the impact of correlated features.\n",
    "\n",
    "3. **Lasso Regression (L1 regularization):** Lasso Regression, similar to Ridge, adds a penalty term to the cost function. However, this penalty is based on the absolute values of the coefficients. Lasso has a tendency to drive some coefficients to exactly zero, effectively performing feature selection. This makes it useful for situations where you suspect that only a subset of features is truly relevant.\n",
    "\n",
    "4. **Elastic Net Regression:** Elastic Net combines both Ridge and Lasso regularization techniques. The cost function includes both L1 (absolute values of coefficients) and L2 (squared magnitudes of coefficients) penalty terms. This combination allows Elastic Net to handle situations where there are many features and some of them are highly correlated. It strikes a balance between the Ridge's ability to handle multicollinearity and the Lasso's feature selection capability.\n",
    "\n",
    "**Key Differences and Advantages of Elastic Net:**\n",
    "\n",
    "- **Feature Selection and Coefficient Shrinkage:** Elastic Net can perform both variable selection (like Lasso) and coefficient shrinkage (like Ridge), making it more flexible in choosing important features while mitigating overfitting.\n",
    "\n",
    "- **Multicollinearity Handling:** Elastic Net is particularly useful when dealing with multicollinearity among features, as it can distribute the impact across correlated features due to the L2 component.\n",
    "\n",
    "- **Trade-off Control:** Elastic Net has a hyperparameter that allows you to control the mix between L1 and L2 penalties. This allows you to adjust the level of regularization based on your specific dataset and problem.\n",
    "\n",
    "- **Complexity:** While Elastic Net is a powerful technique, it can be computationally more expensive compared to Ridge or Lasso due to the combined penalties.\n",
    "\n",
    "In summary, Elastic Net Regression is a hybrid technique that offers a balanced approach between Ridge and Lasso, making it well-suited for situations where you have multicollinearity and want to perform both feature selection and regularization.ssion and how does it differ from other regression techniques?"
   ]
  },
  {
   "cell_type": "markdown",
   "id": "34170738-b141-4927-a458-2eef06e207e8",
   "metadata": {},
   "source": [
    "Q2. How do you choose the optimal values of the regularization parameters for Elastic Net Regression?"
   ]
  },
  {
   "cell_type": "markdown",
   "id": "0ae7e77c-866d-4fe3-a131-6587301d7020",
   "metadata": {},
   "source": [
    "Choosing the optimal values for the regularization parameters in Elastic Net Regression involves a process called hyperparameter tuning. The two main hyperparameters in Elastic Net are:\n",
    "\n",
    "1. **Alpha (α):** This parameter controls the balance between the L1 (Lasso) and L2 (Ridge) penalties. It ranges from 0 to 1, where:\n",
    "   - α = 0: Pure Ridge Regression (only L2 penalty)\n",
    "   - α = 1: Pure Lasso Regression (only L1 penalty)\n",
    "   - 0 < α < 1: Combination of L1 and L2 penalties (Elastic Net)\n",
    "\n",
    "2. **Lambda (λ):** This is the regularization strength parameter that determines how much the coefficients are penalized. A higher λ value results in stronger regularization.\n",
    "\n",
    "Finding the optimal values for α and λ involves techniques such as cross-validation. Cross-validation helps you evaluate how well your model performs on different subsets of your data and ensures that the chosen hyperparameters generalize well to unseen data. Here's a general approach to tuning hyperparameters for Elastic Net Regression:\n",
    "\n",
    "1. **Grid Search or Random Search:** You can perform a grid search or random search over a range of α and λ values. The grid search involves creating a grid of possible values for α and λ and testing the model's performance for each combination. Random search randomly selects combinations to test. This approach helps you explore a range of possibilities.\n",
    "\n",
    "2. **Cross-Validation:** For each combination of α and λ, use k-fold cross-validation (e.g., 5-fold or 10-fold) to evaluate the model's performance. Cross-validation involves splitting your dataset into k subsets (folds), training the model on k-1 folds, and validating it on the remaining fold. Repeat this process k times, rotating the validation fold each time.\n",
    "\n",
    "3. **Performance Metric:** Choose an appropriate performance metric for evaluation, such as mean squared error (MSE) for regression tasks. The goal is to select the combination of α and λ that yields the lowest cross-validated error.\n",
    "\n",
    "4. **Hyperparameter Selection:** Once you've completed cross-validation for all combinations of α and λ, select the combination that resulted in the lowest cross-validated error.\n",
    "\n",
    "5. **Final Model Training:** After selecting the optimal α and λ values, retrain the Elastic Net Regression model using the entire dataset and these hyperparameters.\n",
    "\n",
    "6. **Test on Unseen Data:** Finally, evaluate the model's performance on a separate, unseen test dataset to ensure that your hyperparameter choices have led to a model that generalizes well.\n",
    "\n",
    "Keep in mind that the specific implementation might vary based on the programming language and libraries you're using. Many machine learning libraries provide built-in functions for hyperparameter tuning, such as scikit-learn's `GridSearchCV` and `RandomizedSearchCV` for Python.\n",
    "\n",
    "Hyperparameter tuning is an iterative process, and it's recommended to try different combinations, observe the model's behavior, and adjust the search space accordingly to find the best-performing Elastic Net model for your specific problem."
   ]
  },
  {
   "cell_type": "markdown",
   "id": "adcd7742-a275-4bf3-957b-b155b600ce7a",
   "metadata": {},
   "source": [
    "Q3. What are the advantages and disadvantages of Elastic Net Regression?"
   ]
  },
  {
   "cell_type": "markdown",
   "id": "98e68360-9c37-4309-93af-cdb1ce76fff3",
   "metadata": {},
   "source": [
    "Elastic Net Regression offers a combination of the strengths of Ridge and Lasso Regression, but it also comes with its own set of advantages and disadvantages. Let's explore both sides:\n",
    "\n",
    "**Advantages:**\n",
    "\n",
    "1. **Feature Selection and Regularization:** Elastic Net combines the feature selection capabilities of Lasso Regression with the ability to handle multicollinearity provided by Ridge Regression. This makes it suitable for situations where you have a large number of features and some of them are correlated.\n",
    "\n",
    "2. **Balanced Regularization:** The α hyperparameter in Elastic Net allows you to control the balance between L1 and L2 penalties. This gives you flexibility in choosing the right mix of regularization strategies based on your data and problem.\n",
    "\n",
    "3. **Stability:** Unlike Lasso, which might arbitrarily select one feature over another in the case of correlated features, Elastic Net tends to distribute the impact across correlated features. This can lead to more stable and interpretable results.\n",
    "\n",
    "4. **Better Performance in Complex Situations:** Elastic Net generally performs well in situations where the number of features is larger than the number of samples, which is a challenging scenario for traditional linear regression.\n",
    "\n",
    "5. **Reduced Risk of Overfitting:** The regularization introduced by Elastic Net helps prevent overfitting, making it a useful technique when dealing with noisy data.\n",
    "\n",
    "**Disadvantages:**\n",
    "\n",
    "1. **Hyperparameter Tuning:** Elastic Net has two hyperparameters to tune: α and λ. Finding the optimal combination requires thorough cross-validation and can be computationally expensive.\n",
    "\n",
    "2. **Complexity:** Compared to simple linear regression, Elastic Net involves more complexity due to the additional penalty terms. This complexity might make it harder to interpret the model's coefficients and results.\n",
    "\n",
    "3. **Trade-off Between Interpretability and Performance:** While Elastic Net can handle feature selection and regularization, the trade-off between interpretability and model performance can be challenging. In some cases, certain features might be shrunk to very small values, making their interpretation difficult.\n",
    "\n",
    "4. **Feature Scaling:** Like other regression techniques, Elastic Net benefits from feature scaling to ensure that all features are on similar scales. This can be a requirement in some cases and might add a preprocessing step to your workflow.\n",
    "\n",
    "5. **Limited for Nonlinear Relationships:** Elastic Net, like linear regression, assumes a linear relationship between features and the target. If your data has strong nonlinear relationships, Elastic Net might not capture these patterns effectively.\n",
    "\n",
    "In summary, Elastic Net Regression is a versatile technique that addresses some limitations of Ridge and Lasso Regression. It's particularly useful when dealing with correlated features and a large number of predictors. However, the selection and tuning of hyperparameters, along with the complexity of the model, should be carefully considered when deciding whether to use Elastic Net for a specific problem."
   ]
  },
  {
   "cell_type": "markdown",
   "id": "a6a1a3fd-240b-420a-958b-45208bb9960e",
   "metadata": {},
   "source": [
    "Q4. What are some common use cases for Elastic Net Regression?"
   ]
  },
  {
   "cell_type": "markdown",
   "id": "19e306f7-9a72-443f-817a-9681fb9880e3",
   "metadata": {},
   "source": [
    "Elastic Net Regression is a versatile technique that can be applied to various scenarios where linear regression is suitable but comes with challenges like multicollinearity and feature selection. Here are some common use cases for Elastic Net Regression:\n",
    "\n",
    "1. **Biomedical Research:** In fields like genomics, where there are often a large number of genes or genetic markers being considered as predictors, Elastic Net can help select relevant markers while handling the correlation between them.\n",
    "\n",
    "2. **Economics and Finance:** When modeling economic or financial data, there can be a multitude of economic indicators or financial variables that are potentially correlated. Elastic Net can help identify key factors while addressing multicollinearity.\n",
    "\n",
    "3. **Social Sciences:** Social science research often involves numerous variables that may be interrelated. Elastic Net can assist in identifying significant predictors while avoiding overfitting due to high dimensionality.\n",
    "\n",
    "4. **Marketing and Customer Analytics:** Elastic Net can be used to model customer behavior based on multiple features, such as demographics, browsing history, and purchasing patterns. It can help select influential factors while considering potential interdependencies.\n",
    "\n",
    "5. **Environmental Studies:** Environmental data can involve multiple correlated variables, such as climate variables, pollution levels, and geographical factors. Elastic Net can aid in understanding the relationships between these variables.\n",
    "\n",
    "6. **Image Analysis:** In image analysis, features extracted from images can be highly correlated. Elastic Net can help select informative features while considering the dependencies between them.\n",
    "\n",
    "7. **Natural Language Processing (NLP):** In NLP tasks, text data can result in a high-dimensional feature space. Elastic Net can assist in feature selection when building predictive models from textual data.\n",
    "\n",
    "8. **Medical Diagnostics:** In medical diagnostics, patient data can include various medical test results and demographic information. Elastic Net can help select relevant features for predicting medical conditions while managing feature correlations.\n",
    "\n",
    "9. **Real Estate and Housing Market Analysis:** When predicting housing prices, there can be numerous factors affecting the prices. Elastic Net can help identify the most influential variables while handling the correlations between them.\n",
    "\n",
    "10. **Bioinformatics:** In tasks like protein structure prediction, there can be many attributes associated with each protein. Elastic Net can help select important attributes while handling the dependencies between them.\n",
    "\n",
    "11. **Time Series Analysis:** Elastic Net can also be applied to time series data with multiple predictors, where certain variables might be correlated over time.\n",
    "\n",
    "These are just a few examples, and Elastic Net Regression's utility extends to various fields where linear regression-based modeling is applicable. Its ability to balance feature selection and regularization makes it particularly useful when dealing with high-dimensional datasets and correlated predictors. However, as with any modeling technique, its application should be based on a deep understanding of the problem and data characteristics."
   ]
  },
  {
   "cell_type": "markdown",
   "id": "09fa9640-dfc5-4f70-86ca-3e9b4755ff1a",
   "metadata": {},
   "source": [
    "Q5. How do you interpret the coefficients in Elastic Net Regression?"
   ]
  },
  {
   "cell_type": "markdown",
   "id": "1de93639-010f-4c38-b0c3-9beec48d7523",
   "metadata": {},
   "source": [
    "Interpreting the coefficients in Elastic Net Regression is similar to interpreting coefficients in standard linear regression. The coefficients represent the estimated change in the target variable for a one-unit change in the corresponding predictor variable, while keeping all other variables constant. However, due to the added complexities of Elastic Net's regularization, there are a few additional considerations to keep in mind:\n",
    "\n",
    "1. **Magnitude of Coefficients:** The magnitude of the coefficients indicates the strength of the relationship between a predictor and the target. Larger coefficients suggest a stronger influence of that predictor on the target.\n",
    "\n",
    "2. **Sign of Coefficients:** The sign (positive or negative) of a coefficient indicates the direction of the relationship. A positive coefficient means that an increase in the predictor variable is associated with an increase in the target variable, while a negative coefficient suggests the opposite.\n",
    "\n",
    "3. **Coefficient Shrinkage:** Due to the regularization introduced by Elastic Net, the coefficient values are often shrunk towards zero. This means that even if a predictor is not entirely irrelevant, its coefficient might be significantly reduced, making its impact on the target less pronounced. Coefficients that are exactly zero indicate that the corresponding predictors were selected out of the model by the regularization.\n",
    "\n",
    "4. **Coefficient Stability:** Elastic Net's regularization helps stabilize the coefficients, especially when there is multicollinearity. This can lead to more stable and interpretable results compared to standard linear regression.\n",
    "\n",
    "5. **α Parameter Impact:** The value of the α parameter in Elastic Net affects the type of regularization applied. A higher α value emphasizes Lasso-like regularization, which can drive more coefficients to zero. A lower α value emphasizes Ridge-like regularization, which might result in less aggressive coefficient shrinkage.\n",
    "\n",
    "6. **Comparing Coefficients:** When comparing coefficients across different predictors, consider the impact of feature scaling. If your features are on different scales, the coefficients might not be directly comparable. Scaling the features before fitting the model can help with this.\n",
    "\n",
    "7. **Interaction and Nonlinearity:** If you have interaction terms or nonlinear transformations of predictors in your model, the interpretation becomes more complex. Changes in coefficients might not have a straightforward linear relationship with changes in the target, especially if the model is highly regularized.\n",
    "\n",
    "8. **Residual Analysis:** After fitting an Elastic Net model, it's important to perform residual analysis to check the goodness of fit. Plotting residuals against predicted values can help identify patterns and potential issues with the model.\n",
    "\n",
    "Overall, while interpreting coefficients in Elastic Net Regression shares similarities with linear regression, the regularization aspects introduce additional nuances. It's important to consider the interplay between regularization, coefficient values, and the specific problem domain to accurately interpret the results."
   ]
  },
  {
   "cell_type": "markdown",
   "id": "5094666e-cdb4-41ac-a25e-0d1ee144bd7e",
   "metadata": {},
   "source": [
    "Q6. How do you handle missing values when using Elastic Net Regression?"
   ]
  },
  {
   "cell_type": "markdown",
   "id": "2b30bda2-306d-4de4-9bd2-6943c7479321",
   "metadata": {},
   "source": [
    "Handling missing values is an important preprocessing step when using Elastic Net Regression, as well as any other regression technique. Missing values can lead to biased or inaccurate model estimates, so you need to decide how to address them appropriately. Here are several strategies to handle missing values in the context of Elastic Net Regression:\n",
    "\n",
    "1. **Remove Missing Data:** One option is to simply remove rows (samples) that have missing values. However, this approach can lead to a loss of valuable data, especially if the missing values are random or not substantial.\n",
    "\n",
    "2. **Imputation:** Imputation involves filling in missing values with estimated values. Common imputation methods include mean, median, mode, or a specific value. Imputation helps retain the data, but it can introduce bias if the missing values are not missing at random.\n",
    "\n",
    "3. **Advanced Imputation:** There are more advanced imputation techniques available, such as using the k-nearest neighbors algorithm to impute missing values based on similar samples. Multiple Imputation is another technique that generates multiple imputed datasets and combines the results to provide more accurate estimates.\n",
    "\n",
    "4. **Flagging Missingness:** You can create an additional binary indicator variable for each predictor that indicates whether the value is missing. This approach allows the model to learn if missingness is informative and affects the target variable.\n",
    "\n",
    "5. **Use of Categorical Variable:** If the missing values represent a category of their own, you can create a new category for missing values within categorical predictors. This way, the missingness is treated as a separate category during modeling.\n",
    "\n",
    "6. **Predictive Modeling:** You can build a separate predictive model to predict the missing values using the available predictors. Once predicted, these imputed values can be used in your Elastic Net model. This approach is especially useful when the missingness has some underlying structure.\n",
    "\n",
    "7. **Feature Selection with Missing Values:** When using Elastic Net, keep in mind that if a feature has a significant portion of missing values, it might not be selected by the regularization. Therefore, you might need to consider whether to include or exclude features with high missingness.\n",
    "\n",
    "8. **Handling Missing Targets:** If your target variable has missing values, you need to decide whether to impute the target values or exclude those samples from your analysis. Imputing target values should be done carefully, as it can introduce bias.\n",
    "\n",
    "The choice of method depends on the extent of missingness, the nature of the data, and the potential impact on your analysis. It's important to be cautious when imputing missing values, as inappropriate handling can lead to biased or inaccurate results. Additionally, document the methods used for handling missing values to ensure transparency in your analysis."
   ]
  },
  {
   "cell_type": "markdown",
   "id": "fa835ba4-e646-4434-a69b-c4d2680c7774",
   "metadata": {},
   "source": [
    "Q7. How do you use Elastic Net Regression for feature selection?"
   ]
  },
  {
   "cell_type": "markdown",
   "id": "b970767f-15fc-4c51-a857-919e51cc9d53",
   "metadata": {},
   "source": [
    "Elastic Net Regression can be effectively used for feature selection due to its ability to balance between L1 (Lasso) and L2 (Ridge) penalties. Here's how you can use Elastic Net for feature selection:\n",
    "\n",
    "1. **Data Preparation:**\n",
    "   - Prepare your dataset with the target variable and all potential predictor variables.\n",
    "   - Handle missing values and perform feature scaling if necessary.\n",
    "\n",
    "2. **Splitting Data:**\n",
    "   - Split your dataset into training and testing subsets. The training subset will be used for model training, while the testing subset will be used for evaluating the model's performance.\n",
    "\n",
    "3. **Hyperparameter Tuning:**\n",
    "   - Perform hyperparameter tuning to find the optimal values for the α (balance between L1 and L2 penalties) and λ (regularization strength) hyperparameters using cross-validation. This step is crucial to ensure your model's performance.\n",
    "\n",
    "4. **Model Training:**\n",
    "   - Train the Elastic Net Regression model on the training data using the optimal α and λ values obtained from cross-validation.\n",
    "   - The model will automatically perform feature selection as part of its regularization process. Features that are not strongly related to the target variable will have their coefficients shrunk toward zero.\n",
    "\n",
    "5. **Coefficient Analysis:**\n",
    "   - Once the model is trained, examine the coefficients of the selected features.\n",
    "   - Features with non-zero coefficients are considered important by the model and contribute to the prediction of the target variable.\n",
    "\n",
    "6. **Feature Ranking:**\n",
    "   - Rank the selected features based on their absolute coefficient values. Features with larger coefficients are likely to have a stronger impact on the target variable.\n",
    "\n",
    "7. **Model Evaluation:**\n",
    "   - Use the testing data to evaluate the performance of your Elastic Net model in terms of predictive accuracy, such as mean squared error (MSE) or another appropriate metric for your problem.\n",
    "\n",
    "8. **Further Refinement:**\n",
    "   - If necessary, you can perform further iterations of hyperparameter tuning, feature selection, and model evaluation to fine-tune your results.\n",
    "\n",
    "9. **Interpretation and Reporting:**\n",
    "   - Interpret the selected features based on their coefficients. Positive coefficients indicate positive correlations with the target, while negative coefficients indicate negative correlations.\n",
    "   - Communicate your findings and the selected features' importance to stakeholders or decision-makers.\n",
    "\n",
    "Remember that Elastic Net's feature selection is a result of the regularization process, and it's not as explicit as methods like stepwise selection. Elastic Net considers the relationships between features and may select correlated features together due to the L2 penalty. Additionally, the choice of hyperparameters significantly affects the feature selection outcome, so careful tuning is essential.\n",
    "\n",
    "As with any modeling technique, ensure that you validate your results and consider the context of your problem. Feature selection should be guided by both domain knowledge and data-driven insights."
   ]
  },
  {
   "cell_type": "markdown",
   "id": "a734d74d-d9f9-4269-bbde-e928d8e28421",
   "metadata": {},
   "source": [
    "Q8. How do you pickle and unpickle a trained Elastic Net Regression model in Python?"
   ]
  },
  {
   "cell_type": "markdown",
   "id": "5bb290c2-cb5e-4c43-b045-d35428860dd7",
   "metadata": {},
   "source": [
    "Pickle is a Python module that's used for serializing and deserializing Python objects, allowing you to save the state of an object to a file and load it back later. Here's how you can pickle and unpickle a trained Elastic Net Regression model in Python:\n",
    "\n",
    "1. **Pickling the Model:**\n",
    "```python\n",
    "import pickle\n",
    "from sklearn.linear_model import ElasticNet\n",
    "\n",
    "# Assuming you have a trained Elastic Net model called 'elastic_net_model'\n",
    "elastic_net_model = ElasticNet(alpha=0.5, l1_ratio=0.5)  # Example model, replace with your trained model\n",
    "\n",
    "# Serialize and save the model to a file\n",
    "with open('elastic_net_model.pkl', 'wb') as file:\n",
    "    pickle.dump(elastic_net_model, file)\n",
    "```\n",
    "\n",
    "2. **Unpickling the Model:**\n",
    "```python\n",
    "import pickle\n",
    "from sklearn.linear_model import ElasticNet\n",
    "\n",
    "# Load the model back from the file\n",
    "with open('elastic_net_model.pkl', 'rb') as file:\n",
    "    loaded_model = pickle.load(file)\n",
    "\n",
    "# Now 'loaded_model' is a trained Elastic Net model that you can use for predictions\n",
    "```\n",
    "\n",
    "In the above code snippets, we first import the necessary modules, assuming that you've already trained an Elastic Net Regression model named `elastic_net_model`.\n",
    "\n",
    "- To pickle the model, we use the `pickle.dump()` function and provide the model and a file object to write the serialized model to. The file is opened in binary write mode (`'wb'`).\n",
    "\n",
    "- To unpickle the model, we use the `pickle.load()` function and provide a file object to read the serialized model from. The file is opened in binary read mode (`'rb'`).\n",
    "\n",
    "It's important to note that the model you're pickling and unpickling should be compatible with the versions of libraries you're using. If the underlying library (e.g., scikit-learn for Elastic Net) undergoes major changes, pickled models might become incompatible with newer versions. Always keep this in mind when using pickled models in a different environment or at a later time.\n",
    "\n",
    "Additionally, while pickling and unpickling is a convenient way to save and load models, it's not suitable for sharing models across different programming languages or environments. For interoperability and production deployment, you might consider other model serialization methods, such as using the `joblib` library, which is often preferred for scikit-learn models due to its efficiency and compatibility."
   ]
  },
  {
   "cell_type": "markdown",
   "id": "8ec2aad7-9995-404b-80c2-3221f05ba1ec",
   "metadata": {},
   "source": [
    "Q9. What is the purpose of pickling a model in machine learning?"
   ]
  },
  {
   "cell_type": "code",
   "execution_count": null,
   "id": "c147f108-54c4-47a4-b42b-b3c4e2b04c51",
   "metadata": {},
   "outputs": [],
   "source": []
  }
 ],
 "metadata": {
  "kernelspec": {
   "display_name": "Python 3 (ipykernel)",
   "language": "python",
   "name": "python3"
  },
  "language_info": {
   "codemirror_mode": {
    "name": "ipython",
    "version": 3
   },
   "file_extension": ".py",
   "mimetype": "text/x-python",
   "name": "python",
   "nbconvert_exporter": "python",
   "pygments_lexer": "ipython3",
   "version": "3.10.6"
  }
 },
 "nbformat": 4,
 "nbformat_minor": 5
}
