{
  "nbformat": 4,
  "nbformat_minor": 0,
  "metadata": {
    "colab": {
      "provenance": []
    },
    "kernelspec": {
      "name": "python3",
      "display_name": "Python 3"
    },
    "language_info": {
      "name": "python"
    }
  },
  "cells": [
    {
      "cell_type": "markdown",
      "source": [
        "**Q1. What is Abstraction in OOps? Explain with an example.**"
      ],
      "metadata": {
        "id": "wmfFfhjzcxDT"
      }
    },
    {
      "cell_type": "markdown",
      "source": [
        "Abstraction in object-oriented programming is the process of hiding the implementation details of a system while only exposing the essential features to the user. In Python, abstraction is achieved through the use of abstract classes and interfaces.\n",
        "\n",
        "An abstract class is a class that cannot be instantiated and is only meant to be subclassed. It contains one or more abstract methods, which are declared but not implemented in the abstract class. The responsibility of implementing these abstract methods falls on the subclass.\n",
        "\n",
        "Here's an example of how abstraction can be implemented in Python:"
      ],
      "metadata": {
        "id": "NRCXMlyxcy39"
      }
    },
    {
      "cell_type": "code",
      "execution_count": null,
      "metadata": {
        "id": "4YHb-Ry1bqN2"
      },
      "outputs": [],
      "source": [
        "from abc import ABC, abstractmethod\n",
        "\n",
        "class Account(ABC):\n",
        "    @abstractmethod\n",
        "    def get_account_number(self):\n",
        "        pass\n",
        "\n",
        "    @abstractmethod\n",
        "    def get_account_holder_name(self):\n",
        "        pass\n",
        "\n",
        "    @abstractmethod\n",
        "    def get_account_balance(self):\n",
        "        pass\n",
        "\n",
        "    def display_account_info(self):\n",
        "        print(f\"Account Number: {self.get_account_number()}\")\n",
        "        print(f\"Account Holder Name: {self.get_account_holder_name()}\")\n",
        "        print(f\"Account Balance: {self.get_account_balance()}\")\n",
        "\n",
        "class SavingsAccount(Account):\n",
        "    def __init__(self, account_number, account_holder_name, account_balance):\n",
        "        self.account_number = account_number\n",
        "        self.account_holder_name = account_holder_name\n",
        "        self.account_balance = account_balance\n",
        "\n",
        "    def get_account_number(self):\n",
        "        return self.account_number\n",
        "\n",
        "    def get_account_holder_name(self):\n",
        "        return self.account_holder_name\n",
        "\n",
        "    def get_account_balance(self):\n",
        "        return self.account_balance\n"
      ]
    },
    {
      "cell_type": "markdown",
      "source": [
        "**Q2. Differentiate between Abstraction and Encapsulation. Explain with an example.**"
      ],
      "metadata": {
        "id": "6J-jTIwxdCWX"
      }
    },
    {
      "cell_type": "markdown",
      "source": [
        "Abstraction and Encapsulation are two essential concepts in Object-Oriented Programming. While they are related, they have distinct differences.\n",
        "\n",
        "Abstraction refers to the ability to hide complex details and present only the essential features of an object or system to the user. It is achieved by defining abstract classes or interfaces that provide a high-level description of the properties and behaviors of a class or group of related classes, without specifying the details of their implementation.\n",
        "\n",
        "On the other hand, Encapsulation refers to the practice of hiding the internal details of an object and exposing only the necessary information to the user. It is achieved by using access modifiers (public, private, protected) to control the access to the class members.\n",
        "\n",
        "Here's an example that illustrates the differences between abstraction and encapsulation:"
      ],
      "metadata": {
        "id": "1ilDNNPXdNDu"
      }
    },
    {
      "cell_type": "code",
      "source": [
        "class Car:\n",
        "    def __init__(self, make, model, year, price):\n",
        "        self.make = make\n",
        "        self.model = model\n",
        "        self.year = year\n",
        "        self.price = price\n",
        "        self.__secret = \"This is a secret!\"\n",
        "\n",
        "    def display_info(self):\n",
        "        print(f\"{self.make} {self.model} ({self.year})\")\n",
        "        print(f\"Price: ${self.price}\")\n",
        "\n",
        "    def get_secret(self):\n",
        "        return self.__secret\n",
        "\n",
        "    def set_secret(self, new_secret):\n",
        "        self.__secret = new_secret\n"
      ],
      "metadata": {
        "id": "mK26OLByc74q"
      },
      "execution_count": 6,
      "outputs": []
    },
    {
      "cell_type": "markdown",
      "source": [
        "**Q3. What is abc module in python? Why is it used?**"
      ],
      "metadata": {
        "id": "A75OkGktg79R"
      }
    },
    {
      "cell_type": "markdown",
      "source": [
        "The abc module in Python stands for \"Abstract Base Classes\". It provides a way to define abstract classes in Python, which are classes that cannot be instantiated on their own but rather are meant to serve as templates for other classes.\n",
        "\n",
        "The abc module is used to implement interfaces or abstract classes, which are useful for defining a set of methods that a class must implement, without actually implementing those methods in the abstract class itself. This allows for a more organized and standardized approach to object-oriented programming in Python.\n",
        "\n",
        "The abc module provides the ABC class, which can be subclassed to create abstract classes. The ABC class provides the @abstractmethod decorator, which can be used to mark a method as abstract, and the register() method, which can be used to register a subclass as implementing the abstract class."
      ],
      "metadata": {
        "id": "WaNGC_YEhFzp"
      }
    },
    {
      "cell_type": "code",
      "source": [
        "import abc\n",
        "\n",
        "class MyAbstractClass(metaclass=abc.ABCMeta):\n",
        "\n",
        "    @abc.abstractmethod\n",
        "    def my_method(self):\n",
        "        pass\n",
        "\n",
        "class MyClass(MyAbstractClass):\n",
        "\n",
        "    def my_method(self):\n",
        "        print(\"Hello, world!\")\n",
        "\n",
        "c=MyClass()\n",
        "c.my_method()"
      ],
      "metadata": {
        "id": "JfMo2pBYdRHe",
        "colab": {
          "base_uri": "https://localhost:8080/"
        },
        "outputId": "a60d0a6a-d41e-4ebd-998a-d8caedb79bc0"
      },
      "execution_count": 4,
      "outputs": [
        {
          "output_type": "stream",
          "name": "stdout",
          "text": [
            "Hello, world!\n"
          ]
        }
      ]
    },
    {
      "cell_type": "markdown",
      "source": [
        "**Q4. How can we achieve data abstraction?**"
      ],
      "metadata": {
        "id": "JFNF8KFRheWt"
      }
    },
    {
      "cell_type": "markdown",
      "source": [
        "In Python, we can achieve data abstraction through the use of classes and objects. Abstraction is one of the key principles of object-oriented programming (OOP), and it refers to the act of hiding complexity and only exposing the essential features of an object to the user.\n"
      ],
      "metadata": {
        "id": "xh61ZKuOhkT6"
      }
    },
    {
      "cell_type": "markdown",
      "source": [
        "Here are some ways we can achieve data abstraction in Python:\n",
        "\n",
        "Using Classes and Objects: We can define classes with attributes and methods that hide the implementation details from the user. By creating objects of the class, we can interact with the attributes and methods without having to worry about how they work under the hood.\n",
        "\n",
        "Access Modifiers: Python does not have access modifiers like some other OOP languages, such as Java. However, we can achieve a similar effect by using naming conventions to indicate which attributes and methods are meant to be private (not intended to be accessed outside of the class) and which are meant to be public (intended to be accessed by other parts of the code). We can use the underscore \"_\" to indicate private attributes and methods."
      ],
      "metadata": {
        "id": "Z2_JTqE4hocJ"
      }
    },
    {
      "cell_type": "markdown",
      "source": [
        "**Q5. Can we create an instance of an abstract class? Explain your answer.**"
      ],
      "metadata": {
        "id": "SlM_xNPthqa3"
      }
    },
    {
      "cell_type": "markdown",
      "source": [
        "No, we cannot create an instance of an abstract class in Python. Abstract classes are meant to be subclassed and serve as templates for other classes, but they cannot be instantiated on their own.\n",
        "\n",
        "An abstract class is a class that contains at least one abstract method. An abstract method is a method that is declared but does not have an implementation in the abstract class. Instead, its implementation is left to the subclasses that inherit from the abstract class.\n",
        "\n",
        "Here is an example of an abstract class in Python:"
      ],
      "metadata": {
        "id": "f60bdslGhyKZ"
      }
    },
    {
      "cell_type": "code",
      "source": [
        "import abc\n",
        "\n",
        "class MyAbstractClass(metaclass=abc.ABCMeta):\n",
        "\n",
        "    @abc.abstractmethod\n",
        "    def my_method(self):\n",
        "        pass\n"
      ],
      "metadata": {
        "id": "pO56Xnw6hHnp"
      },
      "execution_count": 7,
      "outputs": []
    },
    {
      "cell_type": "code",
      "source": [
        "my_obj = MyAbstractClass()"
      ],
      "metadata": {
        "colab": {
          "base_uri": "https://localhost:8080/",
          "height": 170
        },
        "id": "D7lS1aBFh1_R",
        "outputId": "89c317d8-fae1-40bf-c743-f6cf794287e9"
      },
      "execution_count": 8,
      "outputs": [
        {
          "output_type": "error",
          "ename": "TypeError",
          "evalue": "ignored",
          "traceback": [
            "\u001b[0;31m---------------------------------------------------------------------------\u001b[0m",
            "\u001b[0;31mTypeError\u001b[0m                                 Traceback (most recent call last)",
            "\u001b[0;32m<ipython-input-8-aa03e018acd3>\u001b[0m in \u001b[0;36m<cell line: 1>\u001b[0;34m()\u001b[0m\n\u001b[0;32m----> 1\u001b[0;31m \u001b[0mmy_obj\u001b[0m \u001b[0;34m=\u001b[0m \u001b[0mMyAbstractClass\u001b[0m\u001b[0;34m(\u001b[0m\u001b[0;34m)\u001b[0m  \u001b[0;31m# TypeError: Can't instantiate abstract class MyAbstractClass with abstract methods my_method\u001b[0m\u001b[0;34m\u001b[0m\u001b[0;34m\u001b[0m\u001b[0m\n\u001b[0m",
            "\u001b[0;31mTypeError\u001b[0m: Can't instantiate abstract class MyAbstractClass with abstract method my_method"
          ]
        }
      ]
    },
    {
      "cell_type": "code",
      "source": [
        "class MyClass(MyAbstractClass):\n",
        "\n",
        "    def my_method(self):\n",
        "        print(\"Hello, world!\")\n",
        "\n",
        "my_obj = MyClass()\n",
        "my_obj.my_method()\n"
      ],
      "metadata": {
        "colab": {
          "base_uri": "https://localhost:8080/"
        },
        "id": "y6ey47D7h3AA",
        "outputId": "db71ccc2-12b0-4403-8bd3-99193973eea3"
      },
      "execution_count": 9,
      "outputs": [
        {
          "output_type": "stream",
          "name": "stdout",
          "text": [
            "Hello, world!\n"
          ]
        }
      ]
    },
    {
      "cell_type": "code",
      "source": [],
      "metadata": {
        "id": "r0Nah52Dh6DX"
      },
      "execution_count": null,
      "outputs": []
    }
  ]
}