{
  "nbformat": 4,
  "nbformat_minor": 0,
  "metadata": {
    "colab": {
      "provenance": []
    },
    "kernelspec": {
      "name": "python3",
      "display_name": "Python 3"
    },
    "language_info": {
      "name": "python"
    }
  },
  "cells": [
    {
      "cell_type": "markdown",
      "source": [
        "**Q1. Write a Python function that takes in two arrays of data and calculates the F-value for a variance ratio test. The function should return the F-value and the corresponding p-value for the test.**"
      ],
      "metadata": {
        "id": "exz_NfE0J1qo"
      }
    },
    {
      "cell_type": "code",
      "source": [
        "import numpy as np\n",
        "from scipy.stats import f\n",
        "\n",
        "def calculate_f_value(data1, data2):\n",
        "    \"\"\"\n",
        "    Calculates the F-value and p-value for a variance ratio test.\n",
        "\n",
        "    Args:\n",
        "        data1 (array-like): First array of data.\n",
        "        data2 (array-like): Second array of data.\n",
        "\n",
        "    Returns:\n",
        "        f_value (float): F-value for the variance ratio test.\n",
        "        p_value (float): p-value corresponding to the F-value.\n",
        "    \"\"\"\n",
        "    # Convert input data to numpy arrays\n",
        "    data1 = np.array(data1)\n",
        "    data2 = np.array(data2)\n",
        "\n",
        "    # Calculate the variances\n",
        "    var1 = np.var(data1, ddof=1)\n",
        "    var2 = np.var(data2, ddof=1)\n",
        "\n",
        "    # Calculate the F-value\n",
        "    f_value = var1 / var2\n",
        "\n",
        "    # Calculate the degrees of freedom\n",
        "    df1 = len(data1) - 1\n",
        "    df2 = len(data2) - 1\n",
        "\n",
        "    # Calculate the p-value\n",
        "    p_value = f.sf(f_value, df1, df2)\n",
        "\n",
        "    return f_value, p_value\n"
      ],
      "metadata": {
        "id": "TVCmZgveNFHL"
      },
      "execution_count": 1,
      "outputs": []
    },
    {
      "cell_type": "code",
      "source": [
        "# Example usage\n",
        "data1 = [1, 2, 3, 4, 5]\n",
        "data2 = [2, 4, 6, 8, 10]\n",
        "\n",
        "f_value, p_value = calculate_f_value(data1, data2)\n",
        "\n",
        "print(\"F-value:\", f_value)\n",
        "print(\"p-value:\", p_value)\n"
      ],
      "metadata": {
        "colab": {
          "base_uri": "https://localhost:8080/"
        },
        "id": "lW9jpkfNNGgT",
        "outputId": "4814837b-98d6-4950-dfe9-63bee133a97b"
      },
      "execution_count": 2,
      "outputs": [
        {
          "output_type": "stream",
          "name": "stdout",
          "text": [
            "F-value: 0.25\n",
            "p-value: 0.896\n"
          ]
        }
      ]
    },
    {
      "cell_type": "markdown",
      "source": [
        "**Q2. Given a significance level of 0.05 and the degrees of freedom for the numerator and denominator of an F-distribution, write a Python function that returns the critical F-value for a two-tailed test.**"
      ],
      "metadata": {
        "id": "dnFIRfaiJ1nW"
      }
    },
    {
      "cell_type": "code",
      "source": [
        "from scipy.stats import f\n",
        "\n",
        "def calculate_critical_f_value(significance_level, dfn, dfd):\n",
        "    \"\"\"\n",
        "    Calculates the critical F-value for a two-tailed test given a significance level and degrees of freedom.\n",
        "\n",
        "    Args:\n",
        "        significance_level (float): Significance level (alpha) for the test.\n",
        "        dfn (int): Degrees of freedom for the numerator.\n",
        "        dfd (int): Degrees of freedom for the denominator.\n",
        "\n",
        "    Returns:\n",
        "        critical_f_value (float): Critical F-value for the two-tailed test.\n",
        "    \"\"\"\n",
        "    # Calculate the critical F-value\n",
        "    critical_f_value = f.ppf(1 - significance_level / 2, dfn, dfd)\n",
        "\n",
        "    return critical_f_value\n"
      ],
      "metadata": {
        "id": "7L1mLq88NqaY"
      },
      "execution_count": 3,
      "outputs": []
    },
    {
      "cell_type": "code",
      "source": [
        "# Example usage\n",
        "significance_level = 0.05\n",
        "dfn = 3\n",
        "dfd = 20\n",
        "\n",
        "critical_f_value = calculate_critical_f_value(significance_level, dfn, dfd)\n",
        "\n",
        "print(\"Critical F-value:\", critical_f_value)\n"
      ],
      "metadata": {
        "colab": {
          "base_uri": "https://localhost:8080/"
        },
        "id": "kewjP1ioNuiQ",
        "outputId": "0588ea16-be32-4db9-bb4a-6065a4d4a465"
      },
      "execution_count": 4,
      "outputs": [
        {
          "output_type": "stream",
          "name": "stdout",
          "text": [
            "Critical F-value: 3.8586986662732143\n"
          ]
        }
      ]
    },
    {
      "cell_type": "markdown",
      "source": [
        "**Q3. Write a Python program that generates random samples from two normal distributions with known variances and uses an F-test to determine if the variances are equal. The program should output the F- value, degrees of freedom, and p-value for the test.**"
      ],
      "metadata": {
        "id": "7z9-A7PPJ1j-"
      }
    },
    {
      "cell_type": "code",
      "source": [
        "import numpy as np\n",
        "from scipy.stats import f\n",
        "\n",
        "def f_test_equal_variances(data1, data2):\n",
        "    \"\"\"\n",
        "    Performs an F-test to determine if the variances of two samples are equal.\n",
        "\n",
        "    Args:\n",
        "        data1 (array-like): First sample data.\n",
        "        data2 (array-like): Second sample data.\n",
        "\n",
        "    Returns:\n",
        "        f_value (float): F-value for the F-test.\n",
        "        dfn (int): Degrees of freedom numerator.\n",
        "        dfd (int): Degrees of freedom denominator.\n",
        "        p_value (float): p-value for the F-test.\n",
        "    \"\"\"\n",
        "    # Convert input data to numpy arrays\n",
        "    data1 = np.array(data1)\n",
        "    data2 = np.array(data2)\n",
        "\n",
        "    # Calculate the variances\n",
        "    var1 = np.var(data1, ddof=1)\n",
        "    var2 = np.var(data2, ddof=1)\n",
        "\n",
        "    # Calculate the F-value\n",
        "    f_value = var1 / var2\n",
        "\n",
        "    # Calculate the degrees of freedom\n",
        "    dfn = len(data1) - 1\n",
        "    dfd = len(data2) - 1\n",
        "\n",
        "    # Calculate the p-value\n",
        "    p_value = f.sf(f_value, dfn, dfd)\n",
        "\n",
        "    return f_value, dfn, dfd, p_value\n",
        "\n",
        "\n",
        "# Generate random samples from two normal distributions with known variances\n",
        "np.random.seed(42)  # Set the random seed for reproducibility\n",
        "mean1 = 10\n",
        "variance1 = 5\n",
        "sample_size1 = 50\n",
        "sample1 = np.random.normal(mean1, np.sqrt(variance1), sample_size1)\n",
        "\n",
        "mean2 = 12\n",
        "variance2 = 5\n",
        "sample_size2 = 50\n",
        "sample2 = np.random.normal(mean2, np.sqrt(variance2), sample_size2)\n",
        "\n",
        "# Perform F-test for equal variances\n",
        "f_value, dfn, dfd, p_value = f_test_equal_variances(sample1, sample2)\n",
        "\n",
        "# Output the results\n",
        "print(\"F-value:\", f_value)\n",
        "print(\"Degrees of freedom numerator:\", dfn)\n",
        "print(\"Degrees of freedom denominator:\", dfd)\n",
        "print(\"p-value:\", p_value)\n"
      ],
      "metadata": {
        "colab": {
          "base_uri": "https://localhost:8080/"
        },
        "id": "TIRHG6vCN0hi",
        "outputId": "f654b143-a798-4724-b3a4-1d4a8cae81a6"
      },
      "execution_count": 5,
      "outputs": [
        {
          "output_type": "stream",
          "name": "stdout",
          "text": [
            "F-value: 1.1403545383937257\n",
            "Degrees of freedom numerator: 49\n",
            "Degrees of freedom denominator: 49\n",
            "p-value: 0.3237691537542561\n"
          ]
        }
      ]
    },
    {
      "cell_type": "markdown",
      "source": [
        "**Q4.The variances of two populations are known to be 10 and 15. A sample of 12 observations is taken from each population. Conduct an F-test at the 5% significance level to determine if the variances are significantly different.**"
      ],
      "metadata": {
        "id": "0oTHKE6_J1hA"
      }
    },
    {
      "cell_type": "code",
      "source": [
        "from scipy.stats import f\n",
        "\n",
        "# Step 1: Define the hypotheses\n",
        "H0 = \"The variances of the two populations are equal.\"\n",
        "Ha = \"The variances of the two populations are significantly different.\"\n",
        "\n",
        "# Step 2: Set the significance level\n",
        "alpha = 0.05\n",
        "\n",
        "# Step 3: Calculate the F-statistic\n",
        "variance1 = 10\n",
        "variance2 = 15\n",
        "F = variance1 / variance2\n",
        "\n",
        "# Step 4: Determine the degrees of freedom\n",
        "sample_size1 = 12\n",
        "sample_size2 = 12\n",
        "dfn = sample_size1 - 1\n",
        "dfd = sample_size2 - 1\n",
        "\n",
        "# Step 5: Calculate the critical F-value\n",
        "critical_f_value = f.ppf(1 - alpha/2, dfn, dfd)\n",
        "\n",
        "# Step 6: Compare the calculated F-value with the critical F-value\n",
        "if F > critical_f_value:\n",
        "    print(\"Reject the null hypothesis.\")\n",
        "    print(Ha)\n",
        "else:\n",
        "    print(\"Fail to reject the null hypothesis.\")\n",
        "    print(H0)\n",
        "\n",
        "# Output the calculated F-value, critical F-value, and degrees of freedom\n",
        "print(\"Calculated F-value:\", F)\n",
        "print(\"Critical F-value:\", critical_f_value)\n",
        "print(\"Degrees of freedom (numerator):\", dfn)\n",
        "print(\"Degrees of freedom (denominator):\", dfd)\n"
      ],
      "metadata": {
        "colab": {
          "base_uri": "https://localhost:8080/"
        },
        "id": "exGVwCsoN4lq",
        "outputId": "67580652-163b-4fab-95e0-5461b21fac54"
      },
      "execution_count": 6,
      "outputs": [
        {
          "output_type": "stream",
          "name": "stdout",
          "text": [
            "Fail to reject the null hypothesis.\n",
            "The variances of the two populations are equal.\n",
            "Calculated F-value: 0.6666666666666666\n",
            "Critical F-value: 3.473699051085809\n",
            "Degrees of freedom (numerator): 11\n",
            "Degrees of freedom (denominator): 11\n"
          ]
        }
      ]
    },
    {
      "cell_type": "markdown",
      "source": [
        "**Q5. A manufacturer claims that the variance of the diameter of a certain product is 0.005. A sample of 25 products is taken, and the sample variance is found to be 0.006. Conduct an F-test at the 1% significance level to determine if the claim is justified.**"
      ],
      "metadata": {
        "id": "NtMcecENJ1du"
      }
    },
    {
      "cell_type": "markdown",
      "source": [
        "To conduct an F-test at the 1% significance level and determine if the manufacturer's claim about the variance of the diameter is justified, we can follow these steps:\n",
        "\n",
        "State the null hypothesis (H0) and alternative hypothesis (Ha):\n",
        "\n",
        "Null Hypothesis (H0): The variance of the diameter is equal to 0.005.\n",
        "Alternative Hypothesis (Ha): The variance of the diameter is not equal to 0.005.\n",
        "Set the significance level (alpha) to 0.01.\n",
        "\n",
        "Calculate the F-statistic using the formula:\n",
        "F = (sample variance) / (claimed variance)\n",
        "\n",
        "Determine the degrees of freedom for the F-distribution:\n",
        "\n",
        "Degrees of freedom numerator (dfn) = sample size - 1\n",
        "Degrees of freedom denominator (dfd) = sample size - 1\n",
        "Calculate the critical F-value using the significance level and degrees of freedom:\n",
        "\n",
        "Critical F-value = F-distribution inverse cumulative distribution function (1 - alpha/2, dfn, dfd)\n",
        "Compare the calculated F-value with the critical F-value:\n",
        "\n",
        "If the calculated F-value is greater than the critical F-value or smaller than the inverse of the critical F-value, reject the null hypothesis.\n",
        "If the calculated F-value is between the critical F-value and the inverse of the critical F-value, fail to reject the null hypothesis."
      ],
      "metadata": {
        "id": "bQRc9hgyOAFE"
      }
    },
    {
      "cell_type": "code",
      "source": [
        "from scipy.stats import f\n",
        "\n",
        "# Step 1: Define the hypotheses\n",
        "H0 = \"The variance of the diameter is equal to 0.005.\"\n",
        "Ha = \"The variance of the diameter is not equal to 0.005.\"\n",
        "\n",
        "# Step 2: Set the significance level\n",
        "alpha = 0.01\n",
        "\n",
        "# Step 3: Calculate the F-statistic\n",
        "sample_variance = 0.006\n",
        "claimed_variance = 0.005\n",
        "F = sample_variance / claimed_variance\n",
        "\n",
        "# Step 4: Determine the degrees of freedom\n",
        "sample_size = 25\n",
        "dfn = sample_size - 1\n",
        "dfd = sample_size - 1\n",
        "\n",
        "# Step 5: Calculate the critical F-value\n",
        "critical_f_value_lower = f.ppf(alpha/2, dfn, dfd)\n",
        "critical_f_value_upper = f.ppf(1 - alpha/2, dfn, dfd)\n",
        "\n",
        "# Step 6: Compare the calculated F-value with the critical F-value\n",
        "if F < critical_f_value_lower or F > critical_f_value_upper:\n",
        "    print(\"Reject the null hypothesis.\")\n",
        "    print(Ha)\n",
        "else:\n",
        "    print(\"Fail to reject the null hypothesis.\")\n",
        "    print(H0)\n",
        "\n",
        "# Output the calculated F-value, critical F-values, and degrees of freedom\n",
        "print(\"Calculated F-value:\", F)\n",
        "print(\"Critical F-value (Lower):\", critical_f_value_lower)\n",
        "print(\"Critical F-value (Upper):\", critical_f_value_upper)\n",
        "print(\"Degrees of freedom (numerator and denominator):\", dfn)\n"
      ],
      "metadata": {
        "colab": {
          "base_uri": "https://localhost:8080/"
        },
        "id": "W6T3EZ1aOB8E",
        "outputId": "e832904c-2098-4b17-ee3f-9446c3014d5d"
      },
      "execution_count": 7,
      "outputs": [
        {
          "output_type": "stream",
          "name": "stdout",
          "text": [
            "Fail to reject the null hypothesis.\n",
            "The variance of the diameter is equal to 0.005.\n",
            "Calculated F-value: 1.2\n",
            "Critical F-value (Lower): 0.3370701342685674\n",
            "Critical F-value (Upper): 2.966741631292762\n",
            "Degrees of freedom (numerator and denominator): 24\n"
          ]
        }
      ]
    },
    {
      "cell_type": "markdown",
      "source": [
        "**Q6. Write a Python function that takes in the degrees of freedom for the numerator and denominator of an F-distribution and calculates the mean and variance of the distribution. The function should return the mean and variance as a tuple.**"
      ],
      "metadata": {
        "id": "R4sSIQk2J1a2"
      }
    },
    {
      "cell_type": "code",
      "source": [
        "def calculate_f_distribution_stats(dfn, dfd):\n",
        "    \"\"\"\n",
        "    Calculates the mean and variance of an F-distribution given the degrees of freedom for the numerator and denominator.\n",
        "\n",
        "    Args:\n",
        "        dfn (int): Degrees of freedom for the numerator.\n",
        "        dfd (int): Degrees of freedom for the denominator.\n",
        "\n",
        "    Returns:\n",
        "        mean (float): Mean of the F-distribution.\n",
        "        variance (float): Variance of the F-distribution.\n",
        "    \"\"\"\n",
        "    # Calculate the mean\n",
        "    if dfd > 2:\n",
        "        mean = dfd / (dfd - 2)\n",
        "    else:\n",
        "        mean = float('inf')  # F-distribution mean is undefined for dfd <= 2\n",
        "\n",
        "    # Calculate the variance\n",
        "    if dfd > 4:\n",
        "        variance = (2 * (dfd ** 2) * (dfn + dfd - 2)) / (dfn * (dfd - 2) ** 2 * (dfd - 4))\n",
        "    else:\n",
        "        variance = float('inf')  # F-distribution variance is undefined for dfd <= 4\n",
        "\n",
        "    return mean, variance\n"
      ],
      "metadata": {
        "id": "Sk3y6QtSOEV9"
      },
      "execution_count": 8,
      "outputs": []
    },
    {
      "cell_type": "code",
      "source": [
        "dfn = 5\n",
        "dfd = 8\n",
        "\n",
        "mean, variance = calculate_f_distribution_stats(dfn, dfd)\n",
        "\n",
        "print(\"Mean:\", mean)\n",
        "print(\"Variance:\", variance)\n"
      ],
      "metadata": {
        "colab": {
          "base_uri": "https://localhost:8080/"
        },
        "id": "oHN18qLZOHJO",
        "outputId": "26033fd2-c64a-4487-a94e-439b6361025e"
      },
      "execution_count": 10,
      "outputs": [
        {
          "output_type": "stream",
          "name": "stdout",
          "text": [
            "Mean: 1.3333333333333333\n",
            "Variance: 1.9555555555555555\n"
          ]
        }
      ]
    },
    {
      "cell_type": "markdown",
      "source": [
        "**Q7. A random sample of 10 measurements is taken from a normal population with unknown variance. The sample variance is found to be 25. Another random sample of 15 measurements is taken from another normal population with unknown variance, and the sample variance is found to be 20. Conduct an F-test at the 10% significance level to determine if the variances are significantly different.**"
      ],
      "metadata": {
        "id": "LshRbRnvJ1Xf"
      }
    },
    {
      "cell_type": "markdown",
      "source": [
        "\n",
        "ChatGPT\n",
        "To conduct an F-test at the 10% significance level and determine if the variances of the two populations are significantly different, we can follow these steps:\n",
        "\n",
        "State the null hypothesis (H0) and alternative hypothesis (Ha):\n",
        "\n",
        "Null Hypothesis (H0): The variances of the two populations are equal.\n",
        "Alternative Hypothesis (Ha): The variances of the two populations are significantly different.\n",
        "Set the significance level (alpha) to 0.10.\n",
        "\n",
        "Calculate the F-statistic using the formula:\n",
        "F = (larger sample variance) / (smaller sample variance)\n",
        "\n",
        "Determine the degrees of freedom for the F-distribution:\n",
        "\n",
        "Degrees of freedom numerator (dfn) = sample size of the larger sample - 1\n",
        "Degrees of freedom denominator (dfd) = sample size of the smaller sample - 1\n",
        "Calculate the critical F-value using the significance level and degrees of freedom:\n",
        "\n",
        "Critical F-value = F-distribution inverse cumulative distribution function (1 - alpha/2, dfn, dfd)\n",
        "Compare the calculated F-value with the critical F-value:\n",
        "\n",
        "If the calculated F-value is greater than the critical F-value or smaller than the inverse of the critical F-value, reject the null hypothesis.\n",
        "If the calculated F-value is between the critical F-value and the inverse of the critical F-value, fail to reject the null hypothesis.\n",
        "Let's apply these steps to the given scenario:"
      ],
      "metadata": {
        "id": "uLdH1gs1OTNI"
      }
    },
    {
      "cell_type": "code",
      "source": [
        "from scipy.stats import f\n",
        "\n",
        "# Step 1: Define the hypotheses\n",
        "H0 = \"The variances of the two populations are equal.\"\n",
        "Ha = \"The variances of the two populations are significantly different.\"\n",
        "\n",
        "# Step 2: Set the significance level\n",
        "alpha = 0.10\n",
        "\n",
        "# Step 3: Calculate the F-statistic\n",
        "sample_variance1 = 25\n",
        "sample_variance2 = 20\n",
        "F = sample_variance1 / sample_variance2\n",
        "\n",
        "# Step 4: Determine the degrees of freedom\n",
        "sample_size1 = 10\n",
        "sample_size2 = 15\n",
        "dfn = sample_size2 - 1\n",
        "dfd = sample_size1 - 1\n",
        "\n",
        "# Step 5: Calculate the critical F-value\n",
        "critical_f_value_lower = f.ppf(alpha/2, dfn, dfd)\n",
        "critical_f_value_upper = f.ppf(1 - alpha/2, dfn, dfd)\n",
        "\n",
        "# Step 6: Compare the calculated F-value with the critical F-value\n",
        "if F < critical_f_value_lower or F > critical_f_value_upper:\n",
        "    print(\"Reject the null hypothesis.\")\n",
        "    print(Ha)\n",
        "else:\n",
        "    print(\"Fail to reject the null hypothesis.\")\n",
        "    print(H0)\n",
        "\n",
        "# Output the calculated F-value, critical F-values, and degrees of freedom\n",
        "print(\"Calculated F-value:\", F)\n",
        "print(\"Critical F-value (Lower):\", critical_f_value_lower)\n",
        "print(\"Critical F-value (Upper):\", critical_f_value_upper)\n",
        "print(\"Degrees of freedom (numerator):\", dfn)\n",
        "print(\"Degrees of freedom (denominator):\", dfd)\n"
      ],
      "metadata": {
        "colab": {
          "base_uri": "https://localhost:8080/"
        },
        "id": "PE8LSUWDOVGJ",
        "outputId": "86fc40b3-a799-4076-fb31-2a76e8440449"
      },
      "execution_count": 11,
      "outputs": [
        {
          "output_type": "stream",
          "name": "stdout",
          "text": [
            "Fail to reject the null hypothesis.\n",
            "The variances of the two populations are equal.\n",
            "Calculated F-value: 1.25\n",
            "Critical F-value (Lower): 0.37795884106897293\n",
            "Critical F-value (Upper): 3.0254727242822095\n",
            "Degrees of freedom (numerator): 14\n",
            "Degrees of freedom (denominator): 9\n"
          ]
        }
      ]
    },
    {
      "cell_type": "markdown",
      "source": [
        "**Q8. The following data represent the waiting times in minutes at two different restaurants on a Saturday night: Restaurant A: 24, 25, 28, 23, 22, 20, 27; Restaurant B: 31, 33, 35, 30, 32, 36. Conduct an F-test at the 5% significance level to determine if the variances are significantly different.**"
      ],
      "metadata": {
        "id": "fxMznB7wKhpT"
      }
    },
    {
      "cell_type": "markdown",
      "source": [
        "To conduct an F-test at the 5% significance level and determine if the variances of the waiting times at Restaurant A and Restaurant B are significantly different, we can follow these steps:\n",
        "\n",
        "State the null hypothesis (H0) and alternative hypothesis (Ha):\n",
        "\n",
        "Null Hypothesis (H0): The variances of the waiting times at Restaurant A and Restaurant B are equal.\n",
        "Alternative Hypothesis (Ha): The variances of the waiting times at Restaurant A and Restaurant B are significantly different.\n",
        "Set the significance level (alpha) to 0.05.\n",
        "\n",
        "Calculate the F-statistic using the formula:\n",
        "F = (sample variance of Restaurant A) / (sample variance of Restaurant B)\n",
        "\n",
        "Determine the degrees of freedom for the F-distribution:\n",
        "\n",
        "Degrees of freedom numerator (dfn) = sample size of Restaurant A - 1\n",
        "Degrees of freedom denominator (dfd) = sample size of Restaurant B - 1\n",
        "Calculate the critical F-value using the significance level and degrees of freedom:\n",
        "\n",
        "Critical F-value = F-distribution inverse cumulative distribution function (1 - alpha/2, dfn, dfd)\n",
        "Compare the calculated F-value with the critical F-value:\n",
        "\n",
        "If the calculated F-value is greater than the critical F-value or smaller than the inverse of the critical F-value, reject the null hypothesis.\n",
        "If the calculated F-value is between the critical F-value and the inverse of the critical F-value, fail to reject the null hypothesis.\n",
        "Let's apply these steps to the given scenario:"
      ],
      "metadata": {
        "id": "GOATtOWbOblS"
      }
    },
    {
      "cell_type": "code",
      "source": [
        "from scipy.stats import f\n",
        "\n",
        "# Step 1: Define the hypotheses\n",
        "H0 = \"The variances of the waiting times at Restaurant A and Restaurant B are equal.\"\n",
        "Ha = \"The variances of the waiting times at Restaurant A and Restaurant B are significantly different.\"\n",
        "\n",
        "# Step 2: Set the significance level\n",
        "alpha = 0.05\n",
        "\n",
        "# Step 3: Calculate the F-statistic\n",
        "sample_variance_A = [24, 25, 28, 23, 22, 20, 27]\n",
        "sample_variance_B = [31, 33, 35, 30, 32, 36]\n",
        "variance_A = np.var(sample_variance_A, ddof=1)\n",
        "variance_B = np.var(sample_variance_B, ddof=1)\n",
        "F = variance_A / variance_B\n",
        "\n",
        "# Step 4: Determine the degrees of freedom\n",
        "sample_size_A = len(sample_variance_A)\n",
        "sample_size_B = len(sample_variance_B)\n",
        "dfn = sample_size_A - 1\n",
        "dfd = sample_size_B - 1\n",
        "\n",
        "# Step 5: Calculate the critical F-value\n",
        "critical_f_value_lower = f.ppf(alpha/2, dfn, dfd)\n",
        "critical_f_value_upper = f.ppf(1 - alpha/2, dfn, dfd)\n",
        "\n",
        "# Step 6: Compare the calculated F-value with the critical F-value\n",
        "if F < critical_f_value_lower or F > critical_f_value_upper:\n",
        "    print(\"Reject the null hypothesis.\")\n",
        "    print(Ha)\n",
        "else:\n",
        "    print(\"Fail to reject the null hypothesis.\")\n",
        "    print(H0)\n",
        "\n",
        "# Output the calculated F-value, critical F-values, and degrees of freedom\n",
        "print(\"Calculated F-value:\", F)\n",
        "print(\"Critical F-value (Lower):\", critical_f_value_lower)\n",
        "print(\"Critical F-value (Upper):\", critical_f_value_upper)\n",
        "print(\"Degrees of freedom (numerator):\", dfn)\n",
        "print(\"Degrees of freedom (denominator):\", dfd)\n"
      ],
      "metadata": {
        "colab": {
          "base_uri": "https://localhost:8080/"
        },
        "id": "_bulfDtVOdLJ",
        "outputId": "aebbbff9-4eef-4fd0-f391-a144965c523e"
      },
      "execution_count": 12,
      "outputs": [
        {
          "output_type": "stream",
          "name": "stdout",
          "text": [
            "Fail to reject the null hypothesis.\n",
            "The variances of the waiting times at Restaurant A and Restaurant B are equal.\n",
            "Calculated F-value: 1.4551907719609583\n",
            "Critical F-value (Lower): 0.16701279718024772\n",
            "Critical F-value (Upper): 6.977701858535566\n",
            "Degrees of freedom (numerator): 6\n",
            "Degrees of freedom (denominator): 5\n"
          ]
        }
      ]
    },
    {
      "cell_type": "markdown",
      "source": [
        "**Q9. The following data represent the test scores of two groups of students: Group A: 80, 85, 90, 92, 87, 83; Group B: 75, 78, 82, 79, 81, 84. Conduct an F-test at the 1% significance level to determine if the variances are significantly different.**"
      ],
      "metadata": {
        "id": "KaYngGhzKhlb"
      }
    },
    {
      "cell_type": "markdown",
      "source": [
        "To conduct an F-test at the 1% significance level and determine if the variances of the test scores of Group A and Group B are significantly different, we can follow these steps:\n",
        "\n",
        "State the null hypothesis (H0) and alternative hypothesis (Ha):\n",
        "\n",
        "Null Hypothesis (H0): The variances of the test scores of Group A and Group B are equal.\n",
        "Alternative Hypothesis (Ha): The variances of the test scores of Group A and Group B are significantly different.\n",
        "Set the significance level (alpha) to 0.01.\n",
        "\n",
        "Calculate the F-statistic using the formula:\n",
        "F = (sample variance of Group A) / (sample variance of Group B)\n",
        "\n",
        "Determine the degrees of freedom for the F-distribution:\n",
        "\n",
        "Degrees of freedom numerator (dfn) = sample size of Group A - 1\n",
        "Degrees of freedom denominator (dfd) = sample size of Group B - 1\n",
        "Calculate the critical F-value using the significance level and degrees of freedom:\n",
        "\n",
        "Critical F-value = F-distribution inverse cumulative distribution function (1 - alpha/2, dfn, dfd)\n",
        "Compare the calculated F-value with the critical F-value:\n",
        "\n",
        "If the calculated F-value is greater than the critical F-value or smaller than the inverse of the critical F-value, reject the null hypothesis.\n",
        "If the calculated F-value is between the critical F-value and the inverse of the critical F-value, fail to reject the null hypothesis.\n",
        "Let's apply these steps to the given scenario:"
      ],
      "metadata": {
        "id": "BcDkuAcHOhja"
      }
    },
    {
      "cell_type": "code",
      "source": [
        "from scipy.stats import f\n",
        "\n",
        "# Step 1: Define the hypotheses\n",
        "H0 = \"The variances of the test scores of Group A and Group B are equal.\"\n",
        "Ha = \"The variances of the test scores of Group A and Group B are significantly different.\"\n",
        "\n",
        "# Step 2: Set the significance level\n",
        "alpha = 0.01\n",
        "\n",
        "# Step 3: Calculate the F-statistic\n",
        "group_A_scores = [80, 85, 90, 92, 87, 83]\n",
        "group_B_scores = [75, 78, 82, 79, 81, 84]\n",
        "variance_A = np.var(group_A_scores, ddof=1)\n",
        "variance_B = np.var(group_B_scores, ddof=1)\n",
        "F = variance_A / variance_B\n",
        "\n",
        "# Step 4: Determine the degrees of freedom\n",
        "sample_size_A = len(group_A_scores)\n",
        "sample_size_B = len(group_B_scores)\n",
        "dfn = sample_size_A - 1\n",
        "dfd = sample_size_B - 1\n",
        "\n",
        "# Step 5: Calculate the critical F-value\n",
        "critical_f_value_lower = f.ppf(alpha/2, dfn, dfd)\n",
        "critical_f_value_upper = f.ppf(1 - alpha/2, dfn, dfd)\n",
        "\n",
        "# Step 6: Compare the calculated F-value with the critical F-value\n",
        "if F < critical_f_value_lower or F > critical_f_value_upper:\n",
        "    print(\"Reject the null hypothesis.\")\n",
        "    print(Ha)\n",
        "else:\n",
        "    print(\"Fail to reject the null hypothesis.\")\n",
        "    print(H0)\n",
        "\n",
        "# Output the calculated F-value, critical F-values, and degrees of freedom\n",
        "print(\"Calculated F-value:\", F)\n",
        "print(\"Critical F-value (Lower):\", critical_f_value_lower)\n",
        "print(\"Critical F-value (Upper):\", critical_f_value_upper)\n",
        "print(\"Degrees of freedom (numerator):\", dfn)\n",
        "print(\"Degrees of freedom (denominator):\", dfd)\n"
      ],
      "metadata": {
        "id": "8r98sMGKOkXj",
        "outputId": "6e18b1ec-e5b7-44b4-b3ac-6324c0232b83",
        "colab": {
          "base_uri": "https://localhost:8080/"
        }
      },
      "execution_count": 13,
      "outputs": [
        {
          "output_type": "stream",
          "name": "stdout",
          "text": [
            "Fail to reject the null hypothesis.\n",
            "The variances of the test scores of Group A and Group B are equal.\n",
            "Calculated F-value: 1.9442622950819677\n",
            "Critical F-value (Lower): 0.066936171954696\n",
            "Critical F-value (Upper): 14.939605459912224\n",
            "Degrees of freedom (numerator): 5\n",
            "Degrees of freedom (denominator): 5\n"
          ]
        }
      ]
    },
    {
      "cell_type": "code",
      "source": [],
      "metadata": {
        "id": "7It9lZG9Ol2k"
      },
      "execution_count": null,
      "outputs": []
    }
  ]
}