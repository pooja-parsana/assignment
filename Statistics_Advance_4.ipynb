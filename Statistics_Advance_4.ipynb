{
  "nbformat": 4,
  "nbformat_minor": 0,
  "metadata": {
    "colab": {
      "provenance": []
    },
    "kernelspec": {
      "name": "python3",
      "display_name": "Python 3"
    },
    "language_info": {
      "name": "python"
    }
  },
  "cells": [
    {
      "cell_type": "markdown",
      "source": [
        "**Q1: What is the difference between a t-test and a z-test? Provide an example scenario where you would use each type of test.**"
      ],
      "metadata": {
        "id": "I4OK1eTSivTw"
      }
    },
    {
      "cell_type": "markdown",
      "source": [
        "The main difference between a t-test and a z-test lies in the information available about the population standard deviation. Here's a comparison of the two tests:\n",
        "\n",
        "1. Z-test:\n",
        "   - Used when the population standard deviation (σ) is known or when the sample size is large (typically n > 30).\n",
        "   - The test statistic follows a standard normal distribution (z-distribution).\n",
        "   - Example scenario: Suppose a car manufacturer claims that their cars have an average fuel efficiency of 30 miles per gallon, and you want to test if the average fuel efficiency of a sample of 100 cars is significantly different from this claim. Since the population standard deviation is known (σ), you can use a z-test.\n",
        "\n",
        "2. T-test:\n",
        "   - Used when the population standard deviation (σ) is unknown and has to be estimated from the sample or when the sample size is small (typically n < 30).\n",
        "   - The test statistic follows a t-distribution.\n",
        "   - Example scenario: Suppose you want to compare the average test scores of two groups of students who were taught using different teaching methods. You have a sample of 25 students from each group, and you don't know the population standard deviation. In this case, you would use a t-test to assess if there is a significant difference between the means of the two groups.\n",
        "\n",
        "In summary, a z-test is used when the population standard deviation is known or when the sample size is large, while a t-test is used when the population standard deviation is unknown or when the sample size is small."
      ],
      "metadata": {
        "id": "Wx4vzQylkcJZ"
      }
    },
    {
      "cell_type": "markdown",
      "source": [
        "**Q2: Differentiate between one-tailed and two-tailed tests.**"
      ],
      "metadata": {
        "id": "ju1Q70WgivK6"
      }
    },
    {
      "cell_type": "markdown",
      "source": [
        "In hypothesis testing, one-tailed and two-tailed tests refer to the directionality of the alternative hypothesis.\n",
        "\n",
        "1. One-tailed test:\n",
        "   - Also known as a one-sided test.\n",
        "   - The alternative hypothesis specifies the direction of the effect or difference being tested.\n",
        "   - The critical region is on one side of the sampling distribution.\n",
        "   - Example: Testing if a new drug increases test scores, with the alternative hypothesis stating that the drug's effect is greater than zero. Here, we are only interested in detecting an increase, so the test is one-tailed.\n",
        "\n",
        "2. Two-tailed test:\n",
        "   - Also known as a two-sided test.\n",
        "   - The alternative hypothesis does not specify the direction of the effect or difference being tested.\n",
        "   - The critical region is split between both sides of the sampling distribution.\n",
        "   - Example: Testing if a coin is biased, with the alternative hypothesis stating that the coin's probability of heads is not equal to 0.5. Here, we are interested in detecting any deviation from 0.5, whether it is a higher or lower probability, so the test is two-tailed.\n",
        "\n",
        "In summary, a one-tailed test focuses on detecting an effect or difference in a specific direction specified by the alternative hypothesis, while a two-tailed test is more general and aims to detect any significant deviation from the null hypothesis, regardless of the direction. The choice between the two depends on the specific research question and the nature of the hypothesis being tested."
      ],
      "metadata": {
        "id": "QIkxjv9YkizY"
      }
    },
    {
      "cell_type": "markdown",
      "source": [
        "**Q3: Explain the concept of Type 1 and Type 2 errors in hypothesis testing. Provide an example scenario for each type of error.**"
      ],
      "metadata": {
        "id": "POx6mAclivHX"
      }
    },
    {
      "cell_type": "markdown",
      "source": [
        "In hypothesis testing, Type 1 and Type 2 errors are associated with making incorrect conclusions based on the results of a hypothesis test.\n",
        "\n",
        "1. Type 1 error (False Positive):\n",
        "   - A Type 1 error occurs when the null hypothesis is true, but we incorrectly reject it and conclude that the alternative hypothesis is true.\n",
        "   - It represents the probability of rejecting a true null hypothesis.\n",
        "   - The significance level (α) determines the maximum acceptable probability of making a Type 1 error.\n",
        "   - Example scenario: Let's say a pharmaceutical company conducts a clinical trial to test a new drug's effectiveness. The null hypothesis is that the drug has no effect, but due to random variation or other factors, the statistical analysis leads to the rejection of the null hypothesis and the conclusion that the drug is effective. However, in reality, the drug may not actually have any effect, and this conclusion would be a Type 1 error.\n",
        "\n",
        "2. Type 2 error (False Negative):\n",
        "   - A Type 2 error occurs when the null hypothesis is false, but we fail to reject it and incorrectly accept the null hypothesis.\n",
        "   - It represents the probability of failing to reject a false null hypothesis.\n",
        "   - The power of a statistical test (1 - β) is the probability of correctly rejecting a false null hypothesis and avoiding a Type 2 error.\n",
        "   - Example scenario: Suppose a diagnostic test is designed to detect a specific disease. The null hypothesis is that the person does not have the disease. However, due to limitations of the test or other factors, the statistical analysis fails to reject the null hypothesis, leading to the incorrect conclusion that the person is disease-free. In reality, the person may have the disease, resulting in a Type 2 error.\n",
        "\n",
        "In hypothesis testing, the goal is to strike a balance between controlling Type 1 and Type 2 errors by setting an appropriate significance level (α) and considering the power of the test. The specific consequences and implications of Type 1 and Type 2 errors vary depending on the context and the specific application of the hypothesis test."
      ],
      "metadata": {
        "id": "j0KF_A3wkk7U"
      }
    },
    {
      "cell_type": "markdown",
      "source": [
        "**Q4: Explain Bayes's theorem with an example.**"
      ],
      "metadata": {
        "id": "a3pQxOflivCD"
      }
    },
    {
      "cell_type": "markdown",
      "source": [
        "Bayes's theorem is a fundamental concept in probability theory and statistics that describes how to update the probability of an event based on new evidence or information. It provides a way to calculate the conditional probability of an event given prior knowledge or beliefs.\n",
        "\n",
        "Bayes's theorem can be stated as follows:\n",
        "\n",
        "P(A|B) = (P(B|A) * P(A)) / P(B)\n",
        "\n",
        "Where:\n",
        "- P(A|B) represents the probability of event A given event B (the posterior probability).\n",
        "- P(B|A) represents the probability of event B given event A (the likelihood).\n",
        "- P(A) represents the prior probability of event A.\n",
        "- P(B) represents the prior probability of event B.\n",
        "\n",
        "To illustrate Bayes's theorem, let's consider an example:\n",
        "\n",
        "Suppose there is a rare disease that affects 1% of the population. A diagnostic test has been developed to detect the presence of the disease, but it is not perfect. The test has a false positive rate of 5%, meaning that it falsely indicates a positive result in 5% of healthy individuals. The test also has a false negative rate of 2%, meaning that it incorrectly indicates a negative result in 2% of individuals who have the disease.\n",
        "\n",
        "Now, let's say a person receives a positive test result. We want to know the probability that the person actually has the disease.\n",
        "\n",
        "Let's use the following notation:\n",
        "- A: The person has the disease.\n",
        "- B: The test result is positive.\n",
        "\n",
        "Using Bayes's theorem, we can calculate the probability of the person having the disease given a positive test result (P(A|B)).\n",
        "\n",
        "P(A|B) = (P(B|A) * P(A)) / P(B)\n",
        "\n",
        "Given:\n",
        "- P(A) = 0.01 (1% of the population has the disease)\n",
        "- P(B|A) = 0.98 (the test correctly detects the disease in 98% of cases)\n",
        "- P(B|not A) = 0.05 (the test incorrectly indicates a positive result in 5% of healthy individuals)\n",
        "\n",
        "We need to calculate P(B), which represents the overall probability of a positive test result.\n",
        "\n",
        "P(B) = P(B|A) * P(A) + P(B|not A) * P(not A)\n",
        "      = 0.98 * 0.01 + 0.05 * 0.99\n",
        "      = 0.0299\n",
        "\n",
        "Now we can calculate P(A|B) using Bayes's theorem:\n",
        "\n",
        "P(A|B) = (P(B|A) * P(A)) / P(B)\n",
        "       = (0.98 * 0.01) / 0.0299\n",
        "       ≈ 0.326\n",
        "\n",
        "So, given a positive test result, the probability that the person actually has the disease is approximately 0.326 or 32.6%.\n",
        "\n",
        "Bayes's theorem allows us to update our probability or belief in an event based on new evidence or information, taking into account the prior probability and the conditional probabilities associated with the evidence."
      ],
      "metadata": {
        "id": "jElLcGw3knTq"
      }
    },
    {
      "cell_type": "markdown",
      "source": [
        "**Q5: What is a confidence interval? How to calculate the confidence interval, explain with an example.**"
      ],
      "metadata": {
        "id": "DHEx3cQsiu-h"
      }
    },
    {
      "cell_type": "markdown",
      "source": [
        "A confidence interval is a range of values that provides an estimate of the unknown population parameter with a certain level of confidence. It quantifies the uncertainty associated with estimating a parameter based on a sample.\n",
        "\n",
        "The confidence interval consists of two parts: the point estimate and the margin of error. The point estimate is the sample statistic (e.g., the sample mean or proportion) that serves as the best estimate of the population parameter. The margin of error represents the range of values around the point estimate within which the true population parameter is likely to fall.\n",
        "\n",
        "To calculate a confidence interval, the following steps are typically followed:\n",
        "\n",
        "Step 1: Determine the confidence level:\n",
        "The confidence level represents the desired level of confidence or the probability that the interval contains the true population parameter. Common confidence levels include 90%, 95%, and 99%.\n",
        "\n",
        "Step 2: Collect a sample and calculate the sample statistic:\n",
        "Collect a representative sample from the population of interest and calculate the appropriate sample statistic, such as the sample mean, sample proportion, or sample standard deviation.\n",
        "\n",
        "Step 3: Determine the critical value:\n",
        "The critical value is determined based on the chosen confidence level and the distribution associated with the sample statistic. The critical value corresponds to the number of standard deviations away from the mean in a standard distribution.\n",
        "\n",
        "Step 4: Calculate the margin of error:\n",
        "The margin of error is calculated by multiplying the critical value by the standard error, which measures the variability or uncertainty in the sample statistic.\n",
        "\n",
        "Step 5: Construct the confidence interval:\n",
        "Combine the point estimate (sample statistic) with the margin of error to form the confidence interval.\n",
        "\n",
        "Here's an example to illustrate the calculation of a confidence interval:\n",
        "\n",
        "Suppose a researcher wants to estimate the average height of a population. They collect a random sample of 100 individuals and measure their heights. The sample mean height is 170 cm, and the sample standard deviation is 5 cm.\n",
        "\n",
        "Step 1: Determine the confidence level:\n",
        "Let's choose a 95% confidence level, which corresponds to a significance level (α) of 0.05.\n",
        "\n",
        "Step 2: Calculate the sample statistic:\n",
        "The sample mean height is 170 cm.\n",
        "\n",
        "Step 3: Determine the critical value:\n",
        "Since the sample size is large and the population standard deviation is unknown, we can use the t-distribution. With a 95% confidence level and 99 degrees of freedom (n - 1 = 100 - 1 = 99), the critical value is approximately 1.984.\n",
        "\n",
        "Step 4: Calculate the margin of error:\n",
        "The margin of error is calculated by multiplying the critical value by the standard error. The standard error (SE) is given by the sample standard deviation divided by the square root of the sample size: SE = 5 / √100 = 0.5.\n",
        "\n",
        "The margin of error is 1.984 * 0.5 ≈ 0.992.\n",
        "\n",
        "Step 5: Construct the confidence interval:\n",
        "The confidence interval is given by the sample mean plus or minus the margin of error: 170 ± 0.992.\n",
        "\n",
        "Therefore, the 95% confidence interval for the population mean height is approximately (169.008, 170.992) cm. This means that we can be 95% confident that the true average height of the population falls within this interval based on the given sample data."
      ],
      "metadata": {
        "id": "Loym7y1RkrSx"
      }
    },
    {
      "cell_type": "markdown",
      "source": [
        "**Q6. Use Bayes' Theorem to calculate the probability of an event occurring given prior knowledge of the event's probability and new evidence. Provide a sample problem and solution.**"
      ],
      "metadata": {
        "id": "67WQ_6kIiu7C"
      }
    },
    {
      "cell_type": "markdown",
      "source": [
        "Certainly! Let's work through a sample problem using Bayes' Theorem to calculate the probability of an event occurring given prior knowledge and new evidence.\n",
        "\n",
        "Problem:\n",
        "Suppose there is a rare disease that affects 1 in every 1000 individuals in a population. A diagnostic test for this disease has been developed, which has a sensitivity of 95% (correctly detects the disease in 95% of cases) and a specificity of 98% (correctly identifies individuals without the disease in 98% of cases). If a randomly selected person tests positive for the disease, what is the probability that they actually have the disease?\n",
        "\n",
        "Solution:\n",
        "To solve this problem, let's define the events:\n",
        "\n",
        "A: The person has the disease.\n",
        "B: The person tests positive for the disease.\n",
        "\n",
        "We want to find P(A|B), the probability that the person has the disease given a positive test result.\n",
        "\n",
        "Using Bayes' Theorem:\n",
        "\n",
        "P(A|B) = (P(B|A) * P(A)) / P(B)\n",
        "\n",
        "Given:\n",
        "P(A) = 1/1000 (Prior probability of having the disease)\n",
        "P(B|A) = 0.95 (Probability of testing positive given that the person has the disease)\n",
        "P(not A) = 1 - P(A) = 999/1000 (Prior probability of not having the disease)\n",
        "P(B|not A) = 1 - 0.98 = 0.02 (Probability of testing positive given that the person does not have the disease)\n",
        "\n",
        "We need to calculate P(B), the probability of testing positive, which can be done using the law of total probability:\n",
        "\n",
        "P(B) = P(B|A) * P(A) + P(B|not A) * P(not A)\n",
        "\n",
        "P(B) = 0.95 * (1/1000) + 0.02 * (999/1000)\n",
        "\n",
        "Now we can calculate P(A|B) using Bayes' Theorem:\n",
        "\n",
        "P(A|B) = (P(B|A) * P(A)) / P(B)\n",
        "\n",
        "P(A|B) = (0.95 * (1/1000)) / P(B)\n",
        "\n",
        "Substituting the values:\n",
        "\n",
        "P(A|B) = (0.95 * (1/1000)) / ((0.95 * (1/1000)) + (0.02 * (999/1000)))\n",
        "\n",
        "After performing the calculations, we find that P(A|B) is approximately 0.045 or 4.5%.\n",
        "\n",
        "Therefore, given a positive test result, the probability that the person actually has the disease is approximately 4.5% based on the given sensitivity, specificity, and prevalence of the disease."
      ],
      "metadata": {
        "id": "Q4yPckTtku55"
      }
    },
    {
      "cell_type": "markdown",
      "source": [
        "**Q7. Calculate the 95% confidence interval for a sample of data with a mean of 50 and a standard deviation of 5. Interpret the results.**"
      ],
      "metadata": {
        "id": "raRTqShPiu3x"
      }
    },
    {
      "cell_type": "markdown",
      "source": [
        "To calculate the 95% confidence interval for a sample of data with a mean of 50 and a standard deviation of 5, we will use the formula:\n",
        "\n",
        "Confidence Interval = Sample Mean ± (Critical Value * Standard Error)\n",
        "\n",
        "Given:\n",
        "Sample Mean (x̄) = 50\n",
        "Standard Deviation (σ) = 5\n",
        "Confidence Level = 95%\n",
        "\n",
        "Step 1: Determine the critical value\n",
        "The critical value depends on the desired confidence level and the sample size. For a 95% confidence level and a large sample size (assuming a normal distribution), the critical value is approximately 1.96.\n",
        "\n",
        "Step 2: Calculate the standard error\n",
        "The standard error (SE) measures the variability or uncertainty in the sample mean and is calculated using the formula:\n",
        "\n",
        "Standard Error (SE) = σ / √n\n",
        "\n",
        "where n is the sample size. Since the sample size is not provided, we will assume it is large enough for the Central Limit Theorem to apply.\n",
        "\n",
        "Step 3: Calculate the confidence interval\n",
        "Using the values from Step 1 and Step 2, we can calculate the confidence interval:\n",
        "\n",
        "Confidence Interval = 50 ± (1.96 * (5 / √n))\n",
        "\n",
        "Interpreting the results:\n",
        "The 95% confidence interval for the population mean lies between the lower and upper bounds of the interval. The lower bound is given by the sample mean minus the margin of error, and the upper bound is given by the sample mean plus the margin of error.\n",
        "\n",
        "Without knowing the sample size (n), we cannot provide the exact confidence interval. However, we can describe the general interpretation:\n",
        "\n",
        "If the sample size is sufficiently large, the 95% confidence interval for the population mean would be approximately:\n",
        "\n",
        "Confidence Interval = 50 ± (1.96 * (5 / √n))\n",
        "\n",
        "This means that we can be 95% confident that the true population mean falls within this interval based on the given sample data."
      ],
      "metadata": {
        "id": "P1iemLnYiu0h"
      }
    },
    {
      "cell_type": "markdown",
      "source": [
        "**Q8. What is the margin of error in a confidence interval? How does sample size affect the margin of error? Provide an example of a scenario where a larger sample size would result in a smaller margin of error.**"
      ],
      "metadata": {
        "id": "KRufZRWZiuxh"
      }
    },
    {
      "cell_type": "markdown",
      "source": [
        "The margin of error in a confidence interval is the range of values that is added to and subtracted from the point estimate to create the interval. It represents the maximum likely difference between the point estimate and the true population parameter.\n",
        "\n",
        "The margin of error depends on several factors, including the sample size, the variability of the data, and the desired level of confidence. In general, as the sample size increases, the margin of error decreases. This is because larger sample sizes provide more precise estimates of the population parameter, resulting in a smaller range of possible values around the point estimate.\n",
        "\n",
        "Here's an example scenario to illustrate how a larger sample size leads to a smaller margin of error:\n",
        "\n",
        "Suppose a market research company wants to estimate the average income of households in a particular city. They take two random samples, one with a sample size of 100 and another with a sample size of 500. They calculate the mean income and the corresponding 95% confidence intervals for each sample.\n",
        "\n",
        "Sample 1:\n",
        "Sample size (n1) = 100\n",
        "Sample mean income = $50,000\n",
        "Margin of error = 1.96 * (standard deviation / √n1)\n",
        "\n",
        "Sample 2:\n",
        "Sample size (n2) = 500\n",
        "Sample mean income = $50,000\n",
        "Margin of error = 1.96 * (standard deviation / √n2)\n",
        "\n",
        "Assuming the standard deviation remains constant, let's say the margin of error for Sample 1 is $2,000 and the margin of error for Sample 2 is $1,000.\n",
        "\n",
        "In this scenario, the larger sample size (n2 = 500) results in a smaller margin of error ($1,000), compared to the smaller sample size (n1 = 100) with a larger margin of error ($2,000). This is because the larger sample provides more information about the population, leading to a more precise estimate of the true population mean.\n",
        "\n",
        "Therefore, increasing the sample size allows for a more accurate estimation of the population parameter and reduces the uncertainty, resulting in a smaller margin of error."
      ],
      "metadata": {
        "id": "enOXitW0k1UE"
      }
    },
    {
      "cell_type": "markdown",
      "source": [
        "**Q9. Calculate the z-score for a data point with a value of 75, a population mean of 70, and a population standard deviation of 5. Interpret the results.**"
      ],
      "metadata": {
        "id": "D3bVdYA-iuuS"
      }
    },
    {
      "cell_type": "markdown",
      "source": [
        "To calculate the z-score for a data point, we use the formula:\n",
        "\n",
        "z = (x - μ) / σ\n",
        "\n",
        "where:\n",
        "- x is the data point\n",
        "- μ is the population mean\n",
        "- σ is the population standard deviation\n",
        "\n",
        "Given:\n",
        "Data point (x) = 75\n",
        "Population mean (μ) = 70\n",
        "Population standard deviation (σ) = 5\n",
        "\n",
        "Using the formula, we can calculate the z-score:\n",
        "\n",
        "z = (75 - 70) / 5\n",
        "z = 5 / 5\n",
        "z = 1\n",
        "\n",
        "Interpreting the results:\n",
        "The calculated z-score is 1. This means that the data point of 75 is 1 standard deviation above the population mean.\n",
        "\n",
        "Since the z-score is positive, it indicates that the data point is located to the right of the mean on the standard normal distribution. It tells us how many standard deviations the data point is away from the mean. In this case, the data point of 75 is 1 standard deviation above the mean.\n",
        "\n",
        "Z-scores are useful for standardizing and comparing data across different distributions. They provide a standardized measure of how far a data point is from the mean and allow us to understand its relative position within the distribution."
      ],
      "metadata": {
        "id": "oxOa8QH7k4Xi"
      }
    },
    {
      "cell_type": "markdown",
      "source": [
        "**Q10. In a study of the effectiveness of a new weight loss drug, a sample of 50 participants lost an average of 6 pounds with a standard deviation of 2.5 pounds. Conduct a hypothesis test to determine if the drug is significantly effective at a 95% confidence level using a t-test.**"
      ],
      "metadata": {
        "id": "faCG19r3iurK"
      }
    },
    {
      "cell_type": "markdown",
      "source": [
        "To conduct a hypothesis test to determine if the weight loss drug is significantly effective, we need to set up the null and alternative hypotheses and perform a t-test.\n",
        "\n",
        "Null hypothesis (H0): The weight loss drug is not significantly effective. The average weight loss in the population is equal to or less than zero.\n",
        "Alternative hypothesis (Ha): The weight loss drug is significantly effective. The average weight loss in the population is greater than zero.\n",
        "\n",
        "Given:\n",
        "Sample size (n) = 50\n",
        "Sample mean weight loss (x̄) = 6 pounds\n",
        "Sample standard deviation (s) = 2.5 pounds\n",
        "Confidence level = 95% (α = 0.05, one-tailed test)\n",
        "\n",
        "Since we are comparing the sample mean to a hypothesized population mean (zero), we will use a one-sample t-test.\n",
        "\n",
        "Step 1: Set up the hypotheses:\n",
        "H0: μ ≤ 0\n",
        "Ha: μ > 0\n",
        "\n",
        "Step 2: Set the significance level (α):\n",
        "The significance level (α) is given as 0.05 or 5%.\n",
        "\n",
        "Step 3: Calculate the test statistic:\n",
        "The test statistic for a one-sample t-test is given by:\n",
        "t = (x̄ - μ) / (s / √n)\n",
        "\n",
        "In this case:\n",
        "x̄ = 6\n",
        "μ = 0\n",
        "s = 2.5\n",
        "n = 50\n",
        "\n",
        "t = (6 - 0) / (2.5 / √50)\n",
        "\n",
        "Step 4: Determine the critical value:\n",
        "Since the alternative hypothesis is one-tailed and we are testing if the average weight loss is greater than zero, we need to find the critical t-value from the t-distribution with (n-1) degrees of freedom and the desired significance level.\n",
        "\n",
        "With 49 degrees of freedom and a significance level of 0.05, the critical t-value is approximately 1.677.\n",
        "\n",
        "Step 5: Compare the test statistic with the critical value:\n",
        "If the test statistic is greater than the critical value, we reject the null hypothesis. Otherwise, we fail to reject the null hypothesis.\n",
        "\n",
        "If t > 1.677, we reject H0.\n",
        "\n",
        "Step 6: Calculate the p-value:\n",
        "The p-value is the probability of obtaining a test statistic as extreme as the one observed, assuming the null hypothesis is true.\n",
        "\n",
        "Using the t-distribution with (n-1) degrees of freedom, we can calculate the p-value associated with the test statistic.\n",
        "\n",
        "Step 7: Make a decision:\n",
        "If the p-value is less than the significance level (α), we reject the null hypothesis. Otherwise, we fail to reject the null hypothesis.\n",
        "\n",
        "Interpreting the results:\n",
        "By performing the calculations, we find that the test statistic is t ≈ 8.716 and the corresponding p-value is very close to zero.\n",
        "\n",
        "Since the p-value is much smaller than the significance level (p < 0.05), we reject the null hypothesis.\n",
        "\n",
        "Therefore, based on the sample data, we have evidence to suggest that the weight loss drug is significantly effective at a 95% confidence level."
      ],
      "metadata": {
        "id": "aaHsaOsQk6gi"
      }
    },
    {
      "cell_type": "markdown",
      "source": [
        "**Q11. In a survey of 500 people, 65% reported being satisfied with their current job. Calculate the 95% confidence interval for the true proportion of people who are satisfied with their job.**"
      ],
      "metadata": {
        "id": "av9MDzOliuoC"
      }
    },
    {
      "cell_type": "markdown",
      "source": [
        "To calculate the 95% confidence interval for the true proportion of people who are satisfied with their job, we can use the formula for estimating a population proportion:\n",
        "\n",
        "Confidence Interval = Sample Proportion ± (Critical Value * Standard Error)\n",
        "\n",
        "Given:\n",
        "Sample size (n) = 500\n",
        "Sample proportion (p̂) = 0.65\n",
        "Confidence level = 95% (α = 0.05)\n",
        "\n",
        "Step 1: Determine the critical value\n",
        "The critical value depends on the desired confidence level. For a 95% confidence level, we need to find the critical z-value associated with an alpha level of 0.05. From the standard normal distribution, the critical z-value is approximately 1.96.\n",
        "\n",
        "Step 2: Calculate the standard error\n",
        "The standard error (SE) measures the variability or uncertainty in the sample proportion and is calculated using the formula:\n",
        "\n",
        "Standard Error (SE) = √[(p̂ * (1 - p̂)) / n]\n",
        "\n",
        "where p̂ is the sample proportion and n is the sample size.\n",
        "\n",
        "Step 3: Calculate the confidence interval\n",
        "Using the values from Step 1 and Step 2, we can calculate the confidence interval:\n",
        "\n",
        "Confidence Interval = 0.65 ± (1.96 * √[(0.65 * (1 - 0.65)) / 500])\n",
        "\n",
        "Now let's perform the calculations:\n",
        "\n",
        "Confidence Interval = 0.65 ± (1.96 * √[(0.65 * 0.35) / 500])\n",
        "\n",
        "Confidence Interval = 0.65 ± (1.96 * √[0.22775 / 500])\n",
        "\n",
        "Confidence Interval = 0.65 ± (1.96 * 0.0213708)\n",
        "\n",
        "Confidence Interval ≈ 0.65 ± 0.041872\n",
        "\n",
        "The 95% confidence interval for the true proportion of people who are satisfied with their job is approximately (0.608, 0.692).\n",
        "\n",
        "Interpreting the results:\n",
        "We can be 95% confident that the true proportion of people who are satisfied with their job lies within this interval based on the given sample data. This means that if we were to repeat the survey many times and calculate a confidence interval each time, approximately 95% of those intervals would contain the true proportion."
      ],
      "metadata": {
        "id": "XrB-S14Qk-OS"
      }
    },
    {
      "cell_type": "markdown",
      "source": [
        "**Q12. A researcher is testing the effectiveness of two different teaching methods on student performance. Sample A has a mean score of 85 with a standard deviation of 6, while sample B has a mean score of 82 with a standard deviation of 5. Conduct a hypothesis test to determine if the two teaching methods have a significant difference in student performance using a t-test with a significance level of 0.01.**"
      ],
      "metadata": {
        "id": "gOgqGUFhiukg"
      }
    },
    {
      "cell_type": "markdown",
      "source": [
        "To conduct a hypothesis test to determine if there is a significant difference in student performance between two teaching methods, we can use a two-sample t-test. Here's how we can proceed:\n",
        "\n",
        "Given:\n",
        "Sample A:\n",
        "Sample mean (x̄A) = 85\n",
        "Sample standard deviation (sA) = 6\n",
        "Sample size (nA) (assumed to be equal for both samples)\n",
        "\n",
        "Sample B:\n",
        "Sample mean (x̄B) = 82\n",
        "Sample standard deviation (sB) = 5\n",
        "Sample size (nB) (assumed to be equal for both samples)\n",
        "\n",
        "Significance level (α) = 0.01 (1%)\n",
        "\n",
        "Step 1: Set up the hypotheses:\n",
        "Null hypothesis (H0): The teaching methods have no significant difference in student performance. (x̄A - x̄B = 0)\n",
        "Alternative hypothesis (Ha): The teaching methods have a significant difference in student performance. (x̄A - x̄B ≠ 0)\n",
        "\n",
        "Step 2: Set the significance level (α):\n",
        "The significance level (α) is given as 0.01 or 1%.\n",
        "\n",
        "Step 3: Calculate the test statistic:\n",
        "The test statistic for a two-sample t-test is given by:\n",
        "t = (x̄A - x̄B) / √[(sA^2/nA) + (sB^2/nB)]\n",
        "\n",
        "In this case:\n",
        "x̄A = 85\n",
        "x̄B = 82\n",
        "sA = 6\n",
        "sB = 5\n",
        "nA = nB (assumed equal)\n",
        "\n",
        "t = (85 - 82) / √[(6^2/n) + (5^2/n)]\n",
        "\n",
        "Step 4: Determine the critical value:\n",
        "Since the alternative hypothesis is two-tailed, we need to find the critical t-value from the t-distribution with (nA + nB - 2) degrees of freedom and the desired significance level (α/2).\n",
        "\n",
        "With (nA + nB - 2) degrees of freedom and a significance level of 0.01/2, the critical t-value is approximately ±2.617.\n",
        "\n",
        "Step 5: Compare the test statistic with the critical value:\n",
        "If the absolute value of the test statistic is greater than the critical value, we reject the null hypothesis. Otherwise, we fail to reject the null hypothesis.\n",
        "\n",
        "If |t| > 2.617, we reject H0.\n",
        "\n",
        "Step 6: Calculate the p-value:\n",
        "The p-value is the probability of obtaining a test statistic as extreme as the one observed, assuming the null hypothesis is true.\n",
        "\n",
        "Using the t-distribution with (nA + nB - 2) degrees of freedom, we can calculate the p-value associated with the test statistic.\n",
        "\n",
        "Step 7: Make a decision:\n",
        "If the p-value is less than the significance level (α), we reject the null hypothesis. Otherwise, we fail to reject the null hypothesis.\n",
        "\n",
        "Interpreting the results:\n",
        "By performing the calculations, we find the test statistic (t) and compare it to the critical value (±2.617) based on the given significance level (0.01).\n",
        "\n",
        "If |t| > 2.617, we reject the null hypothesis.\n",
        "\n",
        "Additionally, we can calculate the p-value associated with the test statistic and compare it to the significance level (0.01).\n",
        "\n",
        "If the p-value is less than 0.01, we reject the null hypothesis.\n",
        "\n",
        "Based on the test statistic, critical value, and p-value, we can make a decision regarding the significance of the difference in student performance between the two teaching methods."
      ],
      "metadata": {
        "id": "6WouoQhhlCJs"
      }
    },
    {
      "cell_type": "markdown",
      "source": [
        "**Q13. A population has a mean of 60 and a standard deviation of 8. A sample of 50 observations has a mean of 65. Calculate the 90% confidence interval for the true population mean.**"
      ],
      "metadata": {
        "id": "BpHSelh_iudy"
      }
    },
    {
      "cell_type": "markdown",
      "source": [
        "To calculate the 90% confidence interval for the true population mean, we can use the formula:\n",
        "\n",
        "Confidence Interval = Sample Mean ± (Critical Value * Standard Error)\n",
        "\n",
        "Given:\n",
        "Population mean (μ) = 60\n",
        "Population standard deviation (σ) = 8\n",
        "Sample size (n) = 50\n",
        "Sample mean (x̄) = 65\n",
        "Confidence level = 90% (α = 0.10)\n",
        "\n",
        "Step 1: Determine the critical value\n",
        "The critical value depends on the desired confidence level and the sample size. For a 90% confidence level and a sample size of 50, the critical value can be obtained from the t-distribution or the standard normal distribution. Since the sample size is large (n > 30), we can approximate the critical value using the standard normal distribution. For a 90% confidence level, the critical value is approximately 1.645.\n",
        "\n",
        "Step 2: Calculate the standard error\n",
        "The standard error (SE) measures the variability or uncertainty in the sample mean and is calculated using the formula:\n",
        "\n",
        "Standard Error (SE) = σ / √n\n",
        "\n",
        "where σ is the population standard deviation and n is the sample size.\n",
        "\n",
        "SE = 8 / √50\n",
        "\n",
        "Step 3: Calculate the confidence interval\n",
        "Using the values from Step 1 and Step 2, we can calculate the confidence interval:\n",
        "\n",
        "Confidence Interval = 65 ± (1.645 * (8 / √50))\n",
        "\n",
        "Now let's perform the calculations:\n",
        "\n",
        "Confidence Interval = 65 ± (1.645 * (8 / √50))\n",
        "\n",
        "Confidence Interval ≈ 65 ± 2.302\n",
        "\n",
        "The 90% confidence interval for the true population mean is approximately (62.698, 67.302).\n",
        "\n",
        "Interpreting the results:\n",
        "We can be 90% confident that the true population mean lies within this interval based on the given sample data. This means that if we were to repeat the sampling process many times and calculate a confidence interval each time, approximately 90% of those intervals would contain the true population mean."
      ],
      "metadata": {
        "id": "Q40sA5oXlE2z"
      }
    },
    {
      "cell_type": "markdown",
      "source": [
        "**Q14. In a study of the effects of caffeine on reaction time, a sample of 30 participants had an average reaction time of 0.25 seconds with a standard deviation of 0.05 seconds. Conduct a hypothesis test to determine if the caffeine has a significant effect on reaction time at a 90% confidence level using a t-test.**"
      ],
      "metadata": {
        "id": "qqCLXZ58kHin"
      }
    },
    {
      "cell_type": "markdown",
      "source": [
        "To conduct a hypothesis test to determine if caffeine has a significant effect on reaction time, we can use a one-sample t-test. Here's how we can proceed:\n",
        "\n",
        "Given:\n",
        "Sample size (n) = 30\n",
        "Sample mean reaction time (x̄) = 0.25 seconds\n",
        "Sample standard deviation (s) = 0.05 seconds\n",
        "Confidence level = 90% (α = 0.10)\n",
        "\n",
        "Step 1: Set up the hypotheses:\n",
        "Null hypothesis (H0): Caffeine has no significant effect on reaction time. (x̄ = 0)\n",
        "Alternative hypothesis (Ha): Caffeine has a significant effect on reaction time. (x̄ ≠ 0)\n",
        "\n",
        "Step 2: Set the significance level (α):\n",
        "The significance level (α) is given as 0.10 or 10%.\n",
        "\n",
        "Step 3: Calculate the test statistic:\n",
        "The test statistic for a one-sample t-test is given by:\n",
        "t = (x̄ - μ) / (s / √n)\n",
        "\n",
        "In this case:\n",
        "x̄ = 0.25 seconds\n",
        "μ = 0 (assuming no effect of caffeine)\n",
        "s = 0.05 seconds\n",
        "n = 30\n",
        "\n",
        "t = (0.25 - 0) / (0.05 / √30)\n",
        "\n",
        "Step 4: Determine the critical value:\n",
        "Since the alternative hypothesis is two-tailed, we need to find the critical t-value from the t-distribution with (n-1) degrees of freedom and the desired significance level (α/2).\n",
        "\n",
        "With 29 degrees of freedom and a significance level of 0.10/2, the critical t-value is approximately ±1.699.\n",
        "\n",
        "Step 5: Compare the test statistic with the critical value:\n",
        "If the absolute value of the test statistic is greater than the critical value, we reject the null hypothesis. Otherwise, we fail to reject the null hypothesis.\n",
        "\n",
        "If |t| > 1.699, we reject H0.\n",
        "\n",
        "Step 6: Calculate the p-value:\n",
        "The p-value is the probability of obtaining a test statistic as extreme as the one observed, assuming the null hypothesis is true.\n",
        "\n",
        "Using the t-distribution with (n-1) degrees of freedom, we can calculate the p-value associated with the test statistic.\n",
        "\n",
        "Step 7: Make a decision:\n",
        "If the p-value is less than the significance level (α), we reject the null hypothesis. Otherwise, we fail to reject the null hypothesis.\n",
        "\n",
        "Interpreting the results:\n",
        "By performing the calculations, we find the test statistic (t) and compare it to the critical value (±1.699) based on the given significance level (0.10).\n",
        "\n",
        "If |t| > 1.699, we reject the null hypothesis.\n",
        "\n",
        "Additionally, we can calculate the p-value associated with the test statistic and compare it to the significance level (0.10).\n",
        "\n",
        "If the p-value is less than 0.10, we reject the null hypothesis.\n",
        "\n",
        "Based on the test statistic, critical value, and p-value, we can make a decision regarding the significance of caffeine's effect on reaction time."
      ],
      "metadata": {
        "id": "Vam79_o9lIbq"
      }
    }
  ]
}