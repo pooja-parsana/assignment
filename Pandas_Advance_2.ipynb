{
  "nbformat": 4,
  "nbformat_minor": 0,
  "metadata": {
    "colab": {
      "provenance": []
    },
    "kernelspec": {
      "name": "python3",
      "display_name": "Python 3"
    },
    "language_info": {
      "name": "python"
    }
  },
  "cells": [
    {
      "cell_type": "markdown",
      "source": [
        "Consider following code to answer further questions:"
      ],
      "metadata": {
        "id": "BGawYP4HXRGK"
      }
    },
    {
      "cell_type": "code",
      "source": [
        "import pandas as pd\n",
        "course_name = ['Data Science', 'Machine Learning', 'Big Data', 'Data Engineer']\n",
        "duration = [2,3,6,4]\n",
        "df = pd.DataFrame(data = {'course_name' : course_name, 'duration' : duration})\n",
        "df"
      ],
      "metadata": {
        "colab": {
          "base_uri": "https://localhost:8080/",
          "height": 175
        },
        "id": "b1VswW6nXMzP",
        "outputId": "bfd7f1dc-29dd-4e24-aa3b-b94d958a1ddf"
      },
      "execution_count": 3,
      "outputs": [
        {
          "output_type": "execute_result",
          "data": {
            "text/plain": [
              "        course_name  duration\n",
              "0      Data Science         2\n",
              "1  Machine Learning         3\n",
              "2          Big Data         6\n",
              "3     Data Engineer         4"
            ],
            "text/html": [
              "\n",
              "  <div id=\"df-4d34fba0-0c32-4790-8313-f3e0ba075b48\">\n",
              "    <div class=\"colab-df-container\">\n",
              "      <div>\n",
              "<style scoped>\n",
              "    .dataframe tbody tr th:only-of-type {\n",
              "        vertical-align: middle;\n",
              "    }\n",
              "\n",
              "    .dataframe tbody tr th {\n",
              "        vertical-align: top;\n",
              "    }\n",
              "\n",
              "    .dataframe thead th {\n",
              "        text-align: right;\n",
              "    }\n",
              "</style>\n",
              "<table border=\"1\" class=\"dataframe\">\n",
              "  <thead>\n",
              "    <tr style=\"text-align: right;\">\n",
              "      <th></th>\n",
              "      <th>course_name</th>\n",
              "      <th>duration</th>\n",
              "    </tr>\n",
              "  </thead>\n",
              "  <tbody>\n",
              "    <tr>\n",
              "      <th>0</th>\n",
              "      <td>Data Science</td>\n",
              "      <td>2</td>\n",
              "    </tr>\n",
              "    <tr>\n",
              "      <th>1</th>\n",
              "      <td>Machine Learning</td>\n",
              "      <td>3</td>\n",
              "    </tr>\n",
              "    <tr>\n",
              "      <th>2</th>\n",
              "      <td>Big Data</td>\n",
              "      <td>6</td>\n",
              "    </tr>\n",
              "    <tr>\n",
              "      <th>3</th>\n",
              "      <td>Data Engineer</td>\n",
              "      <td>4</td>\n",
              "    </tr>\n",
              "  </tbody>\n",
              "</table>\n",
              "</div>\n",
              "      <button class=\"colab-df-convert\" onclick=\"convertToInteractive('df-4d34fba0-0c32-4790-8313-f3e0ba075b48')\"\n",
              "              title=\"Convert this dataframe to an interactive table.\"\n",
              "              style=\"display:none;\">\n",
              "        \n",
              "  <svg xmlns=\"http://www.w3.org/2000/svg\" height=\"24px\"viewBox=\"0 0 24 24\"\n",
              "       width=\"24px\">\n",
              "    <path d=\"M0 0h24v24H0V0z\" fill=\"none\"/>\n",
              "    <path d=\"M18.56 5.44l.94 2.06.94-2.06 2.06-.94-2.06-.94-.94-2.06-.94 2.06-2.06.94zm-11 1L8.5 8.5l.94-2.06 2.06-.94-2.06-.94L8.5 2.5l-.94 2.06-2.06.94zm10 10l.94 2.06.94-2.06 2.06-.94-2.06-.94-.94-2.06-.94 2.06-2.06.94z\"/><path d=\"M17.41 7.96l-1.37-1.37c-.4-.4-.92-.59-1.43-.59-.52 0-1.04.2-1.43.59L10.3 9.45l-7.72 7.72c-.78.78-.78 2.05 0 2.83L4 21.41c.39.39.9.59 1.41.59.51 0 1.02-.2 1.41-.59l7.78-7.78 2.81-2.81c.8-.78.8-2.07 0-2.86zM5.41 20L4 18.59l7.72-7.72 1.47 1.35L5.41 20z\"/>\n",
              "  </svg>\n",
              "      </button>\n",
              "      \n",
              "  <style>\n",
              "    .colab-df-container {\n",
              "      display:flex;\n",
              "      flex-wrap:wrap;\n",
              "      gap: 12px;\n",
              "    }\n",
              "\n",
              "    .colab-df-convert {\n",
              "      background-color: #E8F0FE;\n",
              "      border: none;\n",
              "      border-radius: 50%;\n",
              "      cursor: pointer;\n",
              "      display: none;\n",
              "      fill: #1967D2;\n",
              "      height: 32px;\n",
              "      padding: 0 0 0 0;\n",
              "      width: 32px;\n",
              "    }\n",
              "\n",
              "    .colab-df-convert:hover {\n",
              "      background-color: #E2EBFA;\n",
              "      box-shadow: 0px 1px 2px rgba(60, 64, 67, 0.3), 0px 1px 3px 1px rgba(60, 64, 67, 0.15);\n",
              "      fill: #174EA6;\n",
              "    }\n",
              "\n",
              "    [theme=dark] .colab-df-convert {\n",
              "      background-color: #3B4455;\n",
              "      fill: #D2E3FC;\n",
              "    }\n",
              "\n",
              "    [theme=dark] .colab-df-convert:hover {\n",
              "      background-color: #434B5C;\n",
              "      box-shadow: 0px 1px 3px 1px rgba(0, 0, 0, 0.15);\n",
              "      filter: drop-shadow(0px 1px 2px rgba(0, 0, 0, 0.3));\n",
              "      fill: #FFFFFF;\n",
              "    }\n",
              "  </style>\n",
              "\n",
              "      <script>\n",
              "        const buttonEl =\n",
              "          document.querySelector('#df-4d34fba0-0c32-4790-8313-f3e0ba075b48 button.colab-df-convert');\n",
              "        buttonEl.style.display =\n",
              "          google.colab.kernel.accessAllowed ? 'block' : 'none';\n",
              "\n",
              "        async function convertToInteractive(key) {\n",
              "          const element = document.querySelector('#df-4d34fba0-0c32-4790-8313-f3e0ba075b48');\n",
              "          const dataTable =\n",
              "            await google.colab.kernel.invokeFunction('convertToInteractive',\n",
              "                                                     [key], {});\n",
              "          if (!dataTable) return;\n",
              "\n",
              "          const docLinkHtml = 'Like what you see? Visit the ' +\n",
              "            '<a target=\"_blank\" href=https://colab.research.google.com/notebooks/data_table.ipynb>data table notebook</a>'\n",
              "            + ' to learn more about interactive tables.';\n",
              "          element.innerHTML = '';\n",
              "          dataTable['output_type'] = 'display_data';\n",
              "          await google.colab.output.renderOutput(dataTable, element);\n",
              "          const docLink = document.createElement('div');\n",
              "          docLink.innerHTML = docLinkHtml;\n",
              "          element.appendChild(docLink);\n",
              "        }\n",
              "      </script>\n",
              "    </div>\n",
              "  </div>\n",
              "  "
            ]
          },
          "metadata": {},
          "execution_count": 3
        }
      ]
    },
    {
      "cell_type": "markdown",
      "source": [
        "**Q1. Write a code to print the data present in the second row of the dataframe, df.**"
      ],
      "metadata": {
        "id": "Enb7pXrSXgtM"
      }
    },
    {
      "cell_type": "code",
      "source": [
        "second_row_data = df.iloc[1]\n",
        "print(second_row_data)"
      ],
      "metadata": {
        "colab": {
          "base_uri": "https://localhost:8080/"
        },
        "id": "YSHuJ0AzXTnx",
        "outputId": "64d4d4b9-564e-4bfb-816b-8803d13c101f"
      },
      "execution_count": 4,
      "outputs": [
        {
          "output_type": "stream",
          "name": "stdout",
          "text": [
            "course_name    Machine Learning\n",
            "duration                      3\n",
            "Name: 1, dtype: object\n"
          ]
        }
      ]
    },
    {
      "cell_type": "markdown",
      "source": [
        "**Q2. What is the difference between the functions loc and iloc in pandas.DataFrame?**"
      ],
      "metadata": {
        "id": "ELd5y5wTX2xK"
      }
    },
    {
      "cell_type": "markdown",
      "source": [
        "In pandas, the functions `loc` and `iloc` are used to access and manipulate data in a DataFrame. However, they differ in their indexing methods:\n",
        "\n",
        "1. `loc` function:\n",
        "   - The `loc` function is primarily label-based, meaning it is used for indexing and accessing data based on the labels of rows and columns.\n",
        "   - It takes in a label or a boolean array as input for indexing.\n",
        "   - The indexing ranges are inclusive of both the start and end values.\n",
        "   - When using `loc`, you refer to the row and column labels by their actual names.\n",
        "\n",
        "2. `iloc` function:\n",
        "   - The `iloc` function is primarily integer-based, meaning it is used for indexing and accessing data based on the integer positions of rows and columns.\n",
        "   - It takes in an integer, a list of integers, or a boolean array as input for indexing.\n",
        "   - The indexing ranges are exclusive of the end value, similar to Python slicing.\n",
        "   - When using `iloc`, you refer to the row and column positions by their integer index values.\n",
        "\n",
        "Here's an example to illustrate the difference between `loc` and `iloc`:\n",
        "\n",
        "```python\n",
        "import pandas as pd\n",
        "\n",
        "# Create a sample DataFrame\n",
        "data = {'A': [1, 2, 3], 'B': [4, 5, 6], 'C': [7, 8, 9]}\n",
        "df = pd.DataFrame(data, index=['Row1', 'Row2', 'Row3'])\n",
        "\n",
        "# Using loc\n",
        "print(df.loc['Row2'])\n",
        "# Output: A    2\n",
        "#         B    5\n",
        "#         C    8\n",
        "#         Name: Row2, dtype: int64\n",
        "\n",
        "# Using iloc\n",
        "print(df.iloc[1])\n",
        "# Output: A    2\n",
        "#         B    5\n",
        "#         C    8\n",
        "#         Name: Row2, dtype: int64\n",
        "```\n",
        "\n",
        "In the example above, the DataFrame `df` has row labels 'Row1', 'Row2', and 'Row3'. The `loc['Row2']` and `iloc[1]` statements both access the second row of the DataFrame. The output of both statements is the same, displaying the values in the second row.\n",
        "\n",
        "To summarize, the main difference between `loc` and `iloc` is that `loc` uses label-based indexing, while `iloc` uses integer-based indexing for accessing and manipulating data in a DataFrame."
      ],
      "metadata": {
        "id": "M_5uLOr4YPmJ"
      }
    },
    {
      "cell_type": "markdown",
      "source": [
        "**Q3. Reindex the given dataframe using a variable, reindex = [3,0,1,2] and store it in the variable, new_df then find the output for both new_df.loc[2] and new_df.iloc[2].**"
      ],
      "metadata": {
        "id": "WNnx_We2YXo3"
      }
    },
    {
      "cell_type": "code",
      "source": [
        "new_df = df.reindex([3,0,1,2])\n",
        "new_df"
      ],
      "metadata": {
        "colab": {
          "base_uri": "https://localhost:8080/",
          "height": 175
        },
        "id": "C2A_Apk5XyRe",
        "outputId": "4d68b433-1ef5-49f4-d76b-dd660c4d829a"
      },
      "execution_count": 6,
      "outputs": [
        {
          "output_type": "execute_result",
          "data": {
            "text/plain": [
              "        course_name  duration\n",
              "3     Data Engineer         4\n",
              "0      Data Science         2\n",
              "1  Machine Learning         3\n",
              "2          Big Data         6"
            ],
            "text/html": [
              "\n",
              "  <div id=\"df-b7a7d16b-82d2-44d4-a6fb-07eda2dede8a\">\n",
              "    <div class=\"colab-df-container\">\n",
              "      <div>\n",
              "<style scoped>\n",
              "    .dataframe tbody tr th:only-of-type {\n",
              "        vertical-align: middle;\n",
              "    }\n",
              "\n",
              "    .dataframe tbody tr th {\n",
              "        vertical-align: top;\n",
              "    }\n",
              "\n",
              "    .dataframe thead th {\n",
              "        text-align: right;\n",
              "    }\n",
              "</style>\n",
              "<table border=\"1\" class=\"dataframe\">\n",
              "  <thead>\n",
              "    <tr style=\"text-align: right;\">\n",
              "      <th></th>\n",
              "      <th>course_name</th>\n",
              "      <th>duration</th>\n",
              "    </tr>\n",
              "  </thead>\n",
              "  <tbody>\n",
              "    <tr>\n",
              "      <th>3</th>\n",
              "      <td>Data Engineer</td>\n",
              "      <td>4</td>\n",
              "    </tr>\n",
              "    <tr>\n",
              "      <th>0</th>\n",
              "      <td>Data Science</td>\n",
              "      <td>2</td>\n",
              "    </tr>\n",
              "    <tr>\n",
              "      <th>1</th>\n",
              "      <td>Machine Learning</td>\n",
              "      <td>3</td>\n",
              "    </tr>\n",
              "    <tr>\n",
              "      <th>2</th>\n",
              "      <td>Big Data</td>\n",
              "      <td>6</td>\n",
              "    </tr>\n",
              "  </tbody>\n",
              "</table>\n",
              "</div>\n",
              "      <button class=\"colab-df-convert\" onclick=\"convertToInteractive('df-b7a7d16b-82d2-44d4-a6fb-07eda2dede8a')\"\n",
              "              title=\"Convert this dataframe to an interactive table.\"\n",
              "              style=\"display:none;\">\n",
              "        \n",
              "  <svg xmlns=\"http://www.w3.org/2000/svg\" height=\"24px\"viewBox=\"0 0 24 24\"\n",
              "       width=\"24px\">\n",
              "    <path d=\"M0 0h24v24H0V0z\" fill=\"none\"/>\n",
              "    <path d=\"M18.56 5.44l.94 2.06.94-2.06 2.06-.94-2.06-.94-.94-2.06-.94 2.06-2.06.94zm-11 1L8.5 8.5l.94-2.06 2.06-.94-2.06-.94L8.5 2.5l-.94 2.06-2.06.94zm10 10l.94 2.06.94-2.06 2.06-.94-2.06-.94-.94-2.06-.94 2.06-2.06.94z\"/><path d=\"M17.41 7.96l-1.37-1.37c-.4-.4-.92-.59-1.43-.59-.52 0-1.04.2-1.43.59L10.3 9.45l-7.72 7.72c-.78.78-.78 2.05 0 2.83L4 21.41c.39.39.9.59 1.41.59.51 0 1.02-.2 1.41-.59l7.78-7.78 2.81-2.81c.8-.78.8-2.07 0-2.86zM5.41 20L4 18.59l7.72-7.72 1.47 1.35L5.41 20z\"/>\n",
              "  </svg>\n",
              "      </button>\n",
              "      \n",
              "  <style>\n",
              "    .colab-df-container {\n",
              "      display:flex;\n",
              "      flex-wrap:wrap;\n",
              "      gap: 12px;\n",
              "    }\n",
              "\n",
              "    .colab-df-convert {\n",
              "      background-color: #E8F0FE;\n",
              "      border: none;\n",
              "      border-radius: 50%;\n",
              "      cursor: pointer;\n",
              "      display: none;\n",
              "      fill: #1967D2;\n",
              "      height: 32px;\n",
              "      padding: 0 0 0 0;\n",
              "      width: 32px;\n",
              "    }\n",
              "\n",
              "    .colab-df-convert:hover {\n",
              "      background-color: #E2EBFA;\n",
              "      box-shadow: 0px 1px 2px rgba(60, 64, 67, 0.3), 0px 1px 3px 1px rgba(60, 64, 67, 0.15);\n",
              "      fill: #174EA6;\n",
              "    }\n",
              "\n",
              "    [theme=dark] .colab-df-convert {\n",
              "      background-color: #3B4455;\n",
              "      fill: #D2E3FC;\n",
              "    }\n",
              "\n",
              "    [theme=dark] .colab-df-convert:hover {\n",
              "      background-color: #434B5C;\n",
              "      box-shadow: 0px 1px 3px 1px rgba(0, 0, 0, 0.15);\n",
              "      filter: drop-shadow(0px 1px 2px rgba(0, 0, 0, 0.3));\n",
              "      fill: #FFFFFF;\n",
              "    }\n",
              "  </style>\n",
              "\n",
              "      <script>\n",
              "        const buttonEl =\n",
              "          document.querySelector('#df-b7a7d16b-82d2-44d4-a6fb-07eda2dede8a button.colab-df-convert');\n",
              "        buttonEl.style.display =\n",
              "          google.colab.kernel.accessAllowed ? 'block' : 'none';\n",
              "\n",
              "        async function convertToInteractive(key) {\n",
              "          const element = document.querySelector('#df-b7a7d16b-82d2-44d4-a6fb-07eda2dede8a');\n",
              "          const dataTable =\n",
              "            await google.colab.kernel.invokeFunction('convertToInteractive',\n",
              "                                                     [key], {});\n",
              "          if (!dataTable) return;\n",
              "\n",
              "          const docLinkHtml = 'Like what you see? Visit the ' +\n",
              "            '<a target=\"_blank\" href=https://colab.research.google.com/notebooks/data_table.ipynb>data table notebook</a>'\n",
              "            + ' to learn more about interactive tables.';\n",
              "          element.innerHTML = '';\n",
              "          dataTable['output_type'] = 'display_data';\n",
              "          await google.colab.output.renderOutput(dataTable, element);\n",
              "          const docLink = document.createElement('div');\n",
              "          docLink.innerHTML = docLinkHtml;\n",
              "          element.appendChild(docLink);\n",
              "        }\n",
              "      </script>\n",
              "    </div>\n",
              "  </div>\n",
              "  "
            ]
          },
          "metadata": {},
          "execution_count": 6
        }
      ]
    },
    {
      "cell_type": "code",
      "source": [
        "new_df.loc[2]"
      ],
      "metadata": {
        "colab": {
          "base_uri": "https://localhost:8080/"
        },
        "id": "WnkmcTU3YmBw",
        "outputId": "7cbd7aec-cab7-4a83-b00b-604ccb6a578c"
      },
      "execution_count": 7,
      "outputs": [
        {
          "output_type": "execute_result",
          "data": {
            "text/plain": [
              "course_name    Big Data\n",
              "duration              6\n",
              "Name: 2, dtype: object"
            ]
          },
          "metadata": {},
          "execution_count": 7
        }
      ]
    },
    {
      "cell_type": "code",
      "source": [
        "new_df.iloc[2]"
      ],
      "metadata": {
        "colab": {
          "base_uri": "https://localhost:8080/"
        },
        "id": "2yIZKAcJYswL",
        "outputId": "3e559736-78b7-4f9e-d97e-5139cce5af55"
      },
      "execution_count": 8,
      "outputs": [
        {
          "output_type": "execute_result",
          "data": {
            "text/plain": [
              "course_name    Machine Learning\n",
              "duration                      3\n",
              "Name: 1, dtype: object"
            ]
          },
          "metadata": {},
          "execution_count": 8
        }
      ]
    },
    {
      "cell_type": "markdown",
      "source": [
        "Apologies for the incorrect information in my previous response. There is indeed a difference between the outputs of `new_df.loc[2]` and `new_df.iloc[2]`. Here's the updated explanation:\n",
        "\n",
        "```python\n",
        "import pandas as pd\n",
        "\n",
        "# Given DataFrame\n",
        "data = {'A': [1, 2, 3], 'B': [4, 5, 6], 'C': [7, 8, 9]}\n",
        "df = pd.DataFrame(data)\n",
        "\n",
        "# Reindexing\n",
        "reindex = [3, 0, 1, 2]\n",
        "new_df = df.reindex(reindex)\n",
        "\n",
        "# Output for new_df.loc[2]\n",
        "print(new_df.loc[2])\n",
        "# Output: A    3\n",
        "#         B    6\n",
        "#         C    9\n",
        "#         Name: 2, dtype: int64\n",
        "\n",
        "# Output for new_df.iloc[2]\n",
        "print(new_df.iloc[2])\n",
        "# Output: A    2\n",
        "#         B    5\n",
        "#         C    8\n",
        "#         Name: 1, dtype: int64\n",
        "```\n",
        "\n",
        "In the updated code, we reindexed the DataFrame `df` using the `reindex()` function with the `reindex` list `[3, 0, 1, 2]`. The resulting DataFrame `new_df` has a different row order based on the new index.\n",
        "\n",
        "The difference between the outputs of `new_df.loc[2]` and `new_df.iloc[2]` is as follows:\n",
        "\n",
        "- `new_df.loc[2]` retrieves the row with label `2` from the `new_df` DataFrame. In this case, the row label `2` corresponds to the original row at index position `2` in the `df` DataFrame. Therefore, the output displays the values `[3, 6, 9]` for columns A, B, and C, respectively.\n",
        "\n",
        "- `new_df.iloc[2]` retrieves the row at integer position `2` from the `new_df` DataFrame. In this case, the integer position `2` corresponds to the original row at index position `1` in the `df` DataFrame. Therefore, the output displays the values `[2, 5, 8]` for columns A, B, and C, respectively.\n",
        "\n",
        "The difference in the outputs is due to the different indexing methods used by `loc` and `iloc`. `loc` accesses rows based on labels, while `iloc` accesses rows based on integer positions."
      ],
      "metadata": {
        "id": "jOtkoDqEZOLE"
      }
    },
    {
      "cell_type": "markdown",
      "source": [
        "**Consider the below code to answer further questions:**"
      ],
      "metadata": {
        "id": "aLE-AhWNZHAp"
      }
    },
    {
      "cell_type": "code",
      "source": [
        "import pandas as pd\n",
        "import numpy as np\n",
        "columns = ['column_1', 'column_2', 'column_3', 'column_4', 'column_5', 'column_6']\n",
        "indices = [1,2,3,4,5,6]\n",
        "#Creating a dataframe:\n",
        "df1 = pd.DataFrame(np.random.rand(6,6), columns = columns, index = indices)\n",
        "df1"
      ],
      "metadata": {
        "colab": {
          "base_uri": "https://localhost:8080/",
          "height": 237
        },
        "id": "Cq4kRp-JYwfy",
        "outputId": "59f57224-4bf9-4d7f-affb-7cfcbd75af6d"
      },
      "execution_count": 10,
      "outputs": [
        {
          "output_type": "execute_result",
          "data": {
            "text/plain": [
              "   column_1  column_2  column_3  column_4  column_5  column_6\n",
              "1  0.153690  0.695600  0.708428  0.428890  0.497922  0.880717\n",
              "2  0.059441  0.629948  0.951293  0.574327  0.501401  0.967613\n",
              "3  0.939581  0.814055  0.977964  0.293212  0.227134  0.468847\n",
              "4  0.077933  0.159233  0.476697  0.855900  0.912229  0.848191\n",
              "5  0.674265  0.275650  0.160400  0.437095  0.007749  0.526301\n",
              "6  0.305435  0.869024  0.068184  0.975616  0.878114  0.259204"
            ],
            "text/html": [
              "\n",
              "  <div id=\"df-f745f352-dbd7-4383-863d-f4e5049d0837\">\n",
              "    <div class=\"colab-df-container\">\n",
              "      <div>\n",
              "<style scoped>\n",
              "    .dataframe tbody tr th:only-of-type {\n",
              "        vertical-align: middle;\n",
              "    }\n",
              "\n",
              "    .dataframe tbody tr th {\n",
              "        vertical-align: top;\n",
              "    }\n",
              "\n",
              "    .dataframe thead th {\n",
              "        text-align: right;\n",
              "    }\n",
              "</style>\n",
              "<table border=\"1\" class=\"dataframe\">\n",
              "  <thead>\n",
              "    <tr style=\"text-align: right;\">\n",
              "      <th></th>\n",
              "      <th>column_1</th>\n",
              "      <th>column_2</th>\n",
              "      <th>column_3</th>\n",
              "      <th>column_4</th>\n",
              "      <th>column_5</th>\n",
              "      <th>column_6</th>\n",
              "    </tr>\n",
              "  </thead>\n",
              "  <tbody>\n",
              "    <tr>\n",
              "      <th>1</th>\n",
              "      <td>0.153690</td>\n",
              "      <td>0.695600</td>\n",
              "      <td>0.708428</td>\n",
              "      <td>0.428890</td>\n",
              "      <td>0.497922</td>\n",
              "      <td>0.880717</td>\n",
              "    </tr>\n",
              "    <tr>\n",
              "      <th>2</th>\n",
              "      <td>0.059441</td>\n",
              "      <td>0.629948</td>\n",
              "      <td>0.951293</td>\n",
              "      <td>0.574327</td>\n",
              "      <td>0.501401</td>\n",
              "      <td>0.967613</td>\n",
              "    </tr>\n",
              "    <tr>\n",
              "      <th>3</th>\n",
              "      <td>0.939581</td>\n",
              "      <td>0.814055</td>\n",
              "      <td>0.977964</td>\n",
              "      <td>0.293212</td>\n",
              "      <td>0.227134</td>\n",
              "      <td>0.468847</td>\n",
              "    </tr>\n",
              "    <tr>\n",
              "      <th>4</th>\n",
              "      <td>0.077933</td>\n",
              "      <td>0.159233</td>\n",
              "      <td>0.476697</td>\n",
              "      <td>0.855900</td>\n",
              "      <td>0.912229</td>\n",
              "      <td>0.848191</td>\n",
              "    </tr>\n",
              "    <tr>\n",
              "      <th>5</th>\n",
              "      <td>0.674265</td>\n",
              "      <td>0.275650</td>\n",
              "      <td>0.160400</td>\n",
              "      <td>0.437095</td>\n",
              "      <td>0.007749</td>\n",
              "      <td>0.526301</td>\n",
              "    </tr>\n",
              "    <tr>\n",
              "      <th>6</th>\n",
              "      <td>0.305435</td>\n",
              "      <td>0.869024</td>\n",
              "      <td>0.068184</td>\n",
              "      <td>0.975616</td>\n",
              "      <td>0.878114</td>\n",
              "      <td>0.259204</td>\n",
              "    </tr>\n",
              "  </tbody>\n",
              "</table>\n",
              "</div>\n",
              "      <button class=\"colab-df-convert\" onclick=\"convertToInteractive('df-f745f352-dbd7-4383-863d-f4e5049d0837')\"\n",
              "              title=\"Convert this dataframe to an interactive table.\"\n",
              "              style=\"display:none;\">\n",
              "        \n",
              "  <svg xmlns=\"http://www.w3.org/2000/svg\" height=\"24px\"viewBox=\"0 0 24 24\"\n",
              "       width=\"24px\">\n",
              "    <path d=\"M0 0h24v24H0V0z\" fill=\"none\"/>\n",
              "    <path d=\"M18.56 5.44l.94 2.06.94-2.06 2.06-.94-2.06-.94-.94-2.06-.94 2.06-2.06.94zm-11 1L8.5 8.5l.94-2.06 2.06-.94-2.06-.94L8.5 2.5l-.94 2.06-2.06.94zm10 10l.94 2.06.94-2.06 2.06-.94-2.06-.94-.94-2.06-.94 2.06-2.06.94z\"/><path d=\"M17.41 7.96l-1.37-1.37c-.4-.4-.92-.59-1.43-.59-.52 0-1.04.2-1.43.59L10.3 9.45l-7.72 7.72c-.78.78-.78 2.05 0 2.83L4 21.41c.39.39.9.59 1.41.59.51 0 1.02-.2 1.41-.59l7.78-7.78 2.81-2.81c.8-.78.8-2.07 0-2.86zM5.41 20L4 18.59l7.72-7.72 1.47 1.35L5.41 20z\"/>\n",
              "  </svg>\n",
              "      </button>\n",
              "      \n",
              "  <style>\n",
              "    .colab-df-container {\n",
              "      display:flex;\n",
              "      flex-wrap:wrap;\n",
              "      gap: 12px;\n",
              "    }\n",
              "\n",
              "    .colab-df-convert {\n",
              "      background-color: #E8F0FE;\n",
              "      border: none;\n",
              "      border-radius: 50%;\n",
              "      cursor: pointer;\n",
              "      display: none;\n",
              "      fill: #1967D2;\n",
              "      height: 32px;\n",
              "      padding: 0 0 0 0;\n",
              "      width: 32px;\n",
              "    }\n",
              "\n",
              "    .colab-df-convert:hover {\n",
              "      background-color: #E2EBFA;\n",
              "      box-shadow: 0px 1px 2px rgba(60, 64, 67, 0.3), 0px 1px 3px 1px rgba(60, 64, 67, 0.15);\n",
              "      fill: #174EA6;\n",
              "    }\n",
              "\n",
              "    [theme=dark] .colab-df-convert {\n",
              "      background-color: #3B4455;\n",
              "      fill: #D2E3FC;\n",
              "    }\n",
              "\n",
              "    [theme=dark] .colab-df-convert:hover {\n",
              "      background-color: #434B5C;\n",
              "      box-shadow: 0px 1px 3px 1px rgba(0, 0, 0, 0.15);\n",
              "      filter: drop-shadow(0px 1px 2px rgba(0, 0, 0, 0.3));\n",
              "      fill: #FFFFFF;\n",
              "    }\n",
              "  </style>\n",
              "\n",
              "      <script>\n",
              "        const buttonEl =\n",
              "          document.querySelector('#df-f745f352-dbd7-4383-863d-f4e5049d0837 button.colab-df-convert');\n",
              "        buttonEl.style.display =\n",
              "          google.colab.kernel.accessAllowed ? 'block' : 'none';\n",
              "\n",
              "        async function convertToInteractive(key) {\n",
              "          const element = document.querySelector('#df-f745f352-dbd7-4383-863d-f4e5049d0837');\n",
              "          const dataTable =\n",
              "            await google.colab.kernel.invokeFunction('convertToInteractive',\n",
              "                                                     [key], {});\n",
              "          if (!dataTable) return;\n",
              "\n",
              "          const docLinkHtml = 'Like what you see? Visit the ' +\n",
              "            '<a target=\"_blank\" href=https://colab.research.google.com/notebooks/data_table.ipynb>data table notebook</a>'\n",
              "            + ' to learn more about interactive tables.';\n",
              "          element.innerHTML = '';\n",
              "          dataTable['output_type'] = 'display_data';\n",
              "          await google.colab.output.renderOutput(dataTable, element);\n",
              "          const docLink = document.createElement('div');\n",
              "          docLink.innerHTML = docLinkHtml;\n",
              "          element.appendChild(docLink);\n",
              "        }\n",
              "      </script>\n",
              "    </div>\n",
              "  </div>\n",
              "  "
            ]
          },
          "metadata": {},
          "execution_count": 10
        }
      ]
    },
    {
      "cell_type": "code",
      "source": [
        "mean = df1.mean()\n",
        "std_column_2 = df1['column_2'].std()\n",
        "\n",
        "print(\"Mean = \",mean)\n",
        "print(\"Std = \",std_column_2)"
      ],
      "metadata": {
        "colab": {
          "base_uri": "https://localhost:8080/"
        },
        "id": "3MqOU9aMZIQG",
        "outputId": "0e052039-1447-4c81-d3a1-372339b88cec"
      },
      "execution_count": 12,
      "outputs": [
        {
          "output_type": "stream",
          "name": "stdout",
          "text": [
            "Mean =  column_1    0.368391\n",
            "column_2    0.573919\n",
            "column_3    0.557161\n",
            "column_4    0.594173\n",
            "column_5    0.504092\n",
            "column_6    0.658479\n",
            "dtype: float64\n",
            "Std =  0.29107635861139763\n"
          ]
        }
      ]
    },
    {
      "cell_type": "markdown",
      "source": [
        "**Q5. Replace the data present in the second row of column, ‘column_2’ by a string variable then find the mean of column, column_2.**\n",
        "If you are getting errors in executing it then explain why.\n",
        "[Hint: To replace the data use df1.loc[] and equate this to string data of your choice.]"
      ],
      "metadata": {
        "id": "ioQiW9ysar9t"
      }
    },
    {
      "cell_type": "code",
      "source": [
        "df1.loc[2, 'column_2'] = 'replacement'"
      ],
      "metadata": {
        "id": "nopXcjAcaYdP"
      },
      "execution_count": 13,
      "outputs": []
    },
    {
      "cell_type": "code",
      "source": [
        "\n",
        "mean_column_2 = df1['column_2'].mean()\n",
        "print(\"Mean of column 'column_2':\", mean_column_2)"
      ],
      "metadata": {
        "colab": {
          "base_uri": "https://localhost:8080/",
          "height": 339
        },
        "id": "gt9Wm4VsbBm4",
        "outputId": "b9937cd1-9e3a-4842-fe90-4531db69ea4a"
      },
      "execution_count": 16,
      "outputs": [
        {
          "output_type": "error",
          "ename": "TypeError",
          "evalue": "ignored",
          "traceback": [
            "\u001b[0;31m---------------------------------------------------------------------------\u001b[0m",
            "\u001b[0;31mTypeError\u001b[0m                                 Traceback (most recent call last)",
            "\u001b[0;32m<ipython-input-16-4eeff93b1e80>\u001b[0m in \u001b[0;36m<cell line: 1>\u001b[0;34m()\u001b[0m\n\u001b[0;32m----> 1\u001b[0;31m \u001b[0mmean_column_2\u001b[0m \u001b[0;34m=\u001b[0m \u001b[0mdf1\u001b[0m\u001b[0;34m[\u001b[0m\u001b[0;34m'column_2'\u001b[0m\u001b[0;34m]\u001b[0m\u001b[0;34m.\u001b[0m\u001b[0mmean\u001b[0m\u001b[0;34m(\u001b[0m\u001b[0;34m)\u001b[0m\u001b[0;34m\u001b[0m\u001b[0;34m\u001b[0m\u001b[0m\n\u001b[0m\u001b[1;32m      2\u001b[0m \u001b[0mprint\u001b[0m\u001b[0;34m(\u001b[0m\u001b[0;34m\"Mean of column 'column_2':\"\u001b[0m\u001b[0;34m,\u001b[0m \u001b[0mmean_column_2\u001b[0m\u001b[0;34m)\u001b[0m\u001b[0;34m\u001b[0m\u001b[0;34m\u001b[0m\u001b[0m\n",
            "\u001b[0;32m/usr/local/lib/python3.10/dist-packages/pandas/core/generic.py\u001b[0m in \u001b[0;36mmean\u001b[0;34m(self, axis, skipna, level, numeric_only, **kwargs)\u001b[0m\n\u001b[1;32m  11845\u001b[0m             \u001b[0;34m**\u001b[0m\u001b[0mkwargs\u001b[0m\u001b[0;34m,\u001b[0m\u001b[0;34m\u001b[0m\u001b[0;34m\u001b[0m\u001b[0m\n\u001b[1;32m  11846\u001b[0m         ):\n\u001b[0;32m> 11847\u001b[0;31m             \u001b[0;32mreturn\u001b[0m \u001b[0mNDFrame\u001b[0m\u001b[0;34m.\u001b[0m\u001b[0mmean\u001b[0m\u001b[0;34m(\u001b[0m\u001b[0mself\u001b[0m\u001b[0;34m,\u001b[0m \u001b[0maxis\u001b[0m\u001b[0;34m,\u001b[0m \u001b[0mskipna\u001b[0m\u001b[0;34m,\u001b[0m \u001b[0mlevel\u001b[0m\u001b[0;34m,\u001b[0m \u001b[0mnumeric_only\u001b[0m\u001b[0;34m,\u001b[0m \u001b[0;34m**\u001b[0m\u001b[0mkwargs\u001b[0m\u001b[0;34m)\u001b[0m\u001b[0;34m\u001b[0m\u001b[0;34m\u001b[0m\u001b[0m\n\u001b[0m\u001b[1;32m  11848\u001b[0m \u001b[0;34m\u001b[0m\u001b[0m\n\u001b[1;32m  11849\u001b[0m         \u001b[0msetattr\u001b[0m\u001b[0;34m(\u001b[0m\u001b[0mcls\u001b[0m\u001b[0;34m,\u001b[0m \u001b[0;34m\"mean\"\u001b[0m\u001b[0;34m,\u001b[0m \u001b[0mmean\u001b[0m\u001b[0;34m)\u001b[0m\u001b[0;34m\u001b[0m\u001b[0;34m\u001b[0m\u001b[0m\n",
            "\u001b[0;32m/usr/local/lib/python3.10/dist-packages/pandas/core/generic.py\u001b[0m in \u001b[0;36mmean\u001b[0;34m(self, axis, skipna, level, numeric_only, **kwargs)\u001b[0m\n\u001b[1;32m  11399\u001b[0m         \u001b[0;34m**\u001b[0m\u001b[0mkwargs\u001b[0m\u001b[0;34m,\u001b[0m\u001b[0;34m\u001b[0m\u001b[0;34m\u001b[0m\u001b[0m\n\u001b[1;32m  11400\u001b[0m     ) -> Series | float:\n\u001b[0;32m> 11401\u001b[0;31m         return self._stat_function(\n\u001b[0m\u001b[1;32m  11402\u001b[0m             \u001b[0;34m\"mean\"\u001b[0m\u001b[0;34m,\u001b[0m \u001b[0mnanops\u001b[0m\u001b[0;34m.\u001b[0m\u001b[0mnanmean\u001b[0m\u001b[0;34m,\u001b[0m \u001b[0maxis\u001b[0m\u001b[0;34m,\u001b[0m \u001b[0mskipna\u001b[0m\u001b[0;34m,\u001b[0m \u001b[0mlevel\u001b[0m\u001b[0;34m,\u001b[0m \u001b[0mnumeric_only\u001b[0m\u001b[0;34m,\u001b[0m \u001b[0;34m**\u001b[0m\u001b[0mkwargs\u001b[0m\u001b[0;34m\u001b[0m\u001b[0;34m\u001b[0m\u001b[0m\n\u001b[1;32m  11403\u001b[0m         )\n",
            "\u001b[0;32m/usr/local/lib/python3.10/dist-packages/pandas/core/generic.py\u001b[0m in \u001b[0;36m_stat_function\u001b[0;34m(self, name, func, axis, skipna, level, numeric_only, **kwargs)\u001b[0m\n\u001b[1;32m  11351\u001b[0m                 \u001b[0mname\u001b[0m\u001b[0;34m,\u001b[0m \u001b[0maxis\u001b[0m\u001b[0;34m=\u001b[0m\u001b[0maxis\u001b[0m\u001b[0;34m,\u001b[0m \u001b[0mlevel\u001b[0m\u001b[0;34m=\u001b[0m\u001b[0mlevel\u001b[0m\u001b[0;34m,\u001b[0m \u001b[0mskipna\u001b[0m\u001b[0;34m=\u001b[0m\u001b[0mskipna\u001b[0m\u001b[0;34m,\u001b[0m \u001b[0mnumeric_only\u001b[0m\u001b[0;34m=\u001b[0m\u001b[0mnumeric_only\u001b[0m\u001b[0;34m\u001b[0m\u001b[0;34m\u001b[0m\u001b[0m\n\u001b[1;32m  11352\u001b[0m             )\n\u001b[0;32m> 11353\u001b[0;31m         return self._reduce(\n\u001b[0m\u001b[1;32m  11354\u001b[0m             \u001b[0mfunc\u001b[0m\u001b[0;34m,\u001b[0m \u001b[0mname\u001b[0m\u001b[0;34m=\u001b[0m\u001b[0mname\u001b[0m\u001b[0;34m,\u001b[0m \u001b[0maxis\u001b[0m\u001b[0;34m=\u001b[0m\u001b[0maxis\u001b[0m\u001b[0;34m,\u001b[0m \u001b[0mskipna\u001b[0m\u001b[0;34m=\u001b[0m\u001b[0mskipna\u001b[0m\u001b[0;34m,\u001b[0m \u001b[0mnumeric_only\u001b[0m\u001b[0;34m=\u001b[0m\u001b[0mnumeric_only\u001b[0m\u001b[0;34m\u001b[0m\u001b[0;34m\u001b[0m\u001b[0m\n\u001b[1;32m  11355\u001b[0m         )\n",
            "\u001b[0;32m/usr/local/lib/python3.10/dist-packages/pandas/core/series.py\u001b[0m in \u001b[0;36m_reduce\u001b[0;34m(self, op, name, axis, skipna, numeric_only, filter_type, **kwds)\u001b[0m\n\u001b[1;32m   4814\u001b[0m                 )\n\u001b[1;32m   4815\u001b[0m             \u001b[0;32mwith\u001b[0m \u001b[0mnp\u001b[0m\u001b[0;34m.\u001b[0m\u001b[0merrstate\u001b[0m\u001b[0;34m(\u001b[0m\u001b[0mall\u001b[0m\u001b[0;34m=\u001b[0m\u001b[0;34m\"ignore\"\u001b[0m\u001b[0;34m)\u001b[0m\u001b[0;34m:\u001b[0m\u001b[0;34m\u001b[0m\u001b[0;34m\u001b[0m\u001b[0m\n\u001b[0;32m-> 4816\u001b[0;31m                 \u001b[0;32mreturn\u001b[0m \u001b[0mop\u001b[0m\u001b[0;34m(\u001b[0m\u001b[0mdelegate\u001b[0m\u001b[0;34m,\u001b[0m \u001b[0mskipna\u001b[0m\u001b[0;34m=\u001b[0m\u001b[0mskipna\u001b[0m\u001b[0;34m,\u001b[0m \u001b[0;34m**\u001b[0m\u001b[0mkwds\u001b[0m\u001b[0;34m)\u001b[0m\u001b[0;34m\u001b[0m\u001b[0;34m\u001b[0m\u001b[0m\n\u001b[0m\u001b[1;32m   4817\u001b[0m \u001b[0;34m\u001b[0m\u001b[0m\n\u001b[1;32m   4818\u001b[0m     def _reindex_indexer(\n",
            "\u001b[0;32m/usr/local/lib/python3.10/dist-packages/pandas/core/nanops.py\u001b[0m in \u001b[0;36m_f\u001b[0;34m(*args, **kwargs)\u001b[0m\n\u001b[1;32m     91\u001b[0m             \u001b[0;32mtry\u001b[0m\u001b[0;34m:\u001b[0m\u001b[0;34m\u001b[0m\u001b[0;34m\u001b[0m\u001b[0m\n\u001b[1;32m     92\u001b[0m                 \u001b[0;32mwith\u001b[0m \u001b[0mnp\u001b[0m\u001b[0;34m.\u001b[0m\u001b[0merrstate\u001b[0m\u001b[0;34m(\u001b[0m\u001b[0minvalid\u001b[0m\u001b[0;34m=\u001b[0m\u001b[0;34m\"ignore\"\u001b[0m\u001b[0;34m)\u001b[0m\u001b[0;34m:\u001b[0m\u001b[0;34m\u001b[0m\u001b[0;34m\u001b[0m\u001b[0m\n\u001b[0;32m---> 93\u001b[0;31m                     \u001b[0;32mreturn\u001b[0m \u001b[0mf\u001b[0m\u001b[0;34m(\u001b[0m\u001b[0;34m*\u001b[0m\u001b[0margs\u001b[0m\u001b[0;34m,\u001b[0m \u001b[0;34m**\u001b[0m\u001b[0mkwargs\u001b[0m\u001b[0;34m)\u001b[0m\u001b[0;34m\u001b[0m\u001b[0;34m\u001b[0m\u001b[0m\n\u001b[0m\u001b[1;32m     94\u001b[0m             \u001b[0;32mexcept\u001b[0m \u001b[0mValueError\u001b[0m \u001b[0;32mas\u001b[0m \u001b[0me\u001b[0m\u001b[0;34m:\u001b[0m\u001b[0;34m\u001b[0m\u001b[0;34m\u001b[0m\u001b[0m\n\u001b[1;32m     95\u001b[0m                 \u001b[0;31m# we want to transform an object array\u001b[0m\u001b[0;34m\u001b[0m\u001b[0;34m\u001b[0m\u001b[0m\n",
            "\u001b[0;32m/usr/local/lib/python3.10/dist-packages/pandas/core/nanops.py\u001b[0m in \u001b[0;36mf\u001b[0;34m(values, axis, skipna, **kwds)\u001b[0m\n\u001b[1;32m    153\u001b[0m                     \u001b[0mresult\u001b[0m \u001b[0;34m=\u001b[0m \u001b[0malt\u001b[0m\u001b[0;34m(\u001b[0m\u001b[0mvalues\u001b[0m\u001b[0;34m,\u001b[0m \u001b[0maxis\u001b[0m\u001b[0;34m=\u001b[0m\u001b[0maxis\u001b[0m\u001b[0;34m,\u001b[0m \u001b[0mskipna\u001b[0m\u001b[0;34m=\u001b[0m\u001b[0mskipna\u001b[0m\u001b[0;34m,\u001b[0m \u001b[0;34m**\u001b[0m\u001b[0mkwds\u001b[0m\u001b[0;34m)\u001b[0m\u001b[0;34m\u001b[0m\u001b[0;34m\u001b[0m\u001b[0m\n\u001b[1;32m    154\u001b[0m             \u001b[0;32melse\u001b[0m\u001b[0;34m:\u001b[0m\u001b[0;34m\u001b[0m\u001b[0;34m\u001b[0m\u001b[0m\n\u001b[0;32m--> 155\u001b[0;31m                 \u001b[0mresult\u001b[0m \u001b[0;34m=\u001b[0m \u001b[0malt\u001b[0m\u001b[0;34m(\u001b[0m\u001b[0mvalues\u001b[0m\u001b[0;34m,\u001b[0m \u001b[0maxis\u001b[0m\u001b[0;34m=\u001b[0m\u001b[0maxis\u001b[0m\u001b[0;34m,\u001b[0m \u001b[0mskipna\u001b[0m\u001b[0;34m=\u001b[0m\u001b[0mskipna\u001b[0m\u001b[0;34m,\u001b[0m \u001b[0;34m**\u001b[0m\u001b[0mkwds\u001b[0m\u001b[0;34m)\u001b[0m\u001b[0;34m\u001b[0m\u001b[0;34m\u001b[0m\u001b[0m\n\u001b[0m\u001b[1;32m    156\u001b[0m \u001b[0;34m\u001b[0m\u001b[0m\n\u001b[1;32m    157\u001b[0m             \u001b[0;32mreturn\u001b[0m \u001b[0mresult\u001b[0m\u001b[0;34m\u001b[0m\u001b[0;34m\u001b[0m\u001b[0m\n",
            "\u001b[0;32m/usr/local/lib/python3.10/dist-packages/pandas/core/nanops.py\u001b[0m in \u001b[0;36mnew_func\u001b[0;34m(values, axis, skipna, mask, **kwargs)\u001b[0m\n\u001b[1;32m    416\u001b[0m             \u001b[0mmask\u001b[0m \u001b[0;34m=\u001b[0m \u001b[0misna\u001b[0m\u001b[0;34m(\u001b[0m\u001b[0mvalues\u001b[0m\u001b[0;34m)\u001b[0m\u001b[0;34m\u001b[0m\u001b[0;34m\u001b[0m\u001b[0m\n\u001b[1;32m    417\u001b[0m \u001b[0;34m\u001b[0m\u001b[0m\n\u001b[0;32m--> 418\u001b[0;31m         \u001b[0mresult\u001b[0m \u001b[0;34m=\u001b[0m \u001b[0mfunc\u001b[0m\u001b[0;34m(\u001b[0m\u001b[0mvalues\u001b[0m\u001b[0;34m,\u001b[0m \u001b[0maxis\u001b[0m\u001b[0;34m=\u001b[0m\u001b[0maxis\u001b[0m\u001b[0;34m,\u001b[0m \u001b[0mskipna\u001b[0m\u001b[0;34m=\u001b[0m\u001b[0mskipna\u001b[0m\u001b[0;34m,\u001b[0m \u001b[0mmask\u001b[0m\u001b[0;34m=\u001b[0m\u001b[0mmask\u001b[0m\u001b[0;34m,\u001b[0m \u001b[0;34m**\u001b[0m\u001b[0mkwargs\u001b[0m\u001b[0;34m)\u001b[0m\u001b[0;34m\u001b[0m\u001b[0;34m\u001b[0m\u001b[0m\n\u001b[0m\u001b[1;32m    419\u001b[0m \u001b[0;34m\u001b[0m\u001b[0m\n\u001b[1;32m    420\u001b[0m         \u001b[0;32mif\u001b[0m \u001b[0mdatetimelike\u001b[0m\u001b[0;34m:\u001b[0m\u001b[0;34m\u001b[0m\u001b[0;34m\u001b[0m\u001b[0m\n",
            "\u001b[0;32m/usr/local/lib/python3.10/dist-packages/pandas/core/nanops.py\u001b[0m in \u001b[0;36mnanmean\u001b[0;34m(values, axis, skipna, mask)\u001b[0m\n\u001b[1;32m    704\u001b[0m \u001b[0;34m\u001b[0m\u001b[0m\n\u001b[1;32m    705\u001b[0m     \u001b[0mcount\u001b[0m \u001b[0;34m=\u001b[0m \u001b[0m_get_counts\u001b[0m\u001b[0;34m(\u001b[0m\u001b[0mvalues\u001b[0m\u001b[0;34m.\u001b[0m\u001b[0mshape\u001b[0m\u001b[0;34m,\u001b[0m \u001b[0mmask\u001b[0m\u001b[0;34m,\u001b[0m \u001b[0maxis\u001b[0m\u001b[0;34m,\u001b[0m \u001b[0mdtype\u001b[0m\u001b[0;34m=\u001b[0m\u001b[0mdtype_count\u001b[0m\u001b[0;34m)\u001b[0m\u001b[0;34m\u001b[0m\u001b[0;34m\u001b[0m\u001b[0m\n\u001b[0;32m--> 706\u001b[0;31m     \u001b[0mthe_sum\u001b[0m \u001b[0;34m=\u001b[0m \u001b[0m_ensure_numeric\u001b[0m\u001b[0;34m(\u001b[0m\u001b[0mvalues\u001b[0m\u001b[0;34m.\u001b[0m\u001b[0msum\u001b[0m\u001b[0;34m(\u001b[0m\u001b[0maxis\u001b[0m\u001b[0;34m,\u001b[0m \u001b[0mdtype\u001b[0m\u001b[0;34m=\u001b[0m\u001b[0mdtype_sum\u001b[0m\u001b[0;34m)\u001b[0m\u001b[0;34m)\u001b[0m\u001b[0;34m\u001b[0m\u001b[0;34m\u001b[0m\u001b[0m\n\u001b[0m\u001b[1;32m    707\u001b[0m \u001b[0;34m\u001b[0m\u001b[0m\n\u001b[1;32m    708\u001b[0m     \u001b[0;32mif\u001b[0m \u001b[0maxis\u001b[0m \u001b[0;32mis\u001b[0m \u001b[0;32mnot\u001b[0m \u001b[0;32mNone\u001b[0m \u001b[0;32mand\u001b[0m \u001b[0mgetattr\u001b[0m\u001b[0;34m(\u001b[0m\u001b[0mthe_sum\u001b[0m\u001b[0;34m,\u001b[0m \u001b[0;34m\"ndim\"\u001b[0m\u001b[0;34m,\u001b[0m \u001b[0;32mFalse\u001b[0m\u001b[0;34m)\u001b[0m\u001b[0;34m:\u001b[0m\u001b[0;34m\u001b[0m\u001b[0;34m\u001b[0m\u001b[0m\n",
            "\u001b[0;32m/usr/local/lib/python3.10/dist-packages/numpy/core/_methods.py\u001b[0m in \u001b[0;36m_sum\u001b[0;34m(a, axis, dtype, out, keepdims, initial, where)\u001b[0m\n\u001b[1;32m     46\u001b[0m def _sum(a, axis=None, dtype=None, out=None, keepdims=False,\n\u001b[1;32m     47\u001b[0m          initial=_NoValue, where=True):\n\u001b[0;32m---> 48\u001b[0;31m     \u001b[0;32mreturn\u001b[0m \u001b[0mumr_sum\u001b[0m\u001b[0;34m(\u001b[0m\u001b[0ma\u001b[0m\u001b[0;34m,\u001b[0m \u001b[0maxis\u001b[0m\u001b[0;34m,\u001b[0m \u001b[0mdtype\u001b[0m\u001b[0;34m,\u001b[0m \u001b[0mout\u001b[0m\u001b[0;34m,\u001b[0m \u001b[0mkeepdims\u001b[0m\u001b[0;34m,\u001b[0m \u001b[0minitial\u001b[0m\u001b[0;34m,\u001b[0m \u001b[0mwhere\u001b[0m\u001b[0;34m)\u001b[0m\u001b[0;34m\u001b[0m\u001b[0;34m\u001b[0m\u001b[0m\n\u001b[0m\u001b[1;32m     49\u001b[0m \u001b[0;34m\u001b[0m\u001b[0m\n\u001b[1;32m     50\u001b[0m def _prod(a, axis=None, dtype=None, out=None, keepdims=False,\n",
            "\u001b[0;31mTypeError\u001b[0m: unsupported operand type(s) for +: 'float' and 'str'"
          ]
        }
      ]
    },
    {
      "cell_type": "markdown",
      "source": [
        "In the code above, we use df1.loc[2, 'column_2'] to access the element at the second row and 'column_2' and replace it with a string variable of our choice ('replacement' in this case).\n",
        "\n",
        "However, you may encounter an error when calculating the mean of 'column_2' after replacing the data with a string variable. The error occurs because the column contains mixed data types (numeric and string), and pandas is unable to calculate the mean when the column has non-numeric values.\n",
        "\n",
        "To handle this situation, you can convert the column to a numeric data type before calculating the mean. Here's an updated code snippet that includes the conversion:"
      ],
      "metadata": {
        "id": "wrPW-nw3bXeO"
      }
    },
    {
      "cell_type": "code",
      "source": [
        "# Replace data in the second row of 'column_2' with a string variable\n",
        "df1.loc[2, 'column_2'] = 'replacement'\n",
        "\n",
        "# Convert 'column_2' to numeric data type\n",
        "df1['column_2'] = pd.to_numeric(df1['column_2'], errors='coerce')\n",
        "\n",
        "# Calculate mean of 'column_2'\n",
        "mean_column_2 = df1['column_2'].mean()\n",
        "print(\"Mean of column 'column_2':\", mean_column_2)\n"
      ],
      "metadata": {
        "colab": {
          "base_uri": "https://localhost:8080/"
        },
        "id": "UjZOYAY5bFWR",
        "outputId": "16255eb3-1000-4f12-93e0-adff88e5ff67"
      },
      "execution_count": 17,
      "outputs": [
        {
          "output_type": "stream",
          "name": "stdout",
          "text": [
            "Mean of column 'column_2': 0.5627125371348176\n"
          ]
        }
      ]
    },
    {
      "cell_type": "markdown",
      "source": [
        "**Q6. What do you understand about the windows function in pandas and list the types of windows functions?**"
      ],
      "metadata": {
        "id": "OyIiE0M0bdY_"
      }
    },
    {
      "cell_type": "markdown",
      "source": [
        "In pandas, the window functions are used to perform calculations on a specified window or group of data points. These functions are especially useful for time series analysis, rolling computations, and analyzing data within a fixed-size window.\n",
        "\n",
        "There are several types of window functions available in pandas:\n",
        "\n",
        "1. `rolling()`: This function is used to create a rolling window object over a Series or DataFrame. It allows you to perform various rolling computations, such as calculating the rolling mean, sum, minimum, maximum, standard deviation, etc. The rolling window moves along the data, including a specific number of preceding values based on the window size.\n",
        "\n",
        "2. `expanding()`: The expanding function is used to calculate the expanding window statistics. It starts from the beginning of the data and includes all the preceding values up to the current position. As the data expands, calculations such as cumulative sum, cumulative product, cumulative maximum, cumulative minimum, etc., can be performed.\n",
        "\n",
        "3. `ewm()`: The exponentially weighted moving window function is used to compute exponentially weighted statistics. It assigns weights to data points based on their relative position within the window. More weight is given to recent data points, and the influence of older data points gradually diminishes. This function is useful for calculating exponentially weighted moving averages, variances, and correlations.\n",
        "\n",
        "These window functions provide flexible ways to analyze data within a specific window size, allowing you to gain insights into trends, patterns, and statistical properties over time or across a dataset."
      ],
      "metadata": {
        "id": "IGkK9_NYbp8L"
      }
    },
    {
      "cell_type": "markdown",
      "source": [
        "**Q7. Write a code to print only the current month and year at the time of answering this question.**"
      ],
      "metadata": {
        "id": "j0Anmhr4bvFe"
      }
    },
    {
      "cell_type": "code",
      "source": [
        "import pandas as pd\n",
        "current_date = pd.datetime.now()\n",
        "current_month = current_date.month\n",
        "current_year = current_date.year\n",
        "print(\"Current month:\", current_month)\n",
        "print(\"Current year:\", current_year)"
      ],
      "metadata": {
        "colab": {
          "base_uri": "https://localhost:8080/"
        },
        "id": "uv_5_c3ybZP5",
        "outputId": "724b7f43-e955-435b-bcee-7e090ac64e93"
      },
      "execution_count": 21,
      "outputs": [
        {
          "output_type": "stream",
          "name": "stdout",
          "text": [
            "Current month: 6\n",
            "Current year: 2023\n"
          ]
        },
        {
          "output_type": "stream",
          "name": "stderr",
          "text": [
            "<ipython-input-21-8d4501485928>:2: FutureWarning: The pandas.datetime class is deprecated and will be removed from pandas in a future version. Import from datetime module instead.\n",
            "  current_date = pd.datetime.now()\n"
          ]
        }
      ]
    },
    {
      "cell_type": "markdown",
      "source": [
        "**Q8. Write a Python program that takes in two dates as input (in the format YYYY-MM-DD) and calculates the difference between them in days, hours, and minutes using Pandas time delta. The program should prompt the user to enter the dates and display the result.**"
      ],
      "metadata": {
        "id": "iGhr7BJv3hnV"
      }
    },
    {
      "cell_type": "code",
      "source": [
        "import pandas as pd\n",
        "\n",
        "date1 = input(\"Enter the first date (YYYY-MM-DD): \")\n",
        "date2 = input(\"Enter the second date (YYYY-MM-DD): \")\n",
        "\n",
        "date1 = pd.to_datetime(date1)\n",
        "date2 = pd.to_datetime(date2)\n",
        "\n",
        "time_difference = date2 - date1\n",
        "\n",
        "days_difference = time_difference.days\n",
        "hours_diffrenece = time_difference.seconds // 3600\n",
        "minutes_difference = (time_difference // 60) % 60\n",
        "\n",
        "print(\"Difference between the dates:\")\n",
        "print(\"Days:\", days_difference)\n",
        "print(\"Hours:\", hours_diffrenece)\n",
        "print(\"Minutes:\", minutes_difference)"
      ],
      "metadata": {
        "colab": {
          "base_uri": "https://localhost:8080/"
        },
        "id": "b3ALh7Wx3wPQ",
        "outputId": "be3fe0a3-510a-45e2-c2d6-5a8834270e70"
      },
      "execution_count": 5,
      "outputs": [
        {
          "output_type": "stream",
          "name": "stdout",
          "text": [
            "Enter the first date (YYYY-MM-DD): 2023-06-01\n",
            "Enter the second date (YYYY-MM-DD): 2023-06-05\n",
            "Difference between the dates:\n",
            "Days: 4\n",
            "Hours: 0\n",
            "Minutes: 0 days 00:00:00\n"
          ]
        }
      ]
    },
    {
      "cell_type": "markdown",
      "source": [
        "**Q9. Write a Python program that reads a CSV file containing categorical data and converts a specified column to a categorical data type. The program should prompt the user to enter the file path, column name, and category order, and then display the sorted data.**"
      ],
      "metadata": {
        "id": "D6XB7LtE5fVV"
      }
    },
    {
      "cell_type": "markdown",
      "source": [
        "Certainly! Here's a Python program that reads a CSV file containing categorical data, converts a specified column to a categorical data type, and displays the sorted data:\n",
        "\n",
        "```python\n",
        "import pandas as pd\n",
        "\n",
        "# Prompt the user to enter the file path\n",
        "file_path = input(\"Enter the CSV file path: \")\n",
        "\n",
        "# Prompt the user to enter the column name\n",
        "column_name = input(\"Enter the column name to convert to categorical: \")\n",
        "\n",
        "# Prompt the user to enter the category order\n",
        "category_order = input(\"Enter the category order (comma-separated): \").split(\",\")\n",
        "\n",
        "# Read the CSV file into a DataFrame\n",
        "df = pd.read_csv(file_path)\n",
        "\n",
        "# Convert the specified column to categorical data type with the specified order\n",
        "df[column_name] = pd.Categorical(df[column_name], categories=category_order, ordered=True)\n",
        "\n",
        "# Sort the DataFrame based on the categorical column\n",
        "df_sorted = df.sort_values(by=column_name)\n",
        "\n",
        "# Display the sorted data\n",
        "print(\"Sorted Data:\")\n",
        "print(df_sorted)\n",
        "```\n",
        "\n",
        "Example usage:\n",
        "```\n",
        "Enter the CSV file path: data.csv\n",
        "Enter the column name to convert to categorical: category\n",
        "Enter the category order (comma-separated): High,Medium,Low\n",
        "Sorted Data:\n",
        "   column_1 category\n",
        "1         2     High\n",
        "0         1   Medium\n",
        "2         3      Low\n",
        "```\n",
        "\n",
        "In the code above, we prompt the user to enter the CSV file path, column name, and category order. The file is then read into a DataFrame using `pd.read_csv()`.\n",
        "\n",
        "The specified column is converted to a categorical data type using `pd.Categorical()`, where the categories and order are defined based on the user input.\n",
        "\n",
        "The DataFrame is sorted based on the categorical column using `df.sort_values()` and stored in a new DataFrame `df_sorted`.\n",
        "\n",
        "Finally, the sorted data is displayed using `print()`."
      ],
      "metadata": {
        "id": "y-HGtp_A6BDU"
      }
    },
    {
      "cell_type": "markdown",
      "source": [
        "**Q10. Write a Python program that reads a CSV file containing sales data for different products and visualizes the data using a stacked bar chart to show the sales of each product category over time. The program should prompt the user to enter the file path and display the chart.**"
      ],
      "metadata": {
        "id": "gTB9bKAx6Vav"
      }
    },
    {
      "cell_type": "markdown",
      "source": [
        "Certainly! Here's a Python program that reads a CSV file containing sales data for different products, visualizes the data using a stacked bar chart to show the sales of each product category over time, and displays the chart:\n",
        "\n",
        "```python\n",
        "import pandas as pd\n",
        "import matplotlib.pyplot as plt\n",
        "\n",
        "# Prompt the user to enter the file path\n",
        "file_path = input(\"Enter the CSV file path: \")\n",
        "\n",
        "# Read the CSV file into a DataFrame\n",
        "df = pd.read_csv(file_path)\n",
        "\n",
        "# Group the data by product category and calculate the total sales for each category over time\n",
        "df_grouped = df.groupby('product_category')['sales'].sum()\n",
        "\n",
        "# Reshape the data for plotting\n",
        "df_plot = df_grouped.unstack()\n",
        "\n",
        "# Plot the stacked bar chart\n",
        "df_plot.plot(kind='bar', stacked=True)\n",
        "\n",
        "# Set the labels and title\n",
        "plt.xlabel('Time')\n",
        "plt.ylabel('Sales')\n",
        "plt.title('Sales of Each Product Category Over Time')\n",
        "\n",
        "# Display the chart\n",
        "plt.show()\n",
        "```\n",
        "\n",
        "Example usage:\n",
        "```\n",
        "Enter the CSV file path: sales_data.csv\n",
        "```\n",
        "\n",
        "In the code above, we prompt the user to enter the CSV file path. The file is then read into a DataFrame using `pd.read_csv()`.\n",
        "\n",
        "The data is grouped by the product category using `groupby()` and the total sales for each category over time are calculated using `sum()`.\n",
        "\n",
        "The grouped data is then reshaped for plotting using `unstack()`, which converts the data into a suitable format for a stacked bar chart.\n",
        "\n",
        "We use `df_plot.plot(kind='bar', stacked=True)` to create a stacked bar chart of the sales data.\n",
        "\n",
        "The labels and title for the chart are set using `plt.xlabel()`, `plt.ylabel()`, and `plt.title()`.\n",
        "\n",
        "Finally, the chart is displayed using `plt.show()`."
      ],
      "metadata": {
        "id": "tNhu5Qyd6ymE"
      }
    },
    {
      "cell_type": "markdown",
      "source": [
        "**Q11. You are given a CSV file containing student data that includes the student ID and their test score. Write a Python program that reads the CSV file, calculates the mean, median, and mode of the test scores, and displays the results in a table.**"
      ],
      "metadata": {
        "id": "xTsbCe7d65us"
      }
    },
    {
      "cell_type": "markdown",
      "source": [
        "Sure! Here's a Python program that reads a CSV file containing student data, calculates the mean, median, and mode of the test scores, and displays the results in a table:\n",
        "\n",
        "```python\n",
        "import pandas as pd\n",
        "\n",
        "# Prompt the user to enter the file path of the CSV file containing the student data\n",
        "file_path = input(\"Enter the file path of the CSV file containing the student data: \")\n",
        "\n",
        "# Read the CSV file into a Pandas DataFrame\n",
        "df = pd.read_csv(file_path)\n",
        "\n",
        "# Calculate the mean, median, and mode of the test scores\n",
        "mean_score = df['Test Score'].mean()\n",
        "median_score = df['Test Score'].median()\n",
        "mode_scores = df['Test Score'].mode()\n",
        "\n",
        "# Create a table to display the results\n",
        "results = pd.DataFrame({'Statistic': ['Mean', 'Median', 'Mode'],\n",
        "                        'Value': [mean_score, median_score, ', '.join(map(str, mode_scores))]})\n",
        "print(results)\n",
        "```\n",
        "\n",
        "Example usage:\n",
        "```\n",
        "Enter the file path of the CSV file containing the student data: student_data.csv\n",
        "```\n",
        "\n",
        "In the code above, we prompt the user to enter the file path of the CSV file containing the student data. The file is then read into a Pandas DataFrame using `pd.read_csv()`.\n",
        "\n",
        "We calculate the mean, median, and mode of the test scores using the appropriate functions available in Pandas: `.mean()`, `.median()`, and `.mode()`. The mode scores are stored in a Pandas Series, and we convert them to a comma-separated string using `', '.join(map(str, mode_scores))`.\n",
        "\n",
        "Finally, we create a new DataFrame called `results` using a dictionary where the keys are the statistics ('Mean', 'Median', 'Mode') and the values are the corresponding calculated values. We then display the results DataFrame using `print()`. The output is a table showing the statistics and their values."
      ],
      "metadata": {
        "id": "4AXwOIio7UP7"
      }
    }
  ]
}