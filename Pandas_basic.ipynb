{
  "nbformat": 4,
  "nbformat_minor": 0,
  "metadata": {
    "colab": {
      "provenance": []
    },
    "kernelspec": {
      "name": "python3",
      "display_name": "Python 3"
    },
    "language_info": {
      "name": "python"
    }
  },
  "cells": [
    {
      "cell_type": "markdown",
      "source": [
        "**Q1. Create a Pandas Series that contains the following data: 4, 8, 15, 16, 23, and 42. Then, print the series.**"
      ],
      "metadata": {
        "id": "PmTPSd-XAiWI"
      }
    },
    {
      "cell_type": "code",
      "execution_count": 1,
      "metadata": {
        "id": "XyTXeY4aAd6Q"
      },
      "outputs": [],
      "source": [
        "import pandas as pd"
      ]
    },
    {
      "cell_type": "code",
      "source": [
        "data=[4, 8, 15, 16, 23, 42]"
      ],
      "metadata": {
        "id": "AB6QR9JJBm4F"
      },
      "execution_count": 3,
      "outputs": []
    },
    {
      "cell_type": "code",
      "source": [
        "series=pd.Series(data)\n",
        "print(series)"
      ],
      "metadata": {
        "colab": {
          "base_uri": "https://localhost:8080/"
        },
        "id": "fFguDUj-Am-j",
        "outputId": "8521cc84-bd52-48e7-dfc8-e868b356840a"
      },
      "execution_count": 5,
      "outputs": [
        {
          "output_type": "stream",
          "name": "stdout",
          "text": [
            "0     4\n",
            "1     8\n",
            "2    15\n",
            "3    16\n",
            "4    23\n",
            "5    42\n",
            "dtype: int64\n"
          ]
        }
      ]
    },
    {
      "cell_type": "markdown",
      "source": [
        "**Q2. Create a variable of list type containing 10 elements in it, and apply pandas.Series function on the\n",
        "variable print it.**"
      ],
      "metadata": {
        "id": "xqHUBjqxB5JA"
      }
    },
    {
      "cell_type": "code",
      "source": [
        "data=[10,20,30,40,50,60,70,80,90,100]\n",
        "series=pd.Series(data)\n",
        "print(series)"
      ],
      "metadata": {
        "colab": {
          "base_uri": "https://localhost:8080/"
        },
        "id": "56BQ2lRRBfIH",
        "outputId": "1638a100-5dd5-4402-dce9-5005cc951334"
      },
      "execution_count": 6,
      "outputs": [
        {
          "output_type": "stream",
          "name": "stdout",
          "text": [
            "0     10\n",
            "1     20\n",
            "2     30\n",
            "3     40\n",
            "4     50\n",
            "5     60\n",
            "6     70\n",
            "7     80\n",
            "8     90\n",
            "9    100\n",
            "dtype: int64\n"
          ]
        }
      ]
    },
    {
      "cell_type": "markdown",
      "source": [
        "**Q3. Create a Pandas DataFrame that contains the following data:\n",
        "Then, print the DataFrame.**"
      ],
      "metadata": {
        "id": "dTP99stHCOwj"
      }
    },
    {
      "cell_type": "code",
      "source": [
        "data={\n",
        "    'Name': ['Alice', 'Bob', 'Claire'],\n",
        "    'Age': [25, 30, 27], \n",
        "    'Gender': ['Female', 'Male', 'Female']\n",
        "}\n",
        "df=pd.DataFrame(data)\n",
        "print(df)"
      ],
      "metadata": {
        "colab": {
          "base_uri": "https://localhost:8080/"
        },
        "id": "WyMooLo4CJfh",
        "outputId": "794fb2e2-de17-4c84-ae04-9b79a3f4ba62"
      },
      "execution_count": 7,
      "outputs": [
        {
          "output_type": "stream",
          "name": "stdout",
          "text": [
            "     Name  Age  Gender\n",
            "0   Alice   25  Female\n",
            "1     Bob   30    Male\n",
            "2  Claire   27  Female\n"
          ]
        }
      ]
    },
    {
      "cell_type": "markdown",
      "source": [
        "**Q4. What is ‘DataFrame’ in pandas and how is it different from pandas.series? Explain with an example.**"
      ],
      "metadata": {
        "id": "k0OL0XdGC0mc"
      }
    },
    {
      "cell_type": "markdown",
      "source": [
        "In Pandas, a DataFrame is a two-dimensional labeled data structure with columns of potentially different types. It is similar to a table in a spreadsheet with rows and columns, where each column can be of a different data type (e.g. integer, float, string, etc.). A DataFrame can be created from a variety of data sources, including CSV files, Excel spreadsheets, Python dictionaries, and other Pandas data structures.\n",
        "\n",
        "On the other hand, a Series is a one-dimensional labeled array that can hold data of any type (e.g. integer, float, string, etc.). It can be thought of as a single column of a DataFrame.\n",
        "\n",
        "Here's an example to illustrate the difference between a DataFrame and a Series:\n",
        "\n"
      ],
      "metadata": {
        "id": "NEqdB-vvC4_k"
      }
    },
    {
      "cell_type": "code",
      "source": [
        "import pandas as pd\n",
        "\n",
        "data = {'Name': ['Alice', 'Bob', 'Claire'], 'Age': [25, 30, 27], 'Gender': ['Female', 'Male', 'Female']}\n",
        "\n",
        "df = pd.DataFrame(data)\n",
        "\n",
        "name_series = df['Name']\n",
        "\n",
        "print('DataFrame:')\n",
        "print(df)\n",
        "\n",
        "print('\\nSeries:')\n",
        "print(name_series)\n"
      ],
      "metadata": {
        "colab": {
          "base_uri": "https://localhost:8080/"
        },
        "id": "TQ_7HOiPCwVe",
        "outputId": "1b3ec9d6-adcb-4c81-f784-99795d9b5594"
      },
      "execution_count": 8,
      "outputs": [
        {
          "output_type": "stream",
          "name": "stdout",
          "text": [
            "DataFrame:\n",
            "     Name  Age  Gender\n",
            "0   Alice   25  Female\n",
            "1     Bob   30    Male\n",
            "2  Claire   27  Female\n",
            "\n",
            "Series:\n",
            "0     Alice\n",
            "1       Bob\n",
            "2    Claire\n",
            "Name: Name, dtype: object\n"
          ]
        }
      ]
    },
    {
      "cell_type": "markdown",
      "source": [
        "**Q5. What are some common functions you can use to manipulate data in a Pandas DataFrame? Can\n",
        "you give an example of when you might use one of these functions?**"
      ],
      "metadata": {
        "id": "SKl6IfaCDEgk"
      }
    },
    {
      "cell_type": "markdown",
      "source": [
        "head() and tail(): These functions can be used to view the first or last few rows of a DataFrame, respectively. They are useful for quickly inspecting the data in a DataFrame.\n",
        "\n",
        "describe(): This function provides a summary of descriptive statistics for each column in the DataFrame, such as the count, mean, standard deviation, minimum, maximum, and quartile values. It is useful for getting a quick overview of the data.\n",
        "\n",
        "dropna(): This function removes any rows with missing values from the DataFrame. It is useful for cleaning up data with missing or incomplete values.\n",
        "\n",
        "fillna(): This function fills in missing values in the DataFrame with a specified value or method. It is useful for handling missing data in a way that makes sense for the analysis.\n",
        "\n",
        "groupby(): This function groups the data in the DataFrame by one or more columns and applies a function to each group. It is useful for aggregating and summarizing data by groups.\n",
        "\n",
        "sort_values(): This function sorts the data in the DataFrame by one or more columns. It is useful for organizing the data in a way that makes sense for the analysis.\n",
        "\n",
        "apply(): This function applies a function to each element or column in the DataFrame. It is useful for performing custom calculations or transformations on the data.\n",
        "\n"
      ],
      "metadata": {
        "id": "LZFwj3zIDRxq"
      }
    },
    {
      "cell_type": "code",
      "source": [
        "data={\n",
        "    'Name': ['Alice', 'Bob', 'Claire'],\n",
        "    'Age': [25, 30, 27], \n",
        "    'Gender': ['Female', 'Male', 'Female']\n",
        "}\n",
        "df=pd.DataFrame(data)\n",
        "print(df)\n",
        "print('\\n head function')\n",
        "print(df.head(1))\n"
      ],
      "metadata": {
        "colab": {
          "base_uri": "https://localhost:8080/"
        },
        "id": "xLHVqmQfC9dX",
        "outputId": "e88b5cbb-84fb-4201-91ee-11a9df0d2b79"
      },
      "execution_count": 9,
      "outputs": [
        {
          "output_type": "stream",
          "name": "stdout",
          "text": [
            "     Name  Age  Gender\n",
            "0   Alice   25  Female\n",
            "1     Bob   30    Male\n",
            "2  Claire   27  Female\n",
            "\n",
            " head function\n",
            "    Name  Age  Gender\n",
            "0  Alice   25  Female\n"
          ]
        }
      ]
    },
    {
      "cell_type": "markdown",
      "source": [
        "**Q6. Which of the following is mutable in nature Series, DataFrame, Panel?**"
      ],
      "metadata": {
        "id": "l_hzNMGBDpL3"
      }
    },
    {
      "cell_type": "markdown",
      "source": [
        "Both Series and DataFrame are mutable in nature, which means that their values can be changed after they are created. However, Panel is an immutable data structure in Pandas, which means that its values cannot be changed once it is created. In fact, Panel has been deprecated in favor of using MultiIndex DataFrames, which are also mutable in nature."
      ],
      "metadata": {
        "id": "ik8nEypJDu45"
      }
    },
    {
      "cell_type": "markdown",
      "source": [
        "**Q7. Create a DataFrame using multiple Series. Explain with an example.**"
      ],
      "metadata": {
        "id": "a7RgE7IMD3A0"
      }
    },
    {
      "cell_type": "markdown",
      "source": [
        "We can create a DataFrame using multiple Series by passing them as a dictionary to the pd.DataFrame() function. Each key in the dictionary represents the name of a column, and each value represents a Series of data for that column.\n",
        "\n",
        "Here's an example of creating a DataFrame with multiple Series:\n"
      ],
      "metadata": {
        "id": "EdWc35UMDxkQ"
      }
    },
    {
      "cell_type": "code",
      "source": [
        "names = pd.Series(['Alice', 'Bob', 'Claire'])\n",
        "ages = pd.Series([25, 30, 27])\n",
        "genders = pd.Series(['Female', 'Male', 'Female'])\n",
        "\n",
        "data={\n",
        "    'names':names,\n",
        "    \"ages\":ages,\n",
        "    \"genders\":genders\n",
        "}\n",
        "df=pd.DataFrame(data)\n",
        "print(df)"
      ],
      "metadata": {
        "colab": {
          "base_uri": "https://localhost:8080/"
        },
        "id": "oMJOGPgbDleH",
        "outputId": "312466bb-913a-45d8-aa49-141aac2920c0"
      },
      "execution_count": 10,
      "outputs": [
        {
          "output_type": "stream",
          "name": "stdout",
          "text": [
            "    names  ages genders\n",
            "0   Alice    25  Female\n",
            "1     Bob    30    Male\n",
            "2  Claire    27  Female\n"
          ]
        }
      ]
    },
    {
      "cell_type": "code",
      "source": [],
      "metadata": {
        "id": "8NTPwRutEXiL"
      },
      "execution_count": null,
      "outputs": []
    }
  ]
}