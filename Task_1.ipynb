{
  "nbformat": 4,
  "nbformat_minor": 0,
  "metadata": {
    "colab": {
      "provenance": []
    },
    "kernelspec": {
      "name": "python3",
      "display_name": "Python 3"
    },
    "language_info": {
      "name": "python"
    }
  },
  "cells": [
    {
      "cell_type": "markdown",
      "source": [
        "**Q1. Create a function which will take a list as an argument and return the product of all the numbers\n",
        "after creating a flat list.\n",
        "Use the below-given list as an argument for your function.\n",
        "list1 = [1,2,3,4, [44,55,66, True], False, (34,56,78,89,34), {1,2,3,3,2,1}, {1:34, \"key2\": [55, 67, 78, 89], 4: (45,\n",
        "22, 61, 34)}, [56, 'data science'], 'Machine Learning']**"
      ],
      "metadata": {
        "id": "-CmPUuwCIVc1"
      }
    },
    {
      "cell_type": "markdown",
      "source": [
        "**Q2. Write a python program for encrypting a message sent to you by your friend. The logic of encryption\n",
        "should be such that, for a the output should be z. For b, the output should be y. For c, the output should\n",
        "be x respectively. Also, the whitespace should be replaced with a dollar sign. Keep the punctuation\n",
        "marks unchanged.\n",
        "Input Sentence: I want to become a Data Scientist.\n",
        "Encrypt the above input sentence using the program you just created.\n",
        "Note: Convert the given input sentence into lowercase before encrypting. The final output should be\n",
        "lowercase.**"
      ],
      "metadata": {
        "id": "J0NvzQ3nI3vy"
      }
    },
    {
      "cell_type": "code",
      "source": [
        "def encrypt_message(message):\n",
        "    message = message.lower()\n",
        "    encrypted = ''\n",
        "    for char in message:\n",
        "        if char.isalpha():\n",
        "            encrypted += chr(ord('a') + ord('z') - ord(char))\n",
        "        elif char == ' ':\n",
        "            encrypted += '$'\n",
        "        else:\n",
        "            encrypted += char\n",
        "    return encrypted\n",
        "\n",
        "message = 'I want to become a Data Scientist.'\n",
        "encrypted_message = encrypt_message(message)\n",
        "print(encrypted_message)\n"
      ],
      "metadata": {
        "colab": {
          "base_uri": "https://localhost:8080/"
        },
        "id": "1AFESNRLIc4B",
        "outputId": "82adc768-0011-4e57-af18-42e895602ded"
      },
      "execution_count": 3,
      "outputs": [
        {
          "output_type": "stream",
          "name": "stdout",
          "text": [
            "r$dzmg$gl$yvxlnv$z$wzgz$hxrvmgrhg.\n"
          ]
        }
      ]
    },
    {
      "cell_type": "code",
      "source": [],
      "metadata": {
        "id": "RrGVfolpJBsy"
      },
      "execution_count": null,
      "outputs": []
    }
  ]
}