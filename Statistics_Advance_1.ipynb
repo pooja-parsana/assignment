{
  "nbformat": 4,
  "nbformat_minor": 0,
  "metadata": {
    "colab": {
      "provenance": []
    },
    "kernelspec": {
      "name": "python3",
      "display_name": "Python 3"
    },
    "language_info": {
      "name": "python"
    }
  },
  "cells": [
    {
      "cell_type": "markdown",
      "source": [
        "**Q1. What is the Probability density function?**"
      ],
      "metadata": {
        "id": "nTM-nTgkWnxR"
      }
    },
    {
      "cell_type": "markdown",
      "source": [
        "The Probability Density Function (PDF) is a concept used in probability theory and statistics to describe the probability distribution of a continuous random variable. It specifies the likelihood of the random variable taking on different values within a given range.\n",
        "\n",
        "The PDF represents the relative likelihood of a random variable having a specific value within a continuous range, rather than assigning probabilities to individual values. It is typically denoted as f(x), where x is the variable, and it satisfies the following properties:\n",
        "\n",
        "1. Non-Negativity: The PDF is non-negative for all values of x, i.e., f(x) ≥ 0.\n",
        "\n",
        "2. Total Area under the Curve: The total area under the PDF curve over its entire range is equal to 1.\n",
        "\n",
        "The PDF provides valuable information about the shape and characteristics of a probability distribution. It can help determine the likelihood of a random variable falling within a particular range or interval. The height of the PDF curve at a specific value indicates the probability density at that point, but the actual probability of a single point is zero in a continuous distribution.\n",
        "\n",
        "The PDF is often used in conjunction with other statistical tools, such as cumulative distribution functions (CDFs), to analyze and make inferences about continuous random variables. By integrating the PDF over a specific range, the probability of the variable falling within that range can be calculated.\n",
        "\n",
        "It's important to note that the PDF applies to continuous random variables, whereas probability mass function (PMF) is used for discrete random variables."
      ],
      "metadata": {
        "id": "JXqrcL1QX8N_"
      }
    },
    {
      "cell_type": "markdown",
      "source": [
        "**Q2. What are the types of Probability distribution?**"
      ],
      "metadata": {
        "id": "K_cW8hm7Wnue"
      }
    },
    {
      "cell_type": "markdown",
      "source": [
        "There are several types of probability distributions, each with its own characteristics and applications. Here are some commonly encountered types of probability distributions:\n",
        "\n",
        "1. Normal Distribution (Gaussian Distribution):\n",
        "   - The normal distribution is symmetrical and bell-shaped.\n",
        "   - It is characterized by its mean (μ) and standard deviation (σ).\n",
        "   - Many natural phenomena and measurement errors follow a normal distribution.\n",
        "   - Examples: Heights and weights of individuals, errors in measurement.\n",
        "\n",
        "2. Binomial Distribution:\n",
        "   - The binomial distribution describes the number of successes in a fixed number of independent Bernoulli trials.\n",
        "   - It is characterized by the probability of success (p) and the number of trials (n).\n",
        "   - Examples: Flipping a coin multiple times, the number of successful sales calls out of a fixed number of attempts.\n",
        "\n",
        "3. Poisson Distribution:\n",
        "   - The Poisson distribution models the number of events that occur in a fixed interval of time or space.\n",
        "   - It is characterized by the average rate of occurrence (λ) of the events.\n",
        "   - Examples: Number of phone calls received per hour, number of emails received per day.\n",
        "\n",
        "4. Exponential Distribution:\n",
        "   - The exponential distribution models the time between events occurring in a Poisson process.\n",
        "   - It is characterized by the rate parameter (λ), which represents the average number of events per unit of time.\n",
        "   - Examples: Time between customer arrivals at a store, time between occurrences of earthquakes.\n",
        "\n",
        "5. Uniform Distribution:\n",
        "   - The uniform distribution has a constant probability density over a specific interval.\n",
        "   - All values within the interval have equal likelihood of occurrence.\n",
        "   - Examples: Rolling a fair die, selecting a random number from a given range.\n",
        "\n",
        "6. Gamma Distribution:\n",
        "   - The gamma distribution is a versatile distribution that generalizes several other distributions, including the exponential and chi-square distributions.\n",
        "   - It is characterized by shape (α) and rate (β) parameters.\n",
        "   - Examples: Modeling time to failure of a machine, modeling wait times in queuing systems.\n",
        "\n",
        "These are just a few examples of probability distributions commonly encountered in statistics and probability theory. Each distribution has its own properties and is suitable for different types of data and scenarios. Understanding these distributions helps in modeling and analyzing various phenomena and making probabilistic inferences."
      ],
      "metadata": {
        "id": "xozam9RgX-zJ"
      }
    },
    {
      "cell_type": "markdown",
      "source": [
        "**Q3. Write a Python function to calculate the probability density function of a normal distribution with given mean and standard deviation at a given point.**"
      ],
      "metadata": {
        "id": "4uLQvohjWnrJ"
      }
    },
    {
      "cell_type": "markdown",
      "source": [
        "Certainly! Here's a Python function that calculates the probability density function (PDF) of a normal distribution at a given point, given the mean and standard deviation:\n",
        "\n",
        "The function `calculate_normal_pdf` takes three arguments: `x` (the point at which the PDF is calculated), `mean` (the mean of the normal distribution), and `std_dev` (the standard deviation of the normal distribution).\n",
        "\n",
        "The function uses the formula of the normal distribution's PDF, which involves calculating the coefficient and exponent. It then returns the PDF value at the given point.\n",
        "\n",
        "In this example, the function calculates the PDF of a normal distribution with mean 0 and standard deviation 1 at the point x = 1.5, and prints the result."
      ],
      "metadata": {
        "id": "xpldW6jXYCeg"
      }
    },
    {
      "cell_type": "code",
      "source": [
        "import math\n",
        "\n",
        "def calculate_normal_pdf(x, mean, std_dev):\n",
        "    coefficient = 1 / (std_dev * math.sqrt(2 * math.pi))\n",
        "    exponent = -((x - mean) ** 2) / (2 * std_dev ** 2)\n",
        "    pdf = coefficient * math.exp(exponent)\n",
        "    return pdf\n"
      ],
      "metadata": {
        "id": "laK7yk1uYK-4"
      },
      "execution_count": 1,
      "outputs": []
    },
    {
      "cell_type": "code",
      "source": [
        "mean = 0\n",
        "std_dev = 1\n",
        "x = 1.5\n",
        "\n",
        "pdf_value = calculate_normal_pdf(x, mean, std_dev)\n",
        "print(f\"PDF at x = {x} is {pdf_value}\")\n"
      ],
      "metadata": {
        "colab": {
          "base_uri": "https://localhost:8080/"
        },
        "id": "g7MdNp9gYOdt",
        "outputId": "ca09574f-6c0d-4e23-aeca-fc74abe96425"
      },
      "execution_count": 2,
      "outputs": [
        {
          "output_type": "stream",
          "name": "stdout",
          "text": [
            "PDF at x = 1.5 is 0.12951759566589174\n"
          ]
        }
      ]
    },
    {
      "cell_type": "markdown",
      "source": [
        "**Q4. What are the properties of Binomial distribution? Give two examples of events where binomial distribution can be applied.**"
      ],
      "metadata": {
        "id": "4cFt7nyUWnoK"
      }
    },
    {
      "cell_type": "markdown",
      "source": [
        "The properties of the binomial distribution are as follows:\n",
        "\n",
        "1. Fixed number of Trials: The binomial distribution describes the number of successes in a fixed number of independent Bernoulli trials.\n",
        "\n",
        "2. Independent Trials: Each trial in a binomial distribution must be independent of the others. The outcome of one trial does not affect the outcome of subsequent trials.\n",
        "\n",
        "3. Two Possible Outcomes: Each trial has two possible outcomes: success or failure.\n",
        "\n",
        "4. Constant Probability: The probability of success (denoted as p) remains constant for each trial.\n",
        "\n",
        "5. Discrete Distribution: The binomial distribution is a discrete probability distribution, meaning it applies to countable outcomes.\n",
        "\n",
        "Examples of events where the binomial distribution can be applied are:\n",
        "\n",
        "1. Coin Flipping: Consider flipping a fair coin multiple times and counting the number of heads obtained. Each flip is an independent trial, and the outcome of each trial is either a success (heads) or a failure (tails). The binomial distribution can be used to determine the probability of obtaining a specific number of heads in a given number of coin flips.\n",
        "\n",
        "2. Quality Control: In manufacturing or quality control processes, binomial distribution can be applied to assess the number of defective items in a fixed sample size. Each item is inspected independently, and the outcome of each inspection is either a success (non-defective) or a failure (defective). By modeling the process using a binomial distribution, one can estimate the probability of a certain number of defective items in a given sample size.\n",
        "\n",
        "In both of these examples, the binomial distribution is useful for analyzing scenarios with a fixed number of independent trials, each having two possible outcomes, and a constant probability of success."
      ],
      "metadata": {
        "id": "I-ncH9vkYWsj"
      }
    },
    {
      "cell_type": "markdown",
      "source": [
        "**Q5. Generate a random sample of size 1000 from a binomial distribution with probability of success 0.4 and plot a histogram of the results using matplotlib.**"
      ],
      "metadata": {
        "id": "uZncOsLlWnk3"
      }
    },
    {
      "cell_type": "code",
      "source": [
        "import numpy as np\n",
        "import matplotlib.pyplot as plt\n",
        "\n",
        "# Set the parameters\n",
        "sample_size = 1000\n",
        "probability = 0.4\n",
        "\n",
        "# Generate the random sample\n",
        "random_sample = np.random.binomial(1, probability, sample_size)\n",
        "\n",
        "# Plot the histogram\n",
        "plt.hist(random_sample, bins=2, edgecolor='black')\n",
        "plt.xlabel('Success (1) / Failure (0)')\n",
        "plt.ylabel('Frequency')\n",
        "plt.title('Histogram of Random Sample from Binomial Distribution')\n",
        "plt.show()\n"
      ],
      "metadata": {
        "colab": {
          "base_uri": "https://localhost:8080/",
          "height": 472
        },
        "id": "0dsFHS3hYab2",
        "outputId": "31062c2f-e176-475f-ecee-205416c7dd28"
      },
      "execution_count": 3,
      "outputs": [
        {
          "output_type": "display_data",
          "data": {
            "text/plain": [
              "<Figure size 640x480 with 1 Axes>"
            ],
            "image/png": "[encoded data removed]"
          },
          "metadata": {}
        }
      ]
    },
    {
      "cell_type": "markdown",
      "source": [
        "**Q6. Write a Python function to calculate the cumulative distribution function of a Poisson distribution with given mean at a given point.**"
      ],
      "metadata": {
        "id": "bQ73ZkI1Wnhx"
      }
    },
    {
      "cell_type": "code",
      "source": [
        "import math\n",
        "\n",
        "def calculate_poisson_cdf(x, mean):\n",
        "    cdf = 0\n",
        "    for i in range(x + 1):\n",
        "        cdf += (mean ** i) * math.exp(-mean) / math.factorial(i)\n",
        "    return cdf\n"
      ],
      "metadata": {
        "id": "sIa1Y5ooYeXi"
      },
      "execution_count": 4,
      "outputs": []
    },
    {
      "cell_type": "code",
      "source": [
        "mean = 2.5\n",
        "x = 4\n",
        "\n",
        "cdf_value = calculate_poisson_cdf(x, mean)\n",
        "print(f\"CDF at x = {x} is {cdf_value}\")\n"
      ],
      "metadata": {
        "colab": {
          "base_uri": "https://localhost:8080/"
        },
        "id": "1RgiAj27YfZe",
        "outputId": "3b3010b6-4f40-4482-947c-99bbc7bec65e"
      },
      "execution_count": 5,
      "outputs": [
        {
          "output_type": "stream",
          "name": "stdout",
          "text": [
            "CDF at x = 4 is 0.8911780189141512\n"
          ]
        }
      ]
    },
    {
      "cell_type": "markdown",
      "source": [
        "**Q7. How Binomial distribution different from Poisson distribution?**"
      ],
      "metadata": {
        "id": "Pv_R_1awWne5"
      }
    },
    {
      "cell_type": "markdown",
      "source": [
        "The Binomial and Poisson distributions are both commonly used probability distributions, but they differ in their underlying assumptions and the types of events they model. Here are the key differences between the Binomial and Poisson distributions:\n",
        "\n",
        "1. Assumptions:\n",
        "- Binomial Distribution: The Binomial distribution assumes a fixed number of independent trials, each with two possible outcomes (success or failure), and a constant probability of success for each trial. The trials are discrete and mutually exclusive.\n",
        "- Poisson Distribution: The Poisson distribution assumes a continuous or discrete random process with events occurring randomly over a given interval of time or space. It does not require a fixed number of trials, and the events can occur at any time.\n",
        "\n",
        "2. Nature of Events:\n",
        "- Binomial Distribution: The Binomial distribution models events with a fixed number of trials, each with two possible outcomes. It counts the number of successes out of a fixed number of trials.\n",
        "- Poisson Distribution: The Poisson distribution models events with a random occurrence rate or frequency, such as the number of events that occur within a specified interval of time or space.\n",
        "\n",
        "3. Parameters:\n",
        "- Binomial Distribution: The Binomial distribution is characterized by two parameters: the number of trials (n) and the probability of success on each trial (p).\n",
        "- Poisson Distribution: The Poisson distribution is characterized by a single parameter: the average rate or frequency (λ) at which events occur.\n",
        "\n",
        "4. Discrete vs. Continuous:\n",
        "- Binomial Distribution: The Binomial distribution is a discrete distribution since it models a fixed number of discrete trials with two possible outcomes.\n",
        "- Poisson Distribution: The Poisson distribution can be either discrete or continuous, depending on the nature of the events it models. It can handle both discrete and continuous random processes.\n",
        "\n",
        "5. Relationship:\n",
        "- Binomial and Poisson Distribution: The Poisson distribution can be seen as a limiting case of the Binomial distribution when the number of trials becomes large (approaching infinity) and the probability of success becomes small (approaching zero). In such cases, where the average rate or frequency (λ) remains fixed, the Binomial distribution approximates the Poisson distribution.\n",
        "\n",
        "In summary, while both the Binomial and Poisson distributions deal with counting events, the Binomial distribution is used when there is a fixed number of independent trials with two outcomes, whereas the Poisson distribution models the random occurrence rate of events within a given interval."
      ],
      "metadata": {
        "id": "NoEJj6mbYlNk"
      }
    },
    {
      "cell_type": "markdown",
      "source": [
        "**Q8. Generate a random sample of size 1000 from a Poisson distribution with mean 5 and calculate the sample mean and variance.**"
      ],
      "metadata": {
        "id": "hNy6EQ5KWnbx"
      }
    },
    {
      "cell_type": "code",
      "source": [
        "import numpy as np\n",
        "\n",
        "# Set the parameters\n",
        "sample_size = 1000\n",
        "mean = 5\n",
        "\n",
        "# Generate the random sample\n",
        "random_sample = np.random.poisson(mean, sample_size)\n",
        "\n",
        "# Calculate the sample mean and variance\n",
        "sample_mean = np.mean(random_sample)\n",
        "sample_variance = np.var(random_sample)\n",
        "\n",
        "print(\"Sample Mean:\", sample_mean)\n",
        "print(\"Sample Variance:\", sample_variance)\n"
      ],
      "metadata": {
        "colab": {
          "base_uri": "https://localhost:8080/"
        },
        "id": "e7EC49leYpU6",
        "outputId": "b2fd0eef-6922-4491-c217-db64fede9cf5"
      },
      "execution_count": 6,
      "outputs": [
        {
          "output_type": "stream",
          "name": "stdout",
          "text": [
            "Sample Mean: 5.116\n",
            "Sample Variance: 5.204544000000001\n"
          ]
        }
      ]
    },
    {
      "cell_type": "markdown",
      "source": [
        "**Q9. How mean and variance are related in Binomial distribution and Poisson distribution?**"
      ],
      "metadata": {
        "id": "QWB0xu2RXw-W"
      }
    },
    {
      "cell_type": "markdown",
      "source": [
        "In both the Binomial and Poisson distributions, the mean and variance are related, but the nature of their relationship differs.\n",
        "\n",
        "Binomial Distribution:\n",
        "- Mean: In a binomial distribution, the mean is equal to the product of the number of trials (n) and the probability of success (p). Therefore, the mean of a binomial distribution is μ = n * p.\n",
        "- Variance: The variance of a binomial distribution is calculated as the product of the number of trials (n), the probability of success (p), and the probability of failure (q = 1 - p). Thus, the variance of a binomial distribution is σ^2 = n * p * q.\n",
        "\n",
        "The relationship between mean and variance in a binomial distribution is given by σ^2 = n * p * q = n * p * (1 - p).\n",
        "\n",
        "Poisson Distribution:\n",
        "- Mean: In a Poisson distribution, the mean (λ) is equal to both the variance and the standard deviation. Therefore, the mean of a Poisson distribution is μ = λ.\n",
        "- Variance: The variance of a Poisson distribution is also equal to the mean (λ). Hence, the variance of a Poisson distribution is σ^2 = λ.\n",
        "\n",
        "The relationship between mean and variance in a Poisson distribution is given by σ^2 = λ.\n",
        "\n",
        "In summary:\n",
        "- In a binomial distribution, the variance depends on the number of trials, the probability of success, and the probability of failure.\n",
        "- In a Poisson distribution, the variance is equal to the mean.\n",
        "\n",
        "The key distinction is that the variance of a binomial distribution is influenced by both the number of trials and the probability of success, while the variance of a Poisson distribution is solely determined by the mean."
      ],
      "metadata": {
        "id": "j0abaq4EYubu"
      }
    },
    {
      "cell_type": "markdown",
      "source": [
        "**Q10. In normal distribution with respect to mean position, where does the least frequent data appear?**"
      ],
      "metadata": {
        "id": "pG11hzfnX2n1"
      }
    },
    {
      "cell_type": "markdown",
      "source": [
        "In a normal distribution, the least frequent data points appear in the tails of the distribution, farthest away from the mean.\n",
        "\n",
        "The normal distribution is a symmetric bell-shaped distribution, and its shape is determined by its mean (μ) and standard deviation (σ). The mean represents the center of the distribution, and the data points are symmetrically distributed around it. The highest frequency of data points occurs near the mean.\n",
        "\n",
        "As we move away from the mean in either direction, towards the tails of the distribution, the frequency of data points decreases. The data points in the tails are less frequent compared to the data points near the mean. This is because the tails of the normal distribution represent extreme values that are less likely to occur.\n",
        "\n",
        "To summarize, in a normal distribution:\n",
        "- The least frequent data points appear in the tails of the distribution.\n",
        "- The data points near the mean have the highest frequency.\n",
        "- The frequency gradually decreases as we move towards the tails."
      ],
      "metadata": {
        "id": "s8N8PzqZYww3"
      }
    },
    {
      "cell_type": "code",
      "execution_count": null,
      "metadata": {
        "id": "S5QrjAx2WhUU"
      },
      "outputs": [],
      "source": []
    }
  ]
}