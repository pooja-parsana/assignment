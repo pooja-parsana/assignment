{
  "nbformat": 4,
  "nbformat_minor": 0,
  "metadata": {
    "colab": {
      "provenance": []
    },
    "kernelspec": {
      "name": "python3",
      "display_name": "Python 3"
    },
    "language_info": {
      "name": "python"
    }
  },
  "cells": [
    {
      "cell_type": "markdown",
      "source": [
        "**Q1. Create a python program to sort the given list of tuples based on integer value using a\n",
        "lambda function.**\n",
        "\n",
        "**[('Sachin Tendulkar', 34357), ('Ricky Ponting', 27483), ('Jack Kallis', 25534), ('Virat Kohli', 24936)]**"
      ],
      "metadata": {
        "id": "vzsSG3PPK0Up"
      }
    },
    {
      "cell_type": "code",
      "source": [
        "tuples_list = [('Sachin Tendulkar', 34357), ('Ricky Ponting', 27483), ('Jack Kallis', 25534), ('Virat Kohli', 24936)]\n",
        "\n",
        "sorted_tuples = sorted(tuples_list, key=lambda x: x[1])\n",
        "\n",
        "print(sorted_tuples)\n"
      ],
      "metadata": {
        "colab": {
          "base_uri": "https://localhost:8080/"
        },
        "id": "XUYOLgaoLWMt",
        "outputId": "c6fbc679-a540-47d2-8a34-c0f6d6e7992d"
      },
      "execution_count": 1,
      "outputs": [
        {
          "output_type": "stream",
          "name": "stdout",
          "text": [
            "[('Virat Kohli', 24936), ('Jack Kallis', 25534), ('Ricky Ponting', 27483), ('Sachin Tendulkar', 34357)]\n"
          ]
        }
      ]
    },
    {
      "cell_type": "markdown",
      "source": [
        "**Q2. Write a Python Program to find the squares of all the numbers in the given list of integers using\n",
        "lambda and map functions.\n",
        "[1, 2, 3, 4, 5, 6, 7, 8, 9, 10]**"
      ],
      "metadata": {
        "id": "cC6wtl19K0R1"
      }
    },
    {
      "cell_type": "code",
      "source": [
        "lst=[1, 2, 3, 4, 5, 6, 7, 8, 9, 10]\n",
        "\n",
        "squred_data=list(map(lambda x:x**2,lst))\n",
        "print(squred_data)"
      ],
      "metadata": {
        "colab": {
          "base_uri": "https://localhost:8080/"
        },
        "id": "vCdNtY41Luta",
        "outputId": "e749ba59-9ed9-4a65-d89a-7cdfbdecaa93"
      },
      "execution_count": 2,
      "outputs": [
        {
          "output_type": "stream",
          "name": "stdout",
          "text": [
            "[1, 4, 9, 16, 25, 36, 49, 64, 81, 100]\n"
          ]
        }
      ]
    },
    {
      "cell_type": "markdown",
      "source": [
        "**Q3. Write a python program to convert the given list of integers into a tuple of strings. Use map and\n",
        "lambda functions**\n",
        "\n",
        "**Given String: [1, 2, 3, 4, 5, 6, 7, 8, 9, 10]\n",
        "Expected output: ('1', '2', '3', '4', '5', '6', '7', '8', '9', '10')**"
      ],
      "metadata": {
        "id": "fQbg3jCfK0MO"
      }
    },
    {
      "cell_type": "code",
      "source": [
        "int_list = [1, 2, 3, 4, 5, 6, 7, 8, 9, 10]\n",
        "str_tuple=tuple(map(lambda x:str(x),int_list))\n",
        "print(str_tuple)"
      ],
      "metadata": {
        "colab": {
          "base_uri": "https://localhost:8080/"
        },
        "id": "bVb_clZRMNfp",
        "outputId": "5c21ea7c-737a-43d6-8f3b-8a6ea4d567c6"
      },
      "execution_count": 4,
      "outputs": [
        {
          "output_type": "stream",
          "name": "stdout",
          "text": [
            "('1', '2', '3', '4', '5', '6', '7', '8', '9', '10')\n"
          ]
        }
      ]
    },
    {
      "cell_type": "markdown",
      "source": [
        "**Q4. Write a python program using reduce function to compute the product of a list containing numbers\n",
        "from 1 to 25.**"
      ],
      "metadata": {
        "id": "A9L9hZyiK0Ja"
      }
    },
    {
      "cell_type": "code",
      "source": [
        "from functools import reduce\n",
        "\n",
        "num_list = list(range(1, 26))\n",
        "\n",
        "product = reduce(lambda x, y: x * y, num_list)\n",
        "\n",
        "print(product)"
      ],
      "metadata": {
        "colab": {
          "base_uri": "https://localhost:8080/"
        },
        "id": "bFeHg5S1Mm6_",
        "outputId": "1753190d-5a8f-46a1-896c-350634b296be"
      },
      "execution_count": 5,
      "outputs": [
        {
          "output_type": "stream",
          "name": "stdout",
          "text": [
            "15511210043330985984000000\n"
          ]
        }
      ]
    },
    {
      "cell_type": "markdown",
      "source": [
        "**Q5. Write a python program to filter the numbers in a given list that are divisible by 2 and 3 using the\n",
        "filter function.**\n",
        "\n",
        "**[2, 3, 6, 9, 27, 60, 90, 120, 55, 46]**"
      ],
      "metadata": {
        "id": "_DXNO9CxK0Fz"
      }
    },
    {
      "cell_type": "code",
      "source": [
        "num_list = [2, 3, 6, 9, 27, 60, 90, 120, 55, 46]\n",
        "\n",
        "filtered_list = list(filter(lambda x: x % 2 == 0 and x % 3 == 0, num_list))\n",
        "\n",
        "print(filtered_list)"
      ],
      "metadata": {
        "colab": {
          "base_uri": "https://localhost:8080/"
        },
        "id": "6NRdwf_HMz45",
        "outputId": "b4e01d27-3bd7-4f16-e517-30a7d91c2872"
      },
      "execution_count": 6,
      "outputs": [
        {
          "output_type": "stream",
          "name": "stdout",
          "text": [
            "[6, 60, 90, 120]\n"
          ]
        }
      ]
    },
    {
      "cell_type": "markdown",
      "source": [
        "**Q6. Write a python program to find palindromes in the given list of strings using lambda and filter\n",
        "function.**\n",
        "\n",
        "**['python', 'php', 'aba', 'radar', 'level']**"
      ],
      "metadata": {
        "id": "pdBL4L6NK0CP"
      }
    },
    {
      "cell_type": "code",
      "source": [
        "str_list = ['python', 'php', 'aba', 'radar', 'level']\n",
        "\n",
        "palindrome_list = list(filter(lambda x: x == x[::-1], str_list))\n",
        "\n",
        "print(palindrome_list)\n"
      ],
      "metadata": {
        "id": "iTbSkbYiM76l",
        "outputId": "7601872c-6fb4-47ad-d7be-f2b747016b34",
        "colab": {
          "base_uri": "https://localhost:8080/"
        }
      },
      "execution_count": 7,
      "outputs": [
        {
          "output_type": "stream",
          "name": "stdout",
          "text": [
            "['php', 'aba', 'radar', 'level']\n"
          ]
        }
      ]
    },
    {
      "cell_type": "code",
      "source": [],
      "metadata": {
        "id": "ZDgW2TrzM9cr"
      },
      "execution_count": null,
      "outputs": []
    }
  ]
}