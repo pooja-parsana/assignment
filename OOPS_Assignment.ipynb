{
  "nbformat": 4,
  "nbformat_minor": 0,
  "metadata": {
    "colab": {
      "provenance": []
    },
    "kernelspec": {
      "name": "python3",
      "display_name": "Python 3"
    },
    "language_info": {
      "name": "python"
    }
  },
  "cells": [
    {
      "cell_type": "code",
      "execution_count": null,
      "metadata": {
        "id": "PPC1n0YqNjvs"
      },
      "outputs": [],
      "source": []
    },
    {
      "cell_type": "markdown",
      "source": [
        "**Q1. Explain Class and Object with respect to Object-Oriented Programming. Give a suitable example.**"
      ],
      "metadata": {
        "id": "SYTqjobQNyu5"
      }
    },
    {
      "cell_type": "markdown",
      "source": [
        "In Object-Oriented Programming (OOP), a class is a blueprint or template for creating objects that share common attributes and behaviors. A class defines the characteristics and behaviors of a particular type of object, but it does not actually create any objects itself.\n",
        "\n",
        "On the other hand, an object is an instance of a class. When you create an object, you are creating a specific instance of the class that has its own unique set of attributes and behaviors. Objects can interact with one another and with the rest of the program to perform various tasks.\n",
        "\n",
        "Here's an example:"
      ],
      "metadata": {
        "id": "EA_wiaQkPKaY"
      }
    },
    {
      "cell_type": "code",
      "source": [
        "class Car:\n",
        "    def __init__(self, make, model, year, color):\n",
        "        self.make = make\n",
        "        self.model = model\n",
        "        self.year = year\n",
        "        self.color = color\n",
        "    \n",
        "    def start(self):\n",
        "        print(\"Starting the \" + self.color + \" \" + self.make + \" \" + self.model)\n",
        "    \n",
        "    def drive(self, distance):\n",
        "        print(\"Driving the \" + self.color + \" \" + self.make + \" \" + self.model + \" for \" + str(distance) + \" miles\")\n",
        "\n",
        "car1 = Car(\"Toyota\", \"Camry\", 2021, \"blue\")\n",
        "car2 = Car(\"Ford\", \"Mustang\", 2022, \"red\")\n",
        "\n",
        "car1.start()  # Output: Starting the blue Toyota Camry\n",
        "car2.start()  # Output: Starting the red Ford Mustang\n",
        "\n",
        "car1.drive(10)  # Output: Driving the blue Toyota Camry for 10 miles\n",
        "car2.drive(20)  # Output: Driving the red Ford Mustang for 20 miles\n"
      ],
      "metadata": {
        "colab": {
          "base_uri": "https://localhost:8080/"
        },
        "id": "QEaFJQw5PME5",
        "outputId": "f4b739e0-eaa0-4b2d-e006-3787864f57fe"
      },
      "execution_count": 6,
      "outputs": [
        {
          "output_type": "stream",
          "name": "stdout",
          "text": [
            "Starting the blue Toyota Camry\n",
            "Starting the red Ford Mustang\n",
            "Driving the blue Toyota Camry for 10 miles\n",
            "Driving the red Ford Mustang for 20 miles\n"
          ]
        }
      ]
    },
    {
      "cell_type": "markdown",
      "source": [
        "**Q2. Name the four pillars of OOPs.**"
      ],
      "metadata": {
        "id": "BWmkDsixNysC"
      }
    },
    {
      "cell_type": "markdown",
      "source": [
        "The four pillars of Object-Oriented Programming (OOP) are:\n",
        "\n",
        "Encapsulation: Encapsulation refers to the practice of hiding the internal details of an object and only exposing a public interface through which other objects can interact with it. This helps to ensure that an object's internal state cannot be accidentally modified by other objects.\n",
        "\n",
        "Abstraction: Abstraction is the process of defining a simplified representation of something, with the goal of making it easier to work with. In OOP, abstraction involves creating classes that represent real-world objects or concepts, and defining methods and attributes that provide a simplified interface for working with those objects or concepts.\n",
        "\n",
        "Inheritance: Inheritance allows a class to inherit methods and attributes from another class. This allows you to create new classes that reuse the code and behavior of existing classes, while also adding new functionality or modifying existing behavior.\n",
        "\n",
        "Polymorphism: Polymorphism allows objects of different classes to be used interchangeably. This means that you can create code that works with a variety of objects, without having to know the specific details of each object's class. In Python, polymorphism is often achieved through the use of duck typing, which allows objects to be treated as if they belong to a particular class based on their behavior.\n",
        "\n",
        "\n",
        "\n",
        "\n",
        "\n"
      ],
      "metadata": {
        "id": "xbqN5rZOPESX"
      }
    },
    {
      "cell_type": "markdown",
      "source": [
        "**Q3. Explain why the __init__() function is used. Give a suitable example.**"
      ],
      "metadata": {
        "id": "7qt4NGuKNypL"
      }
    },
    {
      "cell_type": "markdown",
      "source": [
        "In Python, the __init__() function is a constructor method used to initialize an object's attributes when it is created. The __init__() function is automatically called when an object of a class is created, and it allows you to define what attributes the object will have and their initial values.\n",
        "\n",
        "Here's an example:"
      ],
      "metadata": {
        "id": "9FcjksbAO1tW"
      }
    },
    {
      "cell_type": "code",
      "source": [
        "class Person:\n",
        "    def __init__(self, name, age):\n",
        "        self.name = name\n",
        "        self.age = age\n",
        "    \n",
        "    def greet(self):\n",
        "        print(\"Hello, my name is \" + self.name + \" and I am \" + str(self.age) + \" years old.\")\n",
        "\n",
        "person1 = Person(\"Alice\", 25)\n",
        "person2 = Person(\"Bob\", 30)\n",
        "\n",
        "person1.greet()  # Output: Hello, my name is Alice and I am 25 years old.\n",
        "person2.greet()  # Output: Hello, my name is Bob and I am 30 years old.\n"
      ],
      "metadata": {
        "colab": {
          "base_uri": "https://localhost:8080/"
        },
        "id": "zDG95sFyO7Bf",
        "outputId": "30f515e6-927c-47bf-edaf-e92b525053b6"
      },
      "execution_count": 5,
      "outputs": [
        {
          "output_type": "stream",
          "name": "stdout",
          "text": [
            "Hello, my name is Alice and I am 25 years old.\n",
            "Hello, my name is Bob and I am 30 years old.\n"
          ]
        }
      ]
    },
    {
      "cell_type": "markdown",
      "source": [
        "**Q4. Why self is used in OOPs?**"
      ],
      "metadata": {
        "id": "o78LStTPNylz"
      }
    },
    {
      "cell_type": "markdown",
      "source": [
        "In Object-Oriented Programming (OOP), self is used to refer to the instance of a class. It is a convention in Python to call the first parameter of a method self.\n",
        "\n",
        "When an object of a class is created, it is an instance of that class, and self refers to that instance. self is used to access the attributes and methods of the object within the class. It allows the class to differentiate between the attributes and methods of the object and those of the class itself."
      ],
      "metadata": {
        "id": "Nxr3cmkyOzwH"
      }
    },
    {
      "cell_type": "markdown",
      "source": [
        "**Q5. What is inheritance? Give an example for each type of inheritance.**\n"
      ],
      "metadata": {
        "id": "FiomOseWOA6f"
      }
    },
    {
      "cell_type": "markdown",
      "source": [
        "Inheritance is a key feature of object-oriented programming that allows a new class (the subclass or derived class) to be based on an existing class (the superclass or base class), inheriting all of its attributes and behaviors. Inheritance facilitates code reusability, modularity, and extensibility.\n",
        "\n",
        "There are four types of inheritance:\n",
        "\n",
        "Single Inheritance: Single inheritance is the most commonly used type of inheritance. In this type of inheritance, a subclass inherits the properties of a single superclass.\n",
        "\n",
        "Example:"
      ],
      "metadata": {
        "id": "sZw57GN4OOW1"
      }
    },
    {
      "cell_type": "code",
      "source": [
        "class Animal:\n",
        "    def __init__(self, name, age):\n",
        "        self.name = name\n",
        "        self.age = age\n",
        "\n",
        "class Dog(Animal):\n",
        "    def __init__(self, name, age, breed):\n",
        "        super().__init__(name, age)\n",
        "        self.breed = breed\n",
        "\n",
        "my_dog = Dog(\"Fido\", 5, \"Labrador\")\n",
        "print(my_dog.name)  # Output: Fido\n",
        "print(my_dog.age)  # Output: 5\n",
        "print(my_dog.breed)  # Output: Labrador\n"
      ],
      "metadata": {
        "colab": {
          "base_uri": "https://localhost:8080/"
        },
        "id": "a-4Ukhh-OAaf",
        "outputId": "8c069789-f1b7-45c6-86df-6e77d295755e"
      },
      "execution_count": 1,
      "outputs": [
        {
          "output_type": "stream",
          "name": "stdout",
          "text": [
            "Fido\n",
            "5\n",
            "Labrador\n"
          ]
        }
      ]
    },
    {
      "cell_type": "markdown",
      "source": [
        "Multiple Inheritance: Multiple inheritance is a type of inheritance in which a subclass inherits from more than one superclass.\n",
        "\n",
        "Example:"
      ],
      "metadata": {
        "id": "qlw2arl2OXpa"
      }
    },
    {
      "cell_type": "code",
      "source": [
        "class Base1:\n",
        "    def method1(self):\n",
        "        print(\"method1 from Base1\")\n",
        "\n",
        "class Base2:\n",
        "    def method2(self):\n",
        "        print(\"method2 from Base2\")\n",
        "\n",
        "class Derived(Base1, Base2):\n",
        "    def method3(self):\n",
        "        print(\"method3 from Derived\")\n",
        "\n",
        "obj = Derived()\n",
        "obj.method1()  # Output: method1 from Base1\n",
        "obj.method2()  # Output: method2 from Base2\n",
        "obj.method3()  # Output: method3 from Derived\n"
      ],
      "metadata": {
        "colab": {
          "base_uri": "https://localhost:8080/"
        },
        "id": "-4WHGwanOTez",
        "outputId": "512fd68a-a3d5-4b7d-8ca1-1d3c162cb677"
      },
      "execution_count": 2,
      "outputs": [
        {
          "output_type": "stream",
          "name": "stdout",
          "text": [
            "method1 from Base1\n",
            "method2 from Base2\n",
            "method3 from Derived\n"
          ]
        }
      ]
    },
    {
      "cell_type": "markdown",
      "source": [
        "Multi-Level Inheritance: Multi-level inheritance is a type of inheritance in which a subclass inherits from a superclass, which in turn inherits from another superclass.\n",
        "\n",
        "Example:"
      ],
      "metadata": {
        "id": "o4eNxuG9OfNp"
      }
    },
    {
      "cell_type": "code",
      "source": [
        "class Animal:\n",
        "    def __init__(self, name):\n",
        "        self.name = name\n",
        "\n",
        "class Mammal(Animal):\n",
        "    def __init__(self, name, species):\n",
        "        super().__init__(name)\n",
        "        self.species = species\n",
        "\n",
        "class Dog(Mammal):\n",
        "    def __init__(self, name, species, breed):\n",
        "        super().__init__(name, species)\n",
        "        self.breed = breed\n",
        "\n",
        "my_dog = Dog(\"Fido\", \"Canis lupus familiaris\", \"Labrador\")\n",
        "print(my_dog.name)  # Output: Fido\n",
        "print(my_dog.species)  # Output: Canis lupus familiaris\n",
        "print(my_dog.breed)  # Output: Labrador\n"
      ],
      "metadata": {
        "colab": {
          "base_uri": "https://localhost:8080/"
        },
        "id": "siT13iwiOdFC",
        "outputId": "f40f5f46-9c3c-4ee4-8ea3-1989e7c22eff"
      },
      "execution_count": 3,
      "outputs": [
        {
          "output_type": "stream",
          "name": "stdout",
          "text": [
            "Fido\n",
            "Canis lupus familiaris\n",
            "Labrador\n"
          ]
        }
      ]
    },
    {
      "cell_type": "markdown",
      "source": [
        "Hierarchical Inheritance: Hierarchical inheritance is a type of inheritance in which multiple sub-classes inherit from a single superclass.\n",
        "\n",
        "Example:"
      ],
      "metadata": {
        "id": "BfW4wAAmOjar"
      }
    },
    {
      "cell_type": "code",
      "source": [
        "class Shape:\n",
        "    def area(self):\n",
        "        pass\n",
        "\n",
        "class Rectangle(Shape):\n",
        "    def __init__(self, width, height):\n",
        "        self.width = width\n",
        "        self.height = height\n",
        "    \n",
        "    def area(self):\n",
        "        return self.width * self.height\n",
        "\n",
        "class Square(Shape):\n",
        "    def __init__(self, side):\n",
        "        self.side = side\n",
        "    \n",
        "    def area(self):\n",
        "        return self.side ** 2\n",
        "\n",
        "class Circle(Shape):\n",
        "    def __init__(self, radius):\n",
        "        self.radius = radius\n",
        "    \n",
        "    def area(self):\n",
        "        return 3.14 * (self.radius ** 2)\n",
        "\n",
        "rectangle = Rectangle(5, 3)\n",
        "print(rectangle.area())  # Output: 15\n",
        "\n",
        "square = Square(4)\n",
        "print(square.area())  # Output: 16\n",
        "\n",
        "circle = Circle(6)\n",
        "print(circle.area())  # Output: 113.04\n"
      ],
      "metadata": {
        "colab": {
          "base_uri": "https://localhost:8080/"
        },
        "id": "N-FqjUFIOhSn",
        "outputId": "17aef975-0816-4258-d325-cdbf4befd94c"
      },
      "execution_count": 4,
      "outputs": [
        {
          "output_type": "stream",
          "name": "stdout",
          "text": [
            "15\n",
            "16\n",
            "113.04\n"
          ]
        }
      ]
    },
    {
      "cell_type": "code",
      "source": [],
      "metadata": {
        "id": "lGCr6scJOs_d"
      },
      "execution_count": null,
      "outputs": []
    }
  ]
}