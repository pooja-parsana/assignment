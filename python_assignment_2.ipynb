{
  "nbformat": 4,
  "nbformat_minor": 0,
  "metadata": {
    "colab": {
      "provenance": []
    },
    "kernelspec": {
      "name": "python3",
      "display_name": "Python 3"
    },
    "language_info": {
      "name": "python"
    }
  },
  "cells": [
    {
      "cell_type": "markdown",
      "source": [
        "**Q1. Which keyword is used to create a function? Create a function to return a list of odd numbers in the\n",
        "range of 1 to 25.**"
      ],
      "metadata": {
        "id": "ZWDgnTYSjzLr"
      }
    },
    {
      "cell_type": "markdown",
      "source": [
        "def keyword is used to create a function."
      ],
      "metadata": {
        "id": "IJPp4nb5k0TB"
      }
    },
    {
      "cell_type": "code",
      "source": [
        "def odd_numbers():\n",
        "  odd_list=[]\n",
        "  for i in range(1,25):\n",
        "    if i%2 !=0:\n",
        "      odd_list.append(i)\n",
        "  return odd_list\n",
        "odd_numbers()"
      ],
      "metadata": {
        "colab": {
          "base_uri": "https://localhost:8080/"
        },
        "id": "UjWeWwIfk4cc",
        "outputId": "57be8db9-1e0d-4252-8e14-3af888855d1a"
      },
      "execution_count": null,
      "outputs": [
        {
          "output_type": "execute_result",
          "data": {
            "text/plain": [
              "[1, 3, 5, 7, 9, 11, 13, 15, 17, 19, 21, 23]"
            ]
          },
          "metadata": {},
          "execution_count": 3
        }
      ]
    },
    {
      "cell_type": "markdown",
      "source": [
        "**Q2. Why *args and **kwargs is used in some functions? Create a function each for *args and **kwargs\n",
        "to demonstrate their use.**"
      ],
      "metadata": {
        "id": "rP-fCh2-jzI3"
      }
    },
    {
      "cell_type": "markdown",
      "source": [
        "*args and **kwargs are used in Python functions to allow them to accept a variable number of arguments.\n",
        "\n",
        "*args is used to pass a variable number of non-keyword arguments to a function. It takes any number of arguments and stores them as a tuple in the function. **kwargs, on the other hand, is used to pass a variable number of keyword arguments to a function. It takes any number of keyword arguments and stores them as a dictionary in the function.\n",
        "\n",
        "Here are examples of functions that use *args and **kwargs:"
      ],
      "metadata": {
        "id": "CbP7FjAclwAt"
      }
    },
    {
      "cell_type": "code",
      "source": [
        "# *args example\n",
        "def sum_all(*args):\n",
        "    total = 0\n",
        "    for num in args:\n",
        "        total += num\n",
        "    return total\n",
        "print(\"args output\")\n",
        "print(sum_all(1, 2, 3))  # output: 6\n",
        "print(sum_all(1, 2, 3, 4, 5))  # output: 15\n",
        "print(sum_all(1, 2))  # output: 3\n"
      ],
      "metadata": {
        "colab": {
          "base_uri": "https://localhost:8080/"
        },
        "id": "qyv1a98Qlj-z",
        "outputId": "34432b0b-80a3-44a0-ea24-01e2cb17579b"
      },
      "execution_count": null,
      "outputs": [
        {
          "output_type": "stream",
          "name": "stdout",
          "text": [
            "args output\n",
            "6\n",
            "15\n",
            "3\n"
          ]
        }
      ]
    },
    {
      "cell_type": "code",
      "source": [
        "\n",
        "# **kwargs example\n",
        "\n",
        "def person_details(**kwargs):\n",
        "  print(f\"Name : {kwargs['name']}\")\n",
        "  print(f\"Age : {kwargs['age']}\")\n",
        "  print(f\"Occupation: {kwargs['occupation']}\")\n",
        "\n",
        "print(\"**kwargs output\")\n",
        "person_details(name=\"Pooja\",age=\"23\",occupation=\"Computer Engineer\")"
      ],
      "metadata": {
        "colab": {
          "base_uri": "https://localhost:8080/"
        },
        "id": "jzSk56UbmjU8",
        "outputId": "7b895c02-cbd9-4164-8c3a-7ded05495329"
      },
      "execution_count": null,
      "outputs": [
        {
          "output_type": "stream",
          "name": "stdout",
          "text": [
            "**kwargs output\n",
            "Name : Pooja\n",
            "Age : 23\n",
            "Occupation: Computer Engineer\n"
          ]
        }
      ]
    },
    {
      "cell_type": "markdown",
      "source": [
        "**Q3. What is an iterator in python? Name the method used to initialise the iterator object and the method\n",
        "used for iteration. Use these methods to print the first five elements of the given list [2, 4, 6, 8, 10, 12, 14,\n",
        "16, 18, 20].**"
      ],
      "metadata": {
        "id": "HJ7cJaMnjzF-"
      }
    },
    {
      "cell_type": "markdown",
      "source": [
        "In Python, an iterator is an object that allows you to iterate over a sequence of values. It is used to represent a stream of data and supports iteration protocols in Python.\n",
        "\n",
        "To create an iterator object in Python, you can use the iter() function. This function takes an iterable as an argument and returns an iterator object.\n",
        "\n",
        "To iterate over the elements of an iterator, you can use the next() function. This function returns the next item in the iterator. When there are no more items to return, it raises the StopIteration exception.\n",
        "\n",
        "Here's an example of using an iterator to print the first five elements of the list [2, 4, 6, 8, 10, 12, 14, 16, 18, 20]:"
      ],
      "metadata": {
        "id": "fYUJsmdBm8KE"
      }
    },
    {
      "cell_type": "code",
      "source": [
        "lst = [2, 4, 6, 8, 10, 12, 14, 16, 18, 20]\n",
        "\n",
        "# create an iterator object\n",
        "it = iter(lst)\n",
        "\n",
        "# iterate over the first five elements using next()\n",
        "for i in range(7):\n",
        "    print(next(it))"
      ],
      "metadata": {
        "colab": {
          "base_uri": "https://localhost:8080/"
        },
        "id": "T_6YP03Fm14a",
        "outputId": "f7d665d0-ed62-4b0e-e0f2-68ec0bc97e7a"
      },
      "execution_count": null,
      "outputs": [
        {
          "output_type": "stream",
          "name": "stdout",
          "text": [
            "2\n",
            "4\n",
            "6\n",
            "8\n",
            "10\n",
            "12\n",
            "14\n"
          ]
        }
      ]
    },
    {
      "cell_type": "markdown",
      "source": [
        "**Q4. What is a generator function in python? Why yield keyword is used? Give an example of a generator\n",
        "function.**"
      ],
      "metadata": {
        "id": "7cAAhYt8jzDd"
      }
    },
    {
      "cell_type": "markdown",
      "source": [
        "In Python, a generator function is a special type of function that generates an iterable sequence of values on-the-fly as you iterate over it. Unlike a normal function that runs to completion and returns a single value, a generator function can pause its execution and yield intermediate results using the yield keyword. This makes it a memory-efficient way to generate large sequences of values.\n",
        "\n",
        "When a generator function is called, it returns a generator object that can be used to iterate over the sequence of values. Each time a value is yielded by the generator function, the generator object remembers the current state of execution and returns the yielded value to the caller. When the generator object is iterated over again, it resumes execution from where it left off and continues to yield the next value in the sequence.\n",
        "\n",
        "The yield keyword is used in a generator function to specify the values to be yielded. When the yield keyword is encountered, the function's state is saved, and the yielded value is returned to the caller. The function's state is then restored when the generator object is iterated over again, allowing the function to resume execution from where it left off.\n",
        "\n",
        "Here is an example of a generator function that generates a sequence of even numbers:\n"
      ],
      "metadata": {
        "id": "fcL9oW51nU_h"
      }
    },
    {
      "cell_type": "code",
      "source": [
        "def generate_evens(n):\n",
        "    i = 0\n",
        "    while i < n:\n",
        "        yield i\n",
        "        i += 2\n",
        "\n",
        "# create a generator object\n",
        "evens = generate_evens(10)\n",
        "\n",
        "# iterate over the even numbers using the generator object\n",
        "for num in evens:\n",
        "    print(num)"
      ],
      "metadata": {
        "colab": {
          "base_uri": "https://localhost:8080/"
        },
        "id": "NPlAeA4AnLeS",
        "outputId": "005839be-1cfc-4056-b733-92e7fd23f2a1"
      },
      "execution_count": null,
      "outputs": [
        {
          "output_type": "stream",
          "name": "stdout",
          "text": [
            "0\n",
            "2\n",
            "4\n",
            "6\n",
            "8\n"
          ]
        }
      ]
    },
    {
      "cell_type": "markdown",
      "source": [
        "**Q5. Create a generator function for prime numbers less than 1000. Use the next() method to print the\n",
        "first 20 prime numbers.**"
      ],
      "metadata": {
        "id": "cqrlLR_7jzAZ"
      }
    },
    {
      "cell_type": "code",
      "source": [
        "def generate_primes():\n",
        "    prime = 2\n",
        "    while prime < 1000:\n",
        "        for i in range(2, prime):\n",
        "            if prime % i == 0:\n",
        "                break\n",
        "        else:\n",
        "            yield prime\n",
        "        prime += 1\n",
        "\n",
        "primes = generate_primes()\n",
        "\n",
        "for i in range(20):\n",
        "    print(next(primes))\n"
      ],
      "metadata": {
        "colab": {
          "base_uri": "https://localhost:8080/"
        },
        "id": "DNwNw1afs7Wb",
        "outputId": "17d6472d-fbea-48e3-c14e-265d45de4336"
      },
      "execution_count": null,
      "outputs": [
        {
          "output_type": "stream",
          "name": "stdout",
          "text": [
            "2\n",
            "3\n",
            "5\n",
            "7\n",
            "11\n",
            "13\n",
            "17\n",
            "19\n",
            "23\n",
            "29\n",
            "31\n",
            "37\n",
            "41\n",
            "43\n",
            "47\n",
            "53\n",
            "59\n",
            "61\n",
            "67\n",
            "71\n"
          ]
        }
      ]
    },
    {
      "cell_type": "markdown",
      "source": [
        "**Q6. Write a python program to print the first 10 Fibonacci numbers using a while loop.**"
      ],
      "metadata": {
        "id": "o9VJigbUjy9o"
      }
    },
    {
      "cell_type": "code",
      "source": [
        "a,b=0,1\n",
        "count=0\n",
        "while count<10:\n",
        "  print(a)\n",
        "  c=a+b\n",
        "  a=b\n",
        "  b=c\n",
        "  count=count+1"
      ],
      "metadata": {
        "colab": {
          "base_uri": "https://localhost:8080/"
        },
        "id": "8Wz_nCbbtRSG",
        "outputId": "bd525558-779b-4c1c-a331-4234266ed99c"
      },
      "execution_count": null,
      "outputs": [
        {
          "output_type": "stream",
          "name": "stdout",
          "text": [
            "0\n",
            "1\n",
            "1\n",
            "2\n",
            "3\n",
            "5\n",
            "8\n",
            "13\n",
            "21\n",
            "34\n"
          ]
        }
      ]
    },
    {
      "cell_type": "markdown",
      "source": [
        "**Q7. Write a List Comprehension to iterate through the given string: ‘pwskills’.\n",
        "Expected output: ['p', 'w', 's', 'k', 'i', 'l', 'l', 's']**"
      ],
      "metadata": {
        "id": "TSw1oyExjy66"
      }
    },
    {
      "cell_type": "code",
      "source": [
        "string=\"pwskills\"\n",
        "\n",
        "result=[c for i,c in enumerate(string) if c not in string[:i]]\n",
        "print(result)"
      ],
      "metadata": {
        "colab": {
          "base_uri": "https://localhost:8080/"
        },
        "id": "ns5Zj668tnbY",
        "outputId": "828d79d7-cbec-418d-dddf-116ad31f0d88"
      },
      "execution_count": null,
      "outputs": [
        {
          "output_type": "stream",
          "name": "stdout",
          "text": [
            "['p', 'w', 's', 'k', 'i', 'l']\n"
          ]
        }
      ]
    },
    {
      "cell_type": "markdown",
      "source": [
        "**Q8. Write a python program to check whether a given number is Palindrome or not using a while loop.**"
      ],
      "metadata": {
        "id": "4ExGGcrakVh8"
      }
    },
    {
      "cell_type": "code",
      "source": [
        "number = int(input(\"Enter a number: \"))  # take input from user\n",
        "\n",
        "temp = number  # create a temporary variable to store the number\n",
        "reverse_number = 0  # initialize a variable to store the reverse of the number\n",
        "\n",
        "while temp > 0:  # loop until the temporary variable becomes 0\n",
        "    remainder = temp % 10  # find the last digit of the number\n",
        "    reverse_number = (reverse_number * 10) + remainder  # add the last digit to the reverse of the number\n",
        "    temp = temp // 10  # remove the last digit from the temporary variable\n",
        "\n",
        "if number == reverse_number:  # check if the original number and its reverse are equal\n",
        "    print(number, \"is a palindrome\")\n",
        "else:\n",
        "    print(number, \"is not a palindrome\")\n",
        " "
      ],
      "metadata": {
        "id": "xR7tzrOJuxvr",
        "colab": {
          "base_uri": "https://localhost:8080/"
        },
        "outputId": "f07bbcf6-5229-460b-d669-c2ce8dc2179f"
      },
      "execution_count": 4,
      "outputs": [
        {
          "output_type": "stream",
          "name": "stdout",
          "text": [
            "Enter a number: 858\n",
            "858 is a palindrome\n"
          ]
        }
      ]
    },
    {
      "cell_type": "markdown",
      "source": [
        "**Q9. Write a code to print odd numbers from 1 to 100 using list comprehension.\n",
        "Note: Use a list comprehension to create a list from 1 to 100 and use another List comprehension to filter\n",
        "out odd numbers.**"
      ],
      "metadata": {
        "id": "LANPtEvfjy4c"
      }
    },
    {
      "cell_type": "code",
      "source": [
        "numbers = [i for i in range(1, 101)]\n",
        "\n",
        "odd_numbers = [num for num in numbers if num % 2 != 0]\n",
        "\n",
        "print(odd_numbers)"
      ],
      "metadata": {
        "id": "T1ccceZhu5tz",
        "colab": {
          "base_uri": "https://localhost:8080/"
        },
        "outputId": "e1ed5a85-dcf7-4f8a-b85f-fb619ff788ce"
      },
      "execution_count": 1,
      "outputs": [
        {
          "output_type": "stream",
          "name": "stdout",
          "text": [
            "[1, 3, 5, 7, 9, 11, 13, 15, 17, 19, 21, 23, 25, 27, 29, 31, 33, 35, 37, 39, 41, 43, 45, 47, 49, 51, 53, 55, 57, 59, 61, 63, 65, 67, 69, 71, 73, 75, 77, 79, 81, 83, 85, 87, 89, 91, 93, 95, 97, 99]\n"
          ]
        }
      ]
    }
  ]
}