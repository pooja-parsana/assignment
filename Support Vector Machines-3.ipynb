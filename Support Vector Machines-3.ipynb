{
 "cells": [
  {
   "cell_type": "markdown",
   "id": "9d9cc1a5-38da-4986-8e15-97f22b27f3d7",
   "metadata": {},
   "source": [
    "\n",
    "Q1. In order to predict house price based on several characteristics, such as location, square footage, number of bedrooms, etc., you are developing an SVM regression model. Which regression metric in this situation would be the best to employ?"
   ]
  },
  {
   "cell_type": "code",
   "execution_count": null,
   "id": "db918304-4732-46ae-9ea3-cd5d065b5092",
   "metadata": {},
   "outputs": [],
   "source": [
    "For predicting house prices using an SVM regression model, the choice of regression metric depends on the characteristics of your dataset and the goals of your analysis. Here are a few regression metrics that would be suitable for evaluating the performance of your SVM regression model in this situation:\n",
    "\n",
    "1. **Mean Absolute Error (MAE):**\n",
    "   MAE calculates the average absolute difference between predicted and actual values. It gives you an idea of the magnitude of errors in your predictions.\n",
    "   \n",
    "2. **Mean Squared Error (MSE):**\n",
    "   MSE calculates the average squared difference between predicted and actual values. It emphasizes larger errors more than MAE and is useful for penalizing outliers.\n",
    "\n",
    "3. **Root Mean Squared Error (RMSE):**\n",
    "   RMSE is the square root of MSE. It's a commonly used metric that provides a similar interpretation as the original target variable.\n",
    "\n",
    "4. **R-squared (Coefficient of Determination):**\n",
    "   R-squared measures the proportion of the variance in the dependent variable that is predictable from the independent variables. It ranges from 0 to 1, with higher values indicating better fit.\n",
    "\n",
    "5. **Mean Absolute Percentage Error (MAPE):**\n",
    "   MAPE calculates the mean percentage difference between predicted and actual values. It's useful when you want to express errors in terms of a percentage of the actual values.\n",
    "\n",
    "6. **Median Absolute Error:**\n",
    "   Median Absolute Error is the median of the absolute differences between predicted and actual values. It's less sensitive to outliers compared to mean-based metrics.\n",
    "\n",
    "The choice of the best metric depends on the specific characteristics of your dataset and the nature of the problem. If you want to prioritize predicting large errors accurately, consider metrics like MAE, MSE, and RMSE. If you want to focus on the overall fit and proportion of variance explained, R-squared could be a good choice. If your dataset has significant outliers, metrics less sensitive to outliers like Median Absolute Error might be more appropriate.\n",
    "\n",
    "In practice, it's a good idea to evaluate your model using multiple metrics to get a comprehensive understanding of its performance. You can also consider the context of the problem and how the chosen metric aligns with your goals and business objectives."
   ]
  },
  {
   "cell_type": "markdown",
   "id": "e0a7d704-e533-41c4-b048-5a8b3055b65d",
   "metadata": {},
   "source": [
    "Q2. You have built an SVM regression model and are trying to decide between using MSE or R-squared as your evaluation metric. Which metric would be more appropriate if your goal is to predict the actual price of a house as accurately as possible?"
   ]
  },
  {
   "cell_type": "markdown",
   "id": "85dcf314-3ed7-4016-ba21-38a958931428",
   "metadata": {},
   "source": [
    "Q3. You have a dataset with a significant number of outliers and are trying to select an appropriate regression metric to use with your SVM model. Which metric would be the most appropriate in this scenario?"
   ]
  },
  {
   "cell_type": "markdown",
   "id": "90338e69-a047-43d1-aa9b-00d93143caae",
   "metadata": {},
   "source": [
    "Q4. You have built an SVM regression model using a polynomial kernel and are trying to select the best metric to evaluate its performance. You have calculated both MSE and RMSE and found that both values are very close. Which metric should you choose to use in this case?"
   ]
  },
  {
   "cell_type": "markdown",
   "id": "22fc78bc-b8d4-4127-8c76-26c14dbd2622",
   "metadata": {},
   "source": [
    "Q5. You are comparing the performance of different SVM regression models using different kernels (linear, polynomial, and RBF) and are trying to select the best evaluation metric. Which metric would be most appropriate if your goal is to measure how well the model explains the variance in the target variable?"
   ]
  },
  {
   "cell_type": "code",
   "execution_count": null,
   "id": "fdf5d3d7-a811-434b-8e65-4970d51743c3",
   "metadata": {},
   "outputs": [],
   "source": []
  }
 ],
 "metadata": {
  "kernelspec": {
   "display_name": "Python 3 (ipykernel)",
   "language": "python",
   "name": "python3"
  },
  "language_info": {
   "codemirror_mode": {
    "name": "ipython",
    "version": 3
   },
   "file_extension": ".py",
   "mimetype": "text/x-python",
   "name": "python",
   "nbconvert_exporter": "python",
   "pygments_lexer": "ipython3",
   "version": "3.10.6"
  }
 },
 "nbformat": 4,
 "nbformat_minor": 5
}
