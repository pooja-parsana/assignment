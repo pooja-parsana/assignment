{
  "nbformat": 4,
  "nbformat_minor": 0,
  "metadata": {
    "colab": {
      "provenance": []
    },
    "kernelspec": {
      "name": "python3",
      "display_name": "Python 3"
    },
    "language_info": {
      "name": "python"
    }
  },
  "cells": [
    {
      "cell_type": "markdown",
      "source": [
        "**Q1. What is an Exception in python? Write the difference vetween Exceptions ans syntex error?**"
      ],
      "metadata": {
        "id": "z30aSWYssUYx"
      }
    },
    {
      "cell_type": "markdown",
      "source": [
        "In Python, an exception is a runtime error that occurs when the interpreter detects an abnormal condition or situation while executing the code. When an exception is raised, the normal flow of the program is disrupted, and the interpreter looks for a block of code that can handle the exception.\n",
        "\n",
        "Exceptions are different from syntax errors, which occur when the code violates the grammar rules of the Python language. Syntax errors are detected by the interpreter during the compilation phase, before the program is executed. Common examples of syntax errors include missing colons, misspelled keywords, and incorrect indentation.\n",
        "\n",
        "The key difference between exceptions and syntax errors is that syntax errors prevent the code from being compiled or executed, while exceptions can occur during the execution of the program. Syntax errors must be fixed before the code can be run, while exceptions can be handled with error-handling mechanisms such as try-except blocks.\n",
        "\n",
        "Here's an example of a syntax error in Python:"
      ],
      "metadata": {
        "id": "f81fe2Lss41w"
      }
    },
    {
      "cell_type": "code",
      "execution_count": 1,
      "metadata": {
        "colab": {
          "base_uri": "https://localhost:8080/",
          "height": 134
        },
        "id": "kmuLqQ3ksLvH",
        "outputId": "af0cfd87-aa69-4963-bc9b-49ce0017e7fd"
      },
      "outputs": [
        {
          "output_type": "error",
          "ename": "SyntaxError",
          "evalue": "ignored",
          "traceback": [
            "\u001b[0;36m  File \u001b[0;32m\"<ipython-input-1-eb5e717b817a>\"\u001b[0;36m, line \u001b[0;32m2\u001b[0m\n\u001b[0;31m    if x > 5\u001b[0m\n\u001b[0m            ^\u001b[0m\n\u001b[0;31mSyntaxError\u001b[0m\u001b[0;31m:\u001b[0m invalid syntax\n"
          ]
        }
      ],
      "source": [
        "x = 10\n",
        "if x > 5\n",
        "    print(\"x is greater than 5\")\n"
      ]
    },
    {
      "cell_type": "code",
      "source": [
        "x = 0\n",
        "try:\n",
        "    y = 10 / x\n",
        "except ZeroDivisionError:\n",
        "    print(\"Cannot divide by zero\")\n"
      ],
      "metadata": {
        "colab": {
          "base_uri": "https://localhost:8080/"
        },
        "id": "8m23Ahf5s7S8",
        "outputId": "499900e4-66df-4c9b-c190-86afb0d5fd5a"
      },
      "execution_count": 2,
      "outputs": [
        {
          "output_type": "stream",
          "name": "stdout",
          "text": [
            "Cannot divide by zero\n"
          ]
        }
      ]
    },
    {
      "cell_type": "markdown",
      "source": [
        "**Q2. What happens when an exception is not handled? Explain with an example**"
      ],
      "metadata": {
        "id": "x39ifJkus__Q"
      }
    },
    {
      "cell_type": "markdown",
      "source": [
        "When an exception is not handled in a program, it will cause the program to terminate abruptly with an error message. The error message will indicate the type of exception that occurred, along with a traceback of the program's execution stack, showing where the exception was raised.\n",
        "\n",
        "Here's an example of an unhandled exception in Python:"
      ],
      "metadata": {
        "id": "vSL7KOuqtWM8"
      }
    },
    {
      "cell_type": "code",
      "source": [
        "x = 10\n",
        "y = 0\n",
        "z = x / y\n"
      ],
      "metadata": {
        "colab": {
          "base_uri": "https://localhost:8080/",
          "height": 206
        },
        "id": "xANvJXEDs_B9",
        "outputId": "8b4d34e2-6b30-4fe8-8e95-cc431ba2beaa"
      },
      "execution_count": 3,
      "outputs": [
        {
          "output_type": "error",
          "ename": "ZeroDivisionError",
          "evalue": "ignored",
          "traceback": [
            "\u001b[0;31m---------------------------------------------------------------------------\u001b[0m",
            "\u001b[0;31mZeroDivisionError\u001b[0m                         Traceback (most recent call last)",
            "\u001b[0;32m<ipython-input-3-b475032ddfb1>\u001b[0m in \u001b[0;36m<cell line: 3>\u001b[0;34m()\u001b[0m\n\u001b[1;32m      1\u001b[0m \u001b[0mx\u001b[0m \u001b[0;34m=\u001b[0m \u001b[0;36m10\u001b[0m\u001b[0;34m\u001b[0m\u001b[0;34m\u001b[0m\u001b[0m\n\u001b[1;32m      2\u001b[0m \u001b[0my\u001b[0m \u001b[0;34m=\u001b[0m \u001b[0;36m0\u001b[0m\u001b[0;34m\u001b[0m\u001b[0;34m\u001b[0m\u001b[0m\n\u001b[0;32m----> 3\u001b[0;31m \u001b[0mz\u001b[0m \u001b[0;34m=\u001b[0m \u001b[0mx\u001b[0m \u001b[0;34m/\u001b[0m \u001b[0my\u001b[0m\u001b[0;34m\u001b[0m\u001b[0;34m\u001b[0m\u001b[0m\n\u001b[0m",
            "\u001b[0;31mZeroDivisionError\u001b[0m: division by zero"
          ]
        }
      ]
    },
    {
      "cell_type": "markdown",
      "source": [
        "**Q3. Which Python statements are used to catch and handle exceptions? Explain with an example**"
      ],
      "metadata": {
        "id": "aifiQKHvtYvf"
      }
    },
    {
      "cell_type": "markdown",
      "source": [
        "In Python, we use the try and except statements to catch and handle exceptions. The try block contains the code that may raise an exception, and the except block contains the code that handles the exception if it occurs.\n",
        "\n",
        "Here's an example of how we can use try and except to handle an exception in Python:"
      ],
      "metadata": {
        "id": "bzMf6Lept0-a"
      }
    },
    {
      "cell_type": "code",
      "source": [
        "x = 10\n",
        "y = 0\n",
        "try:\n",
        "    z = x / y\n",
        "except ZeroDivisionError:\n",
        "    print(\"Cannot divide by zero\")\n"
      ],
      "metadata": {
        "colab": {
          "base_uri": "https://localhost:8080/"
        },
        "id": "v7QBpEkJtXzC",
        "outputId": "c5a79d26-ade5-450d-cd1d-7c6aa68c8ffc"
      },
      "execution_count": 4,
      "outputs": [
        {
          "output_type": "stream",
          "name": "stdout",
          "text": [
            "Cannot divide by zero\n"
          ]
        }
      ]
    },
    {
      "cell_type": "code",
      "source": [
        "try:\n",
        "    # some code that may raise an exception\n",
        "except ValueError:\n",
        "    # handle a ValueError exception\n",
        "except ZeroDivisionError:\n",
        "    # handle a ZeroDivisionError exception\n",
        "except:\n",
        "    # handle any other type of exception\n"
      ],
      "metadata": {
        "colab": {
          "base_uri": "https://localhost:8080/",
          "height": 134
        },
        "id": "NVKeWb9Xt3hi",
        "outputId": "29f356e0-8abc-443e-e1a2-1f93ed83abfd"
      },
      "execution_count": 5,
      "outputs": [
        {
          "output_type": "error",
          "ename": "IndentationError",
          "evalue": "ignored",
          "traceback": [
            "\u001b[0;36m  File \u001b[0;32m\"<ipython-input-5-bb72ab329eaa>\"\u001b[0;36m, line \u001b[0;32m3\u001b[0m\n\u001b[0;31m    except ValueError:\u001b[0m\n\u001b[0m    ^\u001b[0m\n\u001b[0;31mIndentationError\u001b[0m\u001b[0;31m:\u001b[0m expected an indented block\n"
          ]
        }
      ]
    },
    {
      "cell_type": "markdown",
      "source": [
        "**Q4. Explain with example 1. try and else 2. finally 3. raise**"
      ],
      "metadata": {
        "id": "aA856QAguDaq"
      }
    },
    {
      "cell_type": "markdown",
      "source": [
        "1. try and else:\n",
        "In Python, we can use the else statement in a try-except block to specify code that should be executed if no exceptions are raised. Here's an example:"
      ],
      "metadata": {
        "id": "PC4_s0FsuRlE"
      }
    },
    {
      "cell_type": "code",
      "source": [
        "try:\n",
        "    x = int(input(\"Enter a number: \"))\n",
        "    y = int(input(\"Enter another number: \"))\n",
        "    z = x / y\n",
        "except ValueError:\n",
        "    print(\"Please enter a valid integer\")\n",
        "except ZeroDivisionError:\n",
        "    print(\"Cannot divide by zero\")\n",
        "else:\n",
        "    print(\"The result is:\", z)\n"
      ],
      "metadata": {
        "colab": {
          "base_uri": "https://localhost:8080/"
        },
        "id": "71grWm6Ct8op",
        "outputId": "aa05d201-3ba1-493f-85de-2fb99565c67a"
      },
      "execution_count": 6,
      "outputs": [
        {
          "output_type": "stream",
          "name": "stdout",
          "text": [
            "Enter a number: 3\n",
            "Enter another number: 4\n",
            "The result is: 0.75\n"
          ]
        }
      ]
    },
    {
      "cell_type": "markdown",
      "source": [
        "2. finally:\n",
        "The finally statement is used to specify code that should be executed whether an exception is raised or not. This can be useful for cleaning up resources or closing files that were opened in a try block, for example. Here's an example:"
      ],
      "metadata": {
        "id": "9dGkl5g_uZB0"
      }
    },
    {
      "cell_type": "code",
      "source": [
        "try:\n",
        "    file = open(\"example.txt\", \"r\")\n",
        "    # do something with the file\n",
        "except FileNotFoundError:\n",
        "    print(\"The file was not found\")\n",
        "finally:\n",
        "    file.close()\n"
      ],
      "metadata": {
        "colab": {
          "base_uri": "https://localhost:8080/",
          "height": 224
        },
        "id": "AwVxoBcNuUhX",
        "outputId": "68ec3e4a-e85e-41a1-a535-cf9ee597267d"
      },
      "execution_count": 7,
      "outputs": [
        {
          "output_type": "stream",
          "name": "stdout",
          "text": [
            "The file was not found\n"
          ]
        },
        {
          "output_type": "error",
          "ename": "NameError",
          "evalue": "ignored",
          "traceback": [
            "\u001b[0;31m---------------------------------------------------------------------------\u001b[0m",
            "\u001b[0;31mNameError\u001b[0m                                 Traceback (most recent call last)",
            "\u001b[0;32m<ipython-input-7-6ab3365fceec>\u001b[0m in \u001b[0;36m<cell line: 1>\u001b[0;34m()\u001b[0m\n\u001b[1;32m      5\u001b[0m     \u001b[0mprint\u001b[0m\u001b[0;34m(\u001b[0m\u001b[0;34m\"The file was not found\"\u001b[0m\u001b[0;34m)\u001b[0m\u001b[0;34m\u001b[0m\u001b[0;34m\u001b[0m\u001b[0m\n\u001b[1;32m      6\u001b[0m \u001b[0;32mfinally\u001b[0m\u001b[0;34m:\u001b[0m\u001b[0;34m\u001b[0m\u001b[0;34m\u001b[0m\u001b[0m\n\u001b[0;32m----> 7\u001b[0;31m     \u001b[0mfile\u001b[0m\u001b[0;34m.\u001b[0m\u001b[0mclose\u001b[0m\u001b[0;34m(\u001b[0m\u001b[0;34m)\u001b[0m\u001b[0;34m\u001b[0m\u001b[0;34m\u001b[0m\u001b[0m\n\u001b[0m",
            "\u001b[0;31mNameError\u001b[0m: name 'file' is not defined"
          ]
        }
      ]
    },
    {
      "cell_type": "markdown",
      "source": [
        "3. raise:\n",
        "In Python, we can use the raise statement to raise an exception manually. This can be useful if we need to handle a specific situation in our code that is not covered by the built-in exceptions. Here's an example:"
      ],
      "metadata": {
        "id": "Iz0S1u8-ue8E"
      }
    },
    {
      "cell_type": "code",
      "source": [
        "x = -1\n",
        "if x < 0:\n",
        "    raise ValueError(\"The number must be positive\")\n"
      ],
      "metadata": {
        "colab": {
          "base_uri": "https://localhost:8080/",
          "height": 206
        },
        "id": "bA3iqv0sucKi",
        "outputId": "54193255-5a44-4a01-f78d-caba41b3220b"
      },
      "execution_count": 8,
      "outputs": [
        {
          "output_type": "error",
          "ename": "ValueError",
          "evalue": "ignored",
          "traceback": [
            "\u001b[0;31m---------------------------------------------------------------------------\u001b[0m",
            "\u001b[0;31mValueError\u001b[0m                                Traceback (most recent call last)",
            "\u001b[0;32m<ipython-input-8-bcea41ba97d8>\u001b[0m in \u001b[0;36m<cell line: 2>\u001b[0;34m()\u001b[0m\n\u001b[1;32m      1\u001b[0m \u001b[0mx\u001b[0m \u001b[0;34m=\u001b[0m \u001b[0;34m-\u001b[0m\u001b[0;36m1\u001b[0m\u001b[0;34m\u001b[0m\u001b[0;34m\u001b[0m\u001b[0m\n\u001b[1;32m      2\u001b[0m \u001b[0;32mif\u001b[0m \u001b[0mx\u001b[0m \u001b[0;34m<\u001b[0m \u001b[0;36m0\u001b[0m\u001b[0;34m:\u001b[0m\u001b[0;34m\u001b[0m\u001b[0;34m\u001b[0m\u001b[0m\n\u001b[0;32m----> 3\u001b[0;31m     \u001b[0;32mraise\u001b[0m \u001b[0mValueError\u001b[0m\u001b[0;34m(\u001b[0m\u001b[0;34m\"The number must be positive\"\u001b[0m\u001b[0;34m)\u001b[0m\u001b[0;34m\u001b[0m\u001b[0;34m\u001b[0m\u001b[0m\n\u001b[0m",
            "\u001b[0;31mValueError\u001b[0m: The number must be positive"
          ]
        }
      ]
    },
    {
      "cell_type": "markdown",
      "source": [
        "**Q5. What are Custom Exceptions in python? Why do we need Custom Ex,eptions? Explain with an example**"
      ],
      "metadata": {
        "id": "MK_CKgCXuoDv"
      }
    },
    {
      "cell_type": "markdown",
      "source": [
        "In Python, we can define our own custom exceptions by creating a new class that inherits from the built-in Exception class. Custom exceptions can be useful when we need to handle specific errors in our code that are not covered by the built-in exceptions.\n",
        "\n",
        "Here's an example of how we can define and use a custom exception in Python:"
      ],
      "metadata": {
        "id": "Lhb53pKlvMXw"
      }
    },
    {
      "cell_type": "code",
      "source": [
        "class InvalidInputError(Exception):\n",
        "    def __init__(self, message):\n",
        "        self.message = message\n",
        "\n",
        "x = input(\"Enter a positive number: \")\n",
        "if not x.isnumeric() or int(x) < 0:\n",
        "    raise InvalidInputError(\"The input must be a positive number\")\n",
        "\n",
        "# rest of the code\n"
      ],
      "metadata": {
        "colab": {
          "base_uri": "https://localhost:8080/"
        },
        "id": "va9qLApuulBL",
        "outputId": "607f6405-7371-4061-842e-1f14acee3799"
      },
      "execution_count": 9,
      "outputs": [
        {
          "name": "stdout",
          "output_type": "stream",
          "text": [
            "Enter a positive number: 8\n"
          ]
        }
      ]
    },
    {
      "cell_type": "markdown",
      "source": [
        "In this example, we're defining a custom exception called InvalidInputError that inherits from the built-in Exception class. We're also defining an __init__ method to set the error message for the exception.\n",
        "\n",
        "Next, we're getting input from the user and checking if it is a positive number. If the input is not a positive number, we're raising an InvalidInputError exception with a custom error message.\n",
        "\n",
        "If the exception is not caught by a try-except block, the program will terminate with the error message we specified. If the exception is caught, we can handle it as we would any other exception.\n",
        "\n",
        "Custom exceptions can help make our code more readable and maintainable by providing a clear way to handle specific errors. They can also help us catch errors that might be difficult to identify using the built-in exceptions."
      ],
      "metadata": {
        "id": "io7N98_1vSUT"
      }
    },
    {
      "cell_type": "markdown",
      "source": [
        "**Q6. Create custom exception class. Use this class to handle an exceptio**"
      ],
      "metadata": {
        "id": "unCs-MaTu6XQ"
      }
    },
    {
      "cell_type": "code",
      "source": [
        "class OutOfRangeError(Exception):\n",
        "    def __init__(self, message):\n",
        "        self.message = message\n",
        "\n",
        "x = 15\n",
        "if x > 10:\n",
        "    raise OutOfRangeError(\"The value is out of range\")\n",
        "\n",
        "# rest of the code\n"
      ],
      "metadata": {
        "colab": {
          "base_uri": "https://localhost:8080/",
          "height": 243
        },
        "id": "cWONCbSFvJi1",
        "outputId": "bd352ef9-8e23-4590-e0dd-84ef7beb57b0"
      },
      "execution_count": 10,
      "outputs": [
        {
          "output_type": "error",
          "ename": "OutOfRangeError",
          "evalue": "ignored",
          "traceback": [
            "\u001b[0;31m---------------------------------------------------------------------------\u001b[0m",
            "\u001b[0;31mOutOfRangeError\u001b[0m                           Traceback (most recent call last)",
            "\u001b[0;32m<ipython-input-10-c71ff7b8f02a>\u001b[0m in \u001b[0;36m<cell line: 6>\u001b[0;34m()\u001b[0m\n\u001b[1;32m      5\u001b[0m \u001b[0mx\u001b[0m \u001b[0;34m=\u001b[0m \u001b[0;36m15\u001b[0m\u001b[0;34m\u001b[0m\u001b[0;34m\u001b[0m\u001b[0m\n\u001b[1;32m      6\u001b[0m \u001b[0;32mif\u001b[0m \u001b[0mx\u001b[0m \u001b[0;34m>\u001b[0m \u001b[0;36m10\u001b[0m\u001b[0;34m:\u001b[0m\u001b[0;34m\u001b[0m\u001b[0;34m\u001b[0m\u001b[0m\n\u001b[0;32m----> 7\u001b[0;31m     \u001b[0;32mraise\u001b[0m \u001b[0mOutOfRangeError\u001b[0m\u001b[0;34m(\u001b[0m\u001b[0;34m\"The value is out of range\"\u001b[0m\u001b[0;34m)\u001b[0m\u001b[0;34m\u001b[0m\u001b[0;34m\u001b[0m\u001b[0m\n\u001b[0m\u001b[1;32m      8\u001b[0m \u001b[0;34m\u001b[0m\u001b[0m\n\u001b[1;32m      9\u001b[0m \u001b[0;31m# rest of the code\u001b[0m\u001b[0;34m\u001b[0m\u001b[0;34m\u001b[0m\u001b[0m\n",
            "\u001b[0;31mOutOfRangeError\u001b[0m: The value is out of range"
          ]
        }
      ]
    },
    {
      "cell_type": "markdown",
      "source": [
        "In this example, we're defining a custom exception class called OutOfRangeError that inherits from the built-in Exception class. We're also defining an __init__ method to set the error message for the exception.\n",
        "\n",
        "Next, we're setting a value for x and checking if it is greater than 10. If x is greater than 10, we're raising an OutOfRangeError exception with a custom error message.\n",
        "\n",
        "If the exception is not caught by a try-except block, the program will terminate with the error message we specified. If the exception is caught, we can handle it as we would any other exception.\n",
        "\n",
        "Custom exceptions can help make our code more readable and maintainable by providing a clear way to handle specific errors. They can also help us catch errors that might be difficult to identify using the built-in exceptions."
      ],
      "metadata": {
        "id": "T7_7sjM4vYGH"
      }
    },
    {
      "cell_type": "code",
      "source": [],
      "metadata": {
        "id": "n7hFfOYYvVel"
      },
      "execution_count": null,
      "outputs": []
    }
  ]
}