{
  "nbformat": 4,
  "nbformat_minor": 0,
  "metadata": {
    "colab": {
      "provenance": []
    },
    "kernelspec": {
      "name": "python3",
      "display_name": "Python 3"
    },
    "language_info": {
      "name": "python"
    }
  },
  "cells": [
    {
      "cell_type": "markdown",
      "source": [
        "**Q2. You are writing code for a company. The requirement of the company is that you create a python function that will check whether the password entered by the user is correct or not. The function should take the password as input and return the string “Valid Password” if the entered password follows the below-given password guidelines else it should return “Invalid Password”.**\n",
        "Note:\n",
        " \n",
        "**1. The Password should contain at least two uppercase letters and at least two lowercase letters.**\n",
        "\n",
        "**The Password should contain at least a number and three special characters.\n",
        "The length of the password should be 10 characters long**"
      ],
      "metadata": {
        "id": "G6Sd--QAJ4C9"
      }
    },
    {
      "cell_type": "code",
      "execution_count": 1,
      "metadata": {
        "id": "YejZ8_5GJrim"
      },
      "outputs": [],
      "source": [
        "import re\n",
        "\n",
        "def check_password(password):\n",
        "    if len(password) != 10:\n",
        "        return \"Invalid Password\"\n",
        "    lowercase_count = len(re.findall(r'[a-z]', password))\n",
        "    uppercase_count = len(re.findall(r'[A-Z]', password))\n",
        "    number_count = len(re.findall(r'\\d', password))\n",
        "    special_count = len(re.findall(r'[^\\w\\s]', password))\n",
        "    if lowercase_count < 2 or uppercase_count < 2 or number_count < 1 or special_count < 3:\n",
        "        return \"Invalid Password\"\n",
        "    else:\n",
        "        return \"Valid Password\"\n"
      ]
    },
    {
      "cell_type": "code",
      "source": [
        "password = \"Abcd123!@#\"\n",
        "result = check_password(password)\n",
        "print(result)\n"
      ],
      "metadata": {
        "colab": {
          "base_uri": "https://localhost:8080/"
        },
        "id": "04rCC8ujKLZU",
        "outputId": "18774ee9-6139-4588-b072-27369a15b34a"
      },
      "execution_count": 2,
      "outputs": [
        {
          "output_type": "stream",
          "name": "stdout",
          "text": [
            "Invalid Password\n"
          ]
        }
      ]
    },
    {
      "cell_type": "markdown",
      "source": [
        "**Q2. Solve the below-given questions using at least one of the following:**\n",
        "\n",
        "**1. Lambda functioJ**\n",
        "**2. Filter functioJ**\n",
        "**3. Zap functioJ**\n",
        "**4. List ComprehensioI**\n",
        "**B Check if the string starts with a particular letterY\n",
        "B Check if the string is numericY\n",
        "B Sort a list of tuples having fruit names and their quantity. [(\"mango\",99),(\"orange\",80), (\"grapes\", 1000)-\n",
        "B Find the squares of numbers from 1 to 10Y\n",
        "B Find the cube root of numbers from 1 to 10Y\n",
        "B Check if a given number is evenY\n",
        "B Filter odd numbers from the given list.\n",
        "[1,2,3,4,5,6,7,8,9,10-\n",
        "B Sort a list of integers into positive and negative integers lists.\n",
        "[1,2,3,4,5,6,-1,-2,-3,-4,-5,0]**"
      ],
      "metadata": {
        "id": "-Hgp2vktKTY-"
      }
    },
    {
      "cell_type": "code",
      "source": [
        "strings = ['apple', 'banana', 'cherry', 'date']\n",
        "\n",
        "filtered_strings = filter(lambda s: s.startswith('b'), strings)\n",
        "\n",
        "print(list(filtered_strings))\n"
      ],
      "metadata": {
        "colab": {
          "base_uri": "https://localhost:8080/"
        },
        "id": "iHWzjXdvKPFB",
        "outputId": "83c8a2c7-085b-4c61-daae-07cb77f70f49"
      },
      "execution_count": 3,
      "outputs": [
        {
          "output_type": "stream",
          "name": "stdout",
          "text": [
            "['banana']\n"
          ]
        }
      ]
    },
    {
      "cell_type": "code",
      "source": [
        "strings = ['123', 'abc', '4.56', '78']\n",
        "\n",
        "numeric_strings = [s for s in strings if s.isdigit()]\n",
        "\n",
        "print(numeric_strings)\n"
      ],
      "metadata": {
        "colab": {
          "base_uri": "https://localhost:8080/"
        },
        "id": "xFPcoGoQKsm7",
        "outputId": "f4371724-e815-4a77-8072-f2fc9ab4edac"
      },
      "execution_count": 4,
      "outputs": [
        {
          "output_type": "stream",
          "name": "stdout",
          "text": [
            "['123', '78']\n"
          ]
        }
      ]
    },
    {
      "cell_type": "code",
      "source": [
        "fruits = [(\"mango\", 99), (\"orange\", 80), (\"grapes\", 1000)]\n",
        "\n",
        "sorted_fruits = sorted(fruits, key=lambda x: x[1])\n",
        "\n",
        "print(sorted_fruits) \n"
      ],
      "metadata": {
        "colab": {
          "base_uri": "https://localhost:8080/"
        },
        "id": "ilHQKSEYKvKc",
        "outputId": "c9346ea7-f188-420c-8013-bafcebbb9e00"
      },
      "execution_count": 5,
      "outputs": [
        {
          "output_type": "stream",
          "name": "stdout",
          "text": [
            "[('orange', 80), ('mango', 99), ('grapes', 1000)]\n"
          ]
        }
      ]
    },
    {
      "cell_type": "code",
      "source": [
        "squares = [(lambda x: x*x)(i) for i in range(1, 11)]\n",
        "\n",
        "print(squares)\n"
      ],
      "metadata": {
        "colab": {
          "base_uri": "https://localhost:8080/"
        },
        "id": "zvKxosqdKyAF",
        "outputId": "c9bffe31-38e2-40d0-9e4c-4edb87cfae8d"
      },
      "execution_count": 6,
      "outputs": [
        {
          "output_type": "stream",
          "name": "stdout",
          "text": [
            "[1, 4, 9, 16, 25, 36, 49, 64, 81, 100]\n"
          ]
        }
      ]
    },
    {
      "cell_type": "code",
      "source": [
        "import math\n",
        "\n",
        "cube_roots = [math.pow(i, 1/3) for i in range(1, 11)]\n",
        "\n",
        "print(cube_roots)"
      ],
      "metadata": {
        "colab": {
          "base_uri": "https://localhost:8080/"
        },
        "id": "sJF9t1isKz_r",
        "outputId": "0b459271-7a52-46a9-f317-dadd29098087"
      },
      "execution_count": 8,
      "outputs": [
        {
          "output_type": "stream",
          "name": "stdout",
          "text": [
            "[1.0, 1.2599210498948732, 1.4422495703074083, 1.5874010519681994, 1.7099759466766968, 1.8171205928321397, 1.912931182772389, 2.0, 2.080083823051904, 2.154434690031884]\n"
          ]
        }
      ]
    },
    {
      "cell_type": "code",
      "source": [],
      "metadata": {
        "id": "hXHCEgOgK2Ga"
      },
      "execution_count": null,
      "outputs": []
    }
  ]
}