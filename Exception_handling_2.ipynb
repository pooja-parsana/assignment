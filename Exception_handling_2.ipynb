{
  "nbformat": 4,
  "nbformat_minor": 0,
  "metadata": {
    "colab": {
      "provenance": []
    },
    "kernelspec": {
      "name": "python3",
      "display_name": "Python 3"
    },
    "language_info": {
      "name": "python"
    }
  },
  "cells": [
    {
      "cell_type": "markdown",
      "source": [
        "**Q1. Explain why we have to use the Exception class while creating a Custom Exception.**"
      ],
      "metadata": {
        "id": "6OG77V3cbuFS"
      }
    },
    {
      "cell_type": "markdown",
      "source": [
        "\n",
        "\n",
        "In Python, the Exception class is the base class for all built-in exceptions. When creating a custom exception, it is important to inherit from the Exception class because it provides the fundamental structure and functionality required by all exceptions.\n",
        "\n",
        "By inheriting from the Exception class, the custom exception can leverage its existing methods and attributes, such as the ability to set an error message, get the error message, and stack trace information. This makes it easier to handle and debug the custom exception.\n",
        "\n",
        "Moreover, using the Exception class also ensures that the custom exception is consistent with the rest of the exception hierarchy in Python. It also allows the custom exception to be caught and handled using the same mechanisms as other exceptions.\n",
        "\n",
        "For example, consider a scenario where you are writing code for a web application, and you need to create a custom exception that is raised when a user attempts to access a resource that they are not authorized to access. In this case, inheriting from the Exception class ensures that the custom exception can be caught and handled using the same mechanisms as other exceptions, making it easier to manage the exception and provide appropriate feedback to the user.\n",
        "\n",
        "In summary, using the Exception class as the base class for a custom exception ensures that the exception is consistent with the rest of the exception hierarchy in Python, and provides the necessary functionality to handle and debug the exception."
      ],
      "metadata": {
        "id": "Gl0SJty3cHfC"
      }
    },
    {
      "cell_type": "markdown",
      "source": [
        "**Q2. Write a python program to print Python Exception Hierarchy.**"
      ],
      "metadata": {
        "id": "sZEUF5KYbt-J"
      }
    },
    {
      "cell_type": "code",
      "source": [
        "def print_exception_hierarchy(exception_class, depth=0):\n",
        "    print(' ' * depth + exception_class.__name__)\n",
        "    \n",
        "    for parent_class in exception_class.__bases__:\n",
        "        print_exception_hierarchy(parent_class, depth + 1)\n",
        "        \n",
        "print_exception_hierarchy(Exception)\n"
      ],
      "metadata": {
        "colab": {
          "base_uri": "https://localhost:8080/"
        },
        "id": "WqTtcjo5cZYx",
        "outputId": "27dfa98f-825d-45d6-f423-75c8fdda93fa"
      },
      "execution_count": 2,
      "outputs": [
        {
          "output_type": "stream",
          "name": "stdout",
          "text": [
            "Exception\n",
            " BaseException\n",
            "  object\n"
          ]
        }
      ]
    },
    {
      "cell_type": "markdown",
      "source": [
        "This program creates a function called print_exception_hierarchy that takes an exception class and a depth value as arguments. It then prints the name of the current exception class and its depth in the hierarchy (represented by the number of spaces printed before the name), and recursively calls itself with the parent classes of the current exception class until it reaches the top-level base Exception class.\n",
        "\n",
        "When we call the print_exception_hierarchy function with the Exception class as the argument, it will print the entire Python Exception Hierarchy."
      ],
      "metadata": {
        "id": "SggT2XL6cdQL"
      }
    },
    {
      "cell_type": "markdown",
      "source": [
        "**Q3. What errors are defined in the ArithmeticError class? Explain any two with an example.**"
      ],
      "metadata": {
        "id": "k9v0H_O1bt3x"
      }
    },
    {
      "cell_type": "markdown",
      "source": [
        "ZeroDivisionError: This exception is raised when the second operand of a division or modulo operation is zero."
      ],
      "metadata": {
        "id": "2kicxL5Gcs6m"
      }
    },
    {
      "cell_type": "code",
      "source": [
        "# Example of ZeroDivisionError\n",
        "a = 5\n",
        "b = 0\n",
        "\n",
        "try:\n",
        "    c = a/b\n",
        "except ZeroDivisionError:\n",
        "    print(\"Error: Division by zero.\")\n"
      ],
      "metadata": {
        "colab": {
          "base_uri": "https://localhost:8080/"
        },
        "id": "_JjzOA14coo5",
        "outputId": "fff582c5-91c9-4f6e-a2bb-443672a3ac64"
      },
      "execution_count": 3,
      "outputs": [
        {
          "output_type": "stream",
          "name": "stdout",
          "text": [
            "Error: Division by zero.\n"
          ]
        }
      ]
    },
    {
      "cell_type": "markdown",
      "source": [
        "OverflowError: This exception is raised when a calculation exceeds the maximum limit for a numeric type."
      ],
      "metadata": {
        "id": "t-MqK0c7cv5L"
      }
    },
    {
      "cell_type": "code",
      "source": [
        "# Example of OverflowError\n",
        "a = 2 ** 10000\n",
        "b = 2 ** 10000\n",
        "\n",
        "try:\n",
        "    c = a ** b\n",
        "except OverflowError:\n",
        "    print(\"Error: Result is too large to represent.\")\n"
      ],
      "metadata": {
        "id": "wqpoYeD8cxJy"
      },
      "execution_count": null,
      "outputs": []
    },
    {
      "cell_type": "markdown",
      "source": [
        "**Q4. Why LookupError class is used? Explain with an example KeyError and IndexError.**"
      ],
      "metadata": {
        "id": "Cawiqg97btr9"
      }
    },
    {
      "cell_type": "markdown",
      "source": [
        "The LookupError class is a base class for all exceptions that occur when a specified key or index is not found in a mapping or sequence object. This class is further subclassed into more specific exceptions that represent different lookup errors.\n",
        "\n",
        "Two examples of lookup errors are KeyError and IndexError.\n",
        "\n",
        "KeyError: This exception is raised when a dictionary key is not found in the dictionary.\n",
        "python\n"
      ],
      "metadata": {
        "id": "iTLmx0aEc7T1"
      }
    },
    {
      "cell_type": "code",
      "source": [
        "# Example of KeyError\n",
        "my_dict = {'apple': 1, 'banana': 2, 'orange': 3}\n",
        "\n",
        "try:\n",
        "    value = my_dict['grape']\n",
        "except KeyError:\n",
        "    print(\"Error: Key not found in dictionary.\")\n"
      ],
      "metadata": {
        "id": "HPHzENEwdwoK"
      },
      "execution_count": null,
      "outputs": []
    },
    {
      "cell_type": "markdown",
      "source": [
        "IndexError: This exception is raised when an index is out of range for a sequence (such as a list or tuple)."
      ],
      "metadata": {
        "id": "UYA87wX5dAwF"
      }
    },
    {
      "cell_type": "code",
      "source": [
        "# Example of IndexError\n",
        "my_list = [1, 2, 3, 4, 5]\n",
        "\n",
        "try:\n",
        "    value = my_list[10]\n",
        "except IndexError:\n",
        "    print(\"Error: Index out of range.\")"
      ],
      "metadata": {
        "colab": {
          "base_uri": "https://localhost:8080/"
        },
        "id": "uxcWIhWmd0Mr",
        "outputId": "4923e5db-5034-48e6-a51a-1f113f65911a"
      },
      "execution_count": 1,
      "outputs": [
        {
          "output_type": "stream",
          "name": "stdout",
          "text": [
            "Error: Index out of range.\n"
          ]
        }
      ]
    },
    {
      "cell_type": "markdown",
      "source": [
        "**Q5. Explain ImportError. What is ModuleNotFoundError?**"
      ],
      "metadata": {
        "id": "s26503Xnbvyi"
      }
    },
    {
      "cell_type": "markdown",
      "source": [
        "ImportError is an exception class in Python that is raised when a module or package cannot be imported. This can happen for various reasons, such as the module or package not existing, not being in the correct location, or having syntax errors.\n",
        "\n",
        "ModuleNotFoundError is a subclass of ImportError that is raised when a module or package cannot be found. This exception was introduced in Python 3.6 as a more specific version of ImportError.\n",
        "\n",
        "Prior to Python 3.6, when a module or package could not be found, an ImportError would be raised with a message indicating that the module or package was not found. However, this message did not make it clear whether the import failed because the module or package did not exist or because it was in the wrong location or had syntax errors.\n",
        "\n",
        "With the introduction of ModuleNotFoundError, the error message now specifically indicates that the module or package could not be found, making it easier to diagnose and fix the issue.\n",
        "\n",
        "Here's an example of ModuleNotFoundError:"
      ],
      "metadata": {
        "id": "_ZFBjaOFdQ9f"
      }
    },
    {
      "cell_type": "code",
      "source": [
        "try:\n",
        "    import non_existent_module\n",
        "except ModuleNotFoundError:\n",
        "    print(\"Error: Module not found.\")\n"
      ],
      "metadata": {
        "colab": {
          "base_uri": "https://localhost:8080/"
        },
        "id": "yYX5KbxfdT6s",
        "outputId": "4502e959-cd39-4eb4-a460-2e4ef794c387"
      },
      "execution_count": 2,
      "outputs": [
        {
          "output_type": "stream",
          "name": "stdout",
          "text": [
            "Error: Module not found.\n"
          ]
        }
      ]
    },
    {
      "cell_type": "markdown",
      "source": [
        "**Q6. List down some best practices for exception handling in python.**"
      ],
      "metadata": {
        "id": "8nUQFIpKbvry"
      }
    },
    {
      "cell_type": "markdown",
      "source": [
        "Here are some best practices for exception handling in Python:\n",
        "\n",
        "Catch only the specific exceptions that you are expecting to occur, rather than using a catch-all Exception block. This makes your code more robust and easier to maintain.\n",
        "\n",
        "When catching exceptions, always provide informative error messages that explain what went wrong and how to fix it. This will help users of your code to understand and resolve any issues that occur.\n",
        "\n",
        "Use a try-except block to catch exceptions that might occur when accessing external resources, such as files or databases. This will help prevent your code from crashing if these resources are not available or are behaving unexpectedly.\n",
        "\n",
        "Use finally blocks to ensure that any resources you have opened or acquired are properly closed or released, even if an exception occurs. This is especially important for files and network connections.\n",
        "\n",
        "Avoid catching exceptions within tight loops or inner functions, as this can lead to performance issues. Instead, try to catch exceptions at a higher level of your code, where they can be handled more efficiently.\n",
        "\n",
        "Use Python's built-in logging module to log exceptions and other errors that occur during the execution of your code. This will help you to debug issues and track down the root causes of errors.\n",
        "\n",
        "When raising custom exceptions, create a new exception class that inherits from Python's built-in Exception class, and provide informative error messages and stack traces. This will help users of your code to diagnose and resolve any issues that occur.\n",
        "\n",
        "By following these best practices, you can write more robust, maintainable, and error-resistant code that is easier to debug and maintain over time."
      ],
      "metadata": {
        "id": "6pU68HaudqLk"
      }
    },
    {
      "cell_type": "code",
      "execution_count": null,
      "metadata": {
        "id": "stcllQCNbrBi"
      },
      "outputs": [],
      "source": []
    }
  ]
}