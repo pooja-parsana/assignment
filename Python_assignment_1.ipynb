{
  "nbformat": 4,
  "nbformat_minor": 0,
  "metadata": {
    "colab": {
      "provenance": []
    },
    "kernelspec": {
      "name": "python3",
      "display_name": "Python 3"
    },
    "language_info": {
      "name": "python"
    }
  },
  "cells": [
    {
      "cell_type": "code",
      "execution_count": null,
      "metadata": {
        "id": "q057_zhgSSFF"
      },
      "outputs": [],
      "source": []
    },
    {
      "cell_type": "markdown",
      "source": [
        "**1. Who developed python programming language**"
      ],
      "metadata": {
        "id": "xoaBr1_dSfII"
      }
    },
    {
      "cell_type": "markdown",
      "source": [
        "Guido van Rossum developed python programming language."
      ],
      "metadata": {
        "id": "MDqGh_uTSxcK"
      }
    },
    {
      "cell_type": "markdown",
      "source": [
        "**2.which type of programming does python support**"
      ],
      "metadata": {
        "id": "Mw86dW5jSzvt"
      }
    },
    {
      "cell_type": "markdown",
      "source": [
        "Procedural Programming: This paradigm involves breaking down a program into a set of procedures or functions that can be called in a specific order to execute the desired functionality. Python supports procedural programming.\n",
        "\n",
        "Object-Oriented Programming (OOP): OOP is a programming paradigm that emphasizes the use of objects that have properties and methods to perform operations. Python fully supports OOP.\n",
        "\n",
        "Functional Programming: This paradigm involves using functions as the building blocks of a program, treating them as first-class citizens and allowing them to be passed as arguments, returned as values, and stored in variables. Python supports functional programming.\n",
        "\n",
        "Aspect-Oriented Programming (AOP): AOP is a programming paradigm that aims to improve modularity by separating cross-cutting concerns such as logging, security, and transaction management from the main code. Python has libraries that support AOP.\n",
        "\n",
        "Concurrent Programming: This paradigm involves writing programs that can run multiple tasks or threads concurrently. Python provides support for concurrent programming through its threading and multiprocessing modules."
      ],
      "metadata": {
        "id": "wIHzaJgMS6hZ"
      }
    },
    {
      "cell_type": "markdown",
      "source": [
        "**3. Is python case sensitive when dealing with identifires?**"
      ],
      "metadata": {
        "id": "3Qj0qe5TS6en"
      }
    },
    {
      "cell_type": "markdown",
      "source": [
        "Yes, Python is case sensitive when dealing with identifiers. This means that the identifiers in Python, such as variable names, function names, and class names, are distinguished by their case. For example, the identifier \"my_variable\" is not the same as \"My_Variable\" or \"MY_VARIABLE\".\n"
      ],
      "metadata": {
        "id": "NEhsIS8qS6bk"
      }
    },
    {
      "cell_type": "markdown",
      "source": [
        "**4. what is the correct extention of python file**"
      ],
      "metadata": {
        "id": "NsNGDIIdS6Yn"
      }
    },
    {
      "cell_type": "markdown",
      "source": [
        "The correct extension for a Python file is \".py\". When you save a Python script or program, you should give it a filename that ends with the \".py\" extension.\n",
        "\n"
      ],
      "metadata": {
        "id": "jJkdbl68S6V9"
      }
    },
    {
      "cell_type": "markdown",
      "source": [
        "**5. Is python code is compiled or interpreted**"
      ],
      "metadata": {
        "id": "k7am-j_lS6TL"
      }
    },
    {
      "cell_type": "markdown",
      "source": [
        "Python code is both compiled and interpreted."
      ],
      "metadata": {
        "id": "_2E3tZ4lS6PQ"
      }
    },
    {
      "cell_type": "markdown",
      "source": [
        "**6. Name of few blocks of code used to define in python language?**"
      ],
      "metadata": {
        "id": "flegVIf3S6Mv"
      }
    },
    {
      "cell_type": "markdown",
      "source": [
        "Functions: A function is a block of code that performs a specific task. In Python, functions are defined using the \"def\" keyword, followed by the function name, parentheses, and a colon. The body of the function is indented beneath the function definition.\n",
        "\n",
        "Loops: A loop is a block of code that repeats a set of instructions until a condition is met. In Python, loops are defined using the \"for\" and \"while\" keywords, followed by a colon. The body of the loop is indented beneath the loop definition.\n",
        "\n",
        "Conditionals: A conditional is a block of code that executes different instructions depending on whether a certain condition is true or false. In Python, conditionals are defined using the \"if\", \"elif\", and \"else\" keywords, followed by a colon. The body of each conditional block is indented beneath the keyword.\n",
        "\n",
        "Classes: A class is a block of code that defines a blueprint for creating objects. In Python, classes are defined using the \"class\" keyword, followed by the class name and a colon. The body of the class definition is indented beneath the keyword.\n",
        "\n",
        "Context Managers: A context manager is a block of code that manages a resource, such as a file or database connection, and ensures that the resource is properly initialized and cleaned up. In Python, context managers are defined using the \"with\" keyword, followed by the context manager object and a colon. The body of the context manager is indented beneath the keyword."
      ],
      "metadata": {
        "id": "ttxU8pLHS6J0"
      }
    },
    {
      "cell_type": "markdown",
      "source": [
        "**7. state a character used to give single-line comments in python?**"
      ],
      "metadata": {
        "id": "HsDaDkFOS6HL"
      }
    },
    {
      "cell_type": "markdown",
      "source": [
        "In Python, the character used to give single-line comments is the hash symbol (#). Any text that follows a hash symbol on the same line is treated as a comment and is ignored by the Python interpreter."
      ],
      "metadata": {
        "id": "KWrbOMsmUQxM"
      }
    },
    {
      "cell_type": "markdown",
      "source": [
        "**8. mention functions which can help us to find the version of python that we are currently working on?**"
      ],
      "metadata": {
        "id": "7HVFGKEPUQuV"
      }
    },
    {
      "cell_type": "code",
      "source": [
        "import sys\n",
        "print(sys.version)"
      ],
      "metadata": {
        "colab": {
          "base_uri": "https://localhost:8080/"
        },
        "id": "YD5bocjkVXGM",
        "outputId": "fd7de6f9-7fad-4b8d-c255-0b6cecd7a5d3"
      },
      "execution_count": 2,
      "outputs": [
        {
          "output_type": "stream",
          "name": "stdout",
          "text": [
            "3.9.16 (main, Dec  7 2022, 01:11:51) \n",
            "[GCC 9.4.0]\n"
          ]
        }
      ]
    },
    {
      "cell_type": "markdown",
      "source": [
        "**9.python supports the creation of anonymous function at runtime, using a construct called-------**"
      ],
      "metadata": {
        "id": "MbTAcy7aUQrM"
      }
    },
    {
      "cell_type": "markdown",
      "source": [
        "A lambda function is a small, anonymous function that can have any number of arguments but can only have one expression. Lambda functions are defined using the lambda keyword, followed by the arguments (if any), a colon, and the expression to be evaluated."
      ],
      "metadata": {
        "id": "LI5F0XBwUQok"
      }
    },
    {
      "cell_type": "markdown",
      "source": [
        "**10. what does pip stands for python?**"
      ],
      "metadata": {
        "id": "Xa0YvM5VUQmB"
      }
    },
    {
      "cell_type": "markdown",
      "source": [
        "PIP stands for \"Pip Installs Packages\" or \"Pip Installs Python\".\n",
        "\n",
        "PIP is the package installer for Python, which is used to install and manage software packages written in Python. PIP makes it easy to find, download, and install Python packages and their dependencies from the Python Package Index (PyPI) and other package indexes.\n",
        "\n",
        "PIP is included by default with most Python distributions since Python 3.4, and can also be installed manually on older versions of Python. You can use the pip command to install, upgrade, or remove Python packages, as well as to search for packages and view information about installed packages."
      ],
      "metadata": {
        "id": "I4CR8RQEUQi_"
      }
    },
    {
      "cell_type": "markdown",
      "source": [
        "**11. mention a few built-in functions in python?**"
      ],
      "metadata": {
        "id": "AKaOH9HuUQgK"
      }
    },
    {
      "cell_type": "markdown",
      "source": [
        "print(),len(),type(),int(),float(),range(),input(),str(),min(),max()"
      ],
      "metadata": {
        "id": "YUB4-1mEUQdT"
      }
    },
    {
      "cell_type": "markdown",
      "source": [
        "**12.what is the maximum possible length of identifire in python?**"
      ],
      "metadata": {
        "id": "7nG4DE--UQaE"
      }
    },
    {
      "cell_type": "markdown",
      "source": [
        "The maximum possible length of an identifier in Python is not explicitly defined. However, according to the Python style guide (PEP 8), identifiers should be \"reasonably\" short and should not exceed 79 characters. This guideline is intended to promote readability and maintainability of code."
      ],
      "metadata": {
        "id": "7_7OxyBMWeF1"
      }
    },
    {
      "cell_type": "markdown",
      "source": [
        "**13. what are the benifit of using python?**"
      ],
      "metadata": {
        "id": "-AE2f1svWfI8"
      }
    },
    {
      "cell_type": "markdown",
      "source": [
        "Easy to learn: Python has a simple syntax and a high degree of readability, making it easy to learn for beginners and experienced programmers alike.\n",
        "\n",
        "Large and active community: Python has a large and active community of developers who contribute to open-source libraries, frameworks, and tools, making it easy to find solutions and resources for a wide range of programming tasks.\n",
        "\n",
        "Wide range of applications: Python can be used for a wide range of applications, including web development, scientific computing, data analysis, machine learning, and artificial intelligence.\n",
        "\n",
        "Cross-platform compatibility: Python code can be run on a variety of platforms, including Windows, macOS, Linux, and UNIX, without requiring any modifications.\n",
        "\n",
        "Large standard library: Python comes with a large standard library that provides a wide range of modules and functions for common programming tasks, such as file I/O, regular expressions, networking, and more."
      ],
      "metadata": {
        "id": "veH414sdUQXY"
      }
    },
    {
      "cell_type": "markdown",
      "source": [
        "**14. How is memory managed in python?**"
      ],
      "metadata": {
        "id": "4KradF5zW2ve"
      }
    },
    {
      "cell_type": "markdown",
      "source": [
        "In Python, memory management is handled automatically by the interpreter through a process known as garbage collection. Garbage collection is the process of automatically freeing up memory that is no longer being used by the program. Python uses a reference counting algorithm to keep track of how many references are pointing to an object, and when the reference count of an object reaches zero, the object is considered to be garbage and its memory is freed.\n",
        "\n"
      ],
      "metadata": {
        "id": "kcOjkrmeXEj4"
      }
    },
    {
      "cell_type": "markdown",
      "source": [
        "**15. how to insatll python on windows and set path varibale**"
      ],
      "metadata": {
        "id": "p-3TKxu0XEhH"
      }
    },
    {
      "cell_type": "markdown",
      "source": [
        "Download the latest version of Python from the official website (https://www.python.org/downloads/windows/). Choose the version that matches your operating system (32-bit or 64-bit).\n",
        "\n",
        "Run the installer program that you downloaded and follow the on-screen instructions to install Python. Be sure to select the option to add Python to the system PATH during the installation process.\n",
        "\n",
        "Once the installation is complete, open the Start menu and search for \"Environment Variables\".\n",
        "\n",
        "Click on \"Edit the system environment variables\" and then click on the \"Environment Variables\" button.\n",
        "\n",
        "Under \"System Variables\", scroll down and find the \"Path\" variable. Click on \"Edit\".\n",
        "\n",
        "Click on \"New\" and add the path to the Python installation directory (e.g. \"C:\\Python38\" for Python 3.8). Be sure to separate the path from any other entries with a semicolon (;).\n",
        "\n",
        "Click on \"OK\" to save the changes and close all the windows.\n",
        "\n",
        "Open a new command prompt and type \"python\" to verify that Python is installed and the PATH variable is set correctly. You should see the Python version number and the Python command prompt."
      ],
      "metadata": {
        "id": "0bkxkjpoXEcP"
      }
    },
    {
      "cell_type": "markdown",
      "source": [
        "**16. is indentation required in python?**"
      ],
      "metadata": {
        "id": "OjPV_s9-XEZb"
      }
    },
    {
      "cell_type": "markdown",
      "source": [
        "Yes, indentation is required in Python. In fact, indentation is a fundamental part of the Python syntax and is used to define blocks of code such as loops, functions, and classes.\n",
        "\n",
        "Unlike many other programming languages, which use braces or keywords to define code blocks, Python uses whitespace indentation to delimit blocks of code. This means that the level of indentation determines which statements belong to which block of code."
      ],
      "metadata": {
        "id": "9NLvJ8x5XmTf"
      }
    },
    {
      "cell_type": "code",
      "source": [],
      "metadata": {
        "id": "J5DTJB3ZXnQ9"
      },
      "execution_count": null,
      "outputs": []
    }
  ]
}